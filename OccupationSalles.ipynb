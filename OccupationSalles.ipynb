{
 "cells": [
  {
   "cell_type": "markdown",
   "metadata": {
    "slideshow": {
     "slide_type": "slide"
    }
   },
   "source": [
    "# Taux d'occupation des salles, campus Lombarderie FST\n",
    "## au 10/02/2020"
   ]
  },
  {
   "cell_type": "markdown",
   "metadata": {
    "slideshow": {
     "slide_type": "skip"
    }
   },
   "source": [
    "## Définitions"
   ]
  },
  {
   "cell_type": "code",
   "execution_count": 1,
   "metadata": {
    "slideshow": {
     "slide_type": "skip"
    }
   },
   "outputs": [],
   "source": [
    "# Bibliothèques\n",
    "import ics\n",
    "from ics import Calendar\n",
    "import math\n",
    "from datetime import date\n",
    "import datetime\n",
    "\n",
    "from scipy.ndimage.filters import gaussian_filter1d\n",
    "import matplotlib.pyplot as plt\n",
    "%matplotlib inline\n",
    "\n",
    "from ipywidgets import widgets\n",
    "from ipywidgets import interact\n",
    "\n",
    "from IPython.display import FileLink,display\n",
    "\n",
    "import pandas as pd\n",
    "import json\n",
    "\n",
    "# Configuration\n",
    "\n",
    "annee = 2019\n",
    "\n",
    "if annee == 2019:\n",
    "    #2019\n",
    "    reftimestamp = datetime.datetime(2019,8,26,0,0,0).timestamp() # = 26/8/2019 à 0h00m00\n",
    "    passageheurehiverTS = datetime.datetime(2019,10,27,0,0,0).timestamp() # = 27/10/2019 à 0h00m00\n",
    "    passageheureeteTS = datetime.datetime(2020,3,29,0,0,0).timestamp() \n",
    "else:\n",
    "    #2018\n",
    "    reftimestamp = datetime.datetime(2018,8,27,0,0,0).timestamp()\n",
    "    passageheurehiverTS = datetime.datetime(2018,10,28,0,0,0).timestamp()\n",
    "    passageheureeteTS = datetime.datetime(2019,31,29,0,0,0).timestamp() \n",
    "\n",
    "NbSemainesS1 = 13\n",
    "NbSemainesS2 = 13\n",
    "NbJoursparSemaine = 5\n",
    "NbHeuresparJour = 8\n",
    "T_inc = 10 # un point toutes les 1 minute(s)\n",
    "TraitementOn=False\n",
    "recuperationCal=False\n",
    "\n",
    "# Quelques fonctions utiles\n",
    "\n",
    "# Lecture d'un calendrier en mémoire\n",
    "def readcal(filename):\n",
    "    fd=open(filename,\"r\")\n",
    "    content=\"\"\n",
    "    for l in fd:\n",
    "        content=content+\"\\n\"+l\n",
    "    fd.close()\n",
    "    cal=ics.Calendar(content)\n",
    "    return cal\n",
    "\n",
    "# récupération des fichiers sur CELCAT\n",
    "def recuperationFichiers(annee):\n",
    "    if annee == 2019:\n",
    "        # Pour 2019 sur sciences-bis\n",
    "        !curl https://edt.univ-nantes.fr/sciences/g355056.ics -o 2019_L1.ics\n",
    "        !curl https://edt.univ-nantes.fr/sciences/g355055.ics -o 2019_L2.ics\n",
    "        !curl https://edt.univ-nantes.fr/sciences/g355687.ics -o 2019_L3.ics\n",
    "        !curl https://edt.univ-nantes.fr/sciences/g355732.ics -o 2019_M1.ics\n",
    "        !curl https://edt.univ-nantes.fr/sciences/g355740.ics -o 2019_M2.ics\n",
    "        !curl https://edt.univ-nantes.fr/sciences/g351309.ics -o 2019_TREMPLIN.ics\n",
    "        !curl https://edt.univ-nantes.fr/sciences/g913556.ics -o 2019_ACCOMPLI.ics\n",
    "        !curl https://edt.univ-nantes.fr/sciences/g918815.ics -o 2019_DUEIL.ics\n",
    "        !curl https://edt.univ-nantes.fr/sciences/g351082.ics -o 2019_DUG.ics\n",
    "        !curl https://edt.univ-nantes.fr/sciences/g351317.ics -o 2019_UED.ics\n",
    "        !curl https://edt.univ-nantes.fr/sciences/g351316.ics -o 2019_TUTO.ics\n",
    "        !curl https://edt.univ-nantes.fr/sciences/g355731.ics -o 2019_M1MEEF.ics\n",
    "        !curl https://edt.univ-nantes.fr/sciences/g355738.ics -o 2019_M2MEEF.ics\n",
    "    else:\n",
    "        # Pour 2018 sur sciences (Plus d'acualité.... car 2019 est maintenant sur sciences)\n",
    "        !curl https://edt.univ-nantes.fr/sciences/g355056.ics -o 2018_L1.ics\n",
    "        !curl https://edt.univ-nantes.fr/sciences/g355055.ics -o 2018_L2.ics\n",
    "        !curl https://edt.univ-nantes.fr/sciences/g355687.ics -o 2018_L3.ics\n",
    "        !curl https://edt.univ-nantes.fr/sciences/g355732.ics -o 2018_M1.ics\n",
    "        !curl https://edt.univ-nantes.fr/sciences/g355740.ics -o 2018_M2.ics\n",
    "        !curl https://edt.univ-nantes.fr/sciences/g351309.ics -o 2018_TREMPLIN.ics\n",
    "        !curl https://edt.univ-nantes.fr/sciences/g522202.ics -o 2018_ACCOMPLI.ics\n",
    "        !curl https://edt.univ-nantes.fr/sciences/g918815.ics -o 2018_DUEIL.ics\n",
    "        !curl https://edt.univ-nantes.fr/sciences/g351082.ics -o 2018_DUG.ics\n",
    "        !curl https://edt.univ-nantes.fr/sciences/g351317.ics -o 2018_UED.ics\n",
    "        !curl https://edt.univ-nantes.fr/sciences/g351316.ics -o 2018_TUTO.ics\n",
    "        !curl https://edt.univ-nantes.fr/sciences/g355731.ics -o 2018_M1MEEF.ics\n",
    "        !curl https://edt.univ-nantes.fr/sciences/g355738.ics -o 2018_M2MEEF.ics\n",
    "\n",
    "# Récupération des infos stockées dans la description de l'évènement CELCAT\n",
    "def getInfo(e):\n",
    "    T_info=dict()\n",
    "    for x in e.description.split(\"\\n\"):\n",
    "        if len(x)>0:\n",
    "            a=x[0:x.find(\" : \")]\n",
    "            b=x[x.find(\" : \")+3:]\n",
    "            T_info[a]=b\n",
    "    if T_info.get(\"Groupe\"):\n",
    "        T_info[\"Groupe\"]=T_info.get(\"Groupe\").split(\", \")\n",
    "    if T_info.get(\"Salle\"):\n",
    "        T_info[\"Salle\"]=T_info.get(\"Salle\").split(\", \")\n",
    "    return T_info\n",
    "                        \n",
    "# Etant donné \n",
    "# 1) le type de salle entre (Amphi, TD, TP, salle info)\n",
    "# 2) le tableau T qui stocke, minute par minute sur tout une année, pour toutes les salles, le nombre de créneaux trouvés dans les différents calendriers\n",
    "# calcule la somme, semestre par semestre d'heures d'occupation des salles\n",
    "def NbHeuresParSemestre(typesalle,T):\n",
    "    NbHeuresS1 = dict()\n",
    "    NbHeuresS2 = dict()\n",
    "    #typesalle = \"TD\"\n",
    "\n",
    "    for s in T:\n",
    "        if ((\"Bât\" in s and \"Bât A\" not in s) or \"PASTEUR\" in s):\n",
    "            if (typesalle in s):\n",
    "                NbHeuresS1[s]=100*sum([1 for x in T.get(s)[0:int(18*7*24*60/T_inc)] if x>0]*T_inc)/60/(NbSemainesS1*NbJoursparSemaine*NbHeuresparJour)\n",
    "        else:  \n",
    "            if (typesalle == \"Exterieur\" and typesalle in s):\n",
    "                NbHeuresS1[s]=100*sum([1 for x in T.get(s)[0:int(18*7*24*60/T_inc)] if x>0]*T_inc)/60/(NbSemainesS1*NbJoursparSemaine*NbHeuresparJour)\n",
    "            \n",
    "        \n",
    "    for s in T:\n",
    "        if ((\"Bât\" in s and \"Bât A\" not in s) or \"PASTEUR\" in s):\n",
    "            if (typesalle in s):\n",
    "                NbHeuresS2[s]=100*sum([1 for x in T.get(s)[int(18*7*24*60/T_inc)+1:] if x>0]*T_inc)/60/(NbSemainesS2*NbJoursparSemaine*NbHeuresparJour)\n",
    "        else:  \n",
    "            if (typesalle == \"Exterieur\" and typesalle in s):\n",
    "                NbHeuresS2[s]=100*sum([1 for x in T.get(s)[int(18*7*24*60/T_inc)+1:] if x>0]*T_inc)/60/(NbSemainesS2*NbJoursparSemaine*NbHeuresparJour)\n",
    "    return [NbHeuresS1,NbHeuresS2]\n",
    "\n",
    "# Renvoie les salles dont les exploitations sont comprises entre deux bornes (soit au S1, soit au S1 soit sur les deux semestres), pour un type de salle donné et connaissant NbHeuresS1 et NbHeuresS1\n",
    "# Exemple 1 : Salles de TP sous exploitées sur l'année\n",
    "# Exploitation('TP',ub=10,sem=\"all\")\n",
    "# Exemple 2 : Salles de TD sur-exploitées au S2\n",
    "# Exploitation('TP',lb=70,sem=\"S2\")\n",
    "\n",
    "\"\"\"\n",
    "def Exploitation(typesalle,lb=0,ub=200,sem=\"all\"):\n",
    "    for s in NbHeuresS2[typesalle]:\n",
    "        if sem == \"all\":\n",
    "            test = (NbHeuresS1[typesalle].get(s)>=lb and NbHeuresS1[typesalle].get(s)<=ub and NbHeuresS2[typesalle].get(s)>=lb and NbHeuresS2[typesalle].get(s)<=ub )\n",
    "        else:\n",
    "            if sem == \"S1\":\n",
    "                test = (NbHeuresS1[typesalle].get(s)>=lb and NbHeuresS1[typesalle].get(s)<=ub)\n",
    "            else:\n",
    "                test = (NbHeuresS2[typesalle].get(s)>=lb and NbHeuresS2[typesalle].get(s)<=ub)                \n",
    "        if test:\n",
    "            print(s,\"\\tOccupation S1 =\",int(NbHeuresS1[typesalle].get(s)*100)/100,\"\\tOccupation S2 =\",int(NbHeuresS2[typesalle].get(s)*100)/100)\n",
    "\"\"\"\n",
    "\n",
    "def Exploitation(typesalle,lb=0,ub=200,sem=\"all\"):\n",
    "    listS1=list()\n",
    "    listS2=list()\n",
    "    listSalles=list()\n",
    "    for s in NbHeuresS2[typesalle]:\n",
    "        if sem == \"all\":\n",
    "            test = (NbHeuresS1[typesalle].get(s)>=lb and NbHeuresS1[typesalle].get(s)<=ub and NbHeuresS2[typesalle].get(s)>=lb and NbHeuresS2[typesalle].get(s)<=ub )\n",
    "        else:\n",
    "            if sem == \"S1\":\n",
    "                test = (NbHeuresS1[typesalle].get(s)>=lb and NbHeuresS1[typesalle].get(s)<=ub)\n",
    "            else:\n",
    "                test = (NbHeuresS2[typesalle].get(s)>=lb and NbHeuresS2[typesalle].get(s)<=ub)                \n",
    "        if test:\n",
    "            # print(s,\"\\tOccupation S1 =\",int(NbHeuresS1[typesalle].get(s)*100)/100,\"\\tOccupation S2 =\",int(NbHeuresS2[typesalle].get(s)*100)/100)\n",
    "            listS1.append(int(NbHeuresS1[typesalle].get(s)*100)/100)\n",
    "            listS2.append(int(NbHeuresS2[typesalle].get(s)*100)/100)\n",
    "            listSalles.append(s)\n",
    "    table = pd.DataFrame({'Occupation S1':listS1, 'Occupation S2':listS2 }, index=listSalles)\n",
    "    return table\n",
    "\n",
    "\n",
    "def CourbeJourneeMoy(salle,debut=0,fin=24):\n",
    "    NormalisationS1 = 100/(NbSemainesS1*NbJoursparSemaine)\n",
    "    NormalisationS2 = 100/(NbSemainesS2*NbJoursparSemaine)\n",
    "    \n",
    "    scale=[debut + i/60 for i in range(60*(fin-debut))]\n",
    "\n",
    "    TDraw=[0 for i in range(24*60)]\n",
    "    for i in range(0,int(18*7*24*60)):\n",
    "        if T.get(salle)[int(i/T_inc)]>0:\n",
    "            TDraw[i % (24*60)] += NormalisationS1\n",
    "    TDrawS = gaussian_filter1d(TDraw, sigma=2)\n",
    "    plt.ylim(0,100)\n",
    "    plt.plot(scale,TDrawS[(debut+1)*60:(fin+1)*60])\n",
    "    TDraw=[0 for i in range(24*60)]\n",
    "    for i in range(int(18*7*24*60),len(T.get(salle)*T_inc)):\n",
    "        if T.get(salle)[int(i/T_inc)]>0:\n",
    "            TDraw[i % (24*60)] += NormalisationS2\n",
    "    TDrawS = gaussian_filter1d(TDraw, sigma=2)\n",
    "    plt.plot(scale,TDrawS[(debut+1)*60:(fin+1)*60])\n",
    "    plt.show()\n",
    "    \n",
    "    \n",
    "    \n",
    "    \n",
    "def CourbeResume(typesalle):\n",
    "    plt.title(typesalle)\n",
    "    plt.ylim(0,100)\n",
    "    plt.bar(range(len(NbHeuresS1[typesalle])), list(NbHeuresS1[typesalle].values()), align='center')\n",
    "    plt.bar(range(len(NbHeuresS2[typesalle])), list(NbHeuresS2[typesalle].values()), align='center')\n",
    "    plt.legend([\"S1\",\"S2\"])\n",
    "    plt.show()\n",
    "    \n",
    "\n",
    "def CourbeJourneeLong(typesalle):\n",
    "    for s in list(set([s for s in NbHeuresS1[typesalle]]+[s for s in NbHeuresS2[typesalle]])):\n",
    "        plt.title(s)\n",
    "        CourbeJourneeMoy(s,7,20)\n",
    "\n",
    "\n",
    "def AfficheSalle(s):\n",
    "    plt.title(s)\n",
    "    CourbeJourneeMoy(s,7,20)\n",
    "\n",
    "def CourbeJournee(typesalle):\n",
    "    listesalles = list(set([s for s in NbHeuresS1[typesalle]]+[s for s in NbHeuresS2[typesalle]]))\n",
    "    listesalles.sort()\n",
    "    t=widgets.Dropdown(\n",
    "    options=listesalles,\n",
    "    value=listesalles[0],\n",
    "    description=typesalle+\" : \",\n",
    "    disabled=False\n",
    "    )\n",
    "    interact(AfficheSalle,s=t)\n",
    "\n",
    "\n",
    "def AfficheInformations(s):\n",
    "    print(s)\n",
    "    print(len(Matieres.get(s)), \"matières et \",len(Groupes.get(s)),\"groupes\")\n",
    "    print(\"----- Matières ------\")\n",
    "    print(Matieres.get(s))\n",
    "    print(\"----- Groupes  ------\")\n",
    "    print(Groupes.get(s))\n",
    "    print(\"---------------------\")\n",
    "    #table = pd.DataFrame([\"\\n\".join(Matieres.get(s)), \"\\n\".join(Groupes.get(s))], index=['Matières','Groupes'])\n",
    "    #return table\n",
    "    \n",
    "def Informations(typesalle):\n",
    "    listesalles = list(set([s for s in NbHeuresS1[typesalle]]+[s for s in NbHeuresS2[typesalle]]))\n",
    "    listesalles.sort()\n",
    "    t=widgets.Dropdown(\n",
    "    options=listesalles,\n",
    "    value=listesalles[0],\n",
    "    description=typesalle+\" : \",\n",
    "    disabled=False\n",
    "    )\n",
    "    interact(AfficheInformations,s=t)\n",
    "\n",
    "def TousCalendriers():\n",
    "    listesalles = [s for s in T]\n",
    "    listesalles.sort()\n",
    "    t=widgets.Dropdown(\n",
    "    options=listesalles,\n",
    "    value=listesalles[0],\n",
    "    description=typesalle+\" : \",\n",
    "    disabled=False\n",
    "    )\n",
    "    interact(SaveCalendar,s=t)\n",
    "\n",
    "def SaveCalendar(s):\n",
    "    c= Calendar()\n",
    "    for e in SubCal.get(s):\n",
    "        c.events.add(e)\n",
    "    filename = \"tmp/\"+s.replace(' ','_')+\".ics\"\n",
    "    with open(filename, 'w') as my_file:\n",
    "        my_file.writelines(c)\n",
    "    with open(\"tmp/test.ics\", 'w') as my_file:\n",
    "        my_file.writelines(c)\n",
    "    print(\"Sauvegarde de \"+filename)\n",
    "    display(FileLink(filename))"
   ]
  },
  {
   "cell_type": "markdown",
   "metadata": {
    "slideshow": {
     "slide_type": "skip"
    }
   },
   "source": [
    "## Lecture des fichiers sur Celcat"
   ]
  },
  {
   "cell_type": "code",
   "execution_count": 2,
   "metadata": {
    "slideshow": {
     "slide_type": "skip"
    }
   },
   "outputs": [],
   "source": [
    "# récupérations des fichiers sur le serveur CELCAT\n",
    "if recuperationCal:\n",
    "    recuperationFichiers(annee)\n",
    "\n",
    "# Pour des raisons d'efficacité et parce que readcal prend du temps, on stocke les calendriers lus en mémoires\n",
    "# reset du dictionnaire qui stocke les calendriers (à chaque fois qu'on récurère les fichiers sur Celcat)\n",
    "MemoryCal=dict()\n"
   ]
  },
  {
   "cell_type": "markdown",
   "metadata": {
    "scrolled": true,
    "slideshow": {
     "slide_type": "skip"
    }
   },
   "source": [
    "## Chargement en mémoire et interprétation des calendriers"
   ]
  },
  {
   "cell_type": "code",
   "execution_count": 3,
   "metadata": {
    "slideshow": {
     "slide_type": "skip"
    }
   },
   "outputs": [
    {
     "name": "stdout",
     "output_type": "stream",
     "text": [
      "Chargement des fichiers\n"
     ]
    }
   ],
   "source": [
    "# Lecture des calendriers.\n",
    "# en sortie, on obtient les listes suivantes :\n",
    "#     T qui stocke, pour chaque salle et minute par minute le nombre d'évènements qui ont lieu dans cette salle (Rq: si ce nombre est >0, alors la salle est occupée)\n",
    "#     Matieres qui stocke, pour chaque salle, les modules qui ont au moins un créneau dans la salle\n",
    "#     Groupes qui stocke, pour chaque salle, les groupes qui ont au moins un créneau dans la salle\n",
    "#     SubCal, non utilisé actuellement, mais qui permet de reconstruire, au format ICS un calendrier spécifique pour chaque salle\n",
    "\n",
    "import json\n",
    "\n",
    "T=dict()\n",
    "Matieres=dict()\n",
    "Groupes=dict()\n",
    "SubCal=dict()\n",
    "\n",
    "listeavecCMamphi = [\"L1.ics\",\"L2.ics\"]\n",
    "listeavecCMsallesTD = [\"L3.ics\",\"M1.ics\",\"M2.ics\",\"ACCOMPLI.ics\",\"TREMPLIN.ics\",\"DUEIL.ics\",\"DUG.ics\",\"TUTO.ics\",\"M1MEEF.ics\",\"M2MEEF.ics\"]\n",
    "\n",
    "if TraitementOn:\n",
    "    for c in listeavecCMamphi+listeavecCMsallesTD:\n",
    "        print(\"Traitement de \",c)\n",
    "        if not MemoryCal.get(c):\n",
    "            MemoryCal[c] = readcal(str(annee)+\"_\"+c)\n",
    "        cal = MemoryCal.get(c)\n",
    "        for e in cal.events:\n",
    "            typecreneau = e.name.split(\" \")[0]\n",
    "            if typecreneau == \"TD\" or typecreneau == \"CTDI\":\n",
    "                typecreneau = \"TD/CTDI\"\n",
    "            if True: #(typecreneau == \"TD/CTDI\" or typecreneau == \"CM\" or typecreneau == \"TP\" or typecreneau == \"CC\"):\n",
    "                if e.begin.timestamp<passageheurehiverTS or e.begin.timestamp>passageheureeteTS:\n",
    "                    decalageheurehiver = 60\n",
    "                else:\n",
    "                    decalageheurehiver = 0\n",
    "                deb=math.ceil((e.begin.timestamp-reftimestamp )/60+decalageheurehiver)\n",
    "                fin=math.ceil((e.end.timestamp-reftimestamp )/60+decalageheurehiver)\n",
    "                t=deb\n",
    "                Infos=getInfo(e)\n",
    "                if Infos.get(\"Salle\"):\n",
    "                    for s in Infos.get(\"Salle\"):\n",
    "                        s=s.replace(\"AMPHI\",\"Amphi\")\n",
    "                        s=s.replace(\"salle Projets\",\"salle TP Projets\")\n",
    "                        if not ((\"Bât\" in s and \"Bât A\" not in s) or \"PASTEUR\" in s):\n",
    "                            s=\"[Exterieur] \"+s\n",
    "\n",
    "                        if not T.get(s):\n",
    "                            T[s]=[0 for i in range(int(365*24*60/T_inc))]\n",
    "            \n",
    "                    while(t < fin):\n",
    "                        i=int(t/T_inc)\n",
    "                        for s in Infos.get(\"Salle\"):\n",
    "                            s=s.replace(\"AMPHI\",\"Amphi\")\n",
    "                            s=s.replace(\"salle Projets\",\"salle TP Projets\")\n",
    "                            if not ((\"Bât\" in s and \"Bât A\" not in s) or \"PASTEUR\" in s):\n",
    "                                s=\"[Exterieur] \"+s\n",
    "                            T[s][i]=T[s][i]+1\n",
    "                        t=t+T_inc\n",
    "                    if not Matieres.get(s):\n",
    "                        Matieres[s]=list()\n",
    "                \n",
    "                    if Infos.get(\"Matière\") and Infos.get(\"Matière\") not in Matieres.get(s):\n",
    "                        Matieres[s].append(Infos.get(\"Matière\"))\n",
    "\n",
    "                    if not Groupes.get(s):\n",
    "                        Groupes[s]=list()\n",
    "                \n",
    "                    if Infos.get(\"Groupe\"):\n",
    "                        Groupes[s]=list(set(Groupes[s]+Infos.get(\"Groupe\")))\n",
    "                    \n",
    "                    if not SubCal.get(s):\n",
    "                        SubCal[s]=list()\n",
    "                \n",
    "                    SubCal[s].append(e)\n",
    "                    \n",
    "    # Sauvegardes\n",
    "    with open('savedT.txt', 'w') as outfile:\n",
    "        json.dump(T, outfile)\n",
    "    !gzip savedT.txt\n",
    "    with open('savedMatieres.txt', 'w') as outfile:\n",
    "        json.dump(Matieres, outfile)\n",
    "    with open('savedGroupes.txt', 'w') as outfile:\n",
    "        json.dump(Groupes, outfile)\n",
    "else:\n",
    "    # récupération\n",
    "    print(\"Chargement des fichiers\")\n",
    "    !gunzip savedT.txt.gz\n",
    "    with open('savedT.txt') as json_file:\n",
    "        T = json.load(json_file)\n",
    "    with open('savedMatieres.txt') as json_file:\n",
    "        Matieres = json.load(json_file)\n",
    "    with open('savedGroupes.txt') as json_file:\n",
    "        Groupes = json.load(json_file)\n",
    "\n",
    "    "
   ]
  },
  {
   "cell_type": "markdown",
   "metadata": {
    "slideshow": {
     "slide_type": "slide"
    }
   },
   "source": [
    "## Vision globale par semestre de l'occupation des salles (par type)"
   ]
  },
  {
   "cell_type": "code",
   "execution_count": 4,
   "metadata": {
    "scrolled": true,
    "slideshow": {
     "slide_type": "skip"
    }
   },
   "outputs": [],
   "source": [
    "# premier affichage : vision globale par semestre de l'occupation des salles\n",
    "\n",
    "NbHeuresS1=dict()\n",
    "NbHeuresS2=dict()\n",
    "\n",
    "for typesalle in ['Amphi','TD','TP','salle info','Exterieur','salle visio']:\n",
    "    [NbHeuresS1[typesalle],NbHeuresS2[typesalle]]=NbHeuresParSemestre(typesalle,T)\n",
    "\n"
   ]
  },
  {
   "cell_type": "code",
   "execution_count": 5,
   "metadata": {
    "slideshow": {
     "slide_type": "subslide"
    }
   },
   "outputs": [
    {
     "data": {
      "image/png": "[encoded data removed]",
      "text/plain": [
       "<Figure size 432x288 with 1 Axes>"
      ]
     },
     "metadata": {
      "needs_background": "light"
     },
     "output_type": "display_data"
    }
   ],
   "source": [
    "CourbeResume('Amphi')"
   ]
  },
  {
   "cell_type": "code",
   "execution_count": 6,
   "metadata": {
    "slideshow": {
     "slide_type": "subslide"
    }
   },
   "outputs": [
    {
     "data": {
      "image/png": "[encoded data removed]",
      "text/plain": [
       "<Figure size 432x288 with 1 Axes>"
      ]
     },
     "metadata": {
      "needs_background": "light"
     },
     "output_type": "display_data"
    }
   ],
   "source": [
    "CourbeResume('TD')"
   ]
  },
  {
   "cell_type": "code",
   "execution_count": 7,
   "metadata": {
    "slideshow": {
     "slide_type": "subslide"
    }
   },
   "outputs": [
    {
     "data": {
      "image/png": "[encoded data removed]",
      "text/plain": [
       "<Figure size 432x288 with 1 Axes>"
      ]
     },
     "metadata": {
      "needs_background": "light"
     },
     "output_type": "display_data"
    }
   ],
   "source": [
    "CourbeResume('TP')"
   ]
  },
  {
   "cell_type": "code",
   "execution_count": 8,
   "metadata": {
    "slideshow": {
     "slide_type": "subslide"
    }
   },
   "outputs": [
    {
     "data": {
      "image/png": "[encoded data removed]",
      "text/plain": [
       "<Figure size 432x288 with 1 Axes>"
      ]
     },
     "metadata": {
      "needs_background": "light"
     },
     "output_type": "display_data"
    }
   ],
   "source": [
    "CourbeResume('salle info')"
   ]
  },
  {
   "cell_type": "code",
   "execution_count": 9,
   "metadata": {
    "slideshow": {
     "slide_type": "subslide"
    }
   },
   "outputs": [
    {
     "data": {
      "image/png": "[encoded data removed]",
      "text/plain": [
       "<Figure size 432x288 with 1 Axes>"
      ]
     },
     "metadata": {
      "needs_background": "light"
     },
     "output_type": "display_data"
    }
   ],
   "source": [
    "CourbeResume('salle visio')"
   ]
  },
  {
   "cell_type": "code",
   "execution_count": 10,
   "metadata": {
    "slideshow": {
     "slide_type": "subslide"
    }
   },
   "outputs": [
    {
     "data": {
      "image/png": "[encoded data removed]",
      "text/plain": [
       "<Figure size 432x288 with 1 Axes>"
      ]
     },
     "metadata": {
      "needs_background": "light"
     },
     "output_type": "display_data"
    }
   ],
   "source": [
    "CourbeResume('Exterieur')"
   ]
  },
  {
   "cell_type": "markdown",
   "metadata": {
    "slideshow": {
     "slide_type": "slide"
    }
   },
   "source": [
    "## Vision précise par salle et par créneau de la journée"
   ]
  },
  {
   "cell_type": "code",
   "execution_count": null,
   "metadata": {
    "slideshow": {
     "slide_type": "skip"
    }
   },
   "outputs": [],
   "source": []
  },
  {
   "cell_type": "code",
   "execution_count": 11,
   "metadata": {
    "scrolled": true,
    "slideshow": {
     "slide_type": "subslide"
    }
   },
   "outputs": [
    {
     "data": {
      "application/vnd.jupyter.widget-view+json": {
       "model_id": "7e7fbe778af04a55bd25cd50842ab5eb",
       "version_major": 2,
       "version_minor": 0
      },
      "text/plain": [
       "interactive(children=(Dropdown(description='Amphi : ', options=('Amphi 111-Vidéo (Bât 26- RdC)', 'Amphi 112-vi…"
      ]
     },
     "metadata": {},
     "output_type": "display_data"
    }
   ],
   "source": [
    "CourbeJournee('Amphi')"
   ]
  },
  {
   "cell_type": "code",
   "execution_count": 12,
   "metadata": {
    "slideshow": {
     "slide_type": "subslide"
    }
   },
   "outputs": [
    {
     "data": {
      "application/vnd.jupyter.widget-view+json": {
       "model_id": "d254939dee3c4390a6ca9bfd1641d740",
       "version_major": 2,
       "version_minor": 0
      },
      "text/plain": [
       "interactive(children=(Dropdown(description='TD : ', options=('sa TD 006 PECB-sans vidéo (Bât 5)', 'sa TD 01 (B…"
      ]
     },
     "metadata": {},
     "output_type": "display_data"
    }
   ],
   "source": [
    "CourbeJournee('TD')"
   ]
  },
  {
   "cell_type": "code",
   "execution_count": 13,
   "metadata": {
    "scrolled": true,
    "slideshow": {
     "slide_type": "subslide"
    }
   },
   "outputs": [
    {
     "data": {
      "application/vnd.jupyter.widget-view+json": {
       "model_id": "5fae29a7e0804de388c430241a77ef8c",
       "version_major": 2,
       "version_minor": 0
      },
      "text/plain": [
       "interactive(children=(Dropdown(description='TP : ', options=('sa TP 33Géol (Bât 14)', 'sa TP 34Geol-vidéo (Bât…"
      ]
     },
     "metadata": {},
     "output_type": "display_data"
    }
   ],
   "source": [
    "CourbeJournee('TP')"
   ]
  },
  {
   "cell_type": "markdown",
   "metadata": {
    "scrolled": true,
    "slideshow": {
     "slide_type": "subslide"
    }
   },
   "source": [
    "#### CourbeJournee('salle info')"
   ]
  },
  {
   "cell_type": "code",
   "execution_count": 14,
   "metadata": {
    "slideshow": {
     "slide_type": "subslide"
    }
   },
   "outputs": [
    {
     "data": {
      "application/vnd.jupyter.widget-view+json": {
       "model_id": "10bcf8dc93eb439c94ab36b6b4b2f935",
       "version_major": 2,
       "version_minor": 0
      },
      "text/plain": [
       "interactive(children=(Dropdown(description='salle visio : ', options=('salle visio 204/Badge (Bât 26- 1er ét.)…"
      ]
     },
     "metadata": {},
     "output_type": "display_data"
    }
   ],
   "source": [
    "CourbeJournee('salle visio')"
   ]
  },
  {
   "cell_type": "code",
   "execution_count": 15,
   "metadata": {
    "slideshow": {
     "slide_type": "subslide"
    }
   },
   "outputs": [
    {
     "data": {
      "application/vnd.jupyter.widget-view+json": {
       "model_id": "706fe46bb429414e83d83586cafe4452",
       "version_major": 2,
       "version_minor": 0
      },
      "text/plain": [
       "interactive(children=(Dropdown(description='Exterieur : ', options=('[Exterieur] 01 (LV)', '[Exterieur] 015 (L…"
      ]
     },
     "metadata": {},
     "output_type": "display_data"
    }
   ],
   "source": [
    "CourbeJournee('Exterieur')"
   ]
  },
  {
   "cell_type": "code",
   "execution_count": 16,
   "metadata": {
    "scrolled": false,
    "slideshow": {
     "slide_type": "skip"
    }
   },
   "outputs": [
    {
     "data": {
      "text/plain": [
       "'\\nfor s in NbHeuresS2[\\'TP\\']:\\n    print(s)\\n    print(\"----- Matières ------\")\\n    print(Matieres.get(s))\\n    print(\"----- Groupes  ------\")\\n    print(Groupes.get(s))\\n    print(\"---------------------\")\\n'"
      ]
     },
     "execution_count": 16,
     "metadata": {},
     "output_type": "execute_result"
    }
   ],
   "source": [
    "# Un affichage textuel des matières et des groupes qui utilisent les salles de TP (non exploité et non exécuté)\n",
    "\"\"\"\n",
    "for s in NbHeuresS2['TP']:\n",
    "    print(s)\n",
    "    print(\"----- Matières ------\")\n",
    "    print(Matieres.get(s))\n",
    "    print(\"----- Groupes  ------\")\n",
    "    print(Groupes.get(s))\n",
    "    print(\"---------------------\")\n",
    "\"\"\""
   ]
  },
  {
   "cell_type": "markdown",
   "metadata": {
    "slideshow": {
     "slide_type": "slide"
    }
   },
   "source": [
    "## Informations complémentaires"
   ]
  },
  {
   "cell_type": "markdown",
   "metadata": {
    "slideshow": {
     "slide_type": "subslide"
    }
   },
   "source": [
    "### En complément, les salles de TD et TP sous exploitées"
   ]
  },
  {
   "cell_type": "code",
   "execution_count": 17,
   "metadata": {
    "scrolled": true,
    "slideshow": {
     "slide_type": "subslide"
    }
   },
   "outputs": [
    {
     "data": {
      "text/html": [
       "<div>\n",
       "<style scoped>\n",
       "    .dataframe tbody tr th:only-of-type {\n",
       "        vertical-align: middle;\n",
       "    }\n",
       "\n",
       "    .dataframe tbody tr th {\n",
       "        vertical-align: top;\n",
       "    }\n",
       "\n",
       "    .dataframe thead th {\n",
       "        text-align: right;\n",
       "    }\n",
       "</style>\n",
       "<table border=\"1\" class=\"dataframe\">\n",
       "  <thead>\n",
       "    <tr style=\"text-align: right;\">\n",
       "      <th></th>\n",
       "      <th>Occupation S1</th>\n",
       "      <th>Occupation S2</th>\n",
       "    </tr>\n",
       "  </thead>\n",
       "  <tbody>\n",
       "    <tr>\n",
       "      <th>sa TD 006 PECB-sans vidéo (Bât 5)</th>\n",
       "      <td>40.70</td>\n",
       "      <td>35.64</td>\n",
       "    </tr>\n",
       "    <tr>\n",
       "      <th>sa TD B (Bât 1-Admin)</th>\n",
       "      <td>48.42</td>\n",
       "      <td>45.80</td>\n",
       "    </tr>\n",
       "    <tr>\n",
       "      <th>sa TD 119-Manuf.Projets (Bât 26- RdC)</th>\n",
       "      <td>0.25</td>\n",
       "      <td>4.58</td>\n",
       "    </tr>\n",
       "    <tr>\n",
       "      <th>sa TD 110- sans vidéo (Bât 26- RdC)</th>\n",
       "      <td>26.18</td>\n",
       "      <td>27.37</td>\n",
       "    </tr>\n",
       "    <tr>\n",
       "      <th>sa TD U1-Studio Crs/Badge (Bât 2)</th>\n",
       "      <td>31.05</td>\n",
       "      <td>24.55</td>\n",
       "    </tr>\n",
       "    <tr>\n",
       "      <th>sa TD 48 (Bât 14)</th>\n",
       "      <td>37.88</td>\n",
       "      <td>43.94</td>\n",
       "    </tr>\n",
       "    <tr>\n",
       "      <th>sa TD 30-sans vidéo (Bât 5)</th>\n",
       "      <td>30.76</td>\n",
       "      <td>25.28</td>\n",
       "    </tr>\n",
       "  </tbody>\n",
       "</table>\n",
       "</div>"
      ],
      "text/plain": [
       "                                       Occupation S1  Occupation S2\n",
       "sa TD 006 PECB-sans vidéo (Bât 5)              40.70          35.64\n",
       "sa TD B (Bât 1-Admin)                          48.42          45.80\n",
       "sa TD 119-Manuf.Projets (Bât 26- RdC)           0.25           4.58\n",
       "sa TD 110- sans vidéo (Bât 26- RdC)            26.18          27.37\n",
       "sa TD U1-Studio Crs/Badge (Bât 2)              31.05          24.55\n",
       "sa TD 48 (Bât 14)                              37.88          43.94\n",
       "sa TD 30-sans vidéo (Bât 5)                    30.76          25.28"
      ]
     },
     "execution_count": 17,
     "metadata": {},
     "output_type": "execute_result"
    }
   ],
   "source": [
    "Exploitation('TD',sem=\"all\",ub=50)"
   ]
  },
  {
   "cell_type": "code",
   "execution_count": 18,
   "metadata": {
    "slideshow": {
     "slide_type": "subslide"
    }
   },
   "outputs": [
    {
     "data": {
      "text/html": [
       "<div>\n",
       "<style scoped>\n",
       "    .dataframe tbody tr th:only-of-type {\n",
       "        vertical-align: middle;\n",
       "    }\n",
       "\n",
       "    .dataframe tbody tr th {\n",
       "        vertical-align: top;\n",
       "    }\n",
       "\n",
       "    .dataframe thead th {\n",
       "        text-align: right;\n",
       "    }\n",
       "</style>\n",
       "<table border=\"1\" class=\"dataframe\">\n",
       "  <thead>\n",
       "    <tr style=\"text-align: right;\">\n",
       "      <th></th>\n",
       "      <th>Occupation S1</th>\n",
       "      <th>Occupation S2</th>\n",
       "    </tr>\n",
       "  </thead>\n",
       "  <tbody>\n",
       "    <tr>\n",
       "      <th>salle TP Projets L1-L2 (Bât 13)</th>\n",
       "      <td>0.57</td>\n",
       "      <td>0.00</td>\n",
       "    </tr>\n",
       "    <tr>\n",
       "      <th>sa TP 33Géol (Bât 14)</th>\n",
       "      <td>0.25</td>\n",
       "      <td>3.07</td>\n",
       "    </tr>\n",
       "    <tr>\n",
       "      <th>sa TP Thermo 35bis (Bât 14)</th>\n",
       "      <td>1.53</td>\n",
       "      <td>3.81</td>\n",
       "    </tr>\n",
       "    <tr>\n",
       "      <th>sa TP Thermo 38bis (Bât 14)</th>\n",
       "      <td>6.15</td>\n",
       "      <td>3.81</td>\n",
       "    </tr>\n",
       "    <tr>\n",
       "      <th>sa TP Phys 50 (Bât 14)</th>\n",
       "      <td>0.00</td>\n",
       "      <td>0.76</td>\n",
       "    </tr>\n",
       "    <tr>\n",
       "      <th>sa TP Optoélectr 55 (Bât 14)</th>\n",
       "      <td>0.00</td>\n",
       "      <td>4.61</td>\n",
       "    </tr>\n",
       "  </tbody>\n",
       "</table>\n",
       "</div>"
      ],
      "text/plain": [
       "                                 Occupation S1  Occupation S2\n",
       "salle TP Projets L1-L2 (Bât 13)           0.57           0.00\n",
       "sa TP 33Géol (Bât 14)                     0.25           3.07\n",
       "sa TP Thermo 35bis (Bât 14)               1.53           3.81\n",
       "sa TP Thermo 38bis (Bât 14)               6.15           3.81\n",
       "sa TP Phys 50 (Bât 14)                    0.00           0.76\n",
       "sa TP Optoélectr 55 (Bât 14)              0.00           4.61"
      ]
     },
     "execution_count": 18,
     "metadata": {},
     "output_type": "execute_result"
    }
   ],
   "source": [
    "Exploitation('TP',sem=\"all\",ub=10)"
   ]
  },
  {
   "cell_type": "markdown",
   "metadata": {
    "slideshow": {
     "slide_type": "slide"
    }
   },
   "source": [
    "## Vision précise par salle et par créneau de la journée (tout en un)"
   ]
  },
  {
   "cell_type": "code",
   "execution_count": 19,
   "metadata": {
    "scrolled": true,
    "slideshow": {
     "slide_type": "subslide"
    }
   },
   "outputs": [],
   "source": [
    "# CourbeJourneeLong('Amphi')"
   ]
  },
  {
   "cell_type": "code",
   "execution_count": 20,
   "metadata": {
    "slideshow": {
     "slide_type": "subslide"
    }
   },
   "outputs": [],
   "source": [
    "# CourbeJourneeLong('TD')"
   ]
  },
  {
   "cell_type": "code",
   "execution_count": 21,
   "metadata": {
    "scrolled": true,
    "slideshow": {
     "slide_type": "subslide"
    }
   },
   "outputs": [],
   "source": [
    "# CourbeJourneeLong('TP')"
   ]
  },
  {
   "cell_type": "code",
   "execution_count": 22,
   "metadata": {
    "scrolled": true,
    "slideshow": {
     "slide_type": "subslide"
    }
   },
   "outputs": [],
   "source": [
    "# CourbeJourneeLong('salle info')"
   ]
  },
  {
   "cell_type": "code",
   "execution_count": 23,
   "metadata": {
    "slideshow": {
     "slide_type": "subslide"
    }
   },
   "outputs": [],
   "source": [
    "# CourbeJourneeLong('salle visio')"
   ]
  },
  {
   "cell_type": "code",
   "execution_count": 24,
   "metadata": {
    "slideshow": {
     "slide_type": "subslide"
    }
   },
   "outputs": [],
   "source": [
    "# CourbeJourneeLong('Exterieur')"
   ]
  },
  {
   "cell_type": "markdown",
   "metadata": {
    "slideshow": {
     "slide_type": "slide"
    }
   },
   "source": [
    "## Matières et groupes qui utilisent une salle donnée"
   ]
  },
  {
   "cell_type": "code",
   "execution_count": 25,
   "metadata": {
    "slideshow": {
     "slide_type": "subslide"
    }
   },
   "outputs": [
    {
     "data": {
      "application/vnd.jupyter.widget-view+json": {
       "model_id": "04a0033e449747f8be78a85da9d03f09",
       "version_major": 2,
       "version_minor": 0
      },
      "text/plain": [
       "interactive(children=(Dropdown(description='Amphi : ', options=('Amphi 111-Vidéo (Bât 26- RdC)', 'Amphi 112-vi…"
      ]
     },
     "metadata": {},
     "output_type": "display_data"
    }
   ],
   "source": [
    "Informations(\"Amphi\")"
   ]
  },
  {
   "cell_type": "code",
   "execution_count": 26,
   "metadata": {
    "slideshow": {
     "slide_type": "subslide"
    }
   },
   "outputs": [
    {
     "data": {
      "application/vnd.jupyter.widget-view+json": {
       "model_id": "776e3bc2356d40e5980db643287d2e91",
       "version_major": 2,
       "version_minor": 0
      },
      "text/plain": [
       "interactive(children=(Dropdown(description='TD : ', options=('sa TD 006 PECB-sans vidéo (Bât 5)', 'sa TD 01 (B…"
      ]
     },
     "metadata": {},
     "output_type": "display_data"
    }
   ],
   "source": [
    "Informations(\"TD\")"
   ]
  },
  {
   "cell_type": "code",
   "execution_count": 27,
   "metadata": {
    "slideshow": {
     "slide_type": "subslide"
    }
   },
   "outputs": [
    {
     "data": {
      "application/vnd.jupyter.widget-view+json": {
       "model_id": "e7c607b4051340f0bb7f277968eb541f",
       "version_major": 2,
       "version_minor": 0
      },
      "text/plain": [
       "interactive(children=(Dropdown(description='TP : ', options=('sa TP 33Géol (Bât 14)', 'sa TP 34Geol-vidéo (Bât…"
      ]
     },
     "metadata": {},
     "output_type": "display_data"
    }
   ],
   "source": [
    "Informations(\"TP\")"
   ]
  },
  {
   "cell_type": "code",
   "execution_count": 28,
   "metadata": {
    "scrolled": true,
    "slideshow": {
     "slide_type": "subslide"
    }
   },
   "outputs": [
    {
     "data": {
      "application/vnd.jupyter.widget-view+json": {
       "model_id": "99a8b220c852479295de19fe7737705c",
       "version_major": 2,
       "version_minor": 0
      },
      "text/plain": [
       "interactive(children=(Dropdown(description='salle info : ', options=('salle info 1-vidéo/badge (Bât 2)', 'sall…"
      ]
     },
     "metadata": {},
     "output_type": "display_data"
    }
   ],
   "source": [
    "Informations(\"salle info\")"
   ]
  },
  {
   "cell_type": "code",
   "execution_count": 29,
   "metadata": {
    "slideshow": {
     "slide_type": "subslide"
    }
   },
   "outputs": [
    {
     "data": {
      "application/vnd.jupyter.widget-view+json": {
       "model_id": "652e07b970614552bbe4c8d1734e6cf4",
       "version_major": 2,
       "version_minor": 0
      },
      "text/plain": [
       "interactive(children=(Dropdown(description='salle visio : ', options=('salle visio 204/Badge (Bât 26- 1er ét.)…"
      ]
     },
     "metadata": {},
     "output_type": "display_data"
    }
   ],
   "source": [
    "Informations('salle visio')"
   ]
  },
  {
   "cell_type": "code",
   "execution_count": 30,
   "metadata": {
    "slideshow": {
     "slide_type": "subslide"
    }
   },
   "outputs": [
    {
     "data": {
      "application/vnd.jupyter.widget-view+json": {
       "model_id": "d63b0b0058a2409da218dff82312b681",
       "version_major": 2,
       "version_minor": 0
      },
      "text/plain": [
       "interactive(children=(Dropdown(description='Exterieur : ', options=('[Exterieur] 01 (LV)', '[Exterieur] 015 (L…"
      ]
     },
     "metadata": {},
     "output_type": "display_data"
    }
   ],
   "source": [
    "Informations(\"Exterieur\")"
   ]
  },
  {
   "cell_type": "markdown",
   "metadata": {
    "slideshow": {
     "slide_type": "skip"
    }
   },
   "source": [
    "## Génération des calendriers"
   ]
  },
  {
   "cell_type": "code",
   "execution_count": 31,
   "metadata": {
    "slideshow": {
     "slide_type": "skip"
    }
   },
   "outputs": [],
   "source": [
    "# TousCalendriers()"
   ]
  },
  {
   "cell_type": "code",
   "execution_count": null,
   "metadata": {
    "slideshow": {
     "slide_type": "skip"
    }
   },
   "outputs": [],
   "source": []
  },
  {
   "cell_type": "code",
   "execution_count": null,
   "metadata": {},
   "outputs": [],
   "source": []
  }
 ],
 "metadata": {
  "celltoolbar": "Diaporama",
  "kernelspec": {
   "display_name": "Python 3",
   "language": "python",
   "name": "python3"
  },
  "language_info": {
   "codemirror_mode": {
    "name": "ipython",
    "version": 3
   },
   "file_extension": ".py",
   "mimetype": "text/x-python",
   "name": "python",
   "nbconvert_exporter": "python",
   "pygments_lexer": "ipython3",
   "version": "3.7.3"
  },
  "widgets": {
   "application/vnd.jupyter.widget-state+json": {
    "state": {
     "00863b7bd1ab48f2b6afa64a7c7dac22": {
      "model_module": "@jupyter-widgets/controls",
      "model_module_version": "1.4.0",
      "model_name": "VBoxModel",
      "state": {
       "_dom_classes": [
        "widget-interact"
       ],
       "children": [
        "IPY_MODEL_72b6afcddde14c51a2aa90fe24acd022",
        "IPY_MODEL_b9013286e73d4cd0b64287c09195fabf"
       ],
       "layout": "IPY_MODEL_3972fe81ebcd4b81af10e406a6d9c959"
      }
     },
     "00e72ef2a1bf4a02947a1b27be2754cb": {
      "model_module": "@jupyter-widgets/base",
      "model_module_version": "1.1.0",
      "model_name": "LayoutModel",
      "state": {}
     },
     "03efccfdd65446088c21cd33f6bae385": {
      "model_module": "@jupyter-widgets/base",
      "model_module_version": "1.1.0",
      "model_name": "LayoutModel",
      "state": {}
     },
     "0459949ca7c84da49efd59653fbeb596": {
      "model_module": "@jupyter-widgets/base",
      "model_module_version": "1.1.0",
      "model_name": "LayoutModel",
      "state": {}
     },
     "057b22019bbc47669dbaf28caa1f4e1f": {
      "model_module": "@jupyter-widgets/output",
      "model_module_version": "1.0.0",
      "model_name": "OutputModel",
      "state": {
       "layout": "IPY_MODEL_286e106cc47e40dc8349ff22bc8b94d8",
       "outputs": [
        {
         "name": "stdout",
         "output_type": "stream",
         "text": "Sauvegarde de tmp/Amphi_112-vidéo_(Bât_26-_RdC).ics\n"
        }
       ]
      }
     },
     "074b58a2d6234fcf814a635653a5025a": {
      "model_module": "@jupyter-widgets/base",
      "model_module_version": "1.1.0",
      "model_name": "LayoutModel",
      "state": {}
     },
     "075e45a42a2d47a283d49b0957e03cb4": {
      "model_module": "@jupyter-widgets/controls",
      "model_module_version": "1.4.0",
      "model_name": "DropdownModel",
      "state": {
       "_options_labels": [
        "sa TP 33Géol (Bât 14)",
        "sa TP 34Geol-vidéo (Bât 14)",
        "sa TP 35Geol-vidéo (Bât 14)",
        "sa TP 36Geol-vidéo (Bât 14)",
        "sa TP 38Geol-vidéo (Bât 14)",
        "sa TP 65Geol-vidéo (Bât 13)",
        "sa TP Automatique 59 (Bât 14)",
        "sa TP B1 Bio animale L2-vidéo (Bât 6)",
        "sa TP B2 Bio animale L1-vidéo (Bât 6)",
        "sa TP B3 Taxo-Ecologie (Bât 6)",
        "sa TP B5 Biocell-Immuno (Bât 13)",
        "sa TP Bio animale 32-vidéo (Bât 5)",
        "sa TP Bio végétale-vidéo (Bât 5)",
        "sa TP Biocell  110-vidéo (Bât 5)",
        "sa TP Bioch A (Bât 13)",
        "sa TP Bioch B (Bât 13)",
        "sa TP Bioch-biomol (Bât 2)",
        "sa TP Biotech-biomol (Bât 2)",
        "sa TP Ch Générale A (Bât 12)",
        "sa TP Ch Générale B (Bât 12)",
        "sa TP Ch Orga 1 (Bât 2)",
        "sa TP Ch Orga 2 (Bât 2)",
        "sa TP Ch Organique E (Bât 12)",
        "sa TP Ch Organique F (Bât 12)",
        "sa TP Ch inorganique C (Bât 12)",
        "sa TP Ch inorganique D (Bât 12)",
        "sa TP Ch organique G (Bât 12)",
        "sa TP Ch- Phys 1 (Bât 2)",
        "sa TP Ch- Phys 2 (Bât 2)",
        "sa TP Ecologie-vidéo (Bât 5)",
        "sa TP Electro 61 (Bât 14)",
        "sa TP Info indus 57 (Bât 14)",
        "sa TP Microbio (Bât 2)",
        "sa TP Méca 37bis (Bât 14)",
        "sa TP Optoélectr 55 (Bât 14)",
        "sa TP Phys 50 (Bât 14)",
        "sa TP Phys BGC (Bât 13)",
        "sa TP Phys CAPES  60 (Bât 14)",
        "sa TP Phys MIPC A (Bât 13)",
        "sa TP Phys MIPC B (Bât 13)",
        "sa TP Phys nucléaire (Bât 12)",
        "sa TP Phys solide 54 (Bât 14)",
        "sa TP Physio animale113 (Bât 26- RdC)",
        "sa TP Physio animale115 (Bât 26- RdC)",
        "sa TP Physio patho Végétale (Bât 2)",
        "sa TP Physio végétale (Bât 5)",
        "sa TP Thermo 35bis (Bât 14)",
        "sa TP Thermo 38bis (Bât 14)"
       ],
       "description": "TP : ",
       "index": 0,
       "layout": "IPY_MODEL_390c18cf855d4086b567303966884e4b",
       "style": "IPY_MODEL_94f8d969dd2f4a59a02cec808b5f19bf"
      }
     },
     "07af0879efd54f3abe3cc4feef0602aa": {
      "model_module": "@jupyter-widgets/base",
      "model_module_version": "1.1.0",
      "model_name": "LayoutModel",
      "state": {}
     },
     "085bcd26aa7f495a8e09baba70e082b3": {
      "model_module": "@jupyter-widgets/base",
      "model_module_version": "1.1.0",
      "model_name": "LayoutModel",
      "state": {}
     },
     "09a60ec50cfb433aa20fc5fb455f5461": {
      "model_module": "@jupyter-widgets/output",
      "model_module_version": "1.0.0",
      "model_name": "OutputModel",
      "state": {
       "layout": "IPY_MODEL_c34b9c2cec5743d0822b0be397d4a630",
       "outputs": [
        {
         "data": {
          "image/png": "iVBORw0KGgoAAAANSUhEUgAAAXoAAAEICAYAAABRSj9aAAAABHNCSVQICAgIfAhkiAAAAAlwSFlzAAALEgAACxIB0t1+/AAAADl0RVh0U29mdHdhcmUAbWF0cGxvdGxpYiB2ZXJzaW9uIDMuMC4zLCBodHRwOi8vbWF0cGxvdGxpYi5vcmcvnQurowAAIABJREFUeJzsnXecJGW197+nUofJsznBLnlJS5YMAkZUkCRcBYxcc7xXVHxfrvHqi/leUVEvoiJKuoKBoMKKoICAAktc4ua8Mzupuys87x9PVU/P7KTdmenqnn2+n898uqequp6nu2d+deqc85wjSikMBoPBMHWx0p6AwWAwGCYXI/QGg8EwxTFCbzAYDFMcI/QGg8EwxTFCbzAYDFMcI/QGg8EwxTFCbxgSETlZRFaNsP/7IvJ/qjmnnUVEnhCRk4fZN+T7FJGciPxVRF4/jnFniMgzIpLdgddIPO7Pd3bcWkFE3i4i9+7A8d8QkfdO5px2VYzQ1yEislREtopIJq05KKXeq5T6wlD7RGSOiNwqImtERInIwkH7z4vFrFdElg7x+qtigYxE5O3DzUFEsiLSISKnDLHvmyJyYzzXA5RS240zCj8AvqaU+v0Ovq6STwFXK6UK8ZyWikhBRLpFpFNE7hGRgwa95m3APYAjIsdU7og/y72GG0xETheRe+PPZJ2I/FBEmgYdc5qIPCIiPSKyUkTOG+ubEZGXRKQvnv86EfmJiDTuwOtFRD4sIsvi8VeJyA0Vn8EVwGUi4o31nIaxYYS+zohF8wRAAW9KdTLDEwG3A2cPs38L8C3gK8PsfxR4P/DISIPEAvor4KLK7SJiAxcA14x9ytud+yKl1M07+/r4InwxMNgy/6BSqhGYBiwFfjZovwf8B/BhYO4ODtsCfDF+3WJgPlo8kzntD/wCuCw+9hDg4R0c443x/A8BDgU+vQOv/TbwEfR7awf2AX4NnA6glFoLPE3t/l3XLUbo64+LgPuBn6CFpExsYV0pIrfFVtd9IjJbRL4V3wE8LSKHVhz/koh8WkSejPdfPdjNICKfEJENIrJWRN4xaKwvDjVBpdR6pdSVwN+H2f9HpdT1wJph9n9XKfUnoDCGz+Ma4GwRyVdsew36b/u2ivd5Wvw8F899q4g8CRw56P3OFZGbRGSjiLwoIh+u2JeJP8s18c+3RriregXQoZQa0v2llAqAXwL7V5z/KODdwDr0xe6ViXUrIvfEhz0af7dvGeKcv1BK3a6U6lVKbQV+CBxXcchngR8opW5TSgVKqc1KqeeHmf+IKKXWAXegBT+Z/7T4Tm6biDwI7Fmxb2/gA8AFSqm7lFLFeJ7XKqUqL/hLiYXfMHEYoa8/LgKujX9eIyKzBu0/D/0PPR0oAn9DW8bTgRuBbww6/q1oYdwTbWF9tmLfbLTlNw94F/BdEWmbyDczXpRSfwXWAmdVbL4Q+EUspoO5HP1e90S/7/LFUkQs4DdokZ0HnAp8VEReEx9yGXA0WtyWAEcx8POq5CDgmeHmHQv4W9EX7YQQ+Bj6uzomHv/98fs8MT5miVKqUSn1q+HOXcGJwBMVvx8dj/14fOH+uYi0j+E8Q81/PvA64LmKzd9FX5znAO+MfxJOBVYppR4c5dRPoT9bwwRihL6OEJHjgd2B65VSDwPPA/8y6LD/VUo9HLs1/hcoKKV+qpQK0W6OQwcd/99KqZVKqS3Al9AujwQf+LxSyo991d3AvhP/zsbNT4ndNyLSDJzB8G6b84AvKaW2KKVWAt+p2HckMEMp9XmlVEkp9QLaKj4/3v9W9OexQSm1Efgc+qIyFK1A1xDbvyMiHejP8oPxOQCIv7f7Y2v7JXSc4KRR3vuQiMir0Bex/1uxeX4837OBvYEc8F87eOpfi0gXsBLYgL5wJu6ys4H/q5TqUUotY+B3MA19QR6NLvRnZ5hAjNDXFxcDdyqlNsW//4JB7htgfcXzviF+Hxw8W1nx/GUG+oU3D7KKe4d4fVWJ3RbJz27x5p+i3RzzgHOA55RS/xjmFHPZ/j0n7A7MjYOZHbEgfwaYVfHalwe9djg/+lagaYjtH1ZKtQJZ4A3AjSJycPze9hGR38aBzm3Al9HW/Q4hIkej/zbOUUo9W7GrDx0cflYp1R2f//Xxa75f8bl+ZoTTn6mUagJOBvarmN8MwGH4z3Yz2tIfjSagYwzHGXYAI/R1gojk0NboSbEQrEPf5i8RkfHc6i6oeL4bw/jNa4XYbZH8rIi3rQD+gra4L0QL/3CsZfv3nLASeFEp1Vrx06SUSlIs16AvBpWvHe7zegztChvufURKqb+gXR+vjjd/Dx2M3Fsp1Yy+yMgI72U74hjMrcA74zjH4DkNWa42zqJKPtcvjzaOUurP6DjR1+JNG4GA4T/bPwHzReSIUU69GO06M0wgRujrhzPRPtz90T7iQ9D/FH9hUNbJDvIBEZkf+2o/g3bvjJs4qJsEKjOVQV4RsePfHcASnSbpVuz34v0CuPH+0f5Wr0G7Qo5Dxy+G43rg0yLSFvuZP1Sx70Fgm4hcGgdtbRE5UESSgO11wGdF58dPR7tFhst3fxBoje8yhkR0+uT+9PvRm4BtQLeI7Ae8b9BL1gN7jHC+A9HZTh9SSv1miEOuBt4hInvEwetLgd8Od74x8C3gVSJySOwavBn4DxHJxxk+5btNpdRy4ErgOtFrF7z4ez1fRD5Vcc6TiIPohglEKWV+6uAH/Q/89SG2n4fO0nDQFtYXK/a9G1ha8fteQFDx+0vo9Lgn0bfL1wD5eN/J6OAZg44/LX4+YKwh5qUG/1Tse/sQ+39SsX/pEPtPHuXzaUD7d28bYl/lvPNoi78jft//Xvk+0a6Y6+LPdCs6WJq8Nov26a+Nf74DZEeY0xXApYPeVwHtn+9GW/Mfq9h/Itqi70ZfwD8P3Fux/73xuB3AeUOMdzU6tbW74ueJQcd8Dm19b0SndrbtwN9g+XOs2PY94Kb4+Qz0hWMb+kL3hUHzF3R65RNoN+BqtGFxQLx/DrAK8NL+f5tqPxJ/wIZdEBF5CXi3UuqPac9lKiIiM9CCfahSqi/t+dQ6IvJ14HmlU3MNE4iT9gQMhqmK0pk5+6U9j3pBKfWJtOcwVRnVRy8i/xMvmFlWsa1dRP4gIsvjx7Z4u4jId0TkORF5TEQOm8zJGwwGg2F0xhKM/Qnw2kHbPgX8SSm1NzqangRTXofOz90buATtvzPUKEqphcZtYzBMfUYVeqXUPejaJJVULki5Bp0Rkmz/qdLcj846GEvurMFgMBgmiZ310c9SugARSqm1IjIz3j6PgQsmVsXbtlsRJyKXoK1+GhoaDt9vP+PKNBgMhh3h4Ycf3qSUmjHacRMdjB1qccdwCzSuAq4COOKII9RDDz00wVMxGAyGqY2IvDz6UTu/YGp94pKJHzfE21cxcGXcfGp8paXBYDBMdXZW6G+lf9XbxcAtFdsvirNvjgY6ExePwWAwGNJhVNeNiFyHXiU5XXTLtcvRDSOuF5F3ASuAc+PDf48ukvQceuXbO7Y7ocFgMBiqyqhCr5S6YJhdpw5xrEI3FzAYDAZDjWCKmhkMBsMUxwi9wWAwTHGM0BsMBsMUxwi9wWAwTHGM0BsMBsMUxwi9wWAwTHGM0BsMBsMUxwi9wWAwTHGM0BsMBsMUxwi9wWAwTHGM0BsMBsMUxwi9wWAwTHGM0BsMBsMUxwi9wWAwTHGM0BsMBsMUxwi9wWAwTHGM0BsMBsMUxwi9wWAwTHGM0BsMBsMUxwi9wWAwTHGM0BsMBsMUxwi9wWAwTHGM0BsMBsMUxwi9wWAwTHGM0BsMBsMUxwi9wWAwTHGM0BsMBsMUxwi9wWAwTHGM0BsMBsMUxwi9wWAwTHGM0BsMBsMUxwi9wWAwTHGM0BsMBsMUxwi9wWAwTHGM0BsMBsMUZ1xCLyIfE5EnRGSZiFwnIlkRWSQiD4jIchH5lYh4EzVZg8FgMOw4Oy30IjIP+DBwhFLqQMAGzge+CnxTKbU3sBV410RM1GAwGAw7x3hdNw6QExEHyANrgVOAG+P91wBnjnMMg8FgMIyDnRZ6pdRq4GvACrTAdwIPAx1KqSA+bBUwb6jXi8glIvKQiDy0cePGnZ2GwWAwGEZhPK6bNuAMYBEwF2gAXjfEoWqo1yulrlJKHaGUOmLGjBk7Ow2DwWAwjMJ4XDenAS8qpTYqpXzgZuBYoDV25QDMB9aMc44Gg8FgGAfjEfoVwNEikhcRAU4FngTuBs6Jj7kYuGV8UzQYDAbDeBiPj/4BdND1EeDx+FxXAZcCHxeR54BpwI8nYJ4Gg8Fg2Emc0Q8ZHqXU5cDlgza/ABw1nvMa0mFLT4m1nX0EocKxhemNGWY1Z9OelsFgGCfjEnrD1OF7S5/n63c+QxANjJ1/47wlnHXY/JRmZTAYJgIj9Ab+/tIWrrjjaU5dPIuzD5uPawt+qPjq7U/zP/e9aITeYKhzjNDv4nT0lvj49f9kXluOb77lEBoz/X8Sy1Z3cuXS5wjCCMc2ZZEMhnrFCP0UZUtPia/c9hSPrOjADyPCSKEUKKWIFCj0Y3chIIwUv3jPKwaIPMCc1iyRgo3dRea05FJ6JwaDYbwYoZ+CKKX4txse5d7lmzhp3xnkPRtbBBHBErBEEAERIetanHnIPJYsaN3uPHNadCB2bWfBCL3BUMcYoZ+CXPfgSu56egOXv3F/3nHcop0+T5Jxs66zMFFTMxgMKWCEvs5Y3dHHLf9cTXch0C4YpVBAFOnHgh9yw8OrOG6vaVx8zMJxjdWcdQHt3jEYDPWLEfo6QinF2370AC9u6sGxpMIFE7tjAMsSTtx7BlecczCWJeMaryH22feWjNAbDPWMEfo64pn1Xby4qYcvnHkgFx69+6SPl/dsAHpK4aSPZTAYJg8j9HXE8vXdABy1sL0q42UcC0ugzwh9zaCUYtXWPgp+iAKyjs3c1qxJfzWMiBH6OmJjVxGAmU2ZqownIuQ9hx7juqkJNnQVuOjHD/L0uq4B2/eb3cQtHzyOjGOnNDNDrWOEvo7Y2F3EtYXWvFu1MfOebSz6GkApxaduepwXN/XwuTcdQHuDhwg8uWYbVy59nruf3sBrD5yT9jQNNYoR+jpiY1eRGY0ZdFXo6tCQcYyPvgb4+f0vl1NmLz52YXn7aw+YzQ/ueYFlq7cZoTcMixH6OqKjt0Rr3qvqmDnXps+4bnaIrT0lPnvLMl7Y2IMfRiilC8WVy8WpAQ/b7Vfl/fpJFOm02pP2mbFdyqxjW8xuzrK6o29S3othamCEvo7o88NyJky1yHk2vcai3yH+574X+d1ja3nlvjPIe/G/mAx4KN+V9f8+8v49ZzbyjuMWDpkyO681Z4TeMCJG6OuIvlJYzm2vFp5t4YdRVcesd+55diNHLWrn6ndUpy3DrJYsy1Z3VmUsQ31icrLqiD4/IutW16L3HItSOGR/d8MwrO7oY88ZDVUbrzFj01M07jXD8BihryMKfkiuykLv2hZ+YCz6sVIKIjZ1l6ramavBc4zQG0bECH0d0VeqvtB7jhjXzQ6woUsXgJtdRaHPx5lRUWTuvAxDY4S+jujzQ3JVDsa6tkXJCP2Y2dJTAmBaY3UWtYF23QD0+iZobhgaI/R1RJ8fVt1Hb1w3O0aSodRQxQtyEqA37hvDcBihrxPCSFEKolR89CYYO3aSSp/5KmZHJZ3Buo3QG4bBCH2d0Bfflue86n5lGcekV+4IiUVfzfUOSa6+segNw2Hy6OuEUuw+8Xa2SmHPJlj6FVj3GIQ+oMBywcvDoRfCQecM+TLXNsHYHSER+mreeSVjDVWTqOCHfPF3T/Lkmm34ocISIG4pKeg+BvmMw0VH785p+8+q2pwN1cVY9HVCEGmx3alytFEEN74DHrlGi3uuDfLTwGuAbWvgpnfBE78e8qWuWTC1Q/TGVnU1LXrP0X8T/hAuthseXsXP71+BiDCt0aM179GSc2nMOOQ9B8+xeHlzD+/52UPc8+zGqs3ZUF2MRV8nhHHqnLMzXaMe+D68eA+86b/gsIsG7gtKcPVr4bcfhQWvgOaBhbG00CuiSI27Y9WuQJL5Us0VzInQl8LtLfq/PLuRRdMbuPG9xwxbDK+vFPLG/76Xf7/xUe746IlVr6dkmHyM0NcJQWytNRbWwt/vBL8PVBRXwFJDPKIfi11a6Pd9vXbRDMbx4M1XwfePh+veAovfqK1+24NcGzk5CAA/ishYpt75aPSVQkR0bKNaJO680hDZUSu29LLnjIYRK57mPJtvveUQzvzufbz7mod45X4zcSzBcyyyrs3u0/Ics8e0qlZNNUwsRujrhDBSZChx6n1vheKO3GIL7HUqnHllf+WswUzfC978Pbj903DXFwfsOmX2G/gK/4IfKqpcZqcu6SmG5F27qqKYWPTFQUKvlGLFll6O2XPaqOc4cF4LXz7rIP7f7U9zxR3PbLf/s6cv5t0n7DExEzZUHfOvWyeESnG89Ti54kY49yew56kgVizeMsKjBdYYrMsD3gz7n6kDtZEPQRHu/D/s+egvcThP59JXbw1Q3VIMQjJVToFN7h4GW/Q9pZDeUjjmVbrnHbGAcw+fjx8q/DDCDyP6/JBP3/w43/7jci44areqF9UzTAwmGFsnhJFiL1mjf9nzFMg2Q6ZRB1S9PLg5cLPgZLQ7xnbBdsYm8gki+rVeA+TbYdEJ2Cpgd1lvArJjJIzUzsVRxoGbuG4GfUfdBR0YbsqOvSOZiHbZNGQcWvMec1pyvO+kPekqBvzxqfUTN2lDVTFCXycEoWKRrKWYmQbZluoMOmNfAPaS1du5BQxDE0SqLLzVwhvGou8q+AA0ZsdnhR+5sJ3ZzVl+8+iacZ3HkB5G6OuEMFLMkq0U81VsF9c4G4Dpsq2c9WMYmSCMsKts0fenVw4S+mJi0Y9P6C1LeMPBc/jzsxvp6C2N61yGdDBCXycEUUSz9BJ4zdUbNNcKQAs9BEbox0SQgutmuKybrsR1MwF+9TcdMhc/VNy2bN24z2WoPiayUieEkaKFXsJqCr2bI7QytEh3ecGWYWTCSNEuXfDr90PHCohCHfuQ2KYqP5cRnlswZwmc8AkdZ6nkhaXw9x9D7xZAgVi4i04CFm8n9Dvjox+Og+a1sN/sJj73myf454oOPnjKXixoz4/7vIbqMC6LXkRaReRGEXlaRJ4SkWNEpF1E/iAiy+PHtoma7K5MECmapYcoU0WhB3yvhVZ6ynn8hpHxQ8XFpevgn9dCFIBlA6LXPESBXqDm90GpGwrboG8r9G6C7g3QtRa2rYLNz8HSL8O93xx48o6VcO25sOJ+9EIJgd7NyN1f5DT3MYqDXTcT5KMHHaT94UVH8MaD53LLo6s57wd/M26cOmK8fwHfBm5XSp0jIh6QBz4D/Ekp9RUR+RTwKeDScY6zyxNGiib66PCqFIiNCTKttPZ0G9fNGAmjiMP9R2C/N8D51+78ia67AO6/Eo77iM6EAnj8BghL8K47oX1RPKAP/zmfE9QTvBScMeAU5UJ4E5TuuaA9zxXnLuGiYxby5ivv47JfL+O/LzjULKSqA3Za6EWkGTgReDuAUqoElETkDODk+LBrgKUYoR83kV8kL0W2Zqtr0YdeM830EhrXzZhQoc+saH05Y2mnOewieOb38MLdsM9r9LZlN8P8I/tFHnQa7Yx92WftSp4d5LpJ7sJce2KF+KD5LXzsVftwxR3P0JZ3WTS9Ec8WMo7N/nObOXBedY0Rw+iMx6LfA9gIXC0iS4CHgY8As5RSawGUUmtFZOZQLxaRS4BLAHbbbbdxTGMXodQNgPKaqjqscrJkpYOicd2MibbSOmwiaN9zfCfa81TItsLjN2qh3/gMrH8cXvvV7Y+dthfz1/51Ox99klc/Geme/3riHjy/sZvrHlw5ICPLErj1g8cbsa8xxiP0DnAY8CGl1AMi8m20m2ZMKKWuAq4COOKII4yKjEIUaH+oONUtOKWcHFlK9BrXzZhoDLbqJ03jLPnreLD/m7QVX+rVgi+WXsE8mFw7LXRt517rt+gnXugd2+Ib5x3Cl998EEU/ohRGbOoucuZ37+PmR1Yboa8xxvMXsApYpZR6IP79RrTwrxeROQDx44bxTdEAoIIiAOJUtw6BcnNkKY5pZWwpiOgq+HT2+vTtos2qM6G+8yLbOv6THXiOvpP723/Dwz+BPV459AUk304jPQSBP2CzH0ZYwqTm9Wddm5a8y4ymDIvnNLPPrCZe2NQ9aeMZdo6dtuiVUutEZKWI7KuUegY4FXgy/rkY+Er8eMuEzHQXR4Xaorfsalv0WbLij7hgKggjPnnjY9z66JrtrMoT95nB9992WLkL0lQnmwj9RGRHLTwe5h4Gd38J7AycctnQx+XasFBkgq4Bm/0oqvoq3fltOZZvMEJfa4z3v+9DwLVxxs0LwDvQdwnXi8i7gBXAueMcwwCo2HVDlV03uHlyFIdsapHw3buf5+Z/rOatr9iNhdMasCyhFOhb+R/f+yLfX/o8H3/1OIOTdUI26omfTIDrwrLh7b/TAdmZi6F9mOqRuXYAMn7ngM1+UP1yDPNac9z9zAaUUiYbp4YYl9Arpf4JHDHErlPHc17D9ig/tuirLPTiZMlSGtaif/jlrXznruWcechcvvTmg7bb/9KmHn7595V85LR9ql4aIA3yZdfNBGVHeXnY7/SRj8nppSrZYJDQh9GEZ9yMRnujR8GPKAYR2SpX8TQMjymBUCeoKJ1gLF6erPgE4faNp+96ej0X/vgB5rRk+dwZBw758jcfNo8NXUUeeHHzZM+0JsipbnxxwRlbaeAJwWsAwAkKAzYHUbRzrSfHQWNcbqHbNCqvKYzQ1wuxj96ucjBWXC1YqjRQRIpByCdvfIzdpzVw8/uOpSU39DL7U/ebRYNn7zKVD3NRL0UrN3yTl8nAzQFghQO/o1Kgdr6Z/E7SEMdieozQ1xRG6OsEFWdUVNuiFy+uZxL0Ddj+9NouNnWX+NApezFzhMYWOc/mVfvP4vePrxuy1d1Uw1YBoVQ7jqKF3omGsuir67ppMBZ9TbJrpEJMBeL0StutoksAsGIRUX7vgO3PxZkV+8wafQHXmw6Zy6//uYbLb13GwfNbEcASQUQ/WpZ+dG2LIxe2M6OpfltZWSogtMZfRGyHSIQ+HHgx1j76dFw3PcXtG5Ub0sMIfb0QaYvecqts0ScXlvhCk/DS5h5sS9h92ugVDE/aZyZnHTqPX/19Jdc9uHLEY5syDte+5xUcPH8C8tBTwFE+oVXlfytXfwdOOPA78sPqZ900ZHQAtrvoj3KkoZoYoa8XwnSybqw4qFhO74zZ2luiJeeOSUhsS/jGWw7hc2ccQE8xJFKKSCmUAqUo/97Z5/PBX/yDD1/3D3734RPqsj+prQIiSceid9VA100aWTdJk5NuY9HXFPX3n7SrkgRj3eq6Ncp3EIMyOjr7gmEDsMPRlHVHrY3+jfOWcP4P7+fyW5/gstcvxnMsMo5V9eyRnUVb9FUWeicW+sE++hQs+rwJxtYkRujrBKucdVNdiz65sESDltd39vk076DQj4VX7DGN9560J99b+jw3PryqvD3rWnz6dYu5+NiFEz7mROKQgkVvOwTibif0pTCqfrerYfrXGtLFCH29EGqhrbZFnwR/ZZD/t7PP32GLfqx88jX7csJe03lqXRdhFFH0I+54ch1fu+MZ3nLkgppeiOOoAGVVP5hckgyeGuyjj8rB0WphhL42MUJfJ0iUTnqllVxYwoE++m19PrtNUis5EeHYvaZz7F7Ty9v2nNnI+699hOc3dnPA3NqsjKiU0ha91Vj1sX0rizfoYhyE1e9fm0mEfgxF8AzVwwh9vZAIbZWLmiXVMmVQ1k1XIWBJ8Bjc/H1dYTHpeZr8TN8XjvkAZCZG9JKLysotvTUr9JECl4Co2j56ILQ83EEB8zTSK5MFWkVj0dcURujrBCu26LGr7BaIx5NooIjkgq1c/MK/g+tB6266Jyqqvzfqspthxd/gbTeDNX6xSRpRr9jSO8qR6RFEER4BqtrplUBouThq+zLF1RZ6EcGzLeO6qTGM0NcJEpWIECyryv7p5A5ikLV4aPgErl2EC38LC47a/nUPXQ2//Sg88D1t2Y+TlpxLxrHY3FO7DamDUOESoKwqr4wFIsvD3U7oVdXTK0H76Y3Q1xZG6OsEK/TxcchUu/RrHBMYbNEvVs8TioM955ChX3f422H5nfDHz+nf89PAcuIaMDLwUSz93HZ1T9R8+5CnbMo6dBdqN20viLTQ+3Y6rhuHgUIfpGDRQyz0ocmjryWM0NcJEsVCX+2BE9dNRTA2jBQzZQs93gyahwsOi8AbvwPXng13fGbs4+Xa4OLfwOztSx43ZpyarqESRgpXAkop+Ogjy8OjMKAOfClUqaw/MK6b2sMIfZ1gRT5BGl9XLORWhdCXgohZbKU3M50Rq643zoBL/gxda8Hvgyik7MdXKn6u+rcVOuHmS+DGd8K/3lNe8Vk+Xa1b9GGkXTdVDphDIvS6b2zirgmiCM+4bgwYoa8bLJWS0A8RjC0FETOlg77MfqO/XgSa5459vDO/Bz87E27/NLzmy+BkdKcltEXfVcMWfRAp8oSQhkVve3gE8WpYvc0Pql+PHhLXjRH6WsIIfZ1gRT6+pGHRZ+LxK4Q+jGiXLjZnh/alj4s9XwlHvx/uvxIevlpvEwvcPOc1nMePOGvix5wgwthHX+0UWABleXj4+FFEDq30aRQ1A+O6qUWM0NcJ2nVTfUsRyybE2k7oWymCMzkLpnj1l2DRSbDhCQgDvYZgxf2c+fJP+Fn2+MkZcwLwy66bdC160Iu3dHPwdFw3Jo++tjBCXyfYUYmg2jVUYnwcrLA/o8P3Q3KUUIN86BOGZcG+r9U/CSsfxPrxq1hUemZyxpwAwjDCkxBJw6K3M2TEJ4hdJmGkq4OmlnVjhL6mMEJfJ1jKJ0jDdQME4mKrfoveL/VhiSrXQa8Ksw5EIewRvVi9MXeQIFlrkIJFj61dN4W4iXsQP2YpwNKvwubl8YGDUlpFdM/ZQ98Gc5ZMyFQyjkVXDQfNd0WM0NcJdlpZN4CP278yFwgK8erUybLoh8LL0+c001baWr0xd5DIT4S++kXNVOy66Y74NC+3AAAgAElEQVQt+iQYeuxLV8LKX0Dr7jqoPTjjSSno2wqP/AzedceEiL1rWwSRsehrCSP0dYLuRZqO6yYQD7vCRx+UeoCKfrJVos9to7XYOSBXvJYIk3pATgrfk5PVwdjYR6999YqFG5fCvqfDBb8Y/rXdG+D7J+jU1kv+DONsV+lYUo4VGGoDI/R1gq18StVuOh3jiztA6MNiLPTVtOiBotfGNOmiFEZknNorVZxY9Gn46HE8MhIQxCtS/TCimR4aC2tg9/eP/NrGmXDmd+HnZ8Ov3wuL36TdT3ZGi37r7tC2+5in4toWvkmvrCmM0NcJtgoIrYZUxg7FGVAwKypq141VZYu+6LXRzjOUgtoU+sSil1R89NpdFPp6Dn4YMVe26H0tC0Z//V6nwYmfhL98HZ7434H7xIKzfggHnTOmqTi2lGMEhtrACH2dYCs/XddNhdCHpT4ArEx1hd7PtNEm3RSDiKaqjjw2kr661W7gDv3lpIOS7jLlh4o5slnvbJ43tpOcchkc/T7oXq8b3YQl8HvhD5fDHZdpS38M/RAcyzKumxrDCH2d4KQo9KHlYlcEY1UpHYs+cvLkKLKtRlP3orJFn47rpnIOfhgxO7Hod2Rlcr59+6JyJ10K170Fnr9rYMrrMLi2GNdNjWGEvk5Ipel0TCguToXQR7HQ25kqu5K8PHmKbPRrszJi2Udf5S5gekwdQA3LFn1EI/rOi+yIFYlGZ89TdLG5ZTf2C71SsPQ/dbZOsQtUCGJD20Jmtl9GEBlpqSXMt1EnOGlm3Vgejuor/658LfROlV03uA1YovALvUD12/WNhooXlVlO9dMrk4tL5Pe7bvLEWUDjXe/geLD/GfDYDVDqBS8Pj/wU/vxV2PvVMG0vnboZBvDITzmt9D9cHb57fGMaJhQj9HWCk1KLOtCVETMVtc7F16LvZKtr0SfpnH6hC5hZ1bHHQtlHn4pFn4nnoMU9CCPyUiC0M9gT0azmwHPg4Z/As7fB3EN10blFJ8IFvxrYQaxnI3s8czdB+M7xj2mYMIzQTyBKKW5fto77nt9EECoipZeh25bg2IJjWdiWMLs5y9uO3p2cN/Z/QEcFRCm0qIMk66ai8Uhs0btVd91oKz4s9FR33DGiwvRcN1ac+55k3ZTCiDxFIifPhOQn7X4sNM+H2y7VWTi2oyuNDm4TOWcJjctuJBvV5ne0q2KEfgK5/qGVXHrT4zRlHPIZGyte1BNGijBSBJEiCCN6SiGPr+7kOxccOuZzO/hEKeXR6zZ1FUvayxZ9dV03VnxhCYrdVR13rCQWvZ2C68Zy4zHLFr0iL0WiiSpTYdnwlp/qjmG2C6/8DLTM3/64OPA7LdpcswvbdkWM0E8g1z6wgsVzmvnth47Htob/A7/ijqf57t3P87FX7cOi6WOzitN03QxuU2cF2g/sVdmiT4Re1arQJz76FNIrE4s+qsijz1FETWSF0XmHw8W3jnxMLPSzZeuAJiiGdDFCP0G8uKmHx1Z1ctnr9sVe/5iuH6KSFLOKP3YR3jm3xD+sJ3hkaSeLDp8/8Jhsi26jV2kJRSEOEVEKTach6V5U4aMP+igqF8+t7p+P5cVCX6pNt4AKtcjaKbhu7EEWfRKMVdUsPAfQNAeAWWwd0ATFkC5G6CeI3zy6BhF469r/hLtvHPHYacAvPGBZ/DOY4z8Gp/1H/++x7zeNOud63IGuGyvoow+v6o3KyxZ9qW+UI1OibNGn4brRFn1ysfHDiDYpoty26k4kp8drkZ4BTVAM6TJuoRcRG3gIWK2UeoOILAJ+CbQDjwAXKlUZyZt6KKW49dE1nD6/SP7pG+Gwi+Dg8+NqgZUrBFXyAu58ch0//suLfOXsg1g0rcLq+tt/w4M/hJM/Xe7ulAh9mlk3lRa9FRYoVL9NOZYXi1nsOqo5UvTRJxZ9Eifww4g8BXCrHDDP6DXLTfSa1bE1xERY9B8BnoJyn+ivAt9USv1SRL4PvAv43gSMU7Pc+9wmntvQzeePWgsbgVe8D2btP+JrjphR4v33/pGrV8/jc4cf0B+0KnTAs7fDumUw/3C9LbYUVUpCr2wXTwJ90RLBDgoUpfpi5ni6iJrya1To4wuy7aXguokvggOCsRR1zns1sWx8O0dj0FdugmJIn3EJvYjMB04HvgR8XLRanQL8S3zINcB/UMdCH4QRn7jhUf72/GZKYUQYKkKlM2iiSD9XCha05zgqv1YXl5oxetPs9gaP0w+ew0//9jK//sdq2ho8WnIuh3h9fB6g46UKoY9dN6kJvdc/DyeDHfWlIvSJRU/snqg54tXD6Vj0+rOR+G6nFEbkpVj1UtIAvtNEU7EX3xQ2qxnGa9F/C/gklGtMTQM6lCo7dFcBQ1ZUEpFLgEsAdtttt3FOY/L43eNrueWfa3jV/rOY05LFtgRbBNvWj44lZD2bsw6dj3PXDbrk6+Dc4mH46tkHc/Qe03hyzTY6+3w6+3xufNbm81lg60v9B6bto7e0cEV+EcvJ4IRpWfRatKRGLXqJvycnhawbp+yj13MIYteNeNWveBq4jTRJr7Hoa4idFnoReQOwQSn1sIicnGwe4tAhL+tKqauAqwCOOOKImr30P/zyVhozDlddePjoOcE9G6Fh+pjPnXVtLjhq4EXusv/N0fFoIy2da/o/zLLrJp2sGxVnkfh+gUyuGScs0J2m66ZWLfr4e7LTEPpMYtH3Z93kKKIy1S8VEbiNNNFXboJiSJ/xdA4+DniTiLyEDr6egrbwW0XKzU3nA2vGNcOUeXZ9F3vPahzbwo+eDdAwY1zj7TenmS1RI33bNvVvTDoXpVEVsWLcpI6KGxXw0xD6jBb6RMxqDYmSxiNpXARjt1Y8hzAo4klYzlSqJqHbSJP0mXaCNcROC71S6tNKqflKqYXA+cBdSqm3AncDSYeCi4Fbxj3LFFnd0cfu7WP0c/ZsGrfQL2jLsY0G/O7N5W2q7LpJyaKPx/VLWmDdqIhvja/d3M7guh6Bssp+6FpDQp9Iic62qvbY8cXFirNukhTUqlcYRZeTzlI0WTc1xHgs+uG4FB2YfQ7ts//xJIxRNTp6fVrzYxBYpWLXzfiEvi3v0aEadfZNTFK/JD2Lvt9HD+CqQjpCbwtFXKRGXTcS+fg4Axe7VQvLoqTs8l2F5etFZVYKPnrl5shTNDXpa4gJWTCllFoKLI2fvwAcNRHnTZsgjOgqBLTmxxAELW7TQdMJEPoXacAurCxvi4J0g7Fl101c69yLigQpCL2IFno7rFGLPvLxxUlhhYHGr7wIxoXnSEXo8+SkZNoJ1hCTYdFPGbYVdPJQa24MAtsT+9THKfStDS6dqgG31G/RJ0KfSuciKC/cSnqiZlSRwK6+0AOU8MrZLbWGRD5BiovNS+JixSmekgh9tUsgADg5chTxa7QT2K6IEfoR6OzT/zRjct10b9CPO5B1MxRNGYceacANesqraqNyMDYdiz6pdR75RVCKDGkKvYsV1ajrJoxdNynh42Il9XaCuB5QCnn0eLrlo3Hd1A5G6Eego1dbji1jsug36sfG8TXEEBECpwGLqFwOuNyiLiWLfkD3ojgQGtm5VOZSEg+7Rn30lkrXovdxsRIffRDXA6p2CQQAN48jUX9syZA6RuhHoC/uTTqmBiGJ0I/TdQPg27EVFldpTIKgpLDiEios+qDUf/Fx0rHoffGwa9SityKfIKV2jwC+ONhloU/PR5/cRSS9hQ3pY4R+BEqxj9G1x/AxJT76/LRxjxskNcRLXUCFj96pAddN7PuNUnTd2DXqo9dCn55FH4iHnZRhSCz6FFw3VjKmb4S+VjBCPwKJ0GecsQj9Bl2idQL86KETW2Fxg41kJWgaC3Gg33WjgmK/Re+mI/RazGpT6O2Ug7G+9LtunBRdN+Im5aSN0NcKph79CJTiYJI3JqEffw59QujGy9ZLWugTiz6tPHpxE9dNhUXvpOOj9y0PR3WmMvZoWCogTNF1E4iHF1cEt8MULfqMHnM7oQ8DePQ62Lx8YFOe8roD0cbSIW+Fxon5XzJojNCPQJI14I3VddMwvkBsQpT4VWMffVJjPI0WdQCWU9G9KLbomcgWdTuALxmcWrboU3XduOSiuExFmF56pZSLzw0S+nu/CXd/ESxX3/kqRWWPBkBXJv3ntfDee1OLSU1FjNCPQOK6GbNFP3PkGvRjRRKLvqh99En1SkmhRR2AFQdeo6CIKvXqYmtuOhZ9YHk4teqjV3rBVFqE4mIr/Tfjhn0U8cikUI4hWY27ndD/8+ewx8lw4a+HXz389O/gl/8Cy26CQ/5l6GMMO4zx0Y/ADgl99/gLmpXJDnTdlC36tITeSyz6EmEpxYU4aPdErVr0jvLTdd1YHk7sunGiAkVJJ47iZIYIxhY6dentRSeNXCJi39dD2yJ47PpJneOuhhH6ESiONesmKOnaNBMl9F5c3r/CdRMqwU5pwVS5kUZYJCzqf15JyaIPrQxujXamtFVAaKVr0bvxRdCL+iilUKYCwIoNFQkqevtueFo/jnbXKwIHng0v/rl/EaJh3BihH4EkGDtq1k1P/Ac5zsVSCXZi0Zezbkr4ODhWCsWyqBD6oERYTHHFJRBa/QHHWsNWPlGKFn1oeThxb18vKlBMSejt2KIv5/JD/zqT5jmjn+Cgc3Sw9olfT8Lsdk2M0I9A2XUzmkXfERcga10wIeO6XoaScsp59IQlnT+ektA7jkVRORD0W/RWWkJvZ3ApDWq6Xhs4KWfdRJaHqxKh76NkpXPX5Wb1HalV2QksqcaabR39BDMXw8wDdIZODX7P9YgJxo6AH0Y4lmCNJrCdsdC3TIzQe45FN1lai936ShyUKOGkJ/SWUMKFsN9Hb3npuW4slO7mlFLMYjhsAqKU+voCRJaLEwt9RhXwUxJ62xvCou/bqh9zbWM7yeFvh9v+Hb62N+TadQaOm9OxocMu1O4dw5gxQj8CpSAaWyB2ywuATJjQZxybHpWjuRALfVwsKzWhty1KOBCWUMUuIiXYaSytB6JkLUFQqD2hVwFhikKv73Yqhb45nYk4GUIlWGGFj75vK4gNmabhX1fJUe+BbDO8eI+OVQUFndrb8TLc+E4dx9rn1ZMz/ymIEfoRGLPQr3xQB5kmyJ3hORY9ZFHl9MoigbJT89EnFr2ERSh00U0Wz61+2h5AZFfk9NcYrkrbovfwCEApsqrA1pQKzyFCgUx/GQbQQp9rG3tTFhFYcr7+qcQvwA9PgVs+AO+/HxrGX3JkV8AI/QiUwkj751+8B17+m17MEYWgQogi/ej3wQtL4RXvnbBxM4OEXsIiBbzULHrbEkrKQcISqtRNN7mx1f+ZBCIrEfraaz7i4KNS9tEDEJbIqgJBWkIP9EkGp7JBTF8H5Mbgnx8NNwtnXQU/fCX84lx41Rdg4XHjP+8Uxwj9CBSDiKNZBtdcrjdYjr79tGwQK35uwfwj4PiPTdi4nmPRo7KoOMNFgiIFXBwrHXF1bKEXBzcsIcWQbpUb253OJKBq2KJ30vbRl91aRXIUUxX6AhnsqFLot47dPz8asw+EM66EOz4D17wR3nWn/h80DIsR+hEoBRGvVn8FrxE+/iRkW6oybsax6CaHxF2mJCxQxCOfmuvGog+PTNiHlIgt+nTmopwateiVwiNApSj0qlLoVYEwpTIVAEXJ4ISDgrETlH4MwMHnwt6vgm8eCA9fbYR+FEx65QiUgoj91XJYcFTVRB600PeSReKVsVZQoKBcnJTE1bGFDtWI52/DKnXTrXJjq+g5CZTr4NeaRR/ptpNRWn19AZW4tYrbcCXEdxpTm0uRLG5lg5iJtOgTcq2w58nw8l8n9rxTECP0I+CHETOjjdC+R1XH9RyLbpVF/FjowyLFFH30jiV00qCF3tc+es9OJxgrZaGvMYs+qb+TokWfZCGp7vUABN4YM1wmgaKVwY0qg7EdEy/0AHOW6Ky3Qm1WNK0VjNCPQBQUaFZd0DirquNmHJseslh+LyiFFRYo4GKPNWNhgnEsi07VSMbfhlvcSodqwHWM62YAsdCXA6IpkLhugm16pXbkpZReCRQli5v46KMQip1jWyy1oyQlFTY/N/HnnkIYoR+BXCle5FFloU+CsZYKIChiRaXULfoOGsj7W8gUN7NetY+tdPNkEHe2ivxaE3qdv46dYq2b2FUTdqwCQGXSE/pSpdAn1vZkWPTJ3faWFyf+3FMII/Qj0FDarJ9MZBBpDHi2RQ9xxkSpGztM10dvWUIn/f7e9bSlll4pcWersNa6F4XpNocBCDLaYg43a9GL0hR6K4uXCP2OrordEdoW6kcj9CNihH4E3CAu4FXlf5iMq/PoASh1p+6jB1hH/8Vug2pNLRibNKOISrVm0Sc++hQbj8RCz9aXAJBsekLvWxk8VQWhd3PQNDdenW4YDiP0I2AlFkmVS/J6tkW3iscsduNEWujTyqMHWC67l58/He2WWh59YtHXmusm9HWGSZRi7noi9M5W7a9WufRWjZasHJkozropC/0k+OgB2hfBVmPRj4TJox8BJ0hH6DOuTS9JqlwXdlSimGL1SoA19hzW5fZC3CxrCtNTc90k3a7CWhP6Uh82FcHiFIgyLURKyGx7iZKyURPVH2EnCKwsHiUdiO2LK1dOhkUPWuiX/2Fyzj1FMEI/AuWVfU5163oPsOjjOt59ykut1g2AZdl8d5+fMLPJhT8+n55F7yUWfd8oR1aXqJT00k1P6B3HZjNNzGAba9U0Mm6KbqTkzsbvm1zXDeiOVN3rdf+GTHprB2oZ47oZASe59axy27wBPvpta/QDDala9I5tESjoC3QWTmoWfeK6KdXWgqkgjhmUSzSkgGtZLI/mA7BaTSfjpLPWASCIs6Pwe/uFfjLSK6E/8yaOTRi2xwj9CLhJUSa3+hZ9v9DrVLltKp+u0FtCEEYU/IhsSpUrAVzH0W6JGsujV8kdRkotFkGvYF6mFgFwb3QgGTe9f+9wsNB7TZOXetqu37MJyA6Pcd2MgKNiq9GpfjC2R8X/KJ2rAdhGPrUFU6BFJIwUhSAkm6KAuLZFEQ9VYz76chZQmq4b2+LbwVnsv/gAfvr4PrwmrbUOQGAnDcL7dHepyXLbgHbdgAnIjoCx6IchihSuKhFhQ5Xrl1iWULLjxh6x66aLhtE7XU0ijmXhR4pCKUzVJeBYQhG35iz6csygyvGcSjxb6CHHgzPOoZt8qhZ9lFj0pdiin6yMG9DnzrUbi34EjNAPQymM4lKvmbE3S5hAxMkQiKc76gC9km6QybGEMIpqwqIv4NVcCYTkDkOq7OarJOfpG/StvXHf2BQt+jC5C05cN5Np0QPMOkAXNzM9ZofEuG6GoRRGZCkRWuncimcciw57JtO7tI++20pZ6G2LUqCIlErXR29bFJVLzq+tYGyS1y8pWvSNGf29bOjSc2nIpFmOoULoezbBnIMnd8Al5+uuU/91GDTM0CuUnSwcdYlpOcg4LHoRWSAid4vIUyLyhIh8JN7eLiJ/EJHl8eMkX8onBz+IyIpPmNICGM+x2OzNBaBo5dlmVa9M8lDkXIuCH1LwQ3IpCr1jJ43Ka8uiT4Q+rabp0C/s67bpi2BjikKvklr4pW6d+tg4e3IHPOSt8Nqvwoz9dEBcRbB+Gdzwdn2h2cUZz71dAHxCKbUYOBr4gIjsD3wK+JNSam/gT/HvdYe26IuEKaXLeY7FemceAJ3eTOwUb8NBi0hPKaDghylb9NpHLzXnutE+eidNoY9dN+s6+7AE8l5631Mx066fbH1Zi33TJBcGFIGj3wsXXAcX3QLv+D2cfy34PfD83ZM7dh2w05d8pdRaYG38vEtEngLmAWcAJ8eHXQMsBS4d1yxToBRo101U5YybhIxj8WD+JE7s+F+eaToGe0t6gVjQorFhWxHbEtob0vXR9+EiNdZ4RPkFAmXhuOnVo08s+PXbijRnHSTFLK1ipo2SsvHW/jOe3PYW/ZNrtvHIiq34YUQUu9YFrdn6UcrPEUHQ7/HUxTNpyo7hc55ziO4Ot+pB3ZFqF2ZC7u1EZCFwKPAAMCu+CKCUWisiQ5Z+FJFLgEsAdtttt4mYxoSSCL2y0/G5eo7Fk96B8JHH+P1dHdgdG1OZR0Lec+j1A1zLIpOm68bSPnoJa0voKfXQSybVAGilT35MQjiJuLbDBtqY//Lf9IaW+QP2/+rvK7j0psd36ty7tee5+f3HMr1xlLtty9aLqUw2zviFXkQagZuAjyqlto3VilBKXQVcBXDEEUfUXKi8GETkpETkpOMbzzg2xSCEtt0Joo5Uyx+Atuh7iyG2FdHopef79RyhiIeEPanNYSik2Mk2GnDTquqJNg4826IURjRl082zcGxhtZrO/J6n9YZZB5T3vbSph/+49UmO3XMaV5y7hLxr69RhBQqFUqAApVT8qLej4Nn13bzzmr/zqZse54cXHT76XUv7HrBu5y4oU4lx/VWKiIsW+WuVUjfHm9eLyJx4/xxgw/immA5J1o1KaaWjZ1uUggiAIFKp5tCDthZ7SyGdfT4t+fSsRceyKOJi1ZiP3ip10aXyqZWGSGjO6e8mbaF3bYsHov30Ly0LIK999lt7Snzkl//AtYWvn7eEea052ho8WnIuLXmX1rxHW4NHe4PHtMYM0xszzGjKMLMpy8zmLMfvPZ1PvmZf/vjUen74lxe0MTQSbbtDx4pdPu1yPFk3AvwYeEop9Y2KXbcCF8fPLwZu2fnppUfiukkrXc5zLIqx0PthlKpLACDn2vT5IcUgoiWXotDbQqdqwPVrq0eoXdrGNvK4KTWHSZjXpg2TOS3pBYVBB81/GZxCuOBYeNXnAbh3+SZO/H93s2zNNq44d8lOz/Gdxy3ihL2n8+XfP81Bl9/JN//wLGo4IW+aA5EPvVt29q1MCcZz2T8OuBB4XETiiAufAb4CXC8i7wJWAHUZBfHDiKyUUqtdknEqLPpQpdZdKqEh0++XT1PoPdtiM01kSh26BK6VXrygErvURZfK0Z7yBXlWk/ZbL5rekOo8HMtiDdPpuuAWWvO669aXf/8U05sy/ODCw9ln1s43Lrcs4eq3H8k9yzdy08Or+faflnPA3GZefcAQKZxJG9DuddCQXn3+tBlP1s29xAHxITh1Z89bK5SDsWm5biqFPopSdwlUinu6Fr3FFtWMoPSKy4bpqc2lEsfvYhvTUv+eDpzXwp1PrufAeemuu0jubPxQW9odvSWeXLuNf3/NvuMS+QTHtjhlv1mcsPcMnl3fxed/+yQn7jNj+9Tfplj8u9YNiBPsapgSCMNQCiJylJDULHq77LophQonZQGZXXGbnabQu7awRcUt8mplIYxSuKUO7VJKMRgL8KFT9uK+T53CaYur2+d4MMnfaxDpv+En124DYMn8ia1549oWnzvjAFZt7eM7f1q+/QGVQr8LY4R+GEpBqH30KS2AqfTRB2GEm3Iwdl5rf6xi92nVrc9fiWtbbCS2VrvWpjaPAfRuwQu6Walmpu6jFxHmteZSzaEHylliQWzRb+zS6bCzWyY+5nXsntM55/D5/OCeF1i2elDsJsnf7zZCbxgCv1TEEoVV5aYjCRnHKmcU+GH6rpu5rf0XvAVt6Qm9YwnPRAv0L+uXpTaPAWx5HoAX1ezUg+a1QvL36ofaWNncrZunT2/0JmW8z56+mLa8x6U3PUYQjwmAl4dMyy5v0ZuiZsMQlXoBsDPpB2P9UJF1086jd/ivCw5lW8FPNdXTtoSt0kxnZg4tT/0GDn/H5LePK2yD5/+kMzdUFCd2R/0/LyxFITwV7Zb6BblWSJIHgnjJ66buIo4lNE/SQq7WvMcXzjiA9137CB+//lGO3mMarXmXk/aZQUPTLCP0aU+gVgkToffSyV7wHL3wRSlFEKWfXgnwxiVz054CIoJrWdw7792c/sIX4EenwTtvn7x6534f/OhU2PTsiIc9Nu8C1j2ffjC2VnCs7S369gZvUo2E1x00h/ecsIhr/voytz6q+zgctlsrNzXNRrrXT9q49YAR+uGIi1TZKfnoM46FUtqa94P00ytrCccW/tH+ek4/9lC49ly47ZNw1lWTM9jTv9Mif+b3YY+TdTqn2HFBFkv/WA53/XkVPL88dR99rZB8DomPfnNPcfSSBRPAZafvzydevS8dvT43PbKKK+54ho4D2mnremTSx65ljNAPgyrFQp9Jxx/txdkbpTDCj6LUs25qCde2tKW416lw0idh6X/CbsfAfm/QfUktFywHnAyh0hlUfpz9kciwxEWydNEsGdBbRgQsiRugr7gf3AY46NwRe576YYRjSepB0FphcNbNpu4S0ybJPz+YrGszu8XmrMPmccUdz7AyaKata712ue2i348R+mFIys6mJvTxP0rRDwlCVROum1rBtQU/KXd4wifguT/Bbz+qfyroc5r5XOlt/LJ0/E6Nc9C8Fm6Sv+ItOHLUxtZ9KZdvrjWSLLFS0O+jr/YirjktOaY3erxcbObgsKjXXcSlGHY1jNAPQyL0qeXRx6JRCqOytWjQuLaFHweqsV24+Dew/E7d4CL0IQpYtnIzPU/ezpet73PUMUeypf2Q8uvVdsWz4u3xNtB3ATfc9yQ2TxEsPn3Uf5S+Uphq/fdaY7BFv7m7xLSG6lj0lcxrzbHCjxdoda83Qm8YRLnZc3pFzSB2O9TAgqlawrGlnM0BgJuF/d9U/nXlll4uuPMvHDb7BH5S+hhnvfQ5eO19O5ydc7LzOPafI67bOI8LRjm21wj9ACp99L2lgD4/ZHpT9Zv4zGvLsXxVLPRd62Dm4qrPoRYwQj8M5Q5GqVn0sesmiOKiZsaiT3Atq5zNkXDjw6v445Pr2Vbwy6swv3j+sUjXD+Dq18MPToR9XgvHfxQax7Zq9FD1NBEWX/xnIzdsuY+GjINtCY4lTGvI8MFT9mJBu3bt9ZbCcnNuw8A8+iSHPg2Lfm5Ljr88nQObXTrF0piJw74ypEsAAA3ESURBVBHEFn2KZYpBW/RBaIKxlZSDsTH3v7CZf7vhUR5b1UHBDzlh7xlcd8nRWoR3Pxbe8nNomQcPXgXXvBHi1NlRWXk/zDqQd55yEK5t0VMM2NJTYm1ngVsfXcO7rvk7YXxn0VsKjEVfQWUe/aZuvSq2Glk3g5nelGGlX2MrqVPAmCDDYCfNp1MqU5z46ItBiB+Z9MpKHFvKaXsAtz66hgbP5q5/O3nogOjiN+if5++Cn70Z/ng5vP6KkQcpdsGK+7GOfA+fePW+2+2++ZFVfPz6R3lkxVaOXNhObylMvQZ8LVFpqGxKLPoqZd1UMr0xQy9Zgsa5OElbw10Q85c5DFbKrpty1k3ZdWMs+gTXtvqzboBlqzs5bPe20bNe9jwFjn4/3H8lZJqhdTcdzFUK3d4o6n++4gEIS3DAm4c81asPmI1jPcbdT2/gyIXt9JVCZjWn00i+FknaGnYXdUN5gGkpWPTJxaVjzvFMX/473W1q9kFVn0faGKEfBitMWejjPPqCH6JU/0pDQ5xeGfS7btZ0FDhgbvPYXnzq/4XNz8Ffvjb6sUe+BxYcOeSuxozDAXObeejlrQD0+gF546MvkzQq7ykG5cB5Gj766Q364vLUXu/mhNV3wVWvhNMuh2M/VPW5pIn5yxyG1F03sdB3FQIAXMe4bhIcyyqn7RX8kE3dReaOtVuRm4O33qDr1vi9Oh0zWeWKxAtqRB83Sire4bu3c+0DL1MKInqLITnjoy+T92xEtNB3FQOaMk4q6wwSi36VzIEPPAi/+TDc+VmdfbPXaVWfT1oYM3EYrLBAkUxqK+kSoe/s8wHIm8U4ZVzHohT76Nd16gvynNYdvPPKt0PLfGhfBG0LtRundYHe1jJvTPnWRy5soxhEPLaqg629JaanYLHWKiJCg+fQXQyruip2MO3xd7K5u6g7TJ39I5ixH/z6A7D5eSj1QFCCMNAdy6Zob1lj0Q+DExYoWR5peV0zjhb2jl4t9MZa7Me1pFyKdk2nzo6a21r9O6/DF7YBcNuydUQKZk1CrfV6piFj01MM2NxdTMU/D7ocQlPWKQeEcXO6LtKPXgX/ddgIrxTItcHpX4MDz67KXCcTI/TD4ERFfEnvH9cbZNGb5fX9uLZVzrpZ06Et+nk7atFPADObsuzWnud3j+m0vdnNRugracw4dJcCNnYV2WNGej1spzdm2NxT6t8wZwl88EF49k7tvov8eIl0XHY6Ccw/ezv85mOw92smvxT2JGOEfhicqIhvpZdFkQh92aI3Ql/GsYVSYtF3aIt+MjoXjYUjFrZx8yOrAZifYkOWWqQx49BdCFjd0cfxe6fX23dag8emuMNVmbaF8IpLRn7hwuPhp2fAS/fCvq+dtPlVA+OjHwY3KhCmKPSDffTGddNPg+fQW9JB6rWdfUxvzJRdXdXm9IPmADCnJcs+s+rb6ptoZjRlWL6+i95SmModV8K0Ro/NPcXRDxzMgleA7cGKv078pKqMseiHwY2KBHb6rpttfcaiH0xjVluKAKs7CgP62VabUxfP4vp/PYZpjZ4pUTyI+W15/vjUhvh5ekI/vTHDQy9t3fEXujkduF1XIy0rx4ER+mFwVZHITs+v6FiCJbC1V/sWjY++n8aMQ08pJIwUazr62GtGupb0UYt2zYqIo1Ep7gfNn6QOYGNgWmOGLb0lwkhh72gV2Jn7w4v3TM7Eqohx3QyBUgpPFYlStOhFhKasy4bYt2hcN/0kpQa6iwFrO/oGNC431A5HLtQXQNuSVF030xs9lIItlQHZsTJrf+hao2vZ1zFG6IegFEY0UCB007PoQecAdxrXzXYkqy7XdPTRUwpTSa00jM6SBa18+/xDuPNjJ6Y6j2nx6tid8tPP3F8/bnhqAmdUfYzQD0GhFNEofUQpC31r3i0/NwWz+mmMP4tn13cBGIu+hjnjkHnsmbJrbXpjsmhqJyz6ROjXPzGBM6o+RuiHoBCENFBAeen+gbbn9R9ozrXLVqwBmrL6Avj0OiP0htFJFmsl5ZJ3iOa5kGkxFv1UpK/o0yjpC31bvHx7ZnPGZHRUMDPuVHTfc5sAqt6L1FBfjMuiF9F+eiP0U49Sn7YU014Nt1vcvcj45weSdHV6bFUnM5oytOTcUV5h2JVpyblkXYsVW8bYcGYwMxfDhifqug6OEfoh6O3uBMDNjbH07SSxZIFOSUsE36BpzDhlcV+SYtqeoT4QEQ6e38ojK3Yyc2bm/lDohC0vTOzEqogR+iHo2dYBgJdvSXUex+05jS+ccQBfP29JqvOoRV5/0GwA3nzovJRnYqgHTtlvJo+t6uQ/b3uKnmKwYy/e9/VgOfz/9u4+Ror6juP4+3N7dx4chHIcYoELhw8IHFAK9KRES6VtRGKlRo2iNRhtaohYuLRSLLWtaUwMGhtTaxoi5oyPfQDlNKJYY2rTiK2lHqB4YsAgilBiqkh7cA/f/jFz6fVu9piDnZ3d7feVbHZ39rLzuc38vjM7s7/fj8evgo03wTMrYPNq+MPPguERioBf4YvQfuRjAIYMH5lqjvJMGdd9uT7VDIXqp99s4JrGCUwfn+7O2BWH6+fV885HR1j3yh527P+ER248L37nqRHjghEvX30gGA6hox062+H4Z/Dn+2DJkzDpomT/gVPkhT5Cdzhb/JBRY1NO4rKpqsh4kXexVVVkuPeqmcw9cxSrNmznwT/t4ab5Z8V/g2mX9x+u+PhRWH8RbLoZlr0Kw0bnNnQOeaGPcuQgANU1XuidKyVXzhnPy22HuGdLG0MrM4weXkV5mSjPiIpMGeeeMZzauGPnV1YHR/rrvgobboD5q6GuMZiHuMB4oY+gowfpRpRVn552FOdcDknizsums/fwUW7f1L8TVFVFGQ9cO4sFk8fEe8MxU2HRWnhuFTQvgjHTYWlLrBnK8imRQi9pIXAfkAEeNLO7klhPUio+3cc/y2qoyfh+0LlSU1NdyeYVF7D38FH+3dFFZ5fR2W0c6+jizud20fSbVl5Y+ZX4cxzMvh6mLoa256HlFni2Ca5sTm0a0ig5/9WNpAzwK+BiYCqwRNLUXK8nKe3HOzi7fQcHhjekHcU5lxBJnDl6GA1jR/CFus8xe8JI5p1dy/3XzOJ4Zze3/r6VY51d8d9wyEiYuQQu/BG89TT8/dHkwp+EJA5ZG4F3zWwPgKQngcXAW7le0dbHf86Mtl9iQM++U/y3U8P/Pu6/jIjXq9TFOOCzhtW5juucK3ATa6v58SVTWPPUTqbc/jzlmTLKy0TcY/MyJtOsycxuWU7HphV0kqH7BMfTb864jcbLV556+AHIctzbS9IVwEIz+074/DrgPDNb3ufvvgv0zOV1LtCW0yC5UwscTjvESfLs+VesucGzp+VUsk8wsxP+3CeJI/qonV+/vYmZrQPWJbD+nJL0upnNSTvHyfDs+VesucGzpyUf2ZPoGbsfqOv1fDzwYQLrcc45F0MShf6vwDmSJkqqBK4GWhJYj3POuRhyfurGzDolLQdeIPh55UNmVsyj9hf86aUBePb8K9bc4NnTknj2nF+Mdc45V1h89ErnnCtxXuidc67EeaHPQlKTpDcl7ZT0hKSY/aHzT9JDkg5J2tlrWY2kFyXtDu/THXM5iyzZ75b0tqTtkp6SVJCzi0Rl7/XaDySZpNo0sp1ItuySbpHUFm77a9PKN5As28xMSVslvSHpdUmNaWaMIqlO0suSdoWf74pweeJt1Qt9BEnjgO8Bc8xsGsFF5avTTTWgZmBhn2WrgZfM7BzgpfB5IWqmf/YXgWlmNgN4B7gt36FiaqZ/diTVAd8A9uU70CA00ye7pAsJerHPMLMG4J4UcsXRTP/PfS1wh5nNBH4SPi80ncD3zWwKMBe4ORweJvG26oU+u3JgiKRyYCgF3BfAzF4BPu6zeDHwcPj4YeBbeQ0VU1R2M9tiZj3TAG0l6ItRcLJ87gC/AFYR0VGwUGTJvgy4y8yOhX9zKO/BYsiS3YCeuT9HUIDt1cwOmNm28PERYBcwjjy0VS/0EczsA4KjmX3AAeATM9uSbqpBG2NmByDYwIBiHXP5BmBz2iHiknQp8IGZtaad5SRMAi6Q9JqkP0r6UtqBBmElcLek9wnabqF+CwRAUj3wReA18tBWvdBHCM+RLQYmAmOBaknfTjfV/x9Jawi+7j6WdpY4JA0F1hCcOihG5cBIgtMKtwK/lQporN2BLQOazKwOaALWp5wnK0nDgA3ASjP7NB/r9EIf7evAXjP7h5l1ABuBeSlnGqyDkj4PEN4X5NfwbCQtBS4BrrXi6exxFsHBQauk9whOOW2TdEaqqeLbD2y0wF+AboIBt4rBUoJ2CvA7glF0C46kCoIi/5iZ9eRNvK16oY+2D5graWh4RPM1gvNpxaSFYOMnvN+UYpZBCSeu+SFwqZn9K+08cZnZDjM73czqzayeoHDOMrOPUo4W19PAAgBJk4BKimdEyA+B+eHjBcDuFLNECmvJemCXmd3b66Xk26qZ+S3iBtwBvA3sBB4BTks70wBZnyC4ltBBUFxuBEYRXMHfHd7XpJ1zENnfBd4H3ghvv047Z9zsfV5/D6hNO+cgPvdK4NFwm98GLEg75yCynw/8DWglOO89O+2cEbnPJ7hovL3Xtr0oH23Vh0BwzrkS56dunHOuxHmhd865EueF3jnnSpwXeuecK3Fe6J1zrsR5oXfOuRLnhd4550rcfwAiDkqMpncaoQAAAABJRU5ErkJggg==\n",
          "text/plain": "<Figure size 432x288 with 1 Axes>"
         },
         "metadata": {
          "needs_background": "light"
         },
         "output_type": "display_data"
        }
       ]
      }
     },
     "0a15c4a2ec994d6f850b9206e05fb140": {
      "model_module": "@jupyter-widgets/base",
      "model_module_version": "1.1.0",
      "model_name": "LayoutModel",
      "state": {}
     },
     "0a49597ed6d24ee383fc0f7eb3c9fb02": {
      "model_module": "@jupyter-widgets/controls",
      "model_module_version": "1.4.0",
      "model_name": "VBoxModel",
      "state": {
       "_dom_classes": [
        "widget-interact"
       ],
       "children": [
        "IPY_MODEL_8f06b9f3adc347b4acf29e282621e898",
        "IPY_MODEL_ffc288f5367440cd924c04f59db534c7"
       ],
       "layout": "IPY_MODEL_67b155c8e14b42d09d1f02a65e4ceb7e"
      }
     },
     "0ad4f813b9f044e09a6d4fcd9d63e2d9": {
      "model_module": "@jupyter-widgets/base",
      "model_module_version": "1.1.0",
      "model_name": "LayoutModel",
      "state": {}
     },
     "0b26984921ac4abaaf9afc1dbfaf3cbd": {
      "model_module": "@jupyter-widgets/controls",
      "model_module_version": "1.4.0",
      "model_name": "DescriptionStyleModel",
      "state": {
       "description_width": ""
      }
     },
     "0d9ac0eee0014fd79ddbd7869243df96": {
      "model_module": "@jupyter-widgets/base",
      "model_module_version": "1.1.0",
      "model_name": "LayoutModel",
      "state": {}
     },
     "0e4b63b4288d477186ae7d4ae3c15d07": {
      "model_module": "@jupyter-widgets/output",
      "model_module_version": "1.0.0",
      "model_name": "OutputModel",
      "state": {
       "layout": "IPY_MODEL_ddb902c596e24ebbb6c15672e6fafe1b",
       "outputs": [
        {
         "name": "stdout",
         "output_type": "stream",
         "text": "Sauvegarde de tmp/Amphi_111-Vidéo_(Bât_26-_RdC).ics\n"
        },
        {
         "data": {
          "text/html": "<a href='tmp/Amphi_111-Vidéo_(Bât_26-_RdC).ics' target='_blank'>tmp/Amphi_111-Vidéo_(Bât_26-_RdC).ics</a><br>",
          "text/plain": "/Users/bourdon-j/Documents/Developpements/OccupationSalles/tmp/Amphi_111-Vidéo_(Bât_26-_RdC).ics"
         },
         "metadata": {},
         "output_type": "display_data"
        }
       ]
      }
     },
     "0fa0f4f2816d4771814dff0bb4e62fa3": {
      "model_module": "@jupyter-widgets/output",
      "model_module_version": "1.0.0",
      "model_name": "OutputModel",
      "state": {
       "layout": "IPY_MODEL_00e72ef2a1bf4a02947a1b27be2754cb",
       "outputs": [
        {
         "name": "stdout",
         "output_type": "stream",
         "text": "sa TP 33Géol (Bât 14)\n2 matières et  3 groupes\n----- Matières ------\n['Géophysique fondamentale 2 (X22G010)', 'Les bases de la chimie organique descriptive (X21C160)']\n----- Groupes  ------\n['304', '435F', 'PALP-SV']\n---------------------\n"
        }
       ]
      }
     },
     "112418b313e34835986fa466208796d7": {
      "model_module": "@jupyter-widgets/output",
      "model_module_version": "1.0.0",
      "model_name": "OutputModel",
      "state": {
       "layout": "IPY_MODEL_699e327dab2744009886fa8e2186d79e",
       "outputs": [
        {
         "name": "stdout",
         "output_type": "stream",
         "text": "Sauvegarde de tmp/Amphi_112-vidéo_(Bât_26-_RdC).ics\n"
        }
       ]
      }
     },
     "1299d3fd1e7d436eaf9d942ffcd6add5": {
      "model_module": "@jupyter-widgets/output",
      "model_module_version": "1.0.0",
      "model_name": "OutputModel",
      "state": {
       "layout": "IPY_MODEL_07af0879efd54f3abe3cc4feef0602aa",
       "outputs": [
        {
         "name": "stdout",
         "output_type": "stream",
         "text": "salle info 1-vidéo/badge (Bât 2)\n41 matières et  50 groupes\n----- Matières ------\n['Outils de calcul pour les géosciences (X12G030)', 'Initiation informatique pour BGC (X11I020)', 'Fonctionnement des ordinateurs (X12I020)', 'Modélisation pour la Physique 1 (X12P050)', 'Modélisation pour la physique 2 (X22P050)', 'Anglais Scientifique Projet (X22A010)', 'Calcul Scientifique / Matlab (X22SI30)', \"Systèmes d'exploitation (X22I030)\", 'Informatique pour les sciences de la vie (X22B050)', 'Algorithmique et Structures de données 3 (X31I020)', \"Conception et analyse d'algorithmes (X32I090)\", 'Architecture des ordinateurs (X31I050)', 'Programmation fonctionnelle (X32I020)', 'Développement Web (X32I080)', 'Phylogénie (X31B230)', 'Optimisation pour la gestion (X31I080)', 'Théorie et Traitement du Signal (X32EE50)', 'Ouverture Professionnelle - Chimie (X31T030)', 'Biochimie des systèmes cellulaires (X31B050)', 'Test logiciel (X1I1020)', 'Régression linéaire  et logistique (X2MS020)', 'Programmation multi-coeurs (X2I3010)', 'Physique intérieur Terre et planètes (X2TU060)', 'Web des données et des connaissances (X2IM030)', 'Graphes II et Réseaux (X1I2020)', 'Preuves et constructions formelles (X1I1080)', 'Méthode des éléments finis (X2MC040)', 'Statistique en grande dimension (X3MS020)', \"Efficacité énergétique de l'habitat (X3SE070)\", 'Calcul scientifique numérique (X3MA030)', 'Base de données, SAS (X3MS030)', 'Méthodes numériques pour les fluides compressibles (X3MA020)', 'Ingénierie des données (X3IP020)', 'Calcul parallèle (X4MA030)', 'Processus de développement (X4IP100)', 'Modélisation pour la biologie-santé 2 (X4MA020)', 'Etude de cas (X4MS010)', 'Modélisation pour les énergies (X3MA040)', 'Anglais 2 (Mathématiques et Applications) (X3MC010)', 'Advanced algorithmics and programming for biolog. (X3BI010)', 'Informatique pour BGC (XTRI010)']\n----- Groupes  ------\n['650B', 'M2M-IS', '689MIAGE-G', '547O', '102F', '588Q', '103H', '108Q', '522E', 'M1ORO', '116G', '115E', '235F', 'M1ATAL', '522F', '107O', '545', 'M1ALMA', '584I', '118K', '688R', 'M1M-IS', 'M2ENR', 'M2MIAGE-ISI', '685K', '262Z', '250A', '450A', 'M1MACS', '689T', 'M2MACS', '284', '461X', 'M1MIAGE-CL', '502', '510BCM', '481INFO-M', '445K', '114C', '462', '412PECB', 'M2IB', 'M1DS', '235E', 'M1STU', 'TR-1', '584J', 'M1VICO', 'PALP-SPI', '501D']\n---------------------\n"
        }
       ]
      }
     },
     "131e7cff7cc74e2c8d004c3f4d71fd5a": {
      "model_module": "@jupyter-widgets/base",
      "model_module_version": "1.1.0",
      "model_name": "LayoutModel",
      "state": {}
     },
     "13c7713c41124d7e9a2f2324f3a10c6a": {
      "model_module": "@jupyter-widgets/output",
      "model_module_version": "1.0.0",
      "model_name": "OutputModel",
      "state": {
       "layout": "IPY_MODEL_7065f498f39b416698720e8af234f81e",
       "outputs": [
        {
         "data": {
          "image/png": "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\n",
          "text/plain": "<Figure size 432x288 with 1 Axes>"
         },
         "metadata": {
          "needs_background": "light"
         },
         "output_type": "display_data"
        }
       ]
      }
     },
     "13cf782ba40244aca6b19b3117704965": {
      "model_module": "@jupyter-widgets/base",
      "model_module_version": "1.1.0",
      "model_name": "LayoutModel",
      "state": {}
     },
     "1883cfbb581b497486db2a0f4c6bc235": {
      "model_module": "@jupyter-widgets/base",
      "model_module_version": "1.1.0",
      "model_name": "LayoutModel",
      "state": {}
     },
     "188ff76e13684ee5b266f0badaf60aa8": {
      "model_module": "@jupyter-widgets/output",
      "model_module_version": "1.0.0",
      "model_name": "OutputModel",
      "state": {
       "layout": "IPY_MODEL_9f8f1f7aa8fd4e1889e37ec6f934c7af",
       "outputs": [
        {
         "name": "stdout",
         "output_type": "stream",
         "text": "sa TP 33Géol (Bât 14)\n2 matières et  3 groupes\n----- Matières ------\n['Géophysique fondamentale 2 (X22G010)', 'Les bases de la chimie organique descriptive (X21C160)']\n----- Groupes  ------\n['304', 'PALP-SV', '435F']\n---------------------\n"
        }
       ]
      }
     },
     "18e48810a8ae4b80af6c9617cf7f7091": {
      "model_module": "@jupyter-widgets/base",
      "model_module_version": "1.1.0",
      "model_name": "LayoutModel",
      "state": {}
     },
     "1a5b347d6a954d388659361c680398c6": {
      "model_module": "@jupyter-widgets/controls",
      "model_module_version": "1.4.0",
      "model_name": "DropdownModel",
      "state": {
       "_options_labels": [
        "[Exterieur] 01 (LV)",
        "[Exterieur] 015 (LV)",
        "[Exterieur] 02 (LV)",
        "[Exterieur] 040 (LV) - Studio de danse",
        "[Exterieur] 05 (LV)",
        "[Exterieur] 056 (LV)",
        "[Exterieur] 06 (LV)",
        "[Exterieur] 065 (LV)",
        "[Exterieur] 08 (LV)",
        "[Exterieur] 09 (LV)",
        "[Exterieur] 103 (LV)",
        "[Exterieur] 106 (LV)",
        "[Exterieur] 109 (LV)",
        "[Exterieur] 110 (LV)",
        "[Exterieur] 111 (LV)",
        "[Exterieur] 112 (LV)",
        "[Exterieur] 114 (LV)",
        "[Exterieur] 116 (LV)",
        "[Exterieur] 118 (LV)",
        "[Exterieur] 203 (LV)",
        "[Exterieur] 204 (LV)",
        "[Exterieur] 206 (LV)",
        "[Exterieur] 208 (LV)",
        "[Exterieur] 211 (LV)",
        "[Exterieur] 212 (LV)",
        "[Exterieur] 213 (LV)",
        "[Exterieur] 216 (LV)",
        "[Exterieur] 218 (LV)",
        "[Exterieur] 224 (LV)",
        "[Exterieur] 227 (LV)",
        "[Exterieur] 230 (LV)",
        "[Exterieur] 231 (LV)",
        "[Exterieur] 318  info  (Gavy) 14PC",
        "[Exterieur] 326  (Gavy) 27pl",
        "[Exterieur] 328  (Gavy) 90pl",
        "[Exterieur] 330  info  (Gavy) 14PC",
        "[Exterieur] 336 info  (Gavy) 14PC",
        "[Exterieur] 341 Amphi (Gavy) 90pl",
        "[Exterieur] 440 (FLCE)",
        "[Exterieur] 441 (FLCE)",
        "[Exterieur] A101 (IHT) 30pl + Vp (Arronax)",
        "[Exterieur] A102 (IHT) 50pl + Vp (Nemo)",
        "[Exterieur] Amphi - 057 (LV)",
        "[Exterieur] Amphi 1 (Ireste) 350pl + Vp",
        "[Exterieur] Amphi 1 (Isitem) 200pl +Vp (E102)",
        "[Exterieur] Amphi 2 (Ireste) 160pl +Vp",
        "[Exterieur] Amphi 2 (Isitem) 100pl +Vp (E101)",
        "[Exterieur] Amphi B (Gavy)  210pl",
        "[Exterieur] Amphi BONAMY",
        "[Exterieur] Amphi DOBREE",
        "[Exterieur] Amphi GRASLIN",
        "[Exterieur] Amphi PELLOUTIER",
        "[Exterieur] Amphi SAY",
        "[Exterieur] B015 (IHT) 13 PC (info-Village aerien)",
        "[Exterieur] B016 (IHT) 20pl (Volcan d or)",
        "[Exterieur] B017 (Ireste) 13 PC (info)",
        "[Exterieur] B023 (IHT) 20pl + Vp (Archipel en feu)",
        "[Exterieur] B024 (IHT) 20pl + Vp (Etoile du Sud)",
        "[Exterieur] Bias Salle 051",
        "[Exterieur] Bias Salle 052",
        "[Exterieur] Bias Salle 121",
        "[Exterieur] Bias Salle 135 - Réunion",
        "[Exterieur] Bias Salle 161-122",
        "[Exterieur] Bias Salle 162",
        "[Exterieur] Bias Salle 163-164",
        "[Exterieur] Bias Salle 165",
        "[Exterieur] Bias Salle 166",
        "[Exterieur] Bias Salle 167",
        "[Exterieur] Bias Salle 205",
        "[Exterieur] Bias Salle 206",
        "[Exterieur] Bias Salle 207",
        "[Exterieur] Bias Salle 208",
        "[Exterieur] Bias Salle Info 450",
        "[Exterieur] Bias Salle Info 452",
        "[Exterieur] Bias Salle Info 456",
        "[Exterieur] Bias Salle Info 458",
        "[Exterieur] C002 (Censive)",
        "[Exterieur] C002 (IRESTE) 13PC + Vp (info)",
        "[Exterieur] C003 (Ireste) 13PC (info)",
        "[Exterieur] C004 (Censive)",
        "[Exterieur] C008 (Censive)",
        "[Exterieur] C008 (IRESTE) 50pl + VP",
        "[Exterieur] C024 (Censive)",
        "[Exterieur] C027 (Censive)",
        "[Exterieur] C901 (Censive)",
        "[Exterieur] C905 (Censive)",
        "[Exterieur] C906 (Censive)",
        "[Exterieur] D-Amphi Louis Lorvellec (Bât A)",
        "[Exterieur] D004 (Ireste) 65pl + Vp (Cours)",
        "[Exterieur] D010 (Ireste) 48pl + Vp (Cours)",
        "[Exterieur] D013 (Ireste) 110pl + Vp (Cours-Examens)",
        "[Exterieur] E-Amphi (Bât A)",
        "[Exterieur] E202 (Ireste) 36pl + Vp (TD)",
        "[Exterieur] Erdre Salle 112",
        "[Exterieur] Erdre Salle 113",
        "[Exterieur] Erdre Salle 114",
        "[Exterieur] Erdre Salle 123",
        "[Exterieur] Erdre Salle 124",
        "[Exterieur] Erdre Salle 125",
        "[Exterieur] Erdre Salle 126",
        "[Exterieur] Erdre Salle 128",
        "[Exterieur] Erdre Salle 131",
        "[Exterieur] Erdre Salle 237",
        "[Exterieur] Erdre Salle 238",
        "[Exterieur] Erdre Salle 239",
        "[Exterieur] Erdre Salle 241",
        "[Exterieur] Erdre Salle 243",
        "[Exterieur] Erdre Salle 244",
        "[Exterieur] Erdre Salle 246",
        "[Exterieur] Erdre Salle 340",
        "[Exterieur] Fourier (Isitem) 15PC (info E029)",
        "[Exterieur] Laplace (Isitem) 15PC + Vp (Info E023)",
        "[Exterieur] Med 201A",
        "[Exterieur] Med 243",
        "[Exterieur] Med 244",
        "[Exterieur] Med 302",
        "[Exterieur] Med 303",
        "[Exterieur] Med 338",
        "[Exterieur] Med 339",
        "[Exterieur] Med 340",
        "[Exterieur] Med 504",
        "[Exterieur] Med Amphi 2",
        "[Exterieur] Med Amphi 3",
        "[Exterieur] Med Amphi 4",
        "[Exterieur] Med Amphi 5",
        "[Exterieur] Med Amphi 6",
        "[Exterieur] Med Amphi 7",
        "[Exterieur] Med Amphi 8",
        "[Exterieur] Med Salle 241-242 MANIMAL",
        "[Exterieur] Med Salle V.GOURNAY",
        "[Exterieur] Pas de salle",
        "[Exterieur] Salle Manquante",
        "[Exterieur] Salle extérieure",
        "[Exterieur] Salle à définir IAE",
        "[Exterieur] T020 (Isitem) 24pl + Vp (TP Matériaux)",
        "[Exterieur] T034 (Isitem) 12pl (TP/Labo)",
        "[Exterieur] T101 (Tertre)",
        "[Exterieur] T103 (Tertre)",
        "[Exterieur] T114 (Tertre)",
        "[Exterieur] T120 (Tertre)",
        "[Exterieur] T121 (Tertre)",
        "[Exterieur] T123 (Tertre)",
        "[Exterieur] T203 (Tertre)",
        "[Exterieur] T215 (Tertre)",
        "[Exterieur] T216 (Tertre)",
        "[Exterieur] T221 (Tertre)",
        "[Exterieur] Td5 (Isitem) 48pl + Vp (E122)",
        "[Exterieur] Td6 (Isitem) 48pl + Vp (E123)",
        "[Exterieur] Td7 (Isitem) 48pl + Vp (E124)",
        "[Exterieur] Td8 (Isitem) 100pl + Vp (Examen E125)",
        "[Exterieur] salle 925 IMAR",
        "[Exterieur] salle 929 IMAR"
       ],
       "description": "Exterieur : ",
       "index": 134,
       "layout": "IPY_MODEL_f5a80ebbd4784b84a6ad060231932989",
       "style": "IPY_MODEL_0b26984921ac4abaaf9afc1dbfaf3cbd"
      }
     },
     "1af5effdfc2f4588800b9235ba20b2c0": {
      "model_module": "@jupyter-widgets/base",
      "model_module_version": "1.1.0",
      "model_name": "LayoutModel",
      "state": {}
     },
     "1bdcc9e0610a4d67965a5e09b6a626d4": {
      "model_module": "@jupyter-widgets/controls",
      "model_module_version": "1.4.0",
      "model_name": "VBoxModel",
      "state": {
       "_dom_classes": [
        "widget-interact"
       ],
       "children": [
        "IPY_MODEL_f86b2947ea5c4b7e9d3170298a673040",
        "IPY_MODEL_13c7713c41124d7e9a2f2324f3a10c6a"
       ],
       "layout": "IPY_MODEL_9e1abe71797d4be08a5375168d8f8ede"
      }
     },
     "1f570c6d120743d19e135243bae3e5a5": {
      "model_module": "@jupyter-widgets/controls",
      "model_module_version": "1.4.0",
      "model_name": "DropdownModel",
      "state": {
       "_options_labels": [
        "sa TD 006 PECB-sans vidéo (Bât 5)",
        "sa TD 01 (Bât 1-Admin)",
        "sa TD 02 (Bât 1-Admin)",
        "sa TD 03 (Bât 1-Admin)",
        "sa TD 04 (Bât 1-Admin)",
        "sa TD 05 (Bât 1-Admin)",
        "sa TD 06 (Bât 1-Admin)",
        "sa TD 07 (Bât 1-Admin)",
        "sa TD 08 (Bât 1-Admin)",
        "sa TD 09 (Bât 1-Admin)",
        "sa TD 10 (Bât 1-Admin)",
        "sa TD 100 (Bât 26- RdC)",
        "sa TD 110- sans vidéo (Bât 26- RdC)",
        "sa TD 117 (Bât 26- RdC)",
        "sa TD 119-Manuf.Projets (Bât 26- RdC)",
        "sa TD 12 (Bât 1-Admin)",
        "sa TD 13 (Bât 1-Admin)",
        "sa TD 14 (Bât 1-Admin)",
        "sa TD 15 (Bât 1-Admin)",
        "sa TD 18-sans vidéo (Bât 13)",
        "sa TD 20 (Bât 18-B U)",
        "sa TD 200-îlot (Bât 26- 1er ét.)",
        "sa TD 201-anglais/badge (Bât 26- 1er ét.)",
        "sa TD 206-anglais/Badge (Bât 26- 1er ét.)",
        "sa TD 207-Studio Crs/Badge (Bât 26- 1er ét.)",
        "sa TD 208-îlot (Bât 26- 1er ét.)",
        "sa TD 209-îlot (Bât 26- 1er ét.)",
        "sa TD 21 (Bât 18-B U)",
        "sa TD 210-îlot (Bât 26- 1er ét.)",
        "sa TD 211 (Bât 26- 1er ét.)",
        "sa TD 212 (Bât 26- 1er ét.)",
        "sa TD 213 (Bât 26- 1er ét.)",
        "sa TD 214 (Bât 26- 1er ét.)",
        "sa TD 215 (Bât 26- 1er ét.)",
        "sa TD 22 (Bât 18-B U)",
        "sa TD 23 (Bât 18-B U)",
        "sa TD 24 (Bât 18-B U)",
        "sa TD 25 (Bât 18-B U)",
        "sa TD 26 (Bât 18-B U)",
        "sa TD 27 (Bât 18-B U)",
        "sa TD 28 (Bât 18-B U)",
        "sa TD 29 (Bât 18-B U)",
        "sa TD 30-sans vidéo (Bât 5)",
        "sa TD 41 (Bât 14)",
        "sa TD 43 (Bât 14)",
        "sa TD 45 (Bât 14)",
        "sa TD 48 (Bât 14)",
        "sa TD B (Bât 1-Admin)",
        "sa TD D (Bât 1-Admin)",
        "sa TD E (Bât 1-Admin)",
        "sa TD U1-Studio Crs/Badge (Bât 2)",
        "sa TD U5 (Bât 2)",
        "sa TD U6 (Bât 2)",
        "sa TD U7-ilôt/Badge (Bât 2)",
        "sa TD U8-ilôt/Badge (Bât 2)"
       ],
       "description": "TD : ",
       "index": 0,
       "layout": "IPY_MODEL_c5c2e21f71a54eab99a91781a3a9a331",
       "style": "IPY_MODEL_bd96e7c854964af193f8548ed3a7a07f"
      }
     },
     "1f85fefe9b554355995cf702613f39e5": {
      "model_module": "@jupyter-widgets/base",
      "model_module_version": "1.1.0",
      "model_name": "LayoutModel",
      "state": {}
     },
     "2108ba7aa1c041a6867489b33db01119": {
      "model_module": "@jupyter-widgets/base",
      "model_module_version": "1.1.0",
      "model_name": "LayoutModel",
      "state": {}
     },
     "221106c8d2d14ea69cf0b54180da7796": {
      "model_module": "@jupyter-widgets/base",
      "model_module_version": "1.1.0",
      "model_name": "LayoutModel",
      "state": {}
     },
     "22831899499b442682010d3ccdf05a9d": {
      "model_module": "@jupyter-widgets/controls",
      "model_module_version": "1.4.0",
      "model_name": "DescriptionStyleModel",
      "state": {
       "description_width": ""
      }
     },
     "22a05cd978fc49cfac8bc0d9733eabbc": {
      "model_module": "@jupyter-widgets/controls",
      "model_module_version": "1.4.0",
      "model_name": "DescriptionStyleModel",
      "state": {
       "description_width": ""
      }
     },
     "2407a782bbac4645bd481a860f8fb657": {
      "model_module": "@jupyter-widgets/output",
      "model_module_version": "1.0.0",
      "model_name": "OutputModel",
      "state": {
       "layout": "IPY_MODEL_d112f85654b94e73b4010021745a0acc",
       "outputs": [
        {
         "data": {
          "image/png": "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\n",
          "text/plain": "<Figure size 432x288 with 1 Axes>"
         },
         "metadata": {
          "needs_background": "light"
         },
         "output_type": "display_data"
        }
       ]
      }
     },
     "2458c729564343a181d89729e388c047": {
      "model_module": "@jupyter-widgets/output",
      "model_module_version": "1.0.0",
      "model_name": "OutputModel",
      "state": {
       "layout": "IPY_MODEL_a87cd4e6991a4ca9be4414ca85fb1f83",
       "outputs": [
        {
         "name": "stdout",
         "output_type": "stream",
         "text": "Sauvegarde de tmp/Amphi_111-Vidéo_(Bât_26-_RdC).ics\n"
        },
        {
         "data": {
          "text/html": "<a href='tmp/Amphi_111-Vidéo_(Bât_26-_RdC).ics' target='_blank'>tmp/Amphi_111-Vidéo_(Bât_26-_RdC).ics</a><br>",
          "text/plain": "/Users/bourdon-j/Documents/Developpements/OccupationSalles/tmp/Amphi_111-Vidéo_(Bât_26-_RdC).ics"
         },
         "metadata": {},
         "output_type": "display_data"
        }
       ]
      }
     },
     "264a25edc3ed432dbcd570265a9d0323": {
      "model_module": "@jupyter-widgets/controls",
      "model_module_version": "1.4.0",
      "model_name": "DescriptionStyleModel",
      "state": {
       "description_width": ""
      }
     },
     "277ad4e7d1064bc6a745962a5039fc8d": {
      "model_module": "@jupyter-widgets/controls",
      "model_module_version": "1.4.0",
      "model_name": "VBoxModel",
      "state": {
       "_dom_classes": [
        "widget-interact"
       ],
       "children": [
        "IPY_MODEL_33345fa67c294f1384a95b780f9f708e",
        "IPY_MODEL_388a0c2ae3ab413caeb0b26c0441cd3b"
       ],
       "layout": "IPY_MODEL_5fa4a0cdf32e4ac68d8cbb4689062932"
      }
     },
     "286e106cc47e40dc8349ff22bc8b94d8": {
      "model_module": "@jupyter-widgets/base",
      "model_module_version": "1.1.0",
      "model_name": "LayoutModel",
      "state": {}
     },
     "297177a336ab4c52a6c63abf6e5b2ebb": {
      "model_module": "@jupyter-widgets/controls",
      "model_module_version": "1.4.0",
      "model_name": "DescriptionStyleModel",
      "state": {
       "description_width": ""
      }
     },
     "297c6ae79bc64e459cfa04025f9f51e4": {
      "model_module": "@jupyter-widgets/controls",
      "model_module_version": "1.4.0",
      "model_name": "DescriptionStyleModel",
      "state": {
       "description_width": ""
      }
     },
     "298a43527fd440e1bfe069acde44c7f3": {
      "model_module": "@jupyter-widgets/output",
      "model_module_version": "1.0.0",
      "model_name": "OutputModel",
      "state": {
       "layout": "IPY_MODEL_f44e1e38900f423fad1a34a1cf1e7817",
       "outputs": [
        {
         "name": "stdout",
         "output_type": "stream",
         "text": "[Exterieur] 01 (LV)\n1 matières et  4 groupes\n----- Matières ------\n[\"Découverte des disciplines de l'école primaire (X32EP20)\"]\n----- Groupes  ------\n['649EEP', '659EEP', '639EEP', '619EEP']\n---------------------\n"
        }
       ]
      }
     },
     "2bcb6e43b7334c61b95e24b71e46853a": {
      "model_module": "@jupyter-widgets/output",
      "model_module_version": "1.0.0",
      "model_name": "OutputModel",
      "state": {
       "layout": "IPY_MODEL_a843621e98194e469809f60d945966b9",
       "outputs": [
        {
         "name": "stdout",
         "output_type": "stream",
         "text": "sa TD U8-ilôt/Badge (Bât 2)\n86 matières et  160 groupes\n----- Matières ------\n['Base de logique numérique (X11P020)', 'Algèbre vectorielle et géométrie (X12M020)', 'Méthodo Travail Univ et Outils Numériques (X11T010)', 'Mécanique du point matériel 2 (X12P010)', 'Mécanique du point matériel 1 (X11P012)', 'Chimie : atome, liaison, molécule (X11C010)', 'Outils de calcul pour les sciences (X11T020)', 'Electricité (X11P011)', 'Anglais Général Projet (X12A020)', 'Thermodynamique 1 - Intro à la thermodynamique (X12P020)', 'Mathématiques 1 (X11M010)', 'Bases de données 1 (X12I030)', 'Physique appliquée 1 (X11X012)', 'Mathématiques BGC (X11X011)', 'Informatique (X11I010)', \"Fonctions d'une variable réelle (X12M010)\", 'Anglais Général (X11A010)', 'Compléments Mathématiques et Informatiques (X11X020)', 'Initiation informatique pour BGC (X11I020)', 'Métiers Physique - collectif (X21T041)', 'Comprendre, communiquer et évoluer en entreprise (X22LP10)', 'Construire son projet de LP - collectif (X21LP11)', 'Programmation Orientée Objets (X21I030)', 'Métiers Info - collectif (X21T071)', 'Métiers SVT PPE - collectif (X21T021)', 'Analyse de données expérim. appliquée à la chimie (X21C070)', 'Anglais scientifique général (X21A010)', \"Cristallochimie, diagrammes de changements d'état (X21C010)\", 'Métiers SV PPE - collectif (X21T011)', 'Biologie Cellulaire  2 et Immunologie 1 (X22B010)', 'Anglais Scientifique Projet (X22A010)', 'Electromagnétisme 1 (X21P010)', 'Agronomie, Alimentation et Santé (X22B080)', 'Métiers Chimie PPE - collectif (X21T031)', 'Chimie Organique (X21C040)', 'Algèbre linéaire pour PC (X21M100)', 'Thermodynamique Chimique (X21C030)', 'Biologie Cel. & Molécul. du Développement (X22B060)', 'Optique géométrique et ondulatoire (X21P020)', 'Équilibres chimiques en solution aqueuse (X21C020)', 'Physique Moderne 1 (X22P020)', 'Biologie Moléculaire pour les Biotechnologies (X22B031)', 'Oxydoréduction inorganique (X22C010)', 'Biologie Moléculaire 1 (X21B010)', \"Biochimie pour l'écologie (X21B170)\", 'Métiers SV PPE - tutorat (X21T012)', 'Géophysique Fondamentale 1 (X21G030)', 'Electronique 1 (X21SI20)', 'Métiers Info - tutorat (X21T072)', 'Mécanique du point pour les mathématiques (X21P090)', 'Thermodynamique 2 : Syst ouverts et chang. phases (X21P050)', 'Electronique Numérique (X22SI10)', 'Electronique (X22P030)', 'Algorithmique et Structures de données 2 (X22I020)', 'Biochimie2 Enzymologie-Métabolisme (X21B030)', \"Connaissance de l'entreprise (X21I050)\", 'Cinétique Chimique et Chimie Organique (X22C090)', 'Création numérique & Algorithmique numérique (X22I050)', \"Logique pour l'informatique (X22I010)\", 'Anglais pour la communication scientifique (SVT) (X31A020)', 'Anglais pour la communication scientifique (X31A030)', 'Mécanique Quantique (X31P020)', 'Anglais professionnel SV (X32A010)', 'Anglais pour la communication scientifique (SV) (X31A010)', 'Conference Program (X32A100)', 'Anglais professionnel SVT (X32A020)', 'Thermodyn. systèmes physiques et approche stat. (X32P011)', 'Biologie Moléculaire 2 : Régulat° expression gènes (X31B030)', 'Anglais Professionnel Maths (X32A050)', 'Anglais pour la communication scientifique (Phys) (X31A040)', 'Anglais Scientifique et Certification (X31A100)', 'Biochimie des systèmes cellulaires (X31B050)', 'Algorithmique et Structures de données 3 (X31I020)', 'Ouverture professionnelle - Informatique (X31T060)', 'Ouverture Professionnelle - Chimie (X31T030)', 'Géophysique appliquée 2 (X32G012)', 'Ouverture  professionnelle - SVT (X31T020)', 'Biologie Cellulaire 3 Immunologie 2 (X31B020)', 'Cancérologie (X2BS040)', 'Génie-Génétique (X1BS020)', 'Hétéroélements (X1CM035)', 'Analyse des systèmes mécaniques (X1PM040)', 'Référentiels Professionnelles et Qualité (X3IP050)', \"Sécurité du Système d'information (X3IP040)\", 'Biologie des systèmes :  réseaux biologiques (X3BG010)', 'Compétences du XXIe siècle (XA1T050)']\n----- Groupes  ------\n['547O', '350A', '162', '146', '535', '460PM', '605', '402', 'M1CMT', '376', '325', 'M1SB-TDC1', '302F', '638MEEF', '286', '335', '401', '384', '555', 'PALP-BE', '104', '347', '361PSR', '562', '502', '276', '456M', '327', '441', '250B', '355', '455L', '380OPTIM', '303', '301', '148', '321', '346', 'M2GGBS', '171', '165', '260U', '346M', '355L', '658', '421', '145', '500', '435F', '320A', '374', '510ABT', '370A', '580OPTIM', '340', '268PEIP', '559EEP', '251', '400', 'PALP-PH', '147', '163', 'PALP-SV', '446', '167PEIP', '326', '381C', '103', '386', '374I', 'PALP-INFO', '116', '585', '639M', '117', '173', '160CMI', '545', '161PSR', '310ABT', '300', '356', '263', '547', '385', '535E', '558', '302E', 'M1MFS', '347O', 'PALP-CH', '381INFO-M', '108', '386M', '647', 'PALP-STU', '510BCM', '169PEIP', '504', '600', '360U', '501', '462', '170', '375', '207', '458', '570IS', '305', '345', 'M1SB-TD2', '360PM', '262', 'PALP-SPI', '113', '540', '241', '675', 'M2MIAGE', '606', '486', '604', '269PEIP', '635F', '450SPI', '306M', '275', '375L', '505', '610ABT', '963', '115', '635E', 'TR-3', '341D', '172', '380A', '250A', '267PEIP', '403', '168PEIP', '405', '422E', '524I', '622', '581INFO-M', '461PSR', '455', '350B', '312Y', '539EEP', '635', '447', '362', '166', 'TR-1', '485', '320B', '549EEP', '341']\n---------------------\n"
        }
       ]
      }
     },
     "2e00f94a73ec46c698218748ef244b3f": {
      "model_module": "@jupyter-widgets/base",
      "model_module_version": "1.1.0",
      "model_name": "LayoutModel",
      "state": {}
     },
     "2e4a27d4ec6f485696293243122bf79b": {
      "model_module": "@jupyter-widgets/base",
      "model_module_version": "1.1.0",
      "model_name": "LayoutModel",
      "state": {}
     },
     "2ff3ddd5eebc44e9a4f2daa574877502": {
      "model_module": "@jupyter-widgets/output",
      "model_module_version": "1.0.0",
      "model_name": "OutputModel",
      "state": {
       "layout": "IPY_MODEL_997a08868a5d4da9867378e920f8815f",
       "outputs": [
        {
         "data": {
          "image/png": "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\n",
          "text/plain": "<Figure size 432x288 with 1 Axes>"
         },
         "metadata": {
          "needs_background": "light"
         },
         "output_type": "display_data"
        }
       ]
      }
     },
     "306fa06b6c174d1386825e4441888c85": {
      "model_module": "@jupyter-widgets/controls",
      "model_module_version": "1.4.0",
      "model_name": "DropdownModel",
      "state": {
       "_options_labels": [
        "sa TP 33Géol (Bât 14)",
        "sa TP 34Geol-vidéo (Bât 14)",
        "sa TP 35Geol-vidéo (Bât 14)",
        "sa TP 36Geol-vidéo (Bât 14)",
        "sa TP 38Geol-vidéo (Bât 14)",
        "sa TP 65Geol-vidéo (Bât 13)",
        "sa TP Automatique 59 (Bât 14)",
        "sa TP B1 Bio animale L2-vidéo (Bât 6)",
        "sa TP B2 Bio animale L1-vidéo (Bât 6)",
        "sa TP B3 Taxo-Ecologie (Bât 6)",
        "sa TP B5 Biocell-Immuno (Bât 13)",
        "sa TP Bio animale 32-vidéo (Bât 5)",
        "sa TP Bio végétale-vidéo (Bât 5)",
        "sa TP Biocell  110-vidéo (Bât 5)",
        "sa TP Bioch A (Bât 13)",
        "sa TP Bioch B (Bât 13)",
        "sa TP Bioch-biomol (Bât 2)",
        "sa TP Biotech-biomol (Bât 2)",
        "sa TP Ch Générale A (Bât 12)",
        "sa TP Ch Générale B (Bât 12)",
        "sa TP Ch Orga 1 (Bât 2)",
        "sa TP Ch Orga 2 (Bât 2)",
        "sa TP Ch Organique E (Bât 12)",
        "sa TP Ch Organique F (Bât 12)",
        "sa TP Ch inorganique C (Bât 12)",
        "sa TP Ch inorganique D (Bât 12)",
        "sa TP Ch organique G (Bât 12)",
        "sa TP Ch- Phys 1 (Bât 2)",
        "sa TP Ch- Phys 2 (Bât 2)",
        "sa TP Ecologie-vidéo (Bât 5)",
        "sa TP Electro 61 (Bât 14)",
        "sa TP Info indus 57 (Bât 14)",
        "sa TP Microbio (Bât 2)",
        "sa TP Méca 37bis (Bât 14)",
        "sa TP Optoélectr 55 (Bât 14)",
        "sa TP Phys 50 (Bât 14)",
        "sa TP Phys BGC (Bât 13)",
        "sa TP Phys CAPES  60 (Bât 14)",
        "sa TP Phys MIPC A (Bât 13)",
        "sa TP Phys MIPC B (Bât 13)",
        "sa TP Phys nucléaire (Bât 12)",
        "sa TP Phys solide 54 (Bât 14)",
        "sa TP Physio animale113 (Bât 26- RdC)",
        "sa TP Physio animale115 (Bât 26- RdC)",
        "sa TP Physio patho Végétale (Bât 2)",
        "sa TP Physio végétale (Bât 5)",
        "sa TP Thermo 35bis (Bât 14)",
        "sa TP Thermo 38bis (Bât 14)",
        "salle TP Projets L1-L2 (Bât 13)"
       ],
       "description": "TP : ",
       "index": 0,
       "layout": "IPY_MODEL_2e4a27d4ec6f485696293243122bf79b",
       "style": "IPY_MODEL_5f9b94eff7ec436fabee87ce122a5492"
      }
     },
     "31735e3eee6343678745df8657dd9783": {
      "model_module": "@jupyter-widgets/controls",
      "model_module_version": "1.4.0",
      "model_name": "DropdownModel",
      "state": {
       "_options_labels": [
        "Amphi 111-Vidéo (Bât 26- RdC)",
        "Amphi 112-vidéo (Bât 26- RdC)",
        "Amphi 121-vidéo (Bât 26- RdC)",
        "Amphi A (Bât 1-Admin)",
        "Amphi B (Bât 1-Admin)",
        "Amphi C (Bât 1-Admin)",
        "Amphi D (Bât 1-Admin)",
        "Amphi E (Bât 1-Admin)",
        "Amphi F (Bât 28)",
        "Amphi G (Bât 28)",
        "Amphi H (Bât 28)",
        "Amphi PASTEUR (Bât 2)",
        "Salle Multimédia 1 et 2 (Bât 2)",
        "[Exterieur] 01 (LV)",
        "[Exterieur] 015 (LV)",
        "[Exterieur] 02 (LV)",
        "[Exterieur] 040 (LV) - Studio de danse",
        "[Exterieur] 05 (LV)",
        "[Exterieur] 056 (LV)",
        "[Exterieur] 06 (LV)",
        "[Exterieur] 065 (LV)",
        "[Exterieur] 08 (LV)",
        "[Exterieur] 09 (LV)",
        "[Exterieur] 103 (LV)",
        "[Exterieur] 106 (LV)",
        "[Exterieur] 109 (LV)",
        "[Exterieur] 110 (LV)",
        "[Exterieur] 111 (LV)",
        "[Exterieur] 112 (LV)",
        "[Exterieur] 114 (LV)",
        "[Exterieur] 116 (LV)",
        "[Exterieur] 118 (LV)",
        "[Exterieur] 203 (LV)",
        "[Exterieur] 204 (LV)",
        "[Exterieur] 206 (LV)",
        "[Exterieur] 208 (LV)",
        "[Exterieur] 211 (LV)",
        "[Exterieur] 212 (LV)",
        "[Exterieur] 213 (LV)",
        "[Exterieur] 216 (LV)",
        "[Exterieur] 218 (LV)",
        "[Exterieur] 224 (LV)",
        "[Exterieur] 227 (LV)",
        "[Exterieur] 230 (LV)",
        "[Exterieur] 231 (LV)",
        "[Exterieur] 318  info  (Gavy) 14PC",
        "[Exterieur] 326  (Gavy) 27pl",
        "[Exterieur] 328  (Gavy) 90pl",
        "[Exterieur] 330  info  (Gavy) 14PC",
        "[Exterieur] 336 info  (Gavy) 14PC",
        "[Exterieur] 341 Amphi (Gavy) 90pl",
        "[Exterieur] 440 (FLCE)",
        "[Exterieur] 441 (FLCE)",
        "[Exterieur] A101 (IHT) 30pl + Vp (Arronax)",
        "[Exterieur] A102 (IHT) 50pl + Vp (Nemo)",
        "[Exterieur] Amphi - 057 (LV)",
        "[Exterieur] Amphi 1 (Ireste) 350pl + Vp",
        "[Exterieur] Amphi 1 (Isitem) 200pl +Vp (E102)",
        "[Exterieur] Amphi 2 (Ireste) 160pl +Vp",
        "[Exterieur] Amphi 2 (Isitem) 100pl +Vp (E101)",
        "[Exterieur] Amphi B (Gavy)  210pl",
        "[Exterieur] Amphi BONAMY",
        "[Exterieur] Amphi DOBREE",
        "[Exterieur] Amphi GRASLIN",
        "[Exterieur] Amphi PELLOUTIER",
        "[Exterieur] Amphi SAY",
        "[Exterieur] B015 (IHT) 13 PC (info-Village aerien)",
        "[Exterieur] B016 (IHT) 20pl (Volcan d or)",
        "[Exterieur] B017 (Ireste) 13 PC (info)",
        "[Exterieur] B023 (IHT) 20pl + Vp (Archipel en feu)",
        "[Exterieur] B024 (IHT) 20pl + Vp (Etoile du Sud)",
        "[Exterieur] Bias Salle 051",
        "[Exterieur] Bias Salle 052",
        "[Exterieur] Bias Salle 121",
        "[Exterieur] Bias Salle 135 - Réunion",
        "[Exterieur] Bias Salle 161-122",
        "[Exterieur] Bias Salle 162",
        "[Exterieur] Bias Salle 163-164",
        "[Exterieur] Bias Salle 165",
        "[Exterieur] Bias Salle 166",
        "[Exterieur] Bias Salle 167",
        "[Exterieur] Bias Salle 205",
        "[Exterieur] Bias Salle 206",
        "[Exterieur] Bias Salle 207",
        "[Exterieur] Bias Salle 208",
        "[Exterieur] Bias Salle Info 450",
        "[Exterieur] Bias Salle Info 452",
        "[Exterieur] Bias Salle Info 456",
        "[Exterieur] Bias Salle Info 458",
        "[Exterieur] C002 (Censive)",
        "[Exterieur] C002 (IRESTE) 13PC + Vp (info)",
        "[Exterieur] C003 (Ireste) 13PC (info)",
        "[Exterieur] C004 (Censive)",
        "[Exterieur] C008 (Censive)",
        "[Exterieur] C008 (IRESTE) 50pl + VP",
        "[Exterieur] C024 (Censive)",
        "[Exterieur] C027 (Censive)",
        "[Exterieur] C901 (Censive)",
        "[Exterieur] C905 (Censive)",
        "[Exterieur] C906 (Censive)",
        "[Exterieur] D-Amphi Louis Lorvellec (Bât A)",
        "[Exterieur] D004 (Ireste) 65pl + Vp (Cours)",
        "[Exterieur] D010 (Ireste) 48pl + Vp (Cours)",
        "[Exterieur] D013 (Ireste) 110pl + Vp (Cours-Examens)",
        "[Exterieur] E-Amphi (Bât A)",
        "[Exterieur] E202 (Ireste) 36pl + Vp (TD)",
        "[Exterieur] Erdre Salle 112",
        "[Exterieur] Erdre Salle 113",
        "[Exterieur] Erdre Salle 114",
        "[Exterieur] Erdre Salle 123",
        "[Exterieur] Erdre Salle 124",
        "[Exterieur] Erdre Salle 125",
        "[Exterieur] Erdre Salle 126",
        "[Exterieur] Erdre Salle 128",
        "[Exterieur] Erdre Salle 131",
        "[Exterieur] Erdre Salle 237",
        "[Exterieur] Erdre Salle 238",
        "[Exterieur] Erdre Salle 239",
        "[Exterieur] Erdre Salle 241",
        "[Exterieur] Erdre Salle 243",
        "[Exterieur] Erdre Salle 244",
        "[Exterieur] Erdre Salle 246",
        "[Exterieur] Erdre Salle 340",
        "[Exterieur] Fourier (Isitem) 15PC (info E029)",
        "[Exterieur] Laplace (Isitem) 15PC + Vp (Info E023)",
        "[Exterieur] Med 201A",
        "[Exterieur] Med 243",
        "[Exterieur] Med 244",
        "[Exterieur] Med 302",
        "[Exterieur] Med 303",
        "[Exterieur] Med 338",
        "[Exterieur] Med 339",
        "[Exterieur] Med 340",
        "[Exterieur] Med 504",
        "[Exterieur] Med Amphi 2",
        "[Exterieur] Med Amphi 3",
        "[Exterieur] Med Amphi 4",
        "[Exterieur] Med Amphi 5",
        "[Exterieur] Med Amphi 6",
        "[Exterieur] Med Amphi 7",
        "[Exterieur] Med Amphi 8",
        "[Exterieur] Med Salle 241-242 MANIMAL",
        "[Exterieur] Med Salle V.GOURNAY",
        "[Exterieur] Pas de salle",
        "[Exterieur] Salle Manquante",
        "[Exterieur] Salle extérieure",
        "[Exterieur] Salle à définir IAE",
        "[Exterieur] T020 (Isitem) 24pl + Vp (TP Matériaux)",
        "[Exterieur] T034 (Isitem) 12pl (TP/Labo)",
        "[Exterieur] T101 (Tertre)",
        "[Exterieur] T103 (Tertre)",
        "[Exterieur] T114 (Tertre)",
        "[Exterieur] T120 (Tertre)",
        "[Exterieur] T121 (Tertre)",
        "[Exterieur] T123 (Tertre)",
        "[Exterieur] T203 (Tertre)",
        "[Exterieur] T215 (Tertre)",
        "[Exterieur] T216 (Tertre)",
        "[Exterieur] T221 (Tertre)",
        "[Exterieur] Td5 (Isitem) 48pl + Vp (E122)",
        "[Exterieur] Td6 (Isitem) 48pl + Vp (E123)",
        "[Exterieur] Td7 (Isitem) 48pl + Vp (E124)",
        "[Exterieur] Td8 (Isitem) 100pl + Vp (Examen E125)",
        "[Exterieur] salle 925 IMAR",
        "[Exterieur] salle 929 IMAR",
        "sa TD 006 PECB-sans vidéo (Bât 5)",
        "sa TD 01 (Bât 1-Admin)",
        "sa TD 02 (Bât 1-Admin)",
        "sa TD 03 (Bât 1-Admin)",
        "sa TD 04 (Bât 1-Admin)",
        "sa TD 05 (Bât 1-Admin)",
        "sa TD 06 (Bât 1-Admin)",
        "sa TD 07 (Bât 1-Admin)",
        "sa TD 08 (Bât 1-Admin)",
        "sa TD 09 (Bât 1-Admin)",
        "sa TD 10 (Bât 1-Admin)",
        "sa TD 100 (Bât 26- RdC)",
        "sa TD 110- sans vidéo (Bât 26- RdC)",
        "sa TD 117 (Bât 26- RdC)",
        "sa TD 119-Manuf.Projets (Bât 26- RdC)",
        "sa TD 12 (Bât 1-Admin)",
        "sa TD 13 (Bât 1-Admin)",
        "sa TD 14 (Bât 1-Admin)",
        "sa TD 15 (Bât 1-Admin)",
        "sa TD 18-sans vidéo (Bât 13)",
        "sa TD 20 (Bât 18-B U)",
        "sa TD 200-îlot (Bât 26- 1er ét.)",
        "sa TD 201-anglais/badge (Bât 26- 1er ét.)",
        "sa TD 206-anglais/Badge (Bât 26- 1er ét.)",
        "sa TD 207-Studio Crs/Badge (Bât 26- 1er ét.)",
        "sa TD 208-îlot (Bât 26- 1er ét.)",
        "sa TD 209-îlot (Bât 26- 1er ét.)",
        "sa TD 21 (Bât 18-B U)",
        "sa TD 210-îlot (Bât 26- 1er ét.)",
        "sa TD 211 (Bât 26- 1er ét.)",
        "sa TD 212 (Bât 26- 1er ét.)",
        "sa TD 213 (Bât 26- 1er ét.)",
        "sa TD 214 (Bât 26- 1er ét.)",
        "sa TD 215 (Bât 26- 1er ét.)",
        "sa TD 22 (Bât 18-B U)",
        "sa TD 23 (Bât 18-B U)",
        "sa TD 24 (Bât 18-B U)",
        "sa TD 25 (Bât 18-B U)",
        "sa TD 26 (Bât 18-B U)",
        "sa TD 27 (Bât 18-B U)",
        "sa TD 28 (Bât 18-B U)",
        "sa TD 29 (Bât 18-B U)",
        "sa TD 30-sans vidéo (Bât 5)",
        "sa TD 41 (Bât 14)",
        "sa TD 43 (Bât 14)",
        "sa TD 45 (Bât 14)",
        "sa TD 48 (Bât 14)",
        "sa TD B (Bât 1-Admin)",
        "sa TD D (Bât 1-Admin)",
        "sa TD E (Bât 1-Admin)",
        "sa TD U1-Studio Crs/Badge (Bât 2)",
        "sa TD U5 (Bât 2)",
        "sa TD U6 (Bât 2)",
        "sa TD U7-ilôt/Badge (Bât 2)",
        "sa TD U8-ilôt/Badge (Bât 2)",
        "sa TP 33Géol (Bât 14)",
        "sa TP 34Geol-vidéo (Bât 14)",
        "sa TP 35Geol-vidéo (Bât 14)",
        "sa TP 36Geol-vidéo (Bât 14)",
        "sa TP 38Geol-vidéo (Bât 14)",
        "sa TP 65Geol-vidéo (Bât 13)",
        "sa TP Automatique 59 (Bât 14)",
        "sa TP B1 Bio animale L2-vidéo (Bât 6)",
        "sa TP B2 Bio animale L1-vidéo (Bât 6)",
        "sa TP B3 Taxo-Ecologie (Bât 6)",
        "sa TP B5 Biocell-Immuno (Bât 13)",
        "sa TP Bio animale 32-vidéo (Bât 5)",
        "sa TP Bio végétale-vidéo (Bât 5)",
        "sa TP Biocell  110-vidéo (Bât 5)",
        "sa TP Bioch A (Bât 13)",
        "sa TP Bioch B (Bât 13)",
        "sa TP Bioch-biomol (Bât 2)",
        "sa TP Biotech-biomol (Bât 2)",
        "sa TP Ch Générale A (Bât 12)",
        "sa TP Ch Générale B (Bât 12)",
        "sa TP Ch Orga 1 (Bât 2)",
        "sa TP Ch Orga 2 (Bât 2)",
        "sa TP Ch Organique E (Bât 12)",
        "sa TP Ch Organique F (Bât 12)",
        "sa TP Ch inorganique C (Bât 12)",
        "sa TP Ch inorganique D (Bât 12)",
        "sa TP Ch organique G (Bât 12)",
        "sa TP Ch- Phys 1 (Bât 2)",
        "sa TP Ch- Phys 2 (Bât 2)",
        "sa TP Ecologie-vidéo (Bât 5)",
        "sa TP Electro 61 (Bât 14)",
        "sa TP Info indus 57 (Bât 14)",
        "sa TP Microbio (Bât 2)",
        "sa TP Méca 37bis (Bât 14)",
        "sa TP Optoélectr 55 (Bât 14)",
        "sa TP Phys 50 (Bât 14)",
        "sa TP Phys BGC (Bât 13)",
        "sa TP Phys CAPES  60 (Bât 14)",
        "sa TP Phys MIPC A (Bât 13)",
        "sa TP Phys MIPC B (Bât 13)",
        "sa TP Phys nucléaire (Bât 12)",
        "sa TP Phys solide 54 (Bât 14)",
        "sa TP Physio animale113 (Bât 26- RdC)",
        "sa TP Physio animale115 (Bât 26- RdC)",
        "sa TP Physio patho Végétale (Bât 2)",
        "sa TP Physio végétale (Bât 5)",
        "sa TP Thermo 35bis (Bât 14)",
        "sa TP Thermo 38bis (Bât 14)",
        "salle TP Projets L1-L2 (Bât 13)",
        "salle info 1-vidéo/badge (Bât 2)",
        "salle info 2-vidéo/Badge (Bât 2)",
        "salle info I01-vidéo (Bât 15-C I E)",
        "salle info I011-vidéo/badge (Bât 15-C I E)",
        "salle info I012-vidéo (Bât 15-C I E)",
        "salle info I019-vidéo/badge (Bât 15-C I E)",
        "salle info I03-vidéo (Bât 15-C I E)",
        "salle info I04-vidéo (Bât 15-C I E)",
        "salle info I040-vidéo (Bât 14)",
        "salle info I042-vidéo (Bât 14)",
        "salle info I047-vidéo/badge (Bât 14)",
        "salle info I05-vidéo (Bât 15-C I E)",
        "salle info I121-vidéo (Bât 15-C I E)",
        "salle info I123-vidéo (Bât 15-C I E)",
        "salle info I124-vidéo/badge (Bât 15-C I E)",
        "salle info I125-vidéo (Bât 15-C I E)",
        "salle info S046-Vidéo/badge (Bât 14)",
        "salle info S049-vidéo (Bât 14)",
        "salle info SPE 46-vidéo/badge (Bât 13)",
        "salle visio 204/Badge (Bât 26- 1er ét.)",
        "salle visio 205/Badge (Bât 26- 1er ét.)",
        "salle visio U2/Badge (Bât 2)",
        "salle visio U3/Badge (Bât 2)",
        "salle visio U4/Badge (Bât 2)"
       ],
       "description": "salle visio : ",
       "index": 1,
       "layout": "IPY_MODEL_c56153a47c324e3b89276ddb3a757ddd",
       "style": "IPY_MODEL_f2ee50c9520a4119961b6a7f82b19341"
      }
     },
     "31eaf66fc52d4599ad5ebfe8fc569650": {
      "model_module": "@jupyter-widgets/controls",
      "model_module_version": "1.4.0",
      "model_name": "DescriptionStyleModel",
      "state": {
       "description_width": ""
      }
     },
     "31f70ba80540426aa211ccc94fabfe91": {
      "model_module": "@jupyter-widgets/output",
      "model_module_version": "1.0.0",
      "model_name": "OutputModel",
      "state": {
       "layout": "IPY_MODEL_1f85fefe9b554355995cf702613f39e5",
       "outputs": [
        {
         "data": {
          "image/png": "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\n",
          "text/plain": "<Figure size 432x288 with 1 Axes>"
         },
         "metadata": {
          "needs_background": "light"
         },
         "output_type": "display_data"
        }
       ]
      }
     },
     "3204a1bdaf3240fdaab7493bb93848c8": {
      "model_module": "@jupyter-widgets/controls",
      "model_module_version": "1.4.0",
      "model_name": "DescriptionStyleModel",
      "state": {
       "description_width": ""
      }
     },
     "32f8d8cbb12646bdb7564fec93767d84": {
      "model_module": "@jupyter-widgets/controls",
      "model_module_version": "1.4.0",
      "model_name": "DropdownModel",
      "state": {
       "_options_labels": [
        "salle visio 204/Badge (Bât 26- 1er ét.)",
        "salle visio 205/Badge (Bât 26- 1er ét.)",
        "salle visio U2/Badge (Bât 2)",
        "salle visio U3/Badge (Bât 2)",
        "salle visio U4/Badge (Bât 2)"
       ],
       "description": "salle visio : ",
       "index": 0,
       "layout": "IPY_MODEL_0a15c4a2ec994d6f850b9206e05fb140",
       "style": "IPY_MODEL_6abb20346fa84b488ee95661e382f588"
      }
     },
     "33345fa67c294f1384a95b780f9f708e": {
      "model_module": "@jupyter-widgets/controls",
      "model_module_version": "1.4.0",
      "model_name": "DropdownModel",
      "state": {
       "_options_labels": [
        "Amphi 111-Vidéo (Bât 26- RdC)",
        "Amphi 112-vidéo (Bât 26- RdC)",
        "Amphi 121-vidéo (Bât 26- RdC)",
        "Amphi A (Bât 1-Admin)",
        "Amphi B (Bât 1-Admin)",
        "Amphi C (Bât 1-Admin)",
        "Amphi D (Bât 1-Admin)",
        "Amphi E (Bât 1-Admin)",
        "Amphi F (Bât 28)",
        "Amphi G (Bât 28)",
        "Amphi H (Bât 28)",
        "Amphi PASTEUR (Bât 2)",
        "Salle Multimédia 1 et 2 (Bât 2)",
        "[Exterieur] 01 (LV)",
        "[Exterieur] 015 (LV)",
        "[Exterieur] 02 (LV)",
        "[Exterieur] 040 (LV) - Studio de danse",
        "[Exterieur] 05 (LV)",
        "[Exterieur] 056 (LV)",
        "[Exterieur] 06 (LV)",
        "[Exterieur] 065 (LV)",
        "[Exterieur] 08 (LV)",
        "[Exterieur] 09 (LV)",
        "[Exterieur] 103 (LV)",
        "[Exterieur] 106 (LV)",
        "[Exterieur] 109 (LV)",
        "[Exterieur] 110 (LV)",
        "[Exterieur] 111 (LV)",
        "[Exterieur] 112 (LV)",
        "[Exterieur] 114 (LV)",
        "[Exterieur] 116 (LV)",
        "[Exterieur] 118 (LV)",
        "[Exterieur] 203 (LV)",
        "[Exterieur] 204 (LV)",
        "[Exterieur] 206 (LV)",
        "[Exterieur] 208 (LV)",
        "[Exterieur] 211 (LV)",
        "[Exterieur] 212 (LV)",
        "[Exterieur] 213 (LV)",
        "[Exterieur] 216 (LV)",
        "[Exterieur] 218 (LV)",
        "[Exterieur] 224 (LV)",
        "[Exterieur] 227 (LV)",
        "[Exterieur] 230 (LV)",
        "[Exterieur] 231 (LV)",
        "[Exterieur] 318  info  (Gavy) 14PC",
        "[Exterieur] 326  (Gavy) 27pl",
        "[Exterieur] 328  (Gavy) 90pl",
        "[Exterieur] 330  info  (Gavy) 14PC",
        "[Exterieur] 336 info  (Gavy) 14PC",
        "[Exterieur] 341 Amphi (Gavy) 90pl",
        "[Exterieur] 440 (FLCE)",
        "[Exterieur] 441 (FLCE)",
        "[Exterieur] A101 (IHT) 30pl + Vp (Arronax)",
        "[Exterieur] A102 (IHT) 50pl + Vp (Nemo)",
        "[Exterieur] Amphi - 057 (LV)",
        "[Exterieur] Amphi 1 (Ireste) 350pl + Vp",
        "[Exterieur] Amphi 1 (Isitem) 200pl +Vp (E102)",
        "[Exterieur] Amphi 2 (Ireste) 160pl +Vp",
        "[Exterieur] Amphi 2 (Isitem) 100pl +Vp (E101)",
        "[Exterieur] Amphi B (Gavy)  210pl",
        "[Exterieur] Amphi BONAMY",
        "[Exterieur] Amphi DOBREE",
        "[Exterieur] Amphi GRASLIN",
        "[Exterieur] Amphi PELLOUTIER",
        "[Exterieur] Amphi SAY",
        "[Exterieur] B015 (IHT) 13 PC (info-Village aerien)",
        "[Exterieur] B016 (IHT) 20pl (Volcan d or)",
        "[Exterieur] B017 (Ireste) 13 PC (info)",
        "[Exterieur] B023 (IHT) 20pl + Vp (Archipel en feu)",
        "[Exterieur] B024 (IHT) 20pl + Vp (Etoile du Sud)",
        "[Exterieur] Bias Salle 051",
        "[Exterieur] Bias Salle 052",
        "[Exterieur] Bias Salle 121",
        "[Exterieur] Bias Salle 135 - Réunion",
        "[Exterieur] Bias Salle 161-122",
        "[Exterieur] Bias Salle 162",
        "[Exterieur] Bias Salle 163-164",
        "[Exterieur] Bias Salle 165",
        "[Exterieur] Bias Salle 166",
        "[Exterieur] Bias Salle 167",
        "[Exterieur] Bias Salle 205",
        "[Exterieur] Bias Salle 206",
        "[Exterieur] Bias Salle 207",
        "[Exterieur] Bias Salle 208",
        "[Exterieur] Bias Salle Info 450",
        "[Exterieur] Bias Salle Info 452",
        "[Exterieur] Bias Salle Info 456",
        "[Exterieur] Bias Salle Info 458",
        "[Exterieur] C002 (Censive)",
        "[Exterieur] C002 (IRESTE) 13PC + Vp (info)",
        "[Exterieur] C003 (Ireste) 13PC (info)",
        "[Exterieur] C004 (Censive)",
        "[Exterieur] C008 (Censive)",
        "[Exterieur] C008 (IRESTE) 50pl + VP",
        "[Exterieur] C024 (Censive)",
        "[Exterieur] C027 (Censive)",
        "[Exterieur] C901 (Censive)",
        "[Exterieur] C905 (Censive)",
        "[Exterieur] C906 (Censive)",
        "[Exterieur] D-Amphi Louis Lorvellec (Bât A)",
        "[Exterieur] D004 (Ireste) 65pl + Vp (Cours)",
        "[Exterieur] D010 (Ireste) 48pl + Vp (Cours)",
        "[Exterieur] D013 (Ireste) 110pl + Vp (Cours-Examens)",
        "[Exterieur] E-Amphi (Bât A)",
        "[Exterieur] E202 (Ireste) 36pl + Vp (TD)",
        "[Exterieur] Erdre Salle 112",
        "[Exterieur] Erdre Salle 113",
        "[Exterieur] Erdre Salle 114",
        "[Exterieur] Erdre Salle 123",
        "[Exterieur] Erdre Salle 124",
        "[Exterieur] Erdre Salle 125",
        "[Exterieur] Erdre Salle 126",
        "[Exterieur] Erdre Salle 128",
        "[Exterieur] Erdre Salle 131",
        "[Exterieur] Erdre Salle 237",
        "[Exterieur] Erdre Salle 238",
        "[Exterieur] Erdre Salle 239",
        "[Exterieur] Erdre Salle 241",
        "[Exterieur] Erdre Salle 243",
        "[Exterieur] Erdre Salle 244",
        "[Exterieur] Erdre Salle 246",
        "[Exterieur] Erdre Salle 340",
        "[Exterieur] Fourier (Isitem) 15PC (info E029)",
        "[Exterieur] Laplace (Isitem) 15PC + Vp (Info E023)",
        "[Exterieur] Med 201A",
        "[Exterieur] Med 243",
        "[Exterieur] Med 244",
        "[Exterieur] Med 302",
        "[Exterieur] Med 303",
        "[Exterieur] Med 338",
        "[Exterieur] Med 339",
        "[Exterieur] Med 340",
        "[Exterieur] Med 504",
        "[Exterieur] Med Amphi 2",
        "[Exterieur] Med Amphi 3",
        "[Exterieur] Med Amphi 4",
        "[Exterieur] Med Amphi 5",
        "[Exterieur] Med Amphi 6",
        "[Exterieur] Med Amphi 7",
        "[Exterieur] Med Amphi 8",
        "[Exterieur] Med Salle 241-242 MANIMAL",
        "[Exterieur] Med Salle V.GOURNAY",
        "[Exterieur] Pas de salle",
        "[Exterieur] Salle Manquante",
        "[Exterieur] Salle extérieure",
        "[Exterieur] Salle à définir IAE",
        "[Exterieur] T020 (Isitem) 24pl + Vp (TP Matériaux)",
        "[Exterieur] T034 (Isitem) 12pl (TP/Labo)",
        "[Exterieur] T101 (Tertre)",
        "[Exterieur] T103 (Tertre)",
        "[Exterieur] T114 (Tertre)",
        "[Exterieur] T120 (Tertre)",
        "[Exterieur] T121 (Tertre)",
        "[Exterieur] T123 (Tertre)",
        "[Exterieur] T203 (Tertre)",
        "[Exterieur] T215 (Tertre)",
        "[Exterieur] T216 (Tertre)",
        "[Exterieur] T221 (Tertre)",
        "[Exterieur] Td5 (Isitem) 48pl + Vp (E122)",
        "[Exterieur] Td6 (Isitem) 48pl + Vp (E123)",
        "[Exterieur] Td7 (Isitem) 48pl + Vp (E124)",
        "[Exterieur] Td8 (Isitem) 100pl + Vp (Examen E125)",
        "[Exterieur] salle 925 IMAR",
        "[Exterieur] salle 929 IMAR",
        "sa TD 006 PECB-sans vidéo (Bât 5)",
        "sa TD 01 (Bât 1-Admin)",
        "sa TD 02 (Bât 1-Admin)",
        "sa TD 03 (Bât 1-Admin)",
        "sa TD 04 (Bât 1-Admin)",
        "sa TD 05 (Bât 1-Admin)",
        "sa TD 06 (Bât 1-Admin)",
        "sa TD 07 (Bât 1-Admin)",
        "sa TD 08 (Bât 1-Admin)",
        "sa TD 09 (Bât 1-Admin)",
        "sa TD 10 (Bât 1-Admin)",
        "sa TD 100 (Bât 26- RdC)",
        "sa TD 110- sans vidéo (Bât 26- RdC)",
        "sa TD 117 (Bât 26- RdC)",
        "sa TD 119-Manuf.Projets (Bât 26- RdC)",
        "sa TD 12 (Bât 1-Admin)",
        "sa TD 13 (Bât 1-Admin)",
        "sa TD 14 (Bât 1-Admin)",
        "sa TD 15 (Bât 1-Admin)",
        "sa TD 18-sans vidéo (Bât 13)",
        "sa TD 20 (Bât 18-B U)",
        "sa TD 200-îlot (Bât 26- 1er ét.)",
        "sa TD 201-anglais/badge (Bât 26- 1er ét.)",
        "sa TD 206-anglais/Badge (Bât 26- 1er ét.)",
        "sa TD 207-Studio Crs/Badge (Bât 26- 1er ét.)",
        "sa TD 208-îlot (Bât 26- 1er ét.)",
        "sa TD 209-îlot (Bât 26- 1er ét.)",
        "sa TD 21 (Bât 18-B U)",
        "sa TD 210-îlot (Bât 26- 1er ét.)",
        "sa TD 211 (Bât 26- 1er ét.)",
        "sa TD 212 (Bât 26- 1er ét.)",
        "sa TD 213 (Bât 26- 1er ét.)",
        "sa TD 214 (Bât 26- 1er ét.)",
        "sa TD 215 (Bât 26- 1er ét.)",
        "sa TD 22 (Bât 18-B U)",
        "sa TD 23 (Bât 18-B U)",
        "sa TD 24 (Bât 18-B U)",
        "sa TD 25 (Bât 18-B U)",
        "sa TD 26 (Bât 18-B U)",
        "sa TD 27 (Bât 18-B U)",
        "sa TD 28 (Bât 18-B U)",
        "sa TD 29 (Bât 18-B U)",
        "sa TD 30-sans vidéo (Bât 5)",
        "sa TD 41 (Bât 14)",
        "sa TD 43 (Bât 14)",
        "sa TD 45 (Bât 14)",
        "sa TD 48 (Bât 14)",
        "sa TD B (Bât 1-Admin)",
        "sa TD D (Bât 1-Admin)",
        "sa TD E (Bât 1-Admin)",
        "sa TD U1-Studio Crs/Badge (Bât 2)",
        "sa TD U5 (Bât 2)",
        "sa TD U6 (Bât 2)",
        "sa TD U7-ilôt/Badge (Bât 2)",
        "sa TD U8-ilôt/Badge (Bât 2)",
        "sa TP 33Géol (Bât 14)",
        "sa TP 34Geol-vidéo (Bât 14)",
        "sa TP 35Geol-vidéo (Bât 14)",
        "sa TP 36Geol-vidéo (Bât 14)",
        "sa TP 38Geol-vidéo (Bât 14)",
        "sa TP 65Geol-vidéo (Bât 13)",
        "sa TP Automatique 59 (Bât 14)",
        "sa TP B1 Bio animale L2-vidéo (Bât 6)",
        "sa TP B2 Bio animale L1-vidéo (Bât 6)",
        "sa TP B3 Taxo-Ecologie (Bât 6)",
        "sa TP B5 Biocell-Immuno (Bât 13)",
        "sa TP Bio animale 32-vidéo (Bât 5)",
        "sa TP Bio végétale-vidéo (Bât 5)",
        "sa TP Biocell  110-vidéo (Bât 5)",
        "sa TP Bioch A (Bât 13)",
        "sa TP Bioch B (Bât 13)",
        "sa TP Bioch-biomol (Bât 2)",
        "sa TP Biotech-biomol (Bât 2)",
        "sa TP Ch Générale A (Bât 12)",
        "sa TP Ch Générale B (Bât 12)",
        "sa TP Ch Orga 1 (Bât 2)",
        "sa TP Ch Orga 2 (Bât 2)",
        "sa TP Ch Organique E (Bât 12)",
        "sa TP Ch Organique F (Bât 12)",
        "sa TP Ch inorganique C (Bât 12)",
        "sa TP Ch inorganique D (Bât 12)",
        "sa TP Ch organique G (Bât 12)",
        "sa TP Ch- Phys 1 (Bât 2)",
        "sa TP Ch- Phys 2 (Bât 2)",
        "sa TP Ecologie-vidéo (Bât 5)",
        "sa TP Electro 61 (Bât 14)",
        "sa TP Info indus 57 (Bât 14)",
        "sa TP Microbio (Bât 2)",
        "sa TP Méca 37bis (Bât 14)",
        "sa TP Optoélectr 55 (Bât 14)",
        "sa TP Phys 50 (Bât 14)",
        "sa TP Phys BGC (Bât 13)",
        "sa TP Phys CAPES  60 (Bât 14)",
        "sa TP Phys MIPC A (Bât 13)",
        "sa TP Phys MIPC B (Bât 13)",
        "sa TP Phys nucléaire (Bât 12)",
        "sa TP Phys solide 54 (Bât 14)",
        "sa TP Physio animale113 (Bât 26- RdC)",
        "sa TP Physio animale115 (Bât 26- RdC)",
        "sa TP Physio patho Végétale (Bât 2)",
        "sa TP Physio végétale (Bât 5)",
        "sa TP Thermo 35bis (Bât 14)",
        "sa TP Thermo 38bis (Bât 14)",
        "salle Projets L1-L2 (Bât 13)",
        "salle info 1-vidéo/badge (Bât 2)",
        "salle info 2-vidéo/Badge (Bât 2)",
        "salle info I01-vidéo (Bât 15-C I E)",
        "salle info I011-vidéo/badge (Bât 15-C I E)",
        "salle info I012-vidéo (Bât 15-C I E)",
        "salle info I019-vidéo/badge (Bât 15-C I E)",
        "salle info I03-vidéo (Bât 15-C I E)",
        "salle info I04-vidéo (Bât 15-C I E)",
        "salle info I040-vidéo (Bât 14)",
        "salle info I042-vidéo (Bât 14)",
        "salle info I047-vidéo/badge (Bât 14)",
        "salle info I05-vidéo (Bât 15-C I E)",
        "salle info I121-vidéo (Bât 15-C I E)",
        "salle info I123-vidéo (Bât 15-C I E)",
        "salle info I124-vidéo/badge (Bât 15-C I E)",
        "salle info I125-vidéo (Bât 15-C I E)",
        "salle info S046-Vidéo/badge (Bât 14)",
        "salle info S049-vidéo (Bât 14)",
        "salle info SPE 46-vidéo/badge (Bât 13)",
        "salle visio 204/Badge (Bât 26- 1er ét.)",
        "salle visio 205/Badge (Bât 26- 1er ét.)",
        "salle visio U2/Badge (Bât 2)",
        "salle visio U3/Badge (Bât 2)",
        "salle visio U4/Badge (Bât 2)"
       ],
       "description": "Exterieur : ",
       "index": 0,
       "layout": "IPY_MODEL_d30777dfcc394d629afcfb8316736117",
       "style": "IPY_MODEL_22831899499b442682010d3ccdf05a9d"
      }
     },
     "3416156a2e12421ca5d81e2fc7fcb539": {
      "model_module": "@jupyter-widgets/output",
      "model_module_version": "1.0.0",
      "model_name": "OutputModel",
      "state": {
       "layout": "IPY_MODEL_c98c32a163ce4993badc9f73fcf13d9a",
       "outputs": [
        {
         "data": {
          "image/png": "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\n",
          "text/plain": "<Figure size 432x288 with 1 Axes>"
         },
         "metadata": {
          "needs_background": "light"
         },
         "output_type": "display_data"
        }
       ]
      }
     },
     "34be15b8a64041bd8379bdb3c5f8aab8": {
      "model_module": "@jupyter-widgets/base",
      "model_module_version": "1.1.0",
      "model_name": "LayoutModel",
      "state": {}
     },
     "353d1247eb004bf6976d10082db7e212": {
      "model_module": "@jupyter-widgets/controls",
      "model_module_version": "1.4.0",
      "model_name": "VBoxModel",
      "state": {
       "_dom_classes": [
        "widget-interact"
       ],
       "children": [
        "IPY_MODEL_5412a0938e964e44baccdf7d6dc9dbd0",
        "IPY_MODEL_8a3a739d1d824fb599f85f26b25ee6cc"
       ],
       "layout": "IPY_MODEL_429d2c8b6d514ad583db39f74ae406b1"
      }
     },
     "3692da9de79646ac8283b5a3336311e9": {
      "model_module": "@jupyter-widgets/base",
      "model_module_version": "1.1.0",
      "model_name": "LayoutModel",
      "state": {}
     },
     "37b9752cc47d4f978b9f75e729416949": {
      "model_module": "@jupyter-widgets/base",
      "model_module_version": "1.1.0",
      "model_name": "LayoutModel",
      "state": {}
     },
     "381725cba49a4475bbaa7fa3bb71e72c": {
      "model_module": "@jupyter-widgets/base",
      "model_module_version": "1.1.0",
      "model_name": "LayoutModel",
      "state": {}
     },
     "38218ae9269e4a45ad710cc21a070d2e": {
      "model_module": "@jupyter-widgets/base",
      "model_module_version": "1.1.0",
      "model_name": "LayoutModel",
      "state": {}
     },
     "388a0c2ae3ab413caeb0b26c0441cd3b": {
      "model_module": "@jupyter-widgets/output",
      "model_module_version": "1.0.0",
      "model_name": "OutputModel",
      "state": {
       "layout": "IPY_MODEL_d24ca71efb594d9f8ac6e23ccebfaae5"
      }
     },
     "38f95cf61a6e47f89ff109df42695573": {
      "model_module": "@jupyter-widgets/base",
      "model_module_version": "1.1.0",
      "model_name": "LayoutModel",
      "state": {}
     },
     "390c18cf855d4086b567303966884e4b": {
      "model_module": "@jupyter-widgets/base",
      "model_module_version": "1.1.0",
      "model_name": "LayoutModel",
      "state": {}
     },
     "394f4f7eedcc4b1c9ab9ab84bf60240f": {
      "model_module": "@jupyter-widgets/output",
      "model_module_version": "1.0.0",
      "model_name": "OutputModel",
      "state": {
       "layout": "IPY_MODEL_c55df19f455a425cbad10d6f1782cbe8",
       "outputs": [
        {
         "name": "stdout",
         "output_type": "stream",
         "text": "Sauvegarde de Amphi_A_(Bât_1-Admin)\n"
        }
       ]
      }
     },
     "396b5a921e354480a9920159a355a6d6": {
      "model_module": "@jupyter-widgets/controls",
      "model_module_version": "1.4.0",
      "model_name": "DescriptionStyleModel",
      "state": {
       "description_width": ""
      }
     },
     "3972fe81ebcd4b81af10e406a6d9c959": {
      "model_module": "@jupyter-widgets/base",
      "model_module_version": "1.1.0",
      "model_name": "LayoutModel",
      "state": {}
     },
     "3a8c872cd001476d9e1431db5b9e9b4b": {
      "model_module": "@jupyter-widgets/base",
      "model_module_version": "1.1.0",
      "model_name": "LayoutModel",
      "state": {}
     },
     "3bc6db75f4eb4f48a34956ea629ed0c6": {
      "model_module": "@jupyter-widgets/base",
      "model_module_version": "1.1.0",
      "model_name": "LayoutModel",
      "state": {}
     },
     "3d3e3041361340dcbe5b2d99d3513659": {
      "model_module": "@jupyter-widgets/base",
      "model_module_version": "1.1.0",
      "model_name": "LayoutModel",
      "state": {}
     },
     "3ed24eface2b431bbfd1690ed9e92d09": {
      "model_module": "@jupyter-widgets/controls",
      "model_module_version": "1.4.0",
      "model_name": "DropdownModel",
      "state": {
       "_options_labels": [
        "Amphi 111-Vidéo (Bât 26- RdC)",
        "Amphi 112-vidéo (Bât 26- RdC)",
        "Amphi 121-vidéo (Bât 26- RdC)",
        "Amphi A (Bât 1-Admin)",
        "Amphi B (Bât 1-Admin)",
        "Amphi C (Bât 1-Admin)",
        "Amphi D (Bât 1-Admin)",
        "Amphi E (Bât 1-Admin)",
        "Amphi F (Bât 28)",
        "Amphi G (Bât 28)",
        "Amphi H (Bât 28)",
        "Amphi PASTEUR (Bât 2)"
       ],
       "description": "Amphi : ",
       "index": 0,
       "layout": "IPY_MODEL_074b58a2d6234fcf814a635653a5025a",
       "style": "IPY_MODEL_e368f89603a24bfdaac6eb91ff962d12"
      }
     },
     "3ed9c847113d4bbea27450c17f3d0bd3": {
      "model_module": "@jupyter-widgets/base",
      "model_module_version": "1.1.0",
      "model_name": "LayoutModel",
      "state": {}
     },
     "3ff50df795c9491d8ce42c9ac1974df0": {
      "model_module": "@jupyter-widgets/base",
      "model_module_version": "1.1.0",
      "model_name": "LayoutModel",
      "state": {}
     },
     "41235361b7db4cc7a3fb79de5e840adb": {
      "model_module": "@jupyter-widgets/controls",
      "model_module_version": "1.4.0",
      "model_name": "DropdownModel",
      "state": {
       "_options_labels": [
        "Amphi 111-Vidéo (Bât 26- RdC)",
        "Amphi 112-vidéo (Bât 26- RdC)",
        "Amphi 121-vidéo (Bât 26- RdC)",
        "Amphi A (Bât 1-Admin)",
        "Amphi B (Bât 1-Admin)",
        "Amphi C (Bât 1-Admin)",
        "Amphi D (Bât 1-Admin)",
        "Amphi E (Bât 1-Admin)",
        "Amphi F (Bât 28)",
        "Amphi G (Bât 28)",
        "Amphi H (Bât 28)",
        "Amphi PASTEUR (Bât 2)"
       ],
       "description": "Amphi : ",
       "index": 0,
       "layout": "IPY_MODEL_5ad300e5783f4ba8a9bed7f90d6cda80",
       "style": "IPY_MODEL_3204a1bdaf3240fdaab7493bb93848c8"
      }
     },
     "413ede0d697347509a786571836272ff": {
      "model_module": "@jupyter-widgets/controls",
      "model_module_version": "1.4.0",
      "model_name": "VBoxModel",
      "state": {
       "_dom_classes": [
        "widget-interact"
       ],
       "children": [
        "IPY_MODEL_90547cdfd1154319acae21d7519ef3ed",
        "IPY_MODEL_5834f57391b743edbc994ffae290008b"
       ],
       "layout": "IPY_MODEL_38218ae9269e4a45ad710cc21a070d2e"
      }
     },
     "41ad535b69a34a4fa7d6897b77b2999a": {
      "model_module": "@jupyter-widgets/controls",
      "model_module_version": "1.4.0",
      "model_name": "VBoxModel",
      "state": {
       "_dom_classes": [
        "widget-interact"
       ],
       "children": [
        "IPY_MODEL_1f570c6d120743d19e135243bae3e5a5",
        "IPY_MODEL_e35a9a98e5a4483bb5e9bf63da7b4e66"
       ],
       "layout": "IPY_MODEL_c85eeef9a0d54ea890eed022aad904a1"
      }
     },
     "429d2c8b6d514ad583db39f74ae406b1": {
      "model_module": "@jupyter-widgets/base",
      "model_module_version": "1.1.0",
      "model_name": "LayoutModel",
      "state": {}
     },
     "42c4bb7559934d75ac192faf073b3af1": {
      "model_module": "@jupyter-widgets/base",
      "model_module_version": "1.1.0",
      "model_name": "LayoutModel",
      "state": {}
     },
     "44d9253a48424015b38ed8413a4c573e": {
      "model_module": "@jupyter-widgets/base",
      "model_module_version": "1.1.0",
      "model_name": "LayoutModel",
      "state": {}
     },
     "451b9c8c8fd94c24990cbc5815de4b1c": {
      "model_module": "@jupyter-widgets/base",
      "model_module_version": "1.1.0",
      "model_name": "LayoutModel",
      "state": {}
     },
     "4597de56804b413780c2b554acab6f5d": {
      "model_module": "@jupyter-widgets/base",
      "model_module_version": "1.1.0",
      "model_name": "LayoutModel",
      "state": {}
     },
     "473e7ec403674d6d95cec1fb3edbecd2": {
      "model_module": "@jupyter-widgets/controls",
      "model_module_version": "1.4.0",
      "model_name": "VBoxModel",
      "state": {
       "_dom_classes": [
        "widget-interact"
       ],
       "children": [
        "IPY_MODEL_5cfa37378c194ffe8d32d1bb873795fa",
        "IPY_MODEL_f1db8f88c1a4458f9d52718a11172c07"
       ],
       "layout": "IPY_MODEL_18e48810a8ae4b80af6c9617cf7f7091"
      }
     },
     "478f46df3ab3457aa11f90a1cf4d370d": {
      "model_module": "@jupyter-widgets/controls",
      "model_module_version": "1.4.0",
      "model_name": "DropdownModel",
      "state": {
       "_options_labels": [
        "Amphi 111-Vidéo (Bât 26- RdC)",
        "Amphi 112-vidéo (Bât 26- RdC)",
        "Amphi 121-vidéo (Bât 26- RdC)",
        "Amphi A (Bât 1-Admin)",
        "Amphi B (Bât 1-Admin)",
        "Amphi C (Bât 1-Admin)",
        "Amphi D (Bât 1-Admin)",
        "Amphi E (Bât 1-Admin)",
        "Amphi F (Bât 28)",
        "Amphi G (Bât 28)",
        "Amphi H (Bât 28)",
        "Amphi PASTEUR (Bât 2)",
        "Salle Multimédia 1 et 2 (Bât 2)",
        "[Exterieur] 01 (LV)",
        "[Exterieur] 015 (LV)",
        "[Exterieur] 02 (LV)",
        "[Exterieur] 040 (LV) - Studio de danse",
        "[Exterieur] 05 (LV)",
        "[Exterieur] 056 (LV)",
        "[Exterieur] 06 (LV)",
        "[Exterieur] 065 (LV)",
        "[Exterieur] 08 (LV)",
        "[Exterieur] 09 (LV)",
        "[Exterieur] 103 (LV)",
        "[Exterieur] 106 (LV)",
        "[Exterieur] 109 (LV)",
        "[Exterieur] 110 (LV)",
        "[Exterieur] 111 (LV)",
        "[Exterieur] 112 (LV)",
        "[Exterieur] 114 (LV)",
        "[Exterieur] 116 (LV)",
        "[Exterieur] 118 (LV)",
        "[Exterieur] 203 (LV)",
        "[Exterieur] 204 (LV)",
        "[Exterieur] 206 (LV)",
        "[Exterieur] 208 (LV)",
        "[Exterieur] 211 (LV)",
        "[Exterieur] 212 (LV)",
        "[Exterieur] 213 (LV)",
        "[Exterieur] 216 (LV)",
        "[Exterieur] 218 (LV)",
        "[Exterieur] 224 (LV)",
        "[Exterieur] 227 (LV)",
        "[Exterieur] 230 (LV)",
        "[Exterieur] 231 (LV)",
        "[Exterieur] 318  info  (Gavy) 14PC",
        "[Exterieur] 326  (Gavy) 27pl",
        "[Exterieur] 328  (Gavy) 90pl",
        "[Exterieur] 330  info  (Gavy) 14PC",
        "[Exterieur] 336 info  (Gavy) 14PC",
        "[Exterieur] 341 Amphi (Gavy) 90pl",
        "[Exterieur] 440 (FLCE)",
        "[Exterieur] 441 (FLCE)",
        "[Exterieur] A101 (IHT) 30pl + Vp (Arronax)",
        "[Exterieur] A102 (IHT) 50pl + Vp (Nemo)",
        "[Exterieur] Amphi - 057 (LV)",
        "[Exterieur] Amphi 1 (Ireste) 350pl + Vp",
        "[Exterieur] Amphi 1 (Isitem) 200pl +Vp (E102)",
        "[Exterieur] Amphi 2 (Ireste) 160pl +Vp",
        "[Exterieur] Amphi 2 (Isitem) 100pl +Vp (E101)",
        "[Exterieur] Amphi B (Gavy)  210pl",
        "[Exterieur] Amphi BONAMY",
        "[Exterieur] Amphi DOBREE",
        "[Exterieur] Amphi GRASLIN",
        "[Exterieur] Amphi PELLOUTIER",
        "[Exterieur] Amphi SAY",
        "[Exterieur] B015 (IHT) 13 PC (info-Village aerien)",
        "[Exterieur] B016 (IHT) 20pl (Volcan d or)",
        "[Exterieur] B017 (Ireste) 13 PC (info)",
        "[Exterieur] B023 (IHT) 20pl + Vp (Archipel en feu)",
        "[Exterieur] B024 (IHT) 20pl + Vp (Etoile du Sud)",
        "[Exterieur] Bias Salle 051",
        "[Exterieur] Bias Salle 052",
        "[Exterieur] Bias Salle 121",
        "[Exterieur] Bias Salle 135 - Réunion",
        "[Exterieur] Bias Salle 161-122",
        "[Exterieur] Bias Salle 162",
        "[Exterieur] Bias Salle 163-164",
        "[Exterieur] Bias Salle 165",
        "[Exterieur] Bias Salle 166",
        "[Exterieur] Bias Salle 167",
        "[Exterieur] Bias Salle 205",
        "[Exterieur] Bias Salle 206",
        "[Exterieur] Bias Salle 207",
        "[Exterieur] Bias Salle 208",
        "[Exterieur] Bias Salle Info 450",
        "[Exterieur] Bias Salle Info 452",
        "[Exterieur] Bias Salle Info 456",
        "[Exterieur] Bias Salle Info 458",
        "[Exterieur] C002 (Censive)",
        "[Exterieur] C002 (IRESTE) 13PC + Vp (info)",
        "[Exterieur] C003 (Ireste) 13PC (info)",
        "[Exterieur] C004 (Censive)",
        "[Exterieur] C008 (Censive)",
        "[Exterieur] C008 (IRESTE) 50pl + VP",
        "[Exterieur] C024 (Censive)",
        "[Exterieur] C027 (Censive)",
        "[Exterieur] C901 (Censive)",
        "[Exterieur] C905 (Censive)",
        "[Exterieur] C906 (Censive)",
        "[Exterieur] D-Amphi Louis Lorvellec (Bât A)",
        "[Exterieur] D004 (Ireste) 65pl + Vp (Cours)",
        "[Exterieur] D010 (Ireste) 48pl + Vp (Cours)",
        "[Exterieur] D013 (Ireste) 110pl + Vp (Cours-Examens)",
        "[Exterieur] E-Amphi (Bât A)",
        "[Exterieur] E202 (Ireste) 36pl + Vp (TD)",
        "[Exterieur] Erdre Salle 112",
        "[Exterieur] Erdre Salle 113",
        "[Exterieur] Erdre Salle 114",
        "[Exterieur] Erdre Salle 123",
        "[Exterieur] Erdre Salle 124",
        "[Exterieur] Erdre Salle 125",
        "[Exterieur] Erdre Salle 126",
        "[Exterieur] Erdre Salle 128",
        "[Exterieur] Erdre Salle 131",
        "[Exterieur] Erdre Salle 237",
        "[Exterieur] Erdre Salle 238",
        "[Exterieur] Erdre Salle 239",
        "[Exterieur] Erdre Salle 241",
        "[Exterieur] Erdre Salle 243",
        "[Exterieur] Erdre Salle 244",
        "[Exterieur] Erdre Salle 246",
        "[Exterieur] Erdre Salle 340",
        "[Exterieur] Fourier (Isitem) 15PC (info E029)",
        "[Exterieur] Laplace (Isitem) 15PC + Vp (Info E023)",
        "[Exterieur] Med 201A",
        "[Exterieur] Med 243",
        "[Exterieur] Med 244",
        "[Exterieur] Med 302",
        "[Exterieur] Med 303",
        "[Exterieur] Med 338",
        "[Exterieur] Med 339",
        "[Exterieur] Med 340",
        "[Exterieur] Med 504",
        "[Exterieur] Med Amphi 2",
        "[Exterieur] Med Amphi 3",
        "[Exterieur] Med Amphi 4",
        "[Exterieur] Med Amphi 5",
        "[Exterieur] Med Amphi 6",
        "[Exterieur] Med Amphi 7",
        "[Exterieur] Med Amphi 8",
        "[Exterieur] Med Salle 241-242 MANIMAL",
        "[Exterieur] Med Salle V.GOURNAY",
        "[Exterieur] Pas de salle",
        "[Exterieur] Salle Manquante",
        "[Exterieur] Salle extérieure",
        "[Exterieur] Salle à définir IAE",
        "[Exterieur] T020 (Isitem) 24pl + Vp (TP Matériaux)",
        "[Exterieur] T034 (Isitem) 12pl (TP/Labo)",
        "[Exterieur] T101 (Tertre)",
        "[Exterieur] T103 (Tertre)",
        "[Exterieur] T114 (Tertre)",
        "[Exterieur] T120 (Tertre)",
        "[Exterieur] T121 (Tertre)",
        "[Exterieur] T123 (Tertre)",
        "[Exterieur] T203 (Tertre)",
        "[Exterieur] T215 (Tertre)",
        "[Exterieur] T216 (Tertre)",
        "[Exterieur] T221 (Tertre)",
        "[Exterieur] Td5 (Isitem) 48pl + Vp (E122)",
        "[Exterieur] Td6 (Isitem) 48pl + Vp (E123)",
        "[Exterieur] Td7 (Isitem) 48pl + Vp (E124)",
        "[Exterieur] Td8 (Isitem) 100pl + Vp (Examen E125)",
        "[Exterieur] salle 925 IMAR",
        "[Exterieur] salle 929 IMAR",
        "sa TD 006 PECB-sans vidéo (Bât 5)",
        "sa TD 01 (Bât 1-Admin)",
        "sa TD 02 (Bât 1-Admin)",
        "sa TD 03 (Bât 1-Admin)",
        "sa TD 04 (Bât 1-Admin)",
        "sa TD 05 (Bât 1-Admin)",
        "sa TD 06 (Bât 1-Admin)",
        "sa TD 07 (Bât 1-Admin)",
        "sa TD 08 (Bât 1-Admin)",
        "sa TD 09 (Bât 1-Admin)",
        "sa TD 10 (Bât 1-Admin)",
        "sa TD 100 (Bât 26- RdC)",
        "sa TD 110- sans vidéo (Bât 26- RdC)",
        "sa TD 117 (Bât 26- RdC)",
        "sa TD 119-Manuf.Projets (Bât 26- RdC)",
        "sa TD 12 (Bât 1-Admin)",
        "sa TD 13 (Bât 1-Admin)",
        "sa TD 14 (Bât 1-Admin)",
        "sa TD 15 (Bât 1-Admin)",
        "sa TD 18-sans vidéo (Bât 13)",
        "sa TD 20 (Bât 18-B U)",
        "sa TD 200-îlot (Bât 26- 1er ét.)",
        "sa TD 201-anglais/badge (Bât 26- 1er ét.)",
        "sa TD 206-anglais/Badge (Bât 26- 1er ét.)",
        "sa TD 207-Studio Crs/Badge (Bât 26- 1er ét.)",
        "sa TD 208-îlot (Bât 26- 1er ét.)",
        "sa TD 209-îlot (Bât 26- 1er ét.)",
        "sa TD 21 (Bât 18-B U)",
        "sa TD 210-îlot (Bât 26- 1er ét.)",
        "sa TD 211 (Bât 26- 1er ét.)",
        "sa TD 212 (Bât 26- 1er ét.)",
        "sa TD 213 (Bât 26- 1er ét.)",
        "sa TD 214 (Bât 26- 1er ét.)",
        "sa TD 215 (Bât 26- 1er ét.)",
        "sa TD 22 (Bât 18-B U)",
        "sa TD 23 (Bât 18-B U)",
        "sa TD 24 (Bât 18-B U)",
        "sa TD 25 (Bât 18-B U)",
        "sa TD 26 (Bât 18-B U)",
        "sa TD 27 (Bât 18-B U)",
        "sa TD 28 (Bât 18-B U)",
        "sa TD 29 (Bât 18-B U)",
        "sa TD 30-sans vidéo (Bât 5)",
        "sa TD 41 (Bât 14)",
        "sa TD 43 (Bât 14)",
        "sa TD 45 (Bât 14)",
        "sa TD 48 (Bât 14)",
        "sa TD B (Bât 1-Admin)",
        "sa TD D (Bât 1-Admin)",
        "sa TD E (Bât 1-Admin)",
        "sa TD U1-Studio Crs/Badge (Bât 2)",
        "sa TD U5 (Bât 2)",
        "sa TD U6 (Bât 2)",
        "sa TD U7-ilôt/Badge (Bât 2)",
        "sa TD U8-ilôt/Badge (Bât 2)",
        "sa TP 33Géol (Bât 14)",
        "sa TP 34Geol-vidéo (Bât 14)",
        "sa TP 35Geol-vidéo (Bât 14)",
        "sa TP 36Geol-vidéo (Bât 14)",
        "sa TP 38Geol-vidéo (Bât 14)",
        "sa TP 65Geol-vidéo (Bât 13)",
        "sa TP Automatique 59 (Bât 14)",
        "sa TP B1 Bio animale L2-vidéo (Bât 6)",
        "sa TP B2 Bio animale L1-vidéo (Bât 6)",
        "sa TP B3 Taxo-Ecologie (Bât 6)",
        "sa TP B5 Biocell-Immuno (Bât 13)",
        "sa TP Bio animale 32-vidéo (Bât 5)",
        "sa TP Bio végétale-vidéo (Bât 5)",
        "sa TP Biocell  110-vidéo (Bât 5)",
        "sa TP Bioch A (Bât 13)",
        "sa TP Bioch B (Bât 13)",
        "sa TP Bioch-biomol (Bât 2)",
        "sa TP Biotech-biomol (Bât 2)",
        "sa TP Ch Générale A (Bât 12)",
        "sa TP Ch Générale B (Bât 12)",
        "sa TP Ch Orga 1 (Bât 2)",
        "sa TP Ch Orga 2 (Bât 2)",
        "sa TP Ch Organique E (Bât 12)",
        "sa TP Ch Organique F (Bât 12)",
        "sa TP Ch inorganique C (Bât 12)",
        "sa TP Ch inorganique D (Bât 12)",
        "sa TP Ch organique G (Bât 12)",
        "sa TP Ch- Phys 1 (Bât 2)",
        "sa TP Ch- Phys 2 (Bât 2)",
        "sa TP Ecologie-vidéo (Bât 5)",
        "sa TP Electro 61 (Bât 14)",
        "sa TP Info indus 57 (Bât 14)",
        "sa TP Microbio (Bât 2)",
        "sa TP Méca 37bis (Bât 14)",
        "sa TP Optoélectr 55 (Bât 14)",
        "sa TP Phys 50 (Bât 14)",
        "sa TP Phys BGC (Bât 13)",
        "sa TP Phys CAPES  60 (Bât 14)",
        "sa TP Phys MIPC A (Bât 13)",
        "sa TP Phys MIPC B (Bât 13)",
        "sa TP Phys nucléaire (Bât 12)",
        "sa TP Phys solide 54 (Bât 14)",
        "sa TP Physio animale113 (Bât 26- RdC)",
        "sa TP Physio animale115 (Bât 26- RdC)",
        "sa TP Physio patho Végétale (Bât 2)",
        "sa TP Physio végétale (Bât 5)",
        "sa TP Thermo 35bis (Bât 14)",
        "sa TP Thermo 38bis (Bât 14)",
        "salle Projets L1-L2 (Bât 13)",
        "salle info 1-vidéo/badge (Bât 2)",
        "salle info 2-vidéo/Badge (Bât 2)",
        "salle info I01-vidéo (Bât 15-C I E)",
        "salle info I011-vidéo/badge (Bât 15-C I E)",
        "salle info I012-vidéo (Bât 15-C I E)",
        "salle info I019-vidéo/badge (Bât 15-C I E)",
        "salle info I03-vidéo (Bât 15-C I E)",
        "salle info I04-vidéo (Bât 15-C I E)",
        "salle info I040-vidéo (Bât 14)",
        "salle info I042-vidéo (Bât 14)",
        "salle info I047-vidéo/badge (Bât 14)",
        "salle info I05-vidéo (Bât 15-C I E)",
        "salle info I121-vidéo (Bât 15-C I E)",
        "salle info I123-vidéo (Bât 15-C I E)",
        "salle info I124-vidéo/badge (Bât 15-C I E)",
        "salle info I125-vidéo (Bât 15-C I E)",
        "salle info S046-Vidéo/badge (Bât 14)",
        "salle info S049-vidéo (Bât 14)",
        "salle info SPE 46-vidéo/badge (Bât 13)",
        "salle visio 204/Badge (Bât 26- 1er ét.)",
        "salle visio 205/Badge (Bât 26- 1er ét.)",
        "salle visio U2/Badge (Bât 2)",
        "salle visio U3/Badge (Bât 2)",
        "salle visio U4/Badge (Bât 2)"
       ],
       "description": "Exterieur : ",
       "index": 3,
       "layout": "IPY_MODEL_682a5dbed8a44676b3101cc893ce1b87",
       "style": "IPY_MODEL_9c9f045c2af5446681104d8fa4a6f1b0"
      }
     },
     "47df9ad958504b7196108318a7ce9903": {
      "model_module": "@jupyter-widgets/base",
      "model_module_version": "1.1.0",
      "model_name": "LayoutModel",
      "state": {}
     },
     "47fe051dbbb84aaf8be50f34a7e758a4": {
      "model_module": "@jupyter-widgets/base",
      "model_module_version": "1.1.0",
      "model_name": "LayoutModel",
      "state": {}
     },
     "498a4b51ff00480486db8fbe63398934": {
      "model_module": "@jupyter-widgets/controls",
      "model_module_version": "1.4.0",
      "model_name": "DescriptionStyleModel",
      "state": {
       "description_width": ""
      }
     },
     "4a35715cd3db474b90caf65d639eac0d": {
      "model_module": "@jupyter-widgets/controls",
      "model_module_version": "1.4.0",
      "model_name": "DescriptionStyleModel",
      "state": {
       "description_width": ""
      }
     },
     "4b88f751fcef40c19665c72878167e54": {
      "model_module": "@jupyter-widgets/base",
      "model_module_version": "1.1.0",
      "model_name": "LayoutModel",
      "state": {}
     },
     "4be8a529035f40f3a9fdc12863a85b2b": {
      "model_module": "@jupyter-widgets/controls",
      "model_module_version": "1.4.0",
      "model_name": "DropdownModel",
      "state": {
       "_options_labels": [
        "sa TP 33Géol (Bât 14)",
        "sa TP 34Geol-vidéo (Bât 14)",
        "sa TP 35Geol-vidéo (Bât 14)",
        "sa TP 36Geol-vidéo (Bât 14)",
        "sa TP 38Geol-vidéo (Bât 14)",
        "sa TP 65Geol-vidéo (Bât 13)",
        "sa TP Automatique 59 (Bât 14)",
        "sa TP B1 Bio animale L2-vidéo (Bât 6)",
        "sa TP B2 Bio animale L1-vidéo (Bât 6)",
        "sa TP B3 Taxo-Ecologie (Bât 6)",
        "sa TP B5 Biocell-Immuno (Bât 13)",
        "sa TP Bio animale 32-vidéo (Bât 5)",
        "sa TP Bio végétale-vidéo (Bât 5)",
        "sa TP Biocell  110-vidéo (Bât 5)",
        "sa TP Bioch A (Bât 13)",
        "sa TP Bioch B (Bât 13)",
        "sa TP Bioch-biomol (Bât 2)",
        "sa TP Biotech-biomol (Bât 2)",
        "sa TP Ch Générale A (Bât 12)",
        "sa TP Ch Générale B (Bât 12)",
        "sa TP Ch Orga 1 (Bât 2)",
        "sa TP Ch Orga 2 (Bât 2)",
        "sa TP Ch Organique E (Bât 12)",
        "sa TP Ch Organique F (Bât 12)",
        "sa TP Ch inorganique C (Bât 12)",
        "sa TP Ch inorganique D (Bât 12)",
        "sa TP Ch organique G (Bât 12)",
        "sa TP Ch- Phys 1 (Bât 2)",
        "sa TP Ch- Phys 2 (Bât 2)",
        "sa TP Ecologie-vidéo (Bât 5)",
        "sa TP Electro 61 (Bât 14)",
        "sa TP Info indus 57 (Bât 14)",
        "sa TP Microbio (Bât 2)",
        "sa TP Méca 37bis (Bât 14)",
        "sa TP Optoélectr 55 (Bât 14)",
        "sa TP Phys 50 (Bât 14)",
        "sa TP Phys BGC (Bât 13)",
        "sa TP Phys CAPES  60 (Bât 14)",
        "sa TP Phys MIPC A (Bât 13)",
        "sa TP Phys MIPC B (Bât 13)",
        "sa TP Phys nucléaire (Bât 12)",
        "sa TP Phys solide 54 (Bât 14)",
        "sa TP Physio animale113 (Bât 26- RdC)",
        "sa TP Physio animale115 (Bât 26- RdC)",
        "sa TP Physio patho Végétale (Bât 2)",
        "sa TP Physio végétale (Bât 5)",
        "sa TP Thermo 35bis (Bât 14)",
        "sa TP Thermo 38bis (Bât 14)"
       ],
       "description": "TP : ",
       "index": 0,
       "layout": "IPY_MODEL_03efccfdd65446088c21cd33f6bae385",
       "style": "IPY_MODEL_396b5a921e354480a9920159a355a6d6"
      }
     },
     "4beeb7fd8dbd4befa4929cd479dae500": {
      "model_module": "@jupyter-widgets/controls",
      "model_module_version": "1.4.0",
      "model_name": "DescriptionStyleModel",
      "state": {
       "description_width": ""
      }
     },
     "4cbc804fe93247c9807da0637ad89595": {
      "model_module": "@jupyter-widgets/controls",
      "model_module_version": "1.4.0",
      "model_name": "VBoxModel",
      "state": {
       "_dom_classes": [
        "widget-interact"
       ],
       "children": [
        "IPY_MODEL_d9d02da8dd6a43fda072dffde742c85f",
        "IPY_MODEL_650879f623534e3fa787ba7416454173"
       ],
       "layout": "IPY_MODEL_0ad4f813b9f044e09a6d4fcd9d63e2d9"
      }
     },
     "4dc0c6f3cdc64086aee7be4ca95c6ad7": {
      "model_module": "@jupyter-widgets/base",
      "model_module_version": "1.1.0",
      "model_name": "LayoutModel",
      "state": {}
     },
     "4f2f265ac0664eb7b58868fde0a41411": {
      "model_module": "@jupyter-widgets/output",
      "model_module_version": "1.0.0",
      "model_name": "OutputModel",
      "state": {
       "layout": "IPY_MODEL_97f6d1b4e9b7409d94f8b6887a0f1e37",
       "outputs": [
        {
         "data": {
          "image/png": "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\n",
          "text/plain": "<Figure size 432x288 with 1 Axes>"
         },
         "metadata": {
          "needs_background": "light"
         },
         "output_type": "display_data"
        }
       ]
      }
     },
     "507f413c8334438ead2860a3b5330766": {
      "model_module": "@jupyter-widgets/controls",
      "model_module_version": "1.4.0",
      "model_name": "DropdownModel",
      "state": {
       "_options_labels": [
        "salle visio 204/Badge (Bât 26- 1er ét.)",
        "salle visio 205/Badge (Bât 26- 1er ét.)",
        "salle visio U2/Badge (Bât 2)",
        "salle visio U3/Badge (Bât 2)",
        "salle visio U4/Badge (Bât 2)"
       ],
       "description": "salle visio : ",
       "index": 4,
       "layout": "IPY_MODEL_13cf782ba40244aca6b19b3117704965",
       "style": "IPY_MODEL_c9b34ce780c040f9ab39c568927530be"
      }
     },
     "51ae78411d5b40bfa47346950f0a4da5": {
      "model_module": "@jupyter-widgets/base",
      "model_module_version": "1.1.0",
      "model_name": "LayoutModel",
      "state": {}
     },
     "5247b693937c46a2bf1924ac8b3daced": {
      "model_module": "@jupyter-widgets/output",
      "model_module_version": "1.0.0",
      "model_name": "OutputModel",
      "state": {
       "layout": "IPY_MODEL_4597de56804b413780c2b554acab6f5d",
       "outputs": [
        {
         "data": {
          "image/png": "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\n",
          "text/plain": "<Figure size 432x288 with 1 Axes>"
         },
         "metadata": {
          "needs_background": "light"
         },
         "output_type": "display_data"
        }
       ]
      }
     },
     "529e0b01fbe84735882dceceb7ce89be": {
      "model_module": "@jupyter-widgets/base",
      "model_module_version": "1.1.0",
      "model_name": "LayoutModel",
      "state": {}
     },
     "52ea179e3161474b9468ec14e73cb6fd": {
      "model_module": "@jupyter-widgets/base",
      "model_module_version": "1.1.0",
      "model_name": "LayoutModel",
      "state": {}
     },
     "530eb064cf9847e39a70ad546470aa19": {
      "model_module": "@jupyter-widgets/base",
      "model_module_version": "1.1.0",
      "model_name": "LayoutModel",
      "state": {}
     },
     "5412a0938e964e44baccdf7d6dc9dbd0": {
      "model_module": "@jupyter-widgets/controls",
      "model_module_version": "1.4.0",
      "model_name": "DropdownModel",
      "state": {
       "_options_labels": [
        "Amphi 111-Vidéo (Bât 26- RdC)",
        "Amphi 112-vidéo (Bât 26- RdC)",
        "Amphi 121-vidéo (Bât 26- RdC)",
        "Amphi A (Bât 1-Admin)",
        "Amphi B (Bât 1-Admin)",
        "Amphi C (Bât 1-Admin)",
        "Amphi D (Bât 1-Admin)",
        "Amphi E (Bât 1-Admin)",
        "Amphi F (Bât 28)",
        "Amphi G (Bât 28)",
        "Amphi H (Bât 28)",
        "Amphi PASTEUR (Bât 2)",
        "Salle Multimédia 1 et 2 (Bât 2)",
        "[Exterieur] 01 (LV)",
        "[Exterieur] 015 (LV)",
        "[Exterieur] 02 (LV)",
        "[Exterieur] 040 (LV) - Studio de danse",
        "[Exterieur] 05 (LV)",
        "[Exterieur] 056 (LV)",
        "[Exterieur] 06 (LV)",
        "[Exterieur] 065 (LV)",
        "[Exterieur] 08 (LV)",
        "[Exterieur] 09 (LV)",
        "[Exterieur] 103 (LV)",
        "[Exterieur] 106 (LV)",
        "[Exterieur] 109 (LV)",
        "[Exterieur] 110 (LV)",
        "[Exterieur] 111 (LV)",
        "[Exterieur] 112 (LV)",
        "[Exterieur] 114 (LV)",
        "[Exterieur] 116 (LV)",
        "[Exterieur] 118 (LV)",
        "[Exterieur] 203 (LV)",
        "[Exterieur] 204 (LV)",
        "[Exterieur] 206 (LV)",
        "[Exterieur] 208 (LV)",
        "[Exterieur] 211 (LV)",
        "[Exterieur] 212 (LV)",
        "[Exterieur] 213 (LV)",
        "[Exterieur] 216 (LV)",
        "[Exterieur] 218 (LV)",
        "[Exterieur] 224 (LV)",
        "[Exterieur] 227 (LV)",
        "[Exterieur] 230 (LV)",
        "[Exterieur] 231 (LV)",
        "[Exterieur] 318  info  (Gavy) 14PC",
        "[Exterieur] 326  (Gavy) 27pl",
        "[Exterieur] 328  (Gavy) 90pl",
        "[Exterieur] 330  info  (Gavy) 14PC",
        "[Exterieur] 336 info  (Gavy) 14PC",
        "[Exterieur] 341 Amphi (Gavy) 90pl",
        "[Exterieur] 440 (FLCE)",
        "[Exterieur] 441 (FLCE)",
        "[Exterieur] A101 (IHT) 30pl + Vp (Arronax)",
        "[Exterieur] A102 (IHT) 50pl + Vp (Nemo)",
        "[Exterieur] Amphi - 057 (LV)",
        "[Exterieur] Amphi 1 (Ireste) 350pl + Vp",
        "[Exterieur] Amphi 1 (Isitem) 200pl +Vp (E102)",
        "[Exterieur] Amphi 2 (Ireste) 160pl +Vp",
        "[Exterieur] Amphi 2 (Isitem) 100pl +Vp (E101)",
        "[Exterieur] Amphi B (Gavy)  210pl",
        "[Exterieur] Amphi BONAMY",
        "[Exterieur] Amphi DOBREE",
        "[Exterieur] Amphi GRASLIN",
        "[Exterieur] Amphi PELLOUTIER",
        "[Exterieur] Amphi SAY",
        "[Exterieur] B015 (IHT) 13 PC (info-Village aerien)",
        "[Exterieur] B016 (IHT) 20pl (Volcan d or)",
        "[Exterieur] B017 (Ireste) 13 PC (info)",
        "[Exterieur] B023 (IHT) 20pl + Vp (Archipel en feu)",
        "[Exterieur] B024 (IHT) 20pl + Vp (Etoile du Sud)",
        "[Exterieur] Bias Salle 051",
        "[Exterieur] Bias Salle 052",
        "[Exterieur] Bias Salle 121",
        "[Exterieur] Bias Salle 135 - Réunion",
        "[Exterieur] Bias Salle 161-122",
        "[Exterieur] Bias Salle 162",
        "[Exterieur] Bias Salle 163-164",
        "[Exterieur] Bias Salle 165",
        "[Exterieur] Bias Salle 166",
        "[Exterieur] Bias Salle 167",
        "[Exterieur] Bias Salle 205",
        "[Exterieur] Bias Salle 206",
        "[Exterieur] Bias Salle 207",
        "[Exterieur] Bias Salle 208",
        "[Exterieur] Bias Salle Info 450",
        "[Exterieur] Bias Salle Info 452",
        "[Exterieur] Bias Salle Info 456",
        "[Exterieur] Bias Salle Info 458",
        "[Exterieur] C002 (Censive)",
        "[Exterieur] C002 (IRESTE) 13PC + Vp (info)",
        "[Exterieur] C003 (Ireste) 13PC (info)",
        "[Exterieur] C004 (Censive)",
        "[Exterieur] C008 (Censive)",
        "[Exterieur] C008 (IRESTE) 50pl + VP",
        "[Exterieur] C024 (Censive)",
        "[Exterieur] C027 (Censive)",
        "[Exterieur] C901 (Censive)",
        "[Exterieur] C905 (Censive)",
        "[Exterieur] C906 (Censive)",
        "[Exterieur] D-Amphi Louis Lorvellec (Bât A)",
        "[Exterieur] D004 (Ireste) 65pl + Vp (Cours)",
        "[Exterieur] D010 (Ireste) 48pl + Vp (Cours)",
        "[Exterieur] D013 (Ireste) 110pl + Vp (Cours-Examens)",
        "[Exterieur] E-Amphi (Bât A)",
        "[Exterieur] E202 (Ireste) 36pl + Vp (TD)",
        "[Exterieur] Erdre Salle 112",
        "[Exterieur] Erdre Salle 113",
        "[Exterieur] Erdre Salle 114",
        "[Exterieur] Erdre Salle 123",
        "[Exterieur] Erdre Salle 124",
        "[Exterieur] Erdre Salle 125",
        "[Exterieur] Erdre Salle 126",
        "[Exterieur] Erdre Salle 128",
        "[Exterieur] Erdre Salle 131",
        "[Exterieur] Erdre Salle 237",
        "[Exterieur] Erdre Salle 238",
        "[Exterieur] Erdre Salle 239",
        "[Exterieur] Erdre Salle 241",
        "[Exterieur] Erdre Salle 243",
        "[Exterieur] Erdre Salle 244",
        "[Exterieur] Erdre Salle 246",
        "[Exterieur] Erdre Salle 340",
        "[Exterieur] Fourier (Isitem) 15PC (info E029)",
        "[Exterieur] Laplace (Isitem) 15PC + Vp (Info E023)",
        "[Exterieur] Med 201A",
        "[Exterieur] Med 243",
        "[Exterieur] Med 244",
        "[Exterieur] Med 302",
        "[Exterieur] Med 303",
        "[Exterieur] Med 338",
        "[Exterieur] Med 339",
        "[Exterieur] Med 340",
        "[Exterieur] Med 504",
        "[Exterieur] Med Amphi 2",
        "[Exterieur] Med Amphi 3",
        "[Exterieur] Med Amphi 4",
        "[Exterieur] Med Amphi 5",
        "[Exterieur] Med Amphi 6",
        "[Exterieur] Med Amphi 7",
        "[Exterieur] Med Amphi 8",
        "[Exterieur] Med Salle 241-242 MANIMAL",
        "[Exterieur] Med Salle V.GOURNAY",
        "[Exterieur] Pas de salle",
        "[Exterieur] Salle Manquante",
        "[Exterieur] Salle extérieure",
        "[Exterieur] Salle à définir IAE",
        "[Exterieur] T020 (Isitem) 24pl + Vp (TP Matériaux)",
        "[Exterieur] T034 (Isitem) 12pl (TP/Labo)",
        "[Exterieur] T101 (Tertre)",
        "[Exterieur] T103 (Tertre)",
        "[Exterieur] T114 (Tertre)",
        "[Exterieur] T120 (Tertre)",
        "[Exterieur] T121 (Tertre)",
        "[Exterieur] T123 (Tertre)",
        "[Exterieur] T203 (Tertre)",
        "[Exterieur] T215 (Tertre)",
        "[Exterieur] T216 (Tertre)",
        "[Exterieur] T221 (Tertre)",
        "[Exterieur] Td5 (Isitem) 48pl + Vp (E122)",
        "[Exterieur] Td6 (Isitem) 48pl + Vp (E123)",
        "[Exterieur] Td7 (Isitem) 48pl + Vp (E124)",
        "[Exterieur] Td8 (Isitem) 100pl + Vp (Examen E125)",
        "[Exterieur] salle 925 IMAR",
        "[Exterieur] salle 929 IMAR",
        "sa TD 006 PECB-sans vidéo (Bât 5)",
        "sa TD 01 (Bât 1-Admin)",
        "sa TD 02 (Bât 1-Admin)",
        "sa TD 03 (Bât 1-Admin)",
        "sa TD 04 (Bât 1-Admin)",
        "sa TD 05 (Bât 1-Admin)",
        "sa TD 06 (Bât 1-Admin)",
        "sa TD 07 (Bât 1-Admin)",
        "sa TD 08 (Bât 1-Admin)",
        "sa TD 09 (Bât 1-Admin)",
        "sa TD 10 (Bât 1-Admin)",
        "sa TD 100 (Bât 26- RdC)",
        "sa TD 110- sans vidéo (Bât 26- RdC)",
        "sa TD 117 (Bât 26- RdC)",
        "sa TD 119-Manuf.Projets (Bât 26- RdC)",
        "sa TD 12 (Bât 1-Admin)",
        "sa TD 13 (Bât 1-Admin)",
        "sa TD 14 (Bât 1-Admin)",
        "sa TD 15 (Bât 1-Admin)",
        "sa TD 18-sans vidéo (Bât 13)",
        "sa TD 20 (Bât 18-B U)",
        "sa TD 200-îlot (Bât 26- 1er ét.)",
        "sa TD 201-anglais/badge (Bât 26- 1er ét.)",
        "sa TD 206-anglais/Badge (Bât 26- 1er ét.)",
        "sa TD 207-Studio Crs/Badge (Bât 26- 1er ét.)",
        "sa TD 208-îlot (Bât 26- 1er ét.)",
        "sa TD 209-îlot (Bât 26- 1er ét.)",
        "sa TD 21 (Bât 18-B U)",
        "sa TD 210-îlot (Bât 26- 1er ét.)",
        "sa TD 211 (Bât 26- 1er ét.)",
        "sa TD 212 (Bât 26- 1er ét.)",
        "sa TD 213 (Bât 26- 1er ét.)",
        "sa TD 214 (Bât 26- 1er ét.)",
        "sa TD 215 (Bât 26- 1er ét.)",
        "sa TD 22 (Bât 18-B U)",
        "sa TD 23 (Bât 18-B U)",
        "sa TD 24 (Bât 18-B U)",
        "sa TD 25 (Bât 18-B U)",
        "sa TD 26 (Bât 18-B U)",
        "sa TD 27 (Bât 18-B U)",
        "sa TD 28 (Bât 18-B U)",
        "sa TD 29 (Bât 18-B U)",
        "sa TD 30-sans vidéo (Bât 5)",
        "sa TD 41 (Bât 14)",
        "sa TD 43 (Bât 14)",
        "sa TD 45 (Bât 14)",
        "sa TD 48 (Bât 14)",
        "sa TD B (Bât 1-Admin)",
        "sa TD D (Bât 1-Admin)",
        "sa TD E (Bât 1-Admin)",
        "sa TD U1-Studio Crs/Badge (Bât 2)",
        "sa TD U5 (Bât 2)",
        "sa TD U6 (Bât 2)",
        "sa TD U7-ilôt/Badge (Bât 2)",
        "sa TD U8-ilôt/Badge (Bât 2)",
        "sa TP 33Géol (Bât 14)",
        "sa TP 34Geol-vidéo (Bât 14)",
        "sa TP 35Geol-vidéo (Bât 14)",
        "sa TP 36Geol-vidéo (Bât 14)",
        "sa TP 38Geol-vidéo (Bât 14)",
        "sa TP 65Geol-vidéo (Bât 13)",
        "sa TP Automatique 59 (Bât 14)",
        "sa TP B1 Bio animale L2-vidéo (Bât 6)",
        "sa TP B2 Bio animale L1-vidéo (Bât 6)",
        "sa TP B3 Taxo-Ecologie (Bât 6)",
        "sa TP B5 Biocell-Immuno (Bât 13)",
        "sa TP Bio animale 32-vidéo (Bât 5)",
        "sa TP Bio végétale-vidéo (Bât 5)",
        "sa TP Biocell  110-vidéo (Bât 5)",
        "sa TP Bioch A (Bât 13)",
        "sa TP Bioch B (Bât 13)",
        "sa TP Bioch-biomol (Bât 2)",
        "sa TP Biotech-biomol (Bât 2)",
        "sa TP Ch Générale A (Bât 12)",
        "sa TP Ch Générale B (Bât 12)",
        "sa TP Ch Orga 1 (Bât 2)",
        "sa TP Ch Orga 2 (Bât 2)",
        "sa TP Ch Organique E (Bât 12)",
        "sa TP Ch Organique F (Bât 12)",
        "sa TP Ch inorganique C (Bât 12)",
        "sa TP Ch inorganique D (Bât 12)",
        "sa TP Ch organique G (Bât 12)",
        "sa TP Ch- Phys 1 (Bât 2)",
        "sa TP Ch- Phys 2 (Bât 2)",
        "sa TP Ecologie-vidéo (Bât 5)",
        "sa TP Electro 61 (Bât 14)",
        "sa TP Info indus 57 (Bât 14)",
        "sa TP Microbio (Bât 2)",
        "sa TP Méca 37bis (Bât 14)",
        "sa TP Optoélectr 55 (Bât 14)",
        "sa TP Phys 50 (Bât 14)",
        "sa TP Phys BGC (Bât 13)",
        "sa TP Phys CAPES  60 (Bât 14)",
        "sa TP Phys MIPC A (Bât 13)",
        "sa TP Phys MIPC B (Bât 13)",
        "sa TP Phys nucléaire (Bât 12)",
        "sa TP Phys solide 54 (Bât 14)",
        "sa TP Physio animale113 (Bât 26- RdC)",
        "sa TP Physio animale115 (Bât 26- RdC)",
        "sa TP Physio patho Végétale (Bât 2)",
        "sa TP Physio végétale (Bât 5)",
        "sa TP Thermo 35bis (Bât 14)",
        "sa TP Thermo 38bis (Bât 14)",
        "salle TP Projets L1-L2 (Bât 13)",
        "salle info 1-vidéo/badge (Bât 2)",
        "salle info 2-vidéo/Badge (Bât 2)",
        "salle info I01-vidéo (Bât 15-C I E)",
        "salle info I011-vidéo/badge (Bât 15-C I E)",
        "salle info I012-vidéo (Bât 15-C I E)",
        "salle info I019-vidéo/badge (Bât 15-C I E)",
        "salle info I03-vidéo (Bât 15-C I E)",
        "salle info I04-vidéo (Bât 15-C I E)",
        "salle info I040-vidéo (Bât 14)",
        "salle info I042-vidéo (Bât 14)",
        "salle info I047-vidéo/badge (Bât 14)",
        "salle info I05-vidéo (Bât 15-C I E)",
        "salle info I121-vidéo (Bât 15-C I E)",
        "salle info I123-vidéo (Bât 15-C I E)",
        "salle info I124-vidéo/badge (Bât 15-C I E)",
        "salle info I125-vidéo (Bât 15-C I E)",
        "salle info S046-Vidéo/badge (Bât 14)",
        "salle info S049-vidéo (Bât 14)",
        "salle info SPE 46-vidéo/badge (Bât 13)",
        "salle visio 204/Badge (Bât 26- 1er ét.)",
        "salle visio 205/Badge (Bât 26- 1er ét.)",
        "salle visio U2/Badge (Bât 2)",
        "salle visio U3/Badge (Bât 2)",
        "salle visio U4/Badge (Bât 2)"
       ],
       "description": "salle visio : ",
       "index": 3,
       "layout": "IPY_MODEL_fd50f69941a94992a0298f5b41291962",
       "style": "IPY_MODEL_8925b50948a64b7fa5ba1cc51c1be85d"
      }
     },
     "54ee6be9d6c948d49f427d130cdb9f58": {
      "model_module": "@jupyter-widgets/base",
      "model_module_version": "1.1.0",
      "model_name": "LayoutModel",
      "state": {}
     },
     "5525fcbc0e9b4b12bfe8194b3199e4de": {
      "model_module": "@jupyter-widgets/base",
      "model_module_version": "1.1.0",
      "model_name": "LayoutModel",
      "state": {}
     },
     "554043f13ca84a6e96f2d65f7cd3ed48": {
      "model_module": "@jupyter-widgets/controls",
      "model_module_version": "1.4.0",
      "model_name": "VBoxModel",
      "state": {
       "_dom_classes": [
        "widget-interact"
       ],
       "children": [
        "IPY_MODEL_9da39a54d67e4ecdbf9d0e7991f97fc6",
        "IPY_MODEL_95ffcabd483c4f36b73fc83acad41b46"
       ],
       "layout": "IPY_MODEL_6e1496d2b0b2481e961932efde13bbc4"
      }
     },
     "568a442c19ae4b62a3af4460fa4e0eff": {
      "model_module": "@jupyter-widgets/base",
      "model_module_version": "1.1.0",
      "model_name": "LayoutModel",
      "state": {}
     },
     "5834f57391b743edbc994ffae290008b": {
      "model_module": "@jupyter-widgets/output",
      "model_module_version": "1.0.0",
      "model_name": "OutputModel",
      "state": {
       "layout": "IPY_MODEL_77bb78158d1146f6b402335ccd053086"
      }
     },
     "58942bcfd7c540049db8445bc69be2d6": {
      "model_module": "@jupyter-widgets/controls",
      "model_module_version": "1.4.0",
      "model_name": "VBoxModel",
      "state": {
       "_dom_classes": [
        "widget-interact"
       ],
       "children": [
        "IPY_MODEL_dd4f777a005a4934b66ac30bf4008657",
        "IPY_MODEL_298a43527fd440e1bfe069acde44c7f3"
       ],
       "layout": "IPY_MODEL_44d9253a48424015b38ed8413a4c573e"
      }
     },
     "5ad300e5783f4ba8a9bed7f90d6cda80": {
      "model_module": "@jupyter-widgets/base",
      "model_module_version": "1.1.0",
      "model_name": "LayoutModel",
      "state": {}
     },
     "5b54ddd7c5c74f93a551da6ad088b15b": {
      "model_module": "@jupyter-widgets/controls",
      "model_module_version": "1.4.0",
      "model_name": "DescriptionStyleModel",
      "state": {
       "description_width": ""
      }
     },
     "5c93d819e48c43a6a2eda1e367885185": {
      "model_module": "@jupyter-widgets/controls",
      "model_module_version": "1.4.0",
      "model_name": "VBoxModel",
      "state": {
       "_dom_classes": [
        "widget-interact"
       ],
       "children": [
        "IPY_MODEL_3ed24eface2b431bbfd1690ed9e92d09",
        "IPY_MODEL_09a60ec50cfb433aa20fc5fb455f5461"
       ],
       "layout": "IPY_MODEL_6ef589c572014111852e4f30ef5c841a"
      }
     },
     "5cb2032f14e34db0ba8e0717ca685654": {
      "model_module": "@jupyter-widgets/controls",
      "model_module_version": "1.4.0",
      "model_name": "VBoxModel",
      "state": {
       "_dom_classes": [
        "widget-interact"
       ],
       "children": [
        "IPY_MODEL_075e45a42a2d47a283d49b0957e03cb4",
        "IPY_MODEL_0fa0f4f2816d4771814dff0bb4e62fa3"
       ],
       "layout": "IPY_MODEL_fc8979e9c8e14d33bc29a63d219c4c85"
      }
     },
     "5cfa37378c194ffe8d32d1bb873795fa": {
      "model_module": "@jupyter-widgets/controls",
      "model_module_version": "1.4.0",
      "model_name": "DropdownModel",
      "state": {
       "_options_labels": [
        "Amphi 111-Vidéo (Bât 26- RdC)",
        "Amphi 112-vidéo (Bât 26- RdC)",
        "Amphi 121-vidéo (Bât 26- RdC)",
        "Amphi A (Bât 1-Admin)",
        "Amphi B (Bât 1-Admin)",
        "Amphi C (Bât 1-Admin)",
        "Amphi D (Bât 1-Admin)",
        "Amphi E (Bât 1-Admin)",
        "Amphi F (Bât 28)",
        "Amphi G (Bât 28)",
        "Amphi H (Bât 28)",
        "Amphi PASTEUR (Bât 2)",
        "Salle Multimédia 1 et 2 (Bât 2)",
        "[Exterieur] 01 (LV)",
        "[Exterieur] 015 (LV)",
        "[Exterieur] 02 (LV)",
        "[Exterieur] 040 (LV) - Studio de danse",
        "[Exterieur] 05 (LV)",
        "[Exterieur] 056 (LV)",
        "[Exterieur] 06 (LV)",
        "[Exterieur] 065 (LV)",
        "[Exterieur] 08 (LV)",
        "[Exterieur] 09 (LV)",
        "[Exterieur] 103 (LV)",
        "[Exterieur] 106 (LV)",
        "[Exterieur] 109 (LV)",
        "[Exterieur] 110 (LV)",
        "[Exterieur] 111 (LV)",
        "[Exterieur] 112 (LV)",
        "[Exterieur] 114 (LV)",
        "[Exterieur] 116 (LV)",
        "[Exterieur] 118 (LV)",
        "[Exterieur] 203 (LV)",
        "[Exterieur] 204 (LV)",
        "[Exterieur] 206 (LV)",
        "[Exterieur] 208 (LV)",
        "[Exterieur] 211 (LV)",
        "[Exterieur] 212 (LV)",
        "[Exterieur] 213 (LV)",
        "[Exterieur] 216 (LV)",
        "[Exterieur] 218 (LV)",
        "[Exterieur] 224 (LV)",
        "[Exterieur] 227 (LV)",
        "[Exterieur] 230 (LV)",
        "[Exterieur] 231 (LV)",
        "[Exterieur] 318  info  (Gavy) 14PC",
        "[Exterieur] 326  (Gavy) 27pl",
        "[Exterieur] 328  (Gavy) 90pl",
        "[Exterieur] 330  info  (Gavy) 14PC",
        "[Exterieur] 336 info  (Gavy) 14PC",
        "[Exterieur] 341 Amphi (Gavy) 90pl",
        "[Exterieur] 440 (FLCE)",
        "[Exterieur] 441 (FLCE)",
        "[Exterieur] A101 (IHT) 30pl + Vp (Arronax)",
        "[Exterieur] A102 (IHT) 50pl + Vp (Nemo)",
        "[Exterieur] Amphi - 057 (LV)",
        "[Exterieur] Amphi 1 (Ireste) 350pl + Vp",
        "[Exterieur] Amphi 1 (Isitem) 200pl +Vp (E102)",
        "[Exterieur] Amphi 2 (Ireste) 160pl +Vp",
        "[Exterieur] Amphi 2 (Isitem) 100pl +Vp (E101)",
        "[Exterieur] Amphi B (Gavy)  210pl",
        "[Exterieur] Amphi BONAMY",
        "[Exterieur] Amphi DOBREE",
        "[Exterieur] Amphi GRASLIN",
        "[Exterieur] Amphi PELLOUTIER",
        "[Exterieur] Amphi SAY",
        "[Exterieur] B015 (IHT) 13 PC (info-Village aerien)",
        "[Exterieur] B016 (IHT) 20pl (Volcan d or)",
        "[Exterieur] B017 (Ireste) 13 PC (info)",
        "[Exterieur] B023 (IHT) 20pl + Vp (Archipel en feu)",
        "[Exterieur] B024 (IHT) 20pl + Vp (Etoile du Sud)",
        "[Exterieur] Bias Salle 051",
        "[Exterieur] Bias Salle 052",
        "[Exterieur] Bias Salle 121",
        "[Exterieur] Bias Salle 135 - Réunion",
        "[Exterieur] Bias Salle 161-122",
        "[Exterieur] Bias Salle 162",
        "[Exterieur] Bias Salle 163-164",
        "[Exterieur] Bias Salle 165",
        "[Exterieur] Bias Salle 166",
        "[Exterieur] Bias Salle 167",
        "[Exterieur] Bias Salle 205",
        "[Exterieur] Bias Salle 206",
        "[Exterieur] Bias Salle 207",
        "[Exterieur] Bias Salle 208",
        "[Exterieur] Bias Salle Info 450",
        "[Exterieur] Bias Salle Info 452",
        "[Exterieur] Bias Salle Info 456",
        "[Exterieur] Bias Salle Info 458",
        "[Exterieur] C002 (Censive)",
        "[Exterieur] C002 (IRESTE) 13PC + Vp (info)",
        "[Exterieur] C003 (Ireste) 13PC (info)",
        "[Exterieur] C004 (Censive)",
        "[Exterieur] C008 (Censive)",
        "[Exterieur] C008 (IRESTE) 50pl + VP",
        "[Exterieur] C024 (Censive)",
        "[Exterieur] C027 (Censive)",
        "[Exterieur] C901 (Censive)",
        "[Exterieur] C905 (Censive)",
        "[Exterieur] C906 (Censive)",
        "[Exterieur] D-Amphi Louis Lorvellec (Bât A)",
        "[Exterieur] D004 (Ireste) 65pl + Vp (Cours)",
        "[Exterieur] D010 (Ireste) 48pl + Vp (Cours)",
        "[Exterieur] D013 (Ireste) 110pl + Vp (Cours-Examens)",
        "[Exterieur] E-Amphi (Bât A)",
        "[Exterieur] E202 (Ireste) 36pl + Vp (TD)",
        "[Exterieur] Erdre Salle 112",
        "[Exterieur] Erdre Salle 113",
        "[Exterieur] Erdre Salle 114",
        "[Exterieur] Erdre Salle 123",
        "[Exterieur] Erdre Salle 124",
        "[Exterieur] Erdre Salle 125",
        "[Exterieur] Erdre Salle 126",
        "[Exterieur] Erdre Salle 128",
        "[Exterieur] Erdre Salle 131",
        "[Exterieur] Erdre Salle 237",
        "[Exterieur] Erdre Salle 238",
        "[Exterieur] Erdre Salle 239",
        "[Exterieur] Erdre Salle 241",
        "[Exterieur] Erdre Salle 243",
        "[Exterieur] Erdre Salle 244",
        "[Exterieur] Erdre Salle 246",
        "[Exterieur] Erdre Salle 340",
        "[Exterieur] Fourier (Isitem) 15PC (info E029)",
        "[Exterieur] Laplace (Isitem) 15PC + Vp (Info E023)",
        "[Exterieur] Med 201A",
        "[Exterieur] Med 243",
        "[Exterieur] Med 244",
        "[Exterieur] Med 302",
        "[Exterieur] Med 303",
        "[Exterieur] Med 338",
        "[Exterieur] Med 339",
        "[Exterieur] Med 340",
        "[Exterieur] Med 504",
        "[Exterieur] Med Amphi 2",
        "[Exterieur] Med Amphi 3",
        "[Exterieur] Med Amphi 4",
        "[Exterieur] Med Amphi 5",
        "[Exterieur] Med Amphi 6",
        "[Exterieur] Med Amphi 7",
        "[Exterieur] Med Amphi 8",
        "[Exterieur] Med Salle 241-242 MANIMAL",
        "[Exterieur] Med Salle V.GOURNAY",
        "[Exterieur] Pas de salle",
        "[Exterieur] Salle Manquante",
        "[Exterieur] Salle extérieure",
        "[Exterieur] Salle à définir IAE",
        "[Exterieur] T020 (Isitem) 24pl + Vp (TP Matériaux)",
        "[Exterieur] T034 (Isitem) 12pl (TP/Labo)",
        "[Exterieur] T101 (Tertre)",
        "[Exterieur] T103 (Tertre)",
        "[Exterieur] T114 (Tertre)",
        "[Exterieur] T120 (Tertre)",
        "[Exterieur] T121 (Tertre)",
        "[Exterieur] T123 (Tertre)",
        "[Exterieur] T203 (Tertre)",
        "[Exterieur] T215 (Tertre)",
        "[Exterieur] T216 (Tertre)",
        "[Exterieur] T221 (Tertre)",
        "[Exterieur] Td5 (Isitem) 48pl + Vp (E122)",
        "[Exterieur] Td6 (Isitem) 48pl + Vp (E123)",
        "[Exterieur] Td7 (Isitem) 48pl + Vp (E124)",
        "[Exterieur] Td8 (Isitem) 100pl + Vp (Examen E125)",
        "[Exterieur] salle 925 IMAR",
        "[Exterieur] salle 929 IMAR",
        "sa TD 006 PECB-sans vidéo (Bât 5)",
        "sa TD 01 (Bât 1-Admin)",
        "sa TD 02 (Bât 1-Admin)",
        "sa TD 03 (Bât 1-Admin)",
        "sa TD 04 (Bât 1-Admin)",
        "sa TD 05 (Bât 1-Admin)",
        "sa TD 06 (Bât 1-Admin)",
        "sa TD 07 (Bât 1-Admin)",
        "sa TD 08 (Bât 1-Admin)",
        "sa TD 09 (Bât 1-Admin)",
        "sa TD 10 (Bât 1-Admin)",
        "sa TD 100 (Bât 26- RdC)",
        "sa TD 110- sans vidéo (Bât 26- RdC)",
        "sa TD 117 (Bât 26- RdC)",
        "sa TD 119-Manuf.Projets (Bât 26- RdC)",
        "sa TD 12 (Bât 1-Admin)",
        "sa TD 13 (Bât 1-Admin)",
        "sa TD 14 (Bât 1-Admin)",
        "sa TD 15 (Bât 1-Admin)",
        "sa TD 18-sans vidéo (Bât 13)",
        "sa TD 20 (Bât 18-B U)",
        "sa TD 200-îlot (Bât 26- 1er ét.)",
        "sa TD 201-anglais/badge (Bât 26- 1er ét.)",
        "sa TD 206-anglais/Badge (Bât 26- 1er ét.)",
        "sa TD 207-Studio Crs/Badge (Bât 26- 1er ét.)",
        "sa TD 208-îlot (Bât 26- 1er ét.)",
        "sa TD 209-îlot (Bât 26- 1er ét.)",
        "sa TD 21 (Bât 18-B U)",
        "sa TD 210-îlot (Bât 26- 1er ét.)",
        "sa TD 211 (Bât 26- 1er ét.)",
        "sa TD 212 (Bât 26- 1er ét.)",
        "sa TD 213 (Bât 26- 1er ét.)",
        "sa TD 214 (Bât 26- 1er ét.)",
        "sa TD 215 (Bât 26- 1er ét.)",
        "sa TD 22 (Bât 18-B U)",
        "sa TD 23 (Bât 18-B U)",
        "sa TD 24 (Bât 18-B U)",
        "sa TD 25 (Bât 18-B U)",
        "sa TD 26 (Bât 18-B U)",
        "sa TD 27 (Bât 18-B U)",
        "sa TD 28 (Bât 18-B U)",
        "sa TD 29 (Bât 18-B U)",
        "sa TD 30-sans vidéo (Bât 5)",
        "sa TD 41 (Bât 14)",
        "sa TD 43 (Bât 14)",
        "sa TD 45 (Bât 14)",
        "sa TD 48 (Bât 14)",
        "sa TD B (Bât 1-Admin)",
        "sa TD D (Bât 1-Admin)",
        "sa TD E (Bât 1-Admin)",
        "sa TD U1-Studio Crs/Badge (Bât 2)",
        "sa TD U5 (Bât 2)",
        "sa TD U6 (Bât 2)",
        "sa TD U7-ilôt/Badge (Bât 2)",
        "sa TD U8-ilôt/Badge (Bât 2)",
        "sa TP 33Géol (Bât 14)",
        "sa TP 34Geol-vidéo (Bât 14)",
        "sa TP 35Geol-vidéo (Bât 14)",
        "sa TP 36Geol-vidéo (Bât 14)",
        "sa TP 38Geol-vidéo (Bât 14)",
        "sa TP 65Geol-vidéo (Bât 13)",
        "sa TP Automatique 59 (Bât 14)",
        "sa TP B1 Bio animale L2-vidéo (Bât 6)",
        "sa TP B2 Bio animale L1-vidéo (Bât 6)",
        "sa TP B3 Taxo-Ecologie (Bât 6)",
        "sa TP B5 Biocell-Immuno (Bât 13)",
        "sa TP Bio animale 32-vidéo (Bât 5)",
        "sa TP Bio végétale-vidéo (Bât 5)",
        "sa TP Biocell  110-vidéo (Bât 5)",
        "sa TP Bioch A (Bât 13)",
        "sa TP Bioch B (Bât 13)",
        "sa TP Bioch-biomol (Bât 2)",
        "sa TP Biotech-biomol (Bât 2)",
        "sa TP Ch Générale A (Bât 12)",
        "sa TP Ch Générale B (Bât 12)",
        "sa TP Ch Orga 1 (Bât 2)",
        "sa TP Ch Orga 2 (Bât 2)",
        "sa TP Ch Organique E (Bât 12)",
        "sa TP Ch Organique F (Bât 12)",
        "sa TP Ch inorganique C (Bât 12)",
        "sa TP Ch inorganique D (Bât 12)",
        "sa TP Ch organique G (Bât 12)",
        "sa TP Ch- Phys 1 (Bât 2)",
        "sa TP Ch- Phys 2 (Bât 2)",
        "sa TP Ecologie-vidéo (Bât 5)",
        "sa TP Electro 61 (Bât 14)",
        "sa TP Info indus 57 (Bât 14)",
        "sa TP Microbio (Bât 2)",
        "sa TP Méca 37bis (Bât 14)",
        "sa TP Optoélectr 55 (Bât 14)",
        "sa TP Phys 50 (Bât 14)",
        "sa TP Phys BGC (Bât 13)",
        "sa TP Phys CAPES  60 (Bât 14)",
        "sa TP Phys MIPC A (Bât 13)",
        "sa TP Phys MIPC B (Bât 13)",
        "sa TP Phys nucléaire (Bât 12)",
        "sa TP Phys solide 54 (Bât 14)",
        "sa TP Physio animale113 (Bât 26- RdC)",
        "sa TP Physio animale115 (Bât 26- RdC)",
        "sa TP Physio patho Végétale (Bât 2)",
        "sa TP Physio végétale (Bât 5)",
        "sa TP Thermo 35bis (Bât 14)",
        "sa TP Thermo 38bis (Bât 14)",
        "salle TP Projets L1-L2 (Bât 13)",
        "salle info 1-vidéo/badge (Bât 2)",
        "salle info 2-vidéo/Badge (Bât 2)",
        "salle info I01-vidéo (Bât 15-C I E)",
        "salle info I011-vidéo/badge (Bât 15-C I E)",
        "salle info I012-vidéo (Bât 15-C I E)",
        "salle info I019-vidéo/badge (Bât 15-C I E)",
        "salle info I03-vidéo (Bât 15-C I E)",
        "salle info I04-vidéo (Bât 15-C I E)",
        "salle info I040-vidéo (Bât 14)",
        "salle info I042-vidéo (Bât 14)",
        "salle info I047-vidéo/badge (Bât 14)",
        "salle info I05-vidéo (Bât 15-C I E)",
        "salle info I121-vidéo (Bât 15-C I E)",
        "salle info I123-vidéo (Bât 15-C I E)",
        "salle info I124-vidéo/badge (Bât 15-C I E)",
        "salle info I125-vidéo (Bât 15-C I E)",
        "salle info S046-Vidéo/badge (Bât 14)",
        "salle info S049-vidéo (Bât 14)",
        "salle info SPE 46-vidéo/badge (Bât 13)",
        "salle visio 204/Badge (Bât 26- 1er ét.)",
        "salle visio 205/Badge (Bât 26- 1er ét.)",
        "salle visio U2/Badge (Bât 2)",
        "salle visio U3/Badge (Bât 2)",
        "salle visio U4/Badge (Bât 2)"
       ],
       "description": "salle visio : ",
       "index": 3,
       "layout": "IPY_MODEL_97e87c5669b74c3ba6e21e5efb603f39",
       "style": "IPY_MODEL_c581f97fe8f146189ee94fda4ae299c4"
      }
     },
     "5f2cf991d64747fe974d935e83c02118": {
      "model_module": "@jupyter-widgets/base",
      "model_module_version": "1.1.0",
      "model_name": "LayoutModel",
      "state": {}
     },
     "5f9b94eff7ec436fabee87ce122a5492": {
      "model_module": "@jupyter-widgets/controls",
      "model_module_version": "1.4.0",
      "model_name": "DescriptionStyleModel",
      "state": {
       "description_width": ""
      }
     },
     "5fa4a0cdf32e4ac68d8cbb4689062932": {
      "model_module": "@jupyter-widgets/base",
      "model_module_version": "1.1.0",
      "model_name": "LayoutModel",
      "state": {}
     },
     "63619619e2f64af6aa02f4d9e122a9c4": {
      "model_module": "@jupyter-widgets/controls",
      "model_module_version": "1.4.0",
      "model_name": "VBoxModel",
      "state": {
       "_dom_classes": [
        "widget-interact"
       ],
       "children": [
        "IPY_MODEL_f394d63a002c483c8816481e64b31e03",
        "IPY_MODEL_188ff76e13684ee5b266f0badaf60aa8"
       ],
       "layout": "IPY_MODEL_b5eb0c60ccd34a778124cd3fd74a1b9b"
      }
     },
     "6362fca81e0249e6b1836369821a6f91": {
      "model_module": "@jupyter-widgets/controls",
      "model_module_version": "1.4.0",
      "model_name": "DescriptionStyleModel",
      "state": {
       "description_width": ""
      }
     },
     "64bc8f8dd37244ca867a1b972853ecdc": {
      "model_module": "@jupyter-widgets/base",
      "model_module_version": "1.1.0",
      "model_name": "LayoutModel",
      "state": {}
     },
     "650879f623534e3fa787ba7416454173": {
      "model_module": "@jupyter-widgets/output",
      "model_module_version": "1.0.0",
      "model_name": "OutputModel",
      "state": {
       "layout": "IPY_MODEL_54ee6be9d6c948d49f427d130cdb9f58",
       "outputs": [
        {
         "name": "stdout",
         "output_type": "stream",
         "text": "Amphi 111-Vidéo (Bât 26- RdC)\n128 matières et  191 groupes\n----- Matières ------\n['Compléments Mathématiques et Informatiques (X11X020)', 'Mathématiques 1 (X11M010)', 'Informatique (X11I010)', 'Initiation informatique pour BGC (X11I020)', 'Mathématiques 1 (XA1M010)', 'Chimie : atome, liaison, molécule (XA1C010)', 'Anglais Général (X11A010)', 'Biologie des organismes - Biologie animale 1 (X11B021)', 'Sciences de la Terre (X11G010)', \"Sciences de l'Univers (X11G020)\", 'Chimie générale pour les Sciences de la Vie (X12C050)', 'Mécanique du point matériel 1 (X11P012)', 'Chimie : atome, liaison, molécule (X11C010)', 'Outils de calcul pour les sciences (XA1T020)', 'Apprentissage par problème (APP) (XA2T020)', 'Base de logique numérique (X11P020)', 'Outils de calcul pour les sciences (X11T020)', 'Logique, dénombrement et suites numériques (X12M040)', 'Biosciences (XA1B020)', 'Biologie des organismes - Biologie Végétale 1 (X11B022)', 'Electricité (X11P011)', \"Risques chim.-Intro aux matériaux pour l'environ. (X21C080)\", 'Anglais scientifique général (X21A010)', 'Photosynthèse et développement des plantes (X21B040)', 'Minéralogie et pétrologie endogène (X21G010)', 'Immunologie (X22B200)', \"Mathématiques pour l'informatique 2 (X22M080)\", 'Équilibres chimiques en solution aqueuse (X21C020)', 'Algèbre linéaire pour PC (X21M100)', 'Suites et séries de fonctions (X22M030)', 'Création numérique & Algorithmique numérique (X22I050)', 'Groupes et symétries (X21M050)', 'Optique géométrique et ondulatoire (X21P020)', 'Analyses physico-chimiques (X21C050)', 'Les bases de la chimie organique descriptive (X21C160)', 'Séries numériques et probabilités discrètes (X21M030)', 'Processus sédim. et envir. continentaux & côtiers (X21G041)', 'Probabilités appliquées et Statistique (X22M010)', 'Outils Mathématiques 2 (X21P060)', 'Atomistique, liaison chimique (X21C090)', 'Mathématique Préparation aux Concours B (X21X011)', 'Electromagnétisme 1 (X21P010), Mécanique Quantique (X31P020)', 'Physico-chimie organique (X31C110)', 'Physique Subatomique 1 (X31P051)', 'Physiologie végétale pour BGE (X31B260)', 'Immunopathologies (X32B020)', 'Energie et Ressources (X32G020)', 'Analyse numérique 2 (X32M020)', 'Thermodyn. systèmes physiques et approche stat. (X32P011)', 'Biologie Moléculaire 3 : Manipulation des génomes (X32B040)', 'Nutrition Plante & Santé (X31B070)', 'Physique Moderne 2 (X31P040)', 'Langage et automates (X31I030)', 'Physique Subatomique 2 (X31P052)', 'Les grands principes réactionnels (X32CB50)', 'Stage SVT (X32T020)', 'Electromagnétisme 3 (X31P030)', 'Ondes mécaniques, acoustiques et électromagnétiq. (X32P030)', 'Recherche opérationnelle (X32I030)', 'Chimie théorique 2 (X32C040)', 'Chimie des matériaux (X32C010)', 'Chimie physique 2 (X32C090)', 'Tectonique globale et géologie de la France (X31G030)', 'Biologie Moléculaire 2 : Régulat° expression gènes (X31B030)', 'Ouverture  professionnelle - SVT (X31T020)', 'Virologie, Mycologie et Parasitologie (X32B060)', 'Physiologie Animale - Plateau technique (X32B090)', 'Mécanique Quantique (X31P020)', 'Électromagnétisme 1 (X31EE10)', 'Automatique module 1 (X31EE20)', 'Contrôle de Gestion (X32I070)', 'Informatique Fondamentale 2 (X32I010)', 'Phylogénie (X31B230)', 'Probabilités continues et convergence (X31M010)', 'Réseaux et Télécoms (X31I040)', 'Algorithmique et Structures de données 3 (X31I020)', 'Compléments de mathématiques BCVA (X31B102)', 'Analyses physico-chimiques (RMN, SDM, DRX) (X31C080)', 'Analyse numérique 1 (X31M030)', 'Chimie organique (X32C070)', 'Stage en laboratoire ou en entreprise (X32T010)', 'Elasticité linéaire (X31P110)', 'Hydrobiologie (X31B250)', 'Climatologie actuelle et passée (X31G020)', 'Fondamentaux de chimie organique (X31CB10)', 'Apprentissage statistique avancé (X4MS050)', 'Chimie-physique-biologie et risques en entreprise (X1RE030), Santé et sécurité au travail (X1RE020)', 'Théorie des probabilités avancée (X1MF020)', 'Analyse des données (X1MS010)', 'Biothérapies (X2BS070)', 'Données sur le Web (X1IM020), Données sur le Web (X1IP020)', 'Cancérologie (X2BS040)', 'Oxydation Réduction (X1CM031)', 'Physiopathologie nutritionnelle et intestinale (X2BS080)', 'Decision Engineering (X2I3020)', 'Spectrométrie RMN 2 (X1CA012)', \"Stratégies multi-méthodes pour l'analyse chimique (X3CA060)\", 'Synthèses totales (X1CM042)', 'Stage professionnel (X2TU010)', 'Geographic Information Systems 1 (X2TU020)', 'Résistance des matériaux (X1PM010)', 'Ethique et numérique (X2II040)', 'Compilation (X2II030)', 'Information & communication scientifique (X1CC023)', 'Outils probabilistes pour la statistique 1 (X1MC080)', 'Ingénierie des réseaux (X1IM030)', 'Imagerie électronique (X1LU012)', 'Vibrations systèmes continus & propagation ondes (X2PM030)', 'Modélisation Niveau 2 (X1CM014)', 'Hétérocycles 1 (X1CM023)', 'Théorie des probabilités (X1MF010)', 'Data Mining (X2II020)', 'Anglais (X1CC021)', 'Biogéochimie - Présentiel (X1TUA11)', 'Méthodes formelles pour le développement logiciel (X1IM010), Méthodes formelles pour le développement logiciel (X1IP010)', 'Graphes (X1II010)', 'Méthodes optiques 2 (X1CA021)', 'Stockage électrochim 1 : Principes et Applications (X3SE040)', 'Ingénierie des territoires-stratégies énergétiques (X3SE060)', 'Thermique énergétique (X3SE020)', 'Bioinformatique appliquée 1 :  NGS, épigénétique (X3BI060)', 'Entrepreneuriat (X3TU070)', 'Caractérisation des surfaces et microscopie (X3SO070)', 'Refinement and develop of marine natural products (X3TB060)', 'Photovoltaïque 2 : Nouveaux dispositifs (X3SD020)', 'Techniques de caractérisations structurelles (X3EE074)', 'Méthodes numériques fluides incompressibles (X3MA010)', 'Sciences de la Vie et de la Terre (XTRG010)']\n----- Groupes  ------\n['375', '550SPI-EEA', '600', '655', 'M1STU', '645', '172', '173', '113', '358', '689MIAGE-G', '581INFO-M', '684', 'M2M-IS', '610BCM', '109T', '547', '560INA', '612BCVA', '486', '104', '356', '574', 'PALP-INFO', 'M1ALMA', 'M1BE', 'M1DS', '561ICM', 'M1ECN', '540', '558', '117J', '604', 'TR-3', '376', '638MEEF', '681INFO-M', 'AC-2', 'PALP-STU', 'L2SV', '580OPTIM', '556', '585', 'L3SVA', '549EEP', '110V', '639EEP', '114', '620', 'MASTER 1 Sciences et Santé', '260CMI', '169S', '607', 'M1A3M', '167PEIP', 'M2MACS', '112Z', 'M1ATAL', '350SPI', 'M2A3M', '335', 'M1VICO', '605', '109', '312Y', 'M1MEEF-M', '425L', 'M1ECN-S2D', 'M2BB', '470IS', 'L3BCM', '484', '374', 'M1MACS', '539EEP', '522', 'M1STPE', 'L2INFO-M', '570IS', '524I', '656', '164', 'M2EBM', 'PALP-SPI', 'TR-1', '148', '117', 'M2NANO', 'AC-1', '520', 'M1BGE', 'PALP-CH', '165', '118', 'M1MFA', 'M2CGE', '519EEP', '545', '340', 'M1CMT', '670IS', 'M2ENR', 'M2TP', '203', '300', '640', '660INA', '538MEEF', '320', '190-AC', '422', '676', 'M1-MATHS', 'M2GGBS', 'L2ABT', 'M2MIAGE', '475', 'PALP-PH', '485', '674', '584', '426', '385', 'M1MFS', 'M2M-PSE', '559EEP', '147', '346', 'L2INFO', 'M1LUMOMAT', '166', '103', 'M1CHIMIE', 'M1SB', '515', '606', '362', '601', '675', '510SVA', '347', 'M2ACES', 'L3BE', '555', '512BCVA', 'GEO. M2 - CER', '649EEP', '562', '147F', 'L3BCPA', 'M1MIAGE -ALT', '476', 'M1ORO', '370IS', '685', '312PECB', 'L2SPI', '420', '680OPTIM', '575', '524', '474', '322', '355', '576', '647', '116', '688MIAGE-I', '361PSR', '535', '658', '341', 'M1ECN-APN', 'L2BGE', 'JOURNEE ORIENTATION', 'M1MIAGE-CL', '635', '487O', 'M2ENR-DE', '170', 'M1M-IS', '380OPTIM', '360PM', '321', '659EEP', 'M2CISE', 'L3ABT', '602', '610BCPA', '107', 'M1GRISSE']\n---------------------\n"
        }
       ]
      }
     },
     "658fac003f5d467bac0fbd17aac92e9e": {
      "model_module": "@jupyter-widgets/controls",
      "model_module_version": "1.4.0",
      "model_name": "VBoxModel",
      "state": {
       "_dom_classes": [
        "widget-interact"
       ],
       "children": [
        "IPY_MODEL_32f8d8cbb12646bdb7564fec93767d84",
        "IPY_MODEL_ef8c29320e514b6cb88b96c4064bafa5"
       ],
       "layout": "IPY_MODEL_381725cba49a4475bbaa7fa3bb71e72c"
      }
     },
     "67b155c8e14b42d09d1f02a65e4ceb7e": {
      "model_module": "@jupyter-widgets/base",
      "model_module_version": "1.1.0",
      "model_name": "LayoutModel",
      "state": {}
     },
     "682a5dbed8a44676b3101cc893ce1b87": {
      "model_module": "@jupyter-widgets/base",
      "model_module_version": "1.1.0",
      "model_name": "LayoutModel",
      "state": {}
     },
     "688bec0357f044f8b3dffa12854b7a92": {
      "model_module": "@jupyter-widgets/base",
      "model_module_version": "1.1.0",
      "model_name": "LayoutModel",
      "state": {}
     },
     "68e90f66300b403ebc48bc6946e36103": {
      "model_module": "@jupyter-widgets/controls",
      "model_module_version": "1.4.0",
      "model_name": "DescriptionStyleModel",
      "state": {
       "description_width": ""
      }
     },
     "691c8365deff46e495e8c4d52de9b6d4": {
      "model_module": "@jupyter-widgets/controls",
      "model_module_version": "1.4.0",
      "model_name": "DropdownModel",
      "state": {
       "_options_labels": [
        "sa TD 006 PECB-sans vidéo (Bât 5)",
        "sa TD 01 (Bât 1-Admin)",
        "sa TD 02 (Bât 1-Admin)",
        "sa TD 03 (Bât 1-Admin)",
        "sa TD 04 (Bât 1-Admin)",
        "sa TD 05 (Bât 1-Admin)",
        "sa TD 06 (Bât 1-Admin)",
        "sa TD 07 (Bât 1-Admin)",
        "sa TD 08 (Bât 1-Admin)",
        "sa TD 09 (Bât 1-Admin)",
        "sa TD 10 (Bât 1-Admin)",
        "sa TD 100 (Bât 26- RdC)",
        "sa TD 110- sans vidéo (Bât 26- RdC)",
        "sa TD 117 (Bât 26- RdC)",
        "sa TD 119-Manuf.Projets (Bât 26- RdC)",
        "sa TD 12 (Bât 1-Admin)",
        "sa TD 13 (Bât 1-Admin)",
        "sa TD 14 (Bât 1-Admin)",
        "sa TD 15 (Bât 1-Admin)",
        "sa TD 18-sans vidéo (Bât 13)",
        "sa TD 20 (Bât 18-B U)",
        "sa TD 200-îlot (Bât 26- 1er ét.)",
        "sa TD 201-anglais/badge (Bât 26- 1er ét.)",
        "sa TD 206-anglais/Badge (Bât 26- 1er ét.)",
        "sa TD 207-Studio Crs/Badge (Bât 26- 1er ét.)",
        "sa TD 208-îlot (Bât 26- 1er ét.)",
        "sa TD 209-îlot (Bât 26- 1er ét.)",
        "sa TD 21 (Bât 18-B U)",
        "sa TD 210-îlot (Bât 26- 1er ét.)",
        "sa TD 211 (Bât 26- 1er ét.)",
        "sa TD 212 (Bât 26- 1er ét.)",
        "sa TD 213 (Bât 26- 1er ét.)",
        "sa TD 214 (Bât 26- 1er ét.)",
        "sa TD 215 (Bât 26- 1er ét.)",
        "sa TD 22 (Bât 18-B U)",
        "sa TD 23 (Bât 18-B U)",
        "sa TD 24 (Bât 18-B U)",
        "sa TD 25 (Bât 18-B U)",
        "sa TD 26 (Bât 18-B U)",
        "sa TD 27 (Bât 18-B U)",
        "sa TD 28 (Bât 18-B U)",
        "sa TD 29 (Bât 18-B U)",
        "sa TD 30-sans vidéo (Bât 5)",
        "sa TD 41 (Bât 14)",
        "sa TD 43 (Bât 14)",
        "sa TD 45 (Bât 14)",
        "sa TD 48 (Bât 14)",
        "sa TD B (Bât 1-Admin)",
        "sa TD D (Bât 1-Admin)",
        "sa TD E (Bât 1-Admin)",
        "sa TD U1-Studio Crs/Badge (Bât 2)",
        "sa TD U5 (Bât 2)",
        "sa TD U6 (Bât 2)",
        "sa TD U7-ilôt/Badge (Bât 2)",
        "sa TD U8-ilôt/Badge (Bât 2)"
       ],
       "description": "TD : ",
       "index": 54,
       "layout": "IPY_MODEL_ccefedba0bd74ae3a7949c392e6e381b",
       "style": "IPY_MODEL_93c4e3933a1a445b9eb74d190a48b89d"
      }
     },
     "69448a4692194b1abbca4a40f0c02b2d": {
      "model_module": "@jupyter-widgets/controls",
      "model_module_version": "1.4.0",
      "model_name": "VBoxModel",
      "state": {
       "_dom_classes": [
        "widget-interact"
       ],
       "children": [
        "IPY_MODEL_9490eb8fdd8c4f7e8c073c267224487f",
        "IPY_MODEL_da5e24a844414fcd8443d2133c0cafb7"
       ],
       "layout": "IPY_MODEL_451b9c8c8fd94c24990cbc5815de4b1c"
      }
     },
     "699e327dab2744009886fa8e2186d79e": {
      "model_module": "@jupyter-widgets/base",
      "model_module_version": "1.1.0",
      "model_name": "LayoutModel",
      "state": {}
     },
     "6abb20346fa84b488ee95661e382f588": {
      "model_module": "@jupyter-widgets/controls",
      "model_module_version": "1.4.0",
      "model_name": "DescriptionStyleModel",
      "state": {
       "description_width": ""
      }
     },
     "6c59e04be91f42499ead632c5be3a12f": {
      "model_module": "@jupyter-widgets/controls",
      "model_module_version": "1.4.0",
      "model_name": "DescriptionStyleModel",
      "state": {
       "description_width": ""
      }
     },
     "6da462b099bd4700847935e99b1730cc": {
      "model_module": "@jupyter-widgets/controls",
      "model_module_version": "1.4.0",
      "model_name": "VBoxModel",
      "state": {
       "_dom_classes": [
        "widget-interact"
       ],
       "children": [
        "IPY_MODEL_f47a4ac0dcb349ed80deca0e4c3eb311",
        "IPY_MODEL_31f70ba80540426aa211ccc94fabfe91"
       ],
       "layout": "IPY_MODEL_758ab0be5f934dbe95b299d4af845bdd"
      }
     },
     "6e1496d2b0b2481e961932efde13bbc4": {
      "model_module": "@jupyter-widgets/base",
      "model_module_version": "1.1.0",
      "model_name": "LayoutModel",
      "state": {}
     },
     "6ef589c572014111852e4f30ef5c841a": {
      "model_module": "@jupyter-widgets/base",
      "model_module_version": "1.1.0",
      "model_name": "LayoutModel",
      "state": {}
     },
     "7065f498f39b416698720e8af234f81e": {
      "model_module": "@jupyter-widgets/base",
      "model_module_version": "1.1.0",
      "model_name": "LayoutModel",
      "state": {}
     },
     "72b6afcddde14c51a2aa90fe24acd022": {
      "model_module": "@jupyter-widgets/controls",
      "model_module_version": "1.4.0",
      "model_name": "DropdownModel",
      "state": {
       "_options_labels": [
        "Amphi 111-Vidéo (Bât 26- RdC)",
        "Amphi 112-vidéo (Bât 26- RdC)",
        "Amphi 121-vidéo (Bât 26- RdC)",
        "Amphi A (Bât 1-Admin)",
        "Amphi B (Bât 1-Admin)",
        "Amphi C (Bât 1-Admin)",
        "Amphi D (Bât 1-Admin)",
        "Amphi E (Bât 1-Admin)",
        "Amphi F (Bât 28)",
        "Amphi G (Bât 28)",
        "Amphi H (Bât 28)",
        "Amphi PASTEUR (Bât 2)"
       ],
       "description": "Amphi : ",
       "index": 0,
       "layout": "IPY_MODEL_52ea179e3161474b9468ec14e73cb6fd",
       "style": "IPY_MODEL_498a4b51ff00480486db8fbe63398934"
      }
     },
     "731012e875f54e1e95ba8736d370050a": {
      "model_module": "@jupyter-widgets/base",
      "model_module_version": "1.1.0",
      "model_name": "LayoutModel",
      "state": {}
     },
     "736c6f18e17a47149b6bb8943062b838": {
      "model_module": "@jupyter-widgets/controls",
      "model_module_version": "1.4.0",
      "model_name": "VBoxModel",
      "state": {
       "_dom_classes": [
        "widget-interact"
       ],
       "children": [
        "IPY_MODEL_b6e67d62439e4ba0a37a4b5035887dc3",
        "IPY_MODEL_cca65fce6aa1412287c11343415f1449"
       ],
       "layout": "IPY_MODEL_47fe051dbbb84aaf8be50f34a7e758a4"
      }
     },
     "73bc20983b40415aae7b373d4546ef23": {
      "model_module": "@jupyter-widgets/base",
      "model_module_version": "1.1.0",
      "model_name": "LayoutModel",
      "state": {}
     },
     "7530f2ddc7d44c89838921c485990179": {
      "model_module": "@jupyter-widgets/controls",
      "model_module_version": "1.4.0",
      "model_name": "VBoxModel",
      "state": {
       "_dom_classes": [
        "widget-interact"
       ],
       "children": [
        "IPY_MODEL_306fa06b6c174d1386825e4441888c85",
        "IPY_MODEL_2407a782bbac4645bd481a860f8fb657"
       ],
       "layout": "IPY_MODEL_3bc6db75f4eb4f48a34956ea629ed0c6"
      }
     },
     "758ab0be5f934dbe95b299d4af845bdd": {
      "model_module": "@jupyter-widgets/base",
      "model_module_version": "1.1.0",
      "model_name": "LayoutModel",
      "state": {}
     },
     "76d7ede5cdb5417bb45aadfdffec5351": {
      "model_module": "@jupyter-widgets/base",
      "model_module_version": "1.1.0",
      "model_name": "LayoutModel",
      "state": {}
     },
     "77bb78158d1146f6b402335ccd053086": {
      "model_module": "@jupyter-widgets/base",
      "model_module_version": "1.1.0",
      "model_name": "LayoutModel",
      "state": {}
     },
     "7a5d78df8bd448108ad43229b11a1f8a": {
      "model_module": "@jupyter-widgets/base",
      "model_module_version": "1.1.0",
      "model_name": "LayoutModel",
      "state": {}
     },
     "7ef482352ea34123a9e488e792d0c46e": {
      "model_module": "@jupyter-widgets/controls",
      "model_module_version": "1.4.0",
      "model_name": "DropdownModel",
      "state": {
       "_options_labels": [
        "Amphi 111-Vidéo (Bât 26- RdC)",
        "Amphi 112-vidéo (Bât 26- RdC)",
        "Amphi 121-vidéo (Bât 26- RdC)",
        "Amphi A (Bât 1-Admin)",
        "Amphi B (Bât 1-Admin)",
        "Amphi C (Bât 1-Admin)",
        "Amphi D (Bât 1-Admin)",
        "Amphi E (Bât 1-Admin)",
        "Amphi F (Bât 28)",
        "Amphi G (Bât 28)",
        "Amphi H (Bât 28)",
        "Amphi PASTEUR (Bât 2)",
        "Salle Multimédia 1 et 2 (Bât 2)",
        "[Exterieur] 01 (LV)",
        "[Exterieur] 015 (LV)",
        "[Exterieur] 02 (LV)",
        "[Exterieur] 040 (LV) - Studio de danse",
        "[Exterieur] 05 (LV)",
        "[Exterieur] 056 (LV)",
        "[Exterieur] 06 (LV)",
        "[Exterieur] 065 (LV)",
        "[Exterieur] 08 (LV)",
        "[Exterieur] 09 (LV)",
        "[Exterieur] 103 (LV)",
        "[Exterieur] 106 (LV)",
        "[Exterieur] 109 (LV)",
        "[Exterieur] 110 (LV)",
        "[Exterieur] 111 (LV)",
        "[Exterieur] 112 (LV)",
        "[Exterieur] 114 (LV)",
        "[Exterieur] 116 (LV)",
        "[Exterieur] 118 (LV)",
        "[Exterieur] 203 (LV)",
        "[Exterieur] 204 (LV)",
        "[Exterieur] 206 (LV)",
        "[Exterieur] 208 (LV)",
        "[Exterieur] 211 (LV)",
        "[Exterieur] 212 (LV)",
        "[Exterieur] 213 (LV)",
        "[Exterieur] 216 (LV)",
        "[Exterieur] 218 (LV)",
        "[Exterieur] 224 (LV)",
        "[Exterieur] 227 (LV)",
        "[Exterieur] 230 (LV)",
        "[Exterieur] 231 (LV)",
        "[Exterieur] 318  info  (Gavy) 14PC",
        "[Exterieur] 326  (Gavy) 27pl",
        "[Exterieur] 328  (Gavy) 90pl",
        "[Exterieur] 330  info  (Gavy) 14PC",
        "[Exterieur] 336 info  (Gavy) 14PC",
        "[Exterieur] 341 Amphi (Gavy) 90pl",
        "[Exterieur] 440 (FLCE)",
        "[Exterieur] 441 (FLCE)",
        "[Exterieur] A101 (IHT) 30pl + Vp (Arronax)",
        "[Exterieur] A102 (IHT) 50pl + Vp (Nemo)",
        "[Exterieur] Amphi - 057 (LV)",
        "[Exterieur] Amphi 1 (Ireste) 350pl + Vp",
        "[Exterieur] Amphi 1 (Isitem) 200pl +Vp (E102)",
        "[Exterieur] Amphi 2 (Ireste) 160pl +Vp",
        "[Exterieur] Amphi 2 (Isitem) 100pl +Vp (E101)",
        "[Exterieur] Amphi B (Gavy)  210pl",
        "[Exterieur] Amphi BONAMY",
        "[Exterieur] Amphi DOBREE",
        "[Exterieur] Amphi GRASLIN",
        "[Exterieur] Amphi PELLOUTIER",
        "[Exterieur] Amphi SAY",
        "[Exterieur] B015 (IHT) 13 PC (info-Village aerien)",
        "[Exterieur] B016 (IHT) 20pl (Volcan d or)",
        "[Exterieur] B017 (Ireste) 13 PC (info)",
        "[Exterieur] B023 (IHT) 20pl + Vp (Archipel en feu)",
        "[Exterieur] B024 (IHT) 20pl + Vp (Etoile du Sud)",
        "[Exterieur] Bias Salle 051",
        "[Exterieur] Bias Salle 052",
        "[Exterieur] Bias Salle 121",
        "[Exterieur] Bias Salle 135 - Réunion",
        "[Exterieur] Bias Salle 161-122",
        "[Exterieur] Bias Salle 162",
        "[Exterieur] Bias Salle 163-164",
        "[Exterieur] Bias Salle 165",
        "[Exterieur] Bias Salle 166",
        "[Exterieur] Bias Salle 167",
        "[Exterieur] Bias Salle 205",
        "[Exterieur] Bias Salle 206",
        "[Exterieur] Bias Salle 207",
        "[Exterieur] Bias Salle 208",
        "[Exterieur] Bias Salle Info 450",
        "[Exterieur] Bias Salle Info 452",
        "[Exterieur] Bias Salle Info 456",
        "[Exterieur] Bias Salle Info 458",
        "[Exterieur] C002 (Censive)",
        "[Exterieur] C002 (IRESTE) 13PC + Vp (info)",
        "[Exterieur] C003 (Ireste) 13PC (info)",
        "[Exterieur] C004 (Censive)",
        "[Exterieur] C008 (Censive)",
        "[Exterieur] C008 (IRESTE) 50pl + VP",
        "[Exterieur] C024 (Censive)",
        "[Exterieur] C027 (Censive)",
        "[Exterieur] C901 (Censive)",
        "[Exterieur] C905 (Censive)",
        "[Exterieur] C906 (Censive)",
        "[Exterieur] D-Amphi Louis Lorvellec (Bât A)",
        "[Exterieur] D004 (Ireste) 65pl + Vp (Cours)",
        "[Exterieur] D010 (Ireste) 48pl + Vp (Cours)",
        "[Exterieur] D013 (Ireste) 110pl + Vp (Cours-Examens)",
        "[Exterieur] E-Amphi (Bât A)",
        "[Exterieur] E202 (Ireste) 36pl + Vp (TD)",
        "[Exterieur] Erdre Salle 112",
        "[Exterieur] Erdre Salle 113",
        "[Exterieur] Erdre Salle 114",
        "[Exterieur] Erdre Salle 123",
        "[Exterieur] Erdre Salle 124",
        "[Exterieur] Erdre Salle 125",
        "[Exterieur] Erdre Salle 126",
        "[Exterieur] Erdre Salle 128",
        "[Exterieur] Erdre Salle 131",
        "[Exterieur] Erdre Salle 237",
        "[Exterieur] Erdre Salle 238",
        "[Exterieur] Erdre Salle 239",
        "[Exterieur] Erdre Salle 241",
        "[Exterieur] Erdre Salle 243",
        "[Exterieur] Erdre Salle 244",
        "[Exterieur] Erdre Salle 246",
        "[Exterieur] Erdre Salle 340",
        "[Exterieur] Fourier (Isitem) 15PC (info E029)",
        "[Exterieur] Laplace (Isitem) 15PC + Vp (Info E023)",
        "[Exterieur] Med 201A",
        "[Exterieur] Med 243",
        "[Exterieur] Med 244",
        "[Exterieur] Med 302",
        "[Exterieur] Med 303",
        "[Exterieur] Med 338",
        "[Exterieur] Med 339",
        "[Exterieur] Med 340",
        "[Exterieur] Med 504",
        "[Exterieur] Med Amphi 2",
        "[Exterieur] Med Amphi 3",
        "[Exterieur] Med Amphi 4",
        "[Exterieur] Med Amphi 5",
        "[Exterieur] Med Amphi 6",
        "[Exterieur] Med Amphi 7",
        "[Exterieur] Med Amphi 8",
        "[Exterieur] Med Salle 241-242 MANIMAL",
        "[Exterieur] Med Salle V.GOURNAY",
        "[Exterieur] Pas de salle",
        "[Exterieur] Salle Manquante",
        "[Exterieur] Salle extérieure",
        "[Exterieur] Salle à définir IAE",
        "[Exterieur] T020 (Isitem) 24pl + Vp (TP Matériaux)",
        "[Exterieur] T034 (Isitem) 12pl (TP/Labo)",
        "[Exterieur] T101 (Tertre)",
        "[Exterieur] T103 (Tertre)",
        "[Exterieur] T114 (Tertre)",
        "[Exterieur] T120 (Tertre)",
        "[Exterieur] T121 (Tertre)",
        "[Exterieur] T123 (Tertre)",
        "[Exterieur] T203 (Tertre)",
        "[Exterieur] T215 (Tertre)",
        "[Exterieur] T216 (Tertre)",
        "[Exterieur] T221 (Tertre)",
        "[Exterieur] Td5 (Isitem) 48pl + Vp (E122)",
        "[Exterieur] Td6 (Isitem) 48pl + Vp (E123)",
        "[Exterieur] Td7 (Isitem) 48pl + Vp (E124)",
        "[Exterieur] Td8 (Isitem) 100pl + Vp (Examen E125)",
        "[Exterieur] salle 925 IMAR",
        "[Exterieur] salle 929 IMAR",
        "sa TD 006 PECB-sans vidéo (Bât 5)",
        "sa TD 01 (Bât 1-Admin)",
        "sa TD 02 (Bât 1-Admin)",
        "sa TD 03 (Bât 1-Admin)",
        "sa TD 04 (Bât 1-Admin)",
        "sa TD 05 (Bât 1-Admin)",
        "sa TD 06 (Bât 1-Admin)",
        "sa TD 07 (Bât 1-Admin)",
        "sa TD 08 (Bât 1-Admin)",
        "sa TD 09 (Bât 1-Admin)",
        "sa TD 10 (Bât 1-Admin)",
        "sa TD 100 (Bât 26- RdC)",
        "sa TD 110- sans vidéo (Bât 26- RdC)",
        "sa TD 117 (Bât 26- RdC)",
        "sa TD 119-Manuf.Projets (Bât 26- RdC)",
        "sa TD 12 (Bât 1-Admin)",
        "sa TD 13 (Bât 1-Admin)",
        "sa TD 14 (Bât 1-Admin)",
        "sa TD 15 (Bât 1-Admin)",
        "sa TD 18-sans vidéo (Bât 13)",
        "sa TD 20 (Bât 18-B U)",
        "sa TD 200-îlot (Bât 26- 1er ét.)",
        "sa TD 201-anglais/badge (Bât 26- 1er ét.)",
        "sa TD 206-anglais/Badge (Bât 26- 1er ét.)",
        "sa TD 207-Studio Crs/Badge (Bât 26- 1er ét.)",
        "sa TD 208-îlot (Bât 26- 1er ét.)",
        "sa TD 209-îlot (Bât 26- 1er ét.)",
        "sa TD 21 (Bât 18-B U)",
        "sa TD 210-îlot (Bât 26- 1er ét.)",
        "sa TD 211 (Bât 26- 1er ét.)",
        "sa TD 212 (Bât 26- 1er ét.)",
        "sa TD 213 (Bât 26- 1er ét.)",
        "sa TD 214 (Bât 26- 1er ét.)",
        "sa TD 215 (Bât 26- 1er ét.)",
        "sa TD 22 (Bât 18-B U)",
        "sa TD 23 (Bât 18-B U)",
        "sa TD 24 (Bât 18-B U)",
        "sa TD 25 (Bât 18-B U)",
        "sa TD 26 (Bât 18-B U)",
        "sa TD 27 (Bât 18-B U)",
        "sa TD 28 (Bât 18-B U)",
        "sa TD 29 (Bât 18-B U)",
        "sa TD 30-sans vidéo (Bât 5)",
        "sa TD 41 (Bât 14)",
        "sa TD 43 (Bât 14)",
        "sa TD 45 (Bât 14)",
        "sa TD 48 (Bât 14)",
        "sa TD B (Bât 1-Admin)",
        "sa TD D (Bât 1-Admin)",
        "sa TD E (Bât 1-Admin)",
        "sa TD U1-Studio Crs/Badge (Bât 2)",
        "sa TD U5 (Bât 2)",
        "sa TD U6 (Bât 2)",
        "sa TD U7-ilôt/Badge (Bât 2)",
        "sa TD U8-ilôt/Badge (Bât 2)",
        "sa TP 33Géol (Bât 14)",
        "sa TP 34Geol-vidéo (Bât 14)",
        "sa TP 35Geol-vidéo (Bât 14)",
        "sa TP 36Geol-vidéo (Bât 14)",
        "sa TP 38Geol-vidéo (Bât 14)",
        "sa TP 65Geol-vidéo (Bât 13)",
        "sa TP Automatique 59 (Bât 14)",
        "sa TP B1 Bio animale L2-vidéo (Bât 6)",
        "sa TP B2 Bio animale L1-vidéo (Bât 6)",
        "sa TP B3 Taxo-Ecologie (Bât 6)",
        "sa TP B5 Biocell-Immuno (Bât 13)",
        "sa TP Bio animale 32-vidéo (Bât 5)",
        "sa TP Bio végétale-vidéo (Bât 5)",
        "sa TP Biocell  110-vidéo (Bât 5)",
        "sa TP Bioch A (Bât 13)",
        "sa TP Bioch B (Bât 13)",
        "sa TP Bioch-biomol (Bât 2)",
        "sa TP Biotech-biomol (Bât 2)",
        "sa TP Ch Générale A (Bât 12)",
        "sa TP Ch Générale B (Bât 12)",
        "sa TP Ch Orga 1 (Bât 2)",
        "sa TP Ch Orga 2 (Bât 2)",
        "sa TP Ch Organique E (Bât 12)",
        "sa TP Ch Organique F (Bât 12)",
        "sa TP Ch inorganique C (Bât 12)",
        "sa TP Ch inorganique D (Bât 12)",
        "sa TP Ch organique G (Bât 12)",
        "sa TP Ch- Phys 1 (Bât 2)",
        "sa TP Ch- Phys 2 (Bât 2)",
        "sa TP Ecologie-vidéo (Bât 5)",
        "sa TP Electro 61 (Bât 14)",
        "sa TP Info indus 57 (Bât 14)",
        "sa TP Microbio (Bât 2)",
        "sa TP Méca 37bis (Bât 14)",
        "sa TP Optoélectr 55 (Bât 14)",
        "sa TP Phys 50 (Bât 14)",
        "sa TP Phys BGC (Bât 13)",
        "sa TP Phys CAPES  60 (Bât 14)",
        "sa TP Phys MIPC A (Bât 13)",
        "sa TP Phys MIPC B (Bât 13)",
        "sa TP Phys nucléaire (Bât 12)",
        "sa TP Phys solide 54 (Bât 14)",
        "sa TP Physio animale113 (Bât 26- RdC)",
        "sa TP Physio animale115 (Bât 26- RdC)",
        "sa TP Physio patho Végétale (Bât 2)",
        "sa TP Physio végétale (Bât 5)",
        "sa TP Thermo 35bis (Bât 14)",
        "sa TP Thermo 38bis (Bât 14)",
        "salle TP Projets L1-L2 (Bât 13)",
        "salle info 1-vidéo/badge (Bât 2)",
        "salle info 2-vidéo/Badge (Bât 2)",
        "salle info I01-vidéo (Bât 15-C I E)",
        "salle info I011-vidéo/badge (Bât 15-C I E)",
        "salle info I012-vidéo (Bât 15-C I E)",
        "salle info I019-vidéo/badge (Bât 15-C I E)",
        "salle info I03-vidéo (Bât 15-C I E)",
        "salle info I04-vidéo (Bât 15-C I E)",
        "salle info I040-vidéo (Bât 14)",
        "salle info I042-vidéo (Bât 14)",
        "salle info I047-vidéo/badge (Bât 14)",
        "salle info I05-vidéo (Bât 15-C I E)",
        "salle info I121-vidéo (Bât 15-C I E)",
        "salle info I123-vidéo (Bât 15-C I E)",
        "salle info I124-vidéo/badge (Bât 15-C I E)",
        "salle info I125-vidéo (Bât 15-C I E)",
        "salle info S046-Vidéo/badge (Bât 14)",
        "salle info S049-vidéo (Bât 14)",
        "salle info SPE 46-vidéo/badge (Bât 13)",
        "salle visio 204/Badge (Bât 26- 1er ét.)",
        "salle visio 205/Badge (Bât 26- 1er ét.)",
        "salle visio U2/Badge (Bât 2)",
        "salle visio U3/Badge (Bât 2)",
        "salle visio U4/Badge (Bât 2)"
       ],
       "description": "salle visio : ",
       "index": 1,
       "layout": "IPY_MODEL_f7edbe6a4d6b4dceacd3f7c4f4e32225",
       "style": "IPY_MODEL_f4dbd2c080954a81b46ad97e70d26746"
      }
     },
     "7f8bec3e247449cbb302eb9a92625371": {
      "model_module": "@jupyter-widgets/controls",
      "model_module_version": "1.4.0",
      "model_name": "VBoxModel",
      "state": {
       "_dom_classes": [
        "widget-interact"
       ],
       "children": [
        "IPY_MODEL_8109ead977de4e91b4d91eec2416d1c7",
        "IPY_MODEL_f6feccc060af4ec3b3854ff19fb8ba19"
       ],
       "layout": "IPY_MODEL_b4d216bb5d8e45e3890f718903371d21"
      }
     },
     "8109ead977de4e91b4d91eec2416d1c7": {
      "model_module": "@jupyter-widgets/controls",
      "model_module_version": "1.4.0",
      "model_name": "DropdownModel",
      "state": {
       "_options_labels": [
        "sa TD 006 PECB-sans vidéo (Bât 5)",
        "sa TD 01 (Bât 1-Admin)",
        "sa TD 02 (Bât 1-Admin)",
        "sa TD 03 (Bât 1-Admin)",
        "sa TD 04 (Bât 1-Admin)",
        "sa TD 05 (Bât 1-Admin)",
        "sa TD 06 (Bât 1-Admin)",
        "sa TD 07 (Bât 1-Admin)",
        "sa TD 08 (Bât 1-Admin)",
        "sa TD 09 (Bât 1-Admin)",
        "sa TD 10 (Bât 1-Admin)",
        "sa TD 100 (Bât 26- RdC)",
        "sa TD 110- sans vidéo (Bât 26- RdC)",
        "sa TD 117 (Bât 26- RdC)",
        "sa TD 119-Manuf.Projets (Bât 26- RdC)",
        "sa TD 12 (Bât 1-Admin)",
        "sa TD 13 (Bât 1-Admin)",
        "sa TD 14 (Bât 1-Admin)",
        "sa TD 15 (Bât 1-Admin)",
        "sa TD 18-sans vidéo (Bât 13)",
        "sa TD 20 (Bât 18-B U)",
        "sa TD 200-îlot (Bât 26- 1er ét.)",
        "sa TD 201-anglais/badge (Bât 26- 1er ét.)",
        "sa TD 206-anglais/Badge (Bât 26- 1er ét.)",
        "sa TD 207-Studio Crs/Badge (Bât 26- 1er ét.)",
        "sa TD 208-îlot (Bât 26- 1er ét.)",
        "sa TD 209-îlot (Bât 26- 1er ét.)",
        "sa TD 21 (Bât 18-B U)",
        "sa TD 210-îlot (Bât 26- 1er ét.)",
        "sa TD 211 (Bât 26- 1er ét.)",
        "sa TD 212 (Bât 26- 1er ét.)",
        "sa TD 213 (Bât 26- 1er ét.)",
        "sa TD 214 (Bât 26- 1er ét.)",
        "sa TD 215 (Bât 26- 1er ét.)",
        "sa TD 22 (Bât 18-B U)",
        "sa TD 23 (Bât 18-B U)",
        "sa TD 24 (Bât 18-B U)",
        "sa TD 25 (Bât 18-B U)",
        "sa TD 26 (Bât 18-B U)",
        "sa TD 27 (Bât 18-B U)",
        "sa TD 28 (Bât 18-B U)",
        "sa TD 29 (Bât 18-B U)",
        "sa TD 30-sans vidéo (Bât 5)",
        "sa TD 41 (Bât 14)",
        "sa TD 43 (Bât 14)",
        "sa TD 45 (Bât 14)",
        "sa TD 48 (Bât 14)",
        "sa TD B (Bât 1-Admin)",
        "sa TD D (Bât 1-Admin)",
        "sa TD E (Bât 1-Admin)",
        "sa TD U1-Studio Crs/Badge (Bât 2)",
        "sa TD U5 (Bât 2)",
        "sa TD U6 (Bât 2)",
        "sa TD U7-ilôt/Badge (Bât 2)",
        "sa TD U8-ilôt/Badge (Bât 2)"
       ],
       "description": "TD : ",
       "index": 0,
       "layout": "IPY_MODEL_42c4bb7559934d75ac192faf073b3af1",
       "style": "IPY_MODEL_264a25edc3ed432dbcd570265a9d0323"
      }
     },
     "82d73c5a37914afabce2a0fb2a0e8844": {
      "model_module": "@jupyter-widgets/controls",
      "model_module_version": "1.4.0",
      "model_name": "VBoxModel",
      "state": {
       "_dom_classes": [
        "widget-interact"
       ],
       "children": [
        "IPY_MODEL_31735e3eee6343678745df8657dd9783",
        "IPY_MODEL_057b22019bbc47669dbaf28caa1f4e1f"
       ],
       "layout": "IPY_MODEL_529e0b01fbe84735882dceceb7ce89be"
      }
     },
     "847cb132c94644edb8afd5cec81121ff": {
      "model_module": "@jupyter-widgets/base",
      "model_module_version": "1.1.0",
      "model_name": "LayoutModel",
      "state": {}
     },
     "851001d16fbf405a881d73e9475d8dc0": {
      "model_module": "@jupyter-widgets/controls",
      "model_module_version": "1.4.0",
      "model_name": "DropdownModel",
      "state": {
       "_options_labels": [
        "salle info 1-vidéo/badge (Bât 2)",
        "salle info 2-vidéo/Badge (Bât 2)",
        "salle info I01-vidéo (Bât 15-C I E)",
        "salle info I011-vidéo/badge (Bât 15-C I E)",
        "salle info I012-vidéo (Bât 15-C I E)",
        "salle info I019-vidéo/badge (Bât 15-C I E)",
        "salle info I03-vidéo (Bât 15-C I E)",
        "salle info I04-vidéo (Bât 15-C I E)",
        "salle info I040-vidéo (Bât 14)",
        "salle info I042-vidéo (Bât 14)",
        "salle info I047-vidéo/badge (Bât 14)",
        "salle info I05-vidéo (Bât 15-C I E)",
        "salle info I121-vidéo (Bât 15-C I E)",
        "salle info I123-vidéo (Bât 15-C I E)",
        "salle info I124-vidéo/badge (Bât 15-C I E)",
        "salle info I125-vidéo (Bât 15-C I E)",
        "salle info S046-Vidéo/badge (Bât 14)",
        "salle info S049-vidéo (Bât 14)",
        "salle info SPE 46-vidéo/badge (Bât 13)"
       ],
       "description": "salle info : ",
       "index": 0,
       "layout": "IPY_MODEL_2e00f94a73ec46c698218748ef244b3f",
       "style": "IPY_MODEL_68e90f66300b403ebc48bc6946e36103"
      }
     },
     "88688fdef269421bbf78766b4f997b02": {
      "model_module": "@jupyter-widgets/controls",
      "model_module_version": "1.4.0",
      "model_name": "VBoxModel",
      "state": {
       "_dom_classes": [
        "widget-interact"
       ],
       "children": [
        "IPY_MODEL_7ef482352ea34123a9e488e792d0c46e",
        "IPY_MODEL_112418b313e34835986fa466208796d7"
       ],
       "layout": "IPY_MODEL_847cb132c94644edb8afd5cec81121ff"
      }
     },
     "8925b50948a64b7fa5ba1cc51c1be85d": {
      "model_module": "@jupyter-widgets/controls",
      "model_module_version": "1.4.0",
      "model_name": "DescriptionStyleModel",
      "state": {
       "description_width": ""
      }
     },
     "8a3a739d1d824fb599f85f26b25ee6cc": {
      "model_module": "@jupyter-widgets/output",
      "model_module_version": "1.0.0",
      "model_name": "OutputModel",
      "state": {
       "layout": "IPY_MODEL_221106c8d2d14ea69cf0b54180da7796",
       "outputs": [
        {
         "name": "stdout",
         "output_type": "stream",
         "text": "Sauvegarde de tmp/Amphi_A_(Bât_1-Admin).ics\n"
        }
       ]
      }
     },
     "8bfdf50ac14c45299a15d88dec186ef0": {
      "model_module": "@jupyter-widgets/controls",
      "model_module_version": "1.4.0",
      "model_name": "DescriptionStyleModel",
      "state": {
       "description_width": ""
      }
     },
     "8cbf5d46d0a24ccc8275ec10eaf0205c": {
      "model_module": "@jupyter-widgets/controls",
      "model_module_version": "1.4.0",
      "model_name": "VBoxModel",
      "state": {
       "_dom_classes": [
        "widget-interact"
       ],
       "children": [
        "IPY_MODEL_e5a96cdaa03f4a89b5c6fede3c07d1e3",
        "IPY_MODEL_a02466b0a0a542d399924d8202125bdc"
       ],
       "layout": "IPY_MODEL_9612baf1a1e845669471a2bfa661e434"
      }
     },
     "8f06b9f3adc347b4acf29e282621e898": {
      "model_module": "@jupyter-widgets/controls",
      "model_module_version": "1.4.0",
      "model_name": "DropdownModel",
      "state": {
       "_options_labels": [
        "salle visio 204/Badge (Bât 26- 1er ét.)",
        "salle visio 205/Badge (Bât 26- 1er ét.)",
        "salle visio U2/Badge (Bât 2)",
        "salle visio U3/Badge (Bât 2)",
        "salle visio U4/Badge (Bât 2)"
       ],
       "description": "salle visio : ",
       "index": 4,
       "layout": "IPY_MODEL_b30a3f50344c48bcb86698258dff3714",
       "style": "IPY_MODEL_297177a336ab4c52a6c63abf6e5b2ebb"
      }
     },
     "90547cdfd1154319acae21d7519ef3ed": {
      "model_module": "@jupyter-widgets/controls",
      "model_module_version": "1.4.0",
      "model_name": "DropdownModel",
      "state": {
       "_options_labels": [
        "Amphi 111-Vidéo (Bât 26- RdC)",
        "Amphi 112-vidéo (Bât 26- RdC)",
        "Amphi 121-vidéo (Bât 26- RdC)",
        "Amphi A (Bât 1-Admin)",
        "Amphi B (Bât 1-Admin)",
        "Amphi C (Bât 1-Admin)",
        "Amphi D (Bât 1-Admin)",
        "Amphi E (Bât 1-Admin)",
        "Amphi F (Bât 28)",
        "Amphi G (Bât 28)",
        "Amphi H (Bât 28)",
        "Amphi PASTEUR (Bât 2)",
        "Salle Multimédia 1 et 2 (Bât 2)",
        "[Exterieur] 01 (LV)",
        "[Exterieur] 015 (LV)",
        "[Exterieur] 02 (LV)",
        "[Exterieur] 040 (LV) - Studio de danse",
        "[Exterieur] 05 (LV)",
        "[Exterieur] 056 (LV)",
        "[Exterieur] 06 (LV)",
        "[Exterieur] 065 (LV)",
        "[Exterieur] 08 (LV)",
        "[Exterieur] 09 (LV)",
        "[Exterieur] 103 (LV)",
        "[Exterieur] 106 (LV)",
        "[Exterieur] 109 (LV)",
        "[Exterieur] 110 (LV)",
        "[Exterieur] 111 (LV)",
        "[Exterieur] 112 (LV)",
        "[Exterieur] 114 (LV)",
        "[Exterieur] 116 (LV)",
        "[Exterieur] 118 (LV)",
        "[Exterieur] 203 (LV)",
        "[Exterieur] 204 (LV)",
        "[Exterieur] 206 (LV)",
        "[Exterieur] 208 (LV)",
        "[Exterieur] 211 (LV)",
        "[Exterieur] 212 (LV)",
        "[Exterieur] 213 (LV)",
        "[Exterieur] 216 (LV)",
        "[Exterieur] 218 (LV)",
        "[Exterieur] 224 (LV)",
        "[Exterieur] 227 (LV)",
        "[Exterieur] 230 (LV)",
        "[Exterieur] 231 (LV)",
        "[Exterieur] 318  info  (Gavy) 14PC",
        "[Exterieur] 326  (Gavy) 27pl",
        "[Exterieur] 328  (Gavy) 90pl",
        "[Exterieur] 330  info  (Gavy) 14PC",
        "[Exterieur] 336 info  (Gavy) 14PC",
        "[Exterieur] 341 Amphi (Gavy) 90pl",
        "[Exterieur] 440 (FLCE)",
        "[Exterieur] 441 (FLCE)",
        "[Exterieur] A101 (IHT) 30pl + Vp (Arronax)",
        "[Exterieur] A102 (IHT) 50pl + Vp (Nemo)",
        "[Exterieur] Amphi - 057 (LV)",
        "[Exterieur] Amphi 1 (Ireste) 350pl + Vp",
        "[Exterieur] Amphi 1 (Isitem) 200pl +Vp (E102)",
        "[Exterieur] Amphi 2 (Ireste) 160pl +Vp",
        "[Exterieur] Amphi 2 (Isitem) 100pl +Vp (E101)",
        "[Exterieur] Amphi B (Gavy)  210pl",
        "[Exterieur] Amphi BONAMY",
        "[Exterieur] Amphi DOBREE",
        "[Exterieur] Amphi GRASLIN",
        "[Exterieur] Amphi PELLOUTIER",
        "[Exterieur] Amphi SAY",
        "[Exterieur] B015 (IHT) 13 PC (info-Village aerien)",
        "[Exterieur] B016 (IHT) 20pl (Volcan d or)",
        "[Exterieur] B017 (Ireste) 13 PC (info)",
        "[Exterieur] B023 (IHT) 20pl + Vp (Archipel en feu)",
        "[Exterieur] B024 (IHT) 20pl + Vp (Etoile du Sud)",
        "[Exterieur] Bias Salle 051",
        "[Exterieur] Bias Salle 052",
        "[Exterieur] Bias Salle 121",
        "[Exterieur] Bias Salle 135 - Réunion",
        "[Exterieur] Bias Salle 161-122",
        "[Exterieur] Bias Salle 162",
        "[Exterieur] Bias Salle 163-164",
        "[Exterieur] Bias Salle 165",
        "[Exterieur] Bias Salle 166",
        "[Exterieur] Bias Salle 167",
        "[Exterieur] Bias Salle 205",
        "[Exterieur] Bias Salle 206",
        "[Exterieur] Bias Salle 207",
        "[Exterieur] Bias Salle 208",
        "[Exterieur] Bias Salle Info 450",
        "[Exterieur] Bias Salle Info 452",
        "[Exterieur] Bias Salle Info 456",
        "[Exterieur] Bias Salle Info 458",
        "[Exterieur] C002 (Censive)",
        "[Exterieur] C002 (IRESTE) 13PC + Vp (info)",
        "[Exterieur] C003 (Ireste) 13PC (info)",
        "[Exterieur] C004 (Censive)",
        "[Exterieur] C008 (Censive)",
        "[Exterieur] C008 (IRESTE) 50pl + VP",
        "[Exterieur] C024 (Censive)",
        "[Exterieur] C027 (Censive)",
        "[Exterieur] C901 (Censive)",
        "[Exterieur] C905 (Censive)",
        "[Exterieur] C906 (Censive)",
        "[Exterieur] D-Amphi Louis Lorvellec (Bât A)",
        "[Exterieur] D004 (Ireste) 65pl + Vp (Cours)",
        "[Exterieur] D010 (Ireste) 48pl + Vp (Cours)",
        "[Exterieur] D013 (Ireste) 110pl + Vp (Cours-Examens)",
        "[Exterieur] E-Amphi (Bât A)",
        "[Exterieur] E202 (Ireste) 36pl + Vp (TD)",
        "[Exterieur] Erdre Salle 112",
        "[Exterieur] Erdre Salle 113",
        "[Exterieur] Erdre Salle 114",
        "[Exterieur] Erdre Salle 123",
        "[Exterieur] Erdre Salle 124",
        "[Exterieur] Erdre Salle 125",
        "[Exterieur] Erdre Salle 126",
        "[Exterieur] Erdre Salle 128",
        "[Exterieur] Erdre Salle 131",
        "[Exterieur] Erdre Salle 237",
        "[Exterieur] Erdre Salle 238",
        "[Exterieur] Erdre Salle 239",
        "[Exterieur] Erdre Salle 241",
        "[Exterieur] Erdre Salle 243",
        "[Exterieur] Erdre Salle 244",
        "[Exterieur] Erdre Salle 246",
        "[Exterieur] Erdre Salle 340",
        "[Exterieur] Fourier (Isitem) 15PC (info E029)",
        "[Exterieur] Laplace (Isitem) 15PC + Vp (Info E023)",
        "[Exterieur] Med 201A",
        "[Exterieur] Med 243",
        "[Exterieur] Med 244",
        "[Exterieur] Med 302",
        "[Exterieur] Med 303",
        "[Exterieur] Med 338",
        "[Exterieur] Med 339",
        "[Exterieur] Med 340",
        "[Exterieur] Med 504",
        "[Exterieur] Med Amphi 2",
        "[Exterieur] Med Amphi 3",
        "[Exterieur] Med Amphi 4",
        "[Exterieur] Med Amphi 5",
        "[Exterieur] Med Amphi 6",
        "[Exterieur] Med Amphi 7",
        "[Exterieur] Med Amphi 8",
        "[Exterieur] Med Salle 241-242 MANIMAL",
        "[Exterieur] Med Salle V.GOURNAY",
        "[Exterieur] Pas de salle",
        "[Exterieur] Salle Manquante",
        "[Exterieur] Salle extérieure",
        "[Exterieur] Salle à définir IAE",
        "[Exterieur] T020 (Isitem) 24pl + Vp (TP Matériaux)",
        "[Exterieur] T034 (Isitem) 12pl (TP/Labo)",
        "[Exterieur] T101 (Tertre)",
        "[Exterieur] T103 (Tertre)",
        "[Exterieur] T114 (Tertre)",
        "[Exterieur] T120 (Tertre)",
        "[Exterieur] T121 (Tertre)",
        "[Exterieur] T123 (Tertre)",
        "[Exterieur] T203 (Tertre)",
        "[Exterieur] T215 (Tertre)",
        "[Exterieur] T216 (Tertre)",
        "[Exterieur] T221 (Tertre)",
        "[Exterieur] Td5 (Isitem) 48pl + Vp (E122)",
        "[Exterieur] Td6 (Isitem) 48pl + Vp (E123)",
        "[Exterieur] Td7 (Isitem) 48pl + Vp (E124)",
        "[Exterieur] Td8 (Isitem) 100pl + Vp (Examen E125)",
        "[Exterieur] salle 925 IMAR",
        "[Exterieur] salle 929 IMAR",
        "sa TD 006 PECB-sans vidéo (Bât 5)",
        "sa TD 01 (Bât 1-Admin)",
        "sa TD 02 (Bât 1-Admin)",
        "sa TD 03 (Bât 1-Admin)",
        "sa TD 04 (Bât 1-Admin)",
        "sa TD 05 (Bât 1-Admin)",
        "sa TD 06 (Bât 1-Admin)",
        "sa TD 07 (Bât 1-Admin)",
        "sa TD 08 (Bât 1-Admin)",
        "sa TD 09 (Bât 1-Admin)",
        "sa TD 10 (Bât 1-Admin)",
        "sa TD 100 (Bât 26- RdC)",
        "sa TD 110- sans vidéo (Bât 26- RdC)",
        "sa TD 117 (Bât 26- RdC)",
        "sa TD 119-Manuf.Projets (Bât 26- RdC)",
        "sa TD 12 (Bât 1-Admin)",
        "sa TD 13 (Bât 1-Admin)",
        "sa TD 14 (Bât 1-Admin)",
        "sa TD 15 (Bât 1-Admin)",
        "sa TD 18-sans vidéo (Bât 13)",
        "sa TD 20 (Bât 18-B U)",
        "sa TD 200-îlot (Bât 26- 1er ét.)",
        "sa TD 201-anglais/badge (Bât 26- 1er ét.)",
        "sa TD 206-anglais/Badge (Bât 26- 1er ét.)",
        "sa TD 207-Studio Crs/Badge (Bât 26- 1er ét.)",
        "sa TD 208-îlot (Bât 26- 1er ét.)",
        "sa TD 209-îlot (Bât 26- 1er ét.)",
        "sa TD 21 (Bât 18-B U)",
        "sa TD 210-îlot (Bât 26- 1er ét.)",
        "sa TD 211 (Bât 26- 1er ét.)",
        "sa TD 212 (Bât 26- 1er ét.)",
        "sa TD 213 (Bât 26- 1er ét.)",
        "sa TD 214 (Bât 26- 1er ét.)",
        "sa TD 215 (Bât 26- 1er ét.)",
        "sa TD 22 (Bât 18-B U)",
        "sa TD 23 (Bât 18-B U)",
        "sa TD 24 (Bât 18-B U)",
        "sa TD 25 (Bât 18-B U)",
        "sa TD 26 (Bât 18-B U)",
        "sa TD 27 (Bât 18-B U)",
        "sa TD 28 (Bât 18-B U)",
        "sa TD 29 (Bât 18-B U)",
        "sa TD 30-sans vidéo (Bât 5)",
        "sa TD 41 (Bât 14)",
        "sa TD 43 (Bât 14)",
        "sa TD 45 (Bât 14)",
        "sa TD 48 (Bât 14)",
        "sa TD B (Bât 1-Admin)",
        "sa TD D (Bât 1-Admin)",
        "sa TD E (Bât 1-Admin)",
        "sa TD U1-Studio Crs/Badge (Bât 2)",
        "sa TD U5 (Bât 2)",
        "sa TD U6 (Bât 2)",
        "sa TD U7-ilôt/Badge (Bât 2)",
        "sa TD U8-ilôt/Badge (Bât 2)",
        "sa TP 33Géol (Bât 14)",
        "sa TP 34Geol-vidéo (Bât 14)",
        "sa TP 35Geol-vidéo (Bât 14)",
        "sa TP 36Geol-vidéo (Bât 14)",
        "sa TP 38Geol-vidéo (Bât 14)",
        "sa TP 65Geol-vidéo (Bât 13)",
        "sa TP Automatique 59 (Bât 14)",
        "sa TP B1 Bio animale L2-vidéo (Bât 6)",
        "sa TP B2 Bio animale L1-vidéo (Bât 6)",
        "sa TP B3 Taxo-Ecologie (Bât 6)",
        "sa TP B5 Biocell-Immuno (Bât 13)",
        "sa TP Bio animale 32-vidéo (Bât 5)",
        "sa TP Bio végétale-vidéo (Bât 5)",
        "sa TP Biocell  110-vidéo (Bât 5)",
        "sa TP Bioch A (Bât 13)",
        "sa TP Bioch B (Bât 13)",
        "sa TP Bioch-biomol (Bât 2)",
        "sa TP Biotech-biomol (Bât 2)",
        "sa TP Ch Générale A (Bât 12)",
        "sa TP Ch Générale B (Bât 12)",
        "sa TP Ch Orga 1 (Bât 2)",
        "sa TP Ch Orga 2 (Bât 2)",
        "sa TP Ch Organique E (Bât 12)",
        "sa TP Ch Organique F (Bât 12)",
        "sa TP Ch inorganique C (Bât 12)",
        "sa TP Ch inorganique D (Bât 12)",
        "sa TP Ch organique G (Bât 12)",
        "sa TP Ch- Phys 1 (Bât 2)",
        "sa TP Ch- Phys 2 (Bât 2)",
        "sa TP Ecologie-vidéo (Bât 5)",
        "sa TP Electro 61 (Bât 14)",
        "sa TP Info indus 57 (Bât 14)",
        "sa TP Microbio (Bât 2)",
        "sa TP Méca 37bis (Bât 14)",
        "sa TP Optoélectr 55 (Bât 14)",
        "sa TP Phys 50 (Bât 14)",
        "sa TP Phys BGC (Bât 13)",
        "sa TP Phys CAPES  60 (Bât 14)",
        "sa TP Phys MIPC A (Bât 13)",
        "sa TP Phys MIPC B (Bât 13)",
        "sa TP Phys nucléaire (Bât 12)",
        "sa TP Phys solide 54 (Bât 14)",
        "sa TP Physio animale113 (Bât 26- RdC)",
        "sa TP Physio animale115 (Bât 26- RdC)",
        "sa TP Physio patho Végétale (Bât 2)",
        "sa TP Physio végétale (Bât 5)",
        "sa TP Thermo 35bis (Bât 14)",
        "sa TP Thermo 38bis (Bât 14)",
        "salle TP Projets L1-L2 (Bât 13)",
        "salle info 1-vidéo/badge (Bât 2)",
        "salle info 2-vidéo/Badge (Bât 2)",
        "salle info I01-vidéo (Bât 15-C I E)",
        "salle info I011-vidéo/badge (Bât 15-C I E)",
        "salle info I012-vidéo (Bât 15-C I E)",
        "salle info I019-vidéo/badge (Bât 15-C I E)",
        "salle info I03-vidéo (Bât 15-C I E)",
        "salle info I04-vidéo (Bât 15-C I E)",
        "salle info I040-vidéo (Bât 14)",
        "salle info I042-vidéo (Bât 14)",
        "salle info I047-vidéo/badge (Bât 14)",
        "salle info I05-vidéo (Bât 15-C I E)",
        "salle info I121-vidéo (Bât 15-C I E)",
        "salle info I123-vidéo (Bât 15-C I E)",
        "salle info I124-vidéo/badge (Bât 15-C I E)",
        "salle info I125-vidéo (Bât 15-C I E)",
        "salle info S046-Vidéo/badge (Bât 14)",
        "salle info S049-vidéo (Bât 14)",
        "salle info SPE 46-vidéo/badge (Bât 13)",
        "salle visio 204/Badge (Bât 26- 1er ét.)",
        "salle visio 205/Badge (Bât 26- 1er ét.)",
        "salle visio U2/Badge (Bât 2)",
        "salle visio U3/Badge (Bât 2)",
        "salle visio U4/Badge (Bât 2)"
       ],
       "description": "salle visio : ",
       "index": 3,
       "layout": "IPY_MODEL_4b88f751fcef40c19665c72878167e54",
       "style": "IPY_MODEL_5b54ddd7c5c74f93a551da6ad088b15b"
      }
     },
     "93c4e3933a1a445b9eb74d190a48b89d": {
      "model_module": "@jupyter-widgets/controls",
      "model_module_version": "1.4.0",
      "model_name": "DescriptionStyleModel",
      "state": {
       "description_width": ""
      }
     },
     "9490eb8fdd8c4f7e8c073c267224487f": {
      "model_module": "@jupyter-widgets/controls",
      "model_module_version": "1.4.0",
      "model_name": "DropdownModel",
      "state": {
       "_options_labels": [
        "salle info 1-vidéo/badge (Bât 2)",
        "salle info 2-vidéo/Badge (Bât 2)",
        "salle info I01-vidéo (Bât 15-C I E)",
        "salle info I011-vidéo/badge (Bât 15-C I E)",
        "salle info I012-vidéo (Bât 15-C I E)",
        "salle info I019-vidéo/badge (Bât 15-C I E)",
        "salle info I03-vidéo (Bât 15-C I E)",
        "salle info I04-vidéo (Bât 15-C I E)",
        "salle info I040-vidéo (Bât 14)",
        "salle info I042-vidéo (Bât 14)",
        "salle info I047-vidéo/badge (Bât 14)",
        "salle info I05-vidéo (Bât 15-C I E)",
        "salle info I121-vidéo (Bât 15-C I E)",
        "salle info I123-vidéo (Bât 15-C I E)",
        "salle info I124-vidéo/badge (Bât 15-C I E)",
        "salle info I125-vidéo (Bât 15-C I E)",
        "salle info S046-Vidéo/badge (Bât 14)",
        "salle info S049-vidéo (Bât 14)",
        "salle info SPE 46-vidéo/badge (Bât 13)"
       ],
       "description": "salle info : ",
       "index": 0,
       "layout": "IPY_MODEL_b7aa3cc5becf4ea299432acfd59282a4",
       "style": "IPY_MODEL_d30cb8fbcecf40dc9798942c97e94e0b"
      }
     },
     "94d7214c804b4e28ae7b0b2d11ef5d67": {
      "model_module": "@jupyter-widgets/controls",
      "model_module_version": "1.4.0",
      "model_name": "DescriptionStyleModel",
      "state": {
       "description_width": ""
      }
     },
     "94f5583645064f1aa324ef3e7dfc4830": {
      "model_module": "@jupyter-widgets/controls",
      "model_module_version": "1.4.0",
      "model_name": "DescriptionStyleModel",
      "state": {
       "description_width": ""
      }
     },
     "94f8d969dd2f4a59a02cec808b5f19bf": {
      "model_module": "@jupyter-widgets/controls",
      "model_module_version": "1.4.0",
      "model_name": "DescriptionStyleModel",
      "state": {
       "description_width": ""
      }
     },
     "95f7c3b8500345aea2c2d22b9a50045a": {
      "model_module": "@jupyter-widgets/base",
      "model_module_version": "1.1.0",
      "model_name": "LayoutModel",
      "state": {}
     },
     "95ffcabd483c4f36b73fc83acad41b46": {
      "model_module": "@jupyter-widgets/output",
      "model_module_version": "1.0.0",
      "model_name": "OutputModel",
      "state": {
       "layout": "IPY_MODEL_dfb1b64ac41f40df97fadc99a55196c5"
      }
     },
     "9612baf1a1e845669471a2bfa661e434": {
      "model_module": "@jupyter-widgets/base",
      "model_module_version": "1.1.0",
      "model_name": "LayoutModel",
      "state": {}
     },
     "97e87c5669b74c3ba6e21e5efb603f39": {
      "model_module": "@jupyter-widgets/base",
      "model_module_version": "1.1.0",
      "model_name": "LayoutModel",
      "state": {}
     },
     "97f6d1b4e9b7409d94f8b6887a0f1e37": {
      "model_module": "@jupyter-widgets/base",
      "model_module_version": "1.1.0",
      "model_name": "LayoutModel",
      "state": {}
     },
     "98516c62823d4e8790e22f237e8ee6ad": {
      "model_module": "@jupyter-widgets/base",
      "model_module_version": "1.1.0",
      "model_name": "LayoutModel",
      "state": {}
     },
     "997a08868a5d4da9867378e920f8815f": {
      "model_module": "@jupyter-widgets/base",
      "model_module_version": "1.1.0",
      "model_name": "LayoutModel",
      "state": {}
     },
     "9b8f5ddbb6174e3593cc9d58aca5fe60": {
      "model_module": "@jupyter-widgets/base",
      "model_module_version": "1.1.0",
      "model_name": "LayoutModel",
      "state": {}
     },
     "9be60beaed2b404e9030c6e21c70af12": {
      "model_module": "@jupyter-widgets/output",
      "model_module_version": "1.0.0",
      "model_name": "OutputModel",
      "state": {
       "layout": "IPY_MODEL_1af5effdfc2f4588800b9235ba20b2c0",
       "outputs": [
        {
         "name": "stdout",
         "output_type": "stream",
         "text": "Amphi 111-Vidéo (Bât 26- RdC)\n126 matières et  188 groupes\n----- Matières ------\n['Compléments Mathématiques et Informatiques (X11X020)', 'Mathématiques 1 (X11M010)', 'Informatique (X11I010)', 'Initiation informatique pour BGC (X11I020)', 'Mathématiques 1 (XA1M010)', 'Chimie : atome, liaison, molécule (XA1C010)', 'Anglais Général (X11A010)', 'Biologie des organismes - Biologie animale 1 (X11B021)', 'Sciences de la Terre (X11G010)', \"Sciences de l'Univers (X11G020)\", 'Chimie générale pour les Sciences de la Vie (X12C050)', 'Mécanique du point matériel 1 (X11P012)', 'Chimie : atome, liaison, molécule (X11C010)', 'Outils de calcul pour les sciences (XA1T020)', 'Apprentissage par problème (APP) (XA2T020)', 'Base de logique numérique (X11P020)', 'Outils de calcul pour les sciences (X11T020)', 'Logique, dénombrement et suites numériques (X12M040)', 'Biosciences (XA1B020)', 'Biologie des organismes - Biologie Végétale 1 (X11B022)', 'Electricité (X11P011)', \"Risques chim.-Intro aux matériaux pour l'environ. (X21C080)\", 'Anglais scientifique général (X21A010)', 'Photosynthèse et développement des plantes (X21B040)', 'Minéralogie et pétrologie endogène (X21G010)', 'Immunologie (X22B200)', \"Mathématiques pour l'informatique 2 (X22M080)\", 'Équilibres chimiques en solution aqueuse (X21C020)', 'Algèbre linéaire pour PC (X21M100)', 'Suites et séries de fonctions (X22M030)', 'Création numérique & Algorithmique numérique (X22I050)', 'Groupes et symétries (X21M050)', 'Optique géométrique et ondulatoire (X21P020)', 'Analyses physico-chimiques (X21C050)', 'Les bases de la chimie organique descriptive (X21C160)', 'Séries numériques et probabilités discrètes (X21M030)', 'Processus sédim. et envir. continentaux & côtiers (X21G041)', 'Probabilités appliquées et Statistique (X22M010)', 'Outils Mathématiques 2 (X21P060)', 'Atomistique, liaison chimique (X21C090)', 'Mathématique Préparation aux Concours B (X21X011)', 'Electromagnétisme 1 (X21P010), Mécanique Quantique (X31P020)', 'Physico-chimie organique (X31C110)', 'Physique Subatomique 1 (X31P051)', 'Physiologie végétale pour BGE (X31B260)', 'Immunopathologies (X32B020)', 'Energie et Ressources (X32G020)', 'Génétique du développement (X32B050)', 'Analyse numérique 2 (X32M020)', 'Thermodyn. systèmes physiques et approche stat. (X32P011)', 'Biologie Moléculaire 3 : Manipulation des génomes (X32B040)', 'Nutrition Plante & Santé (X31B070)', 'Physique Moderne 2 (X31P040)', 'Langage et automates (X31I030)', 'Physique Subatomique 2 (X31P052)', 'Les grands principes réactionnels (X32CB50)', 'Stage SVT (X32T020)', 'Electromagnétisme 3 (X31P030)', 'Ondes mécaniques, acoustiques et électromagnétiq. (X32P030)', 'Recherche opérationnelle (X32I030)', 'Chimie théorique 2 (X32C040)', 'Chimie des matériaux (X32C010)', 'Chimie physique 2 (X32C090)', 'Tectonique globale et géologie de la France (X31G030)', 'Biologie Moléculaire 2 : Régulat° expression gènes (X31B030)', 'Ouverture  professionnelle - SVT (X31T020)', 'Virologie, Mycologie et Parasitologie (X32B060)', 'Physiologie Animale - Plateau technique (X32B090)', 'Mécanique Quantique (X31P020)', 'Électromagnétisme 1 (X31EE10)', 'Automatique module 1 (X31EE20)', 'Informatique Fondamentale 2 (X32I010)', 'Phylogénie (X31B230)', 'Probabilités continues et convergence (X31M010)', 'Réseaux et Télécoms (X31I040)', 'Algorithmique et Structures de données 3 (X31I020)', 'Compléments de mathématiques BCVA (X31B102)', 'Analyses physico-chimiques (RMN, SDM, DRX) (X31C080)', 'Analyse numérique 1 (X31M030)', 'Chimie organique (X32C070)', 'Stage en laboratoire ou en entreprise (X32T010)', 'Elasticité linéaire (X31P110)', 'Hydrobiologie (X31B250)', 'Climatologie actuelle et passée (X31G020)', 'Fondamentaux de chimie organique (X31CB10)', 'Apprentissage statistique avancé (X4MS050)', 'Chimie-physique-biologie et risques en entreprise (X1RE030), Santé et sécurité au travail (X1RE020)', 'Théorie des probabilités avancée (X1MF020)', 'Analyse des données (X1MS010)', 'Biothérapies (X2BS070)', 'Données sur le Web (X1IM020), Données sur le Web (X1IP020)', 'Cancérologie (X2BS040)', 'Oxydation Réduction (X1CM031)', 'Physiopathologie nutritionnelle et intestinale (X2BS080)', 'Spectrométrie RMN 2 (X1CA012)', \"Stratégies multi-méthodes pour l'analyse chimique (X3CA060)\", 'Synthèses totales (X1CM042)', 'Stage professionnel (X2TU010)', 'Geographic Information Systems 1 (X2TU020)', 'Résistance des matériaux (X1PM010)', 'Ethique et numérique (X2II040)', 'Compilation (X2II030)', 'Information & communication scientifique (X1CC023)', 'Outils probabilistes pour la statistique 1 (X1MC080)', 'Ingénierie des réseaux (X1IM030)', 'Imagerie électronique (X1LU012)', 'Vibrations systèmes continus & propagation ondes (X2PM030)', 'Modélisation Niveau 2 (X1CM014)', 'Hétérocycles 1 (X1CM023)', 'Théorie des probabilités (X1MF010)', 'Data Mining (X2II020)', 'Anglais (X1CC021)', 'Biogéochimie - Présentiel (X1TUA11)', 'Méthodes formelles pour le développement logiciel (X1IM010), Méthodes formelles pour le développement logiciel (X1IP010)', 'Graphes (X1II010)', 'Méthodes optiques 2 (X1CA021)', 'Stockage électrochim 1 : Principes et Applications (X3SE040)', 'Thermique énergétique (X3SE020)', 'Bioinformatique appliquée 1 :  NGS, épigénétique (X3BI060)', 'Entrepreneuriat (X3TU070)', 'Caractérisation des surfaces et microscopie (X3SO070)', 'Refinement and develop of marine natural products (X3TB060)', 'Photovoltaïque 2 : Nouveaux dispositifs (X3SD020)', 'Techniques de caractérisations structurelles (X3EE074)', 'Méthodes numériques fluides incompressibles (X3MA010)', 'Sciences de la Vie et de la Terre (XTRG010)']\n----- Groupes  ------\n['M1A3M', '649EEP', '535', '425L', 'M1ORO', '605', '485', 'M1CMT', '584', '376', '607', '638MEEF', '358', '538MEEF', 'L2SV', 'M1M-IS', 'M2ENR', '560INA', '335', 'M1SB', '555', '674', '104', '347', 'M2BB', '361PSR', '562', '107', 'L2INFO-M', 'M2MACS', '475', 'M2ENR-DE', '610BCPA', '147F', 'M1MEEF-M', '602', '355', 'L2INFO', '684', 'M1-MATHS', '380OPTIM', 'M1DS', 'M2CISE', '640', 'L3BCPA', '148', '203', 'M1LUMOMAT', '681INFO-M', 'MASTER 1 Sciences et Santé', '321', '312PECB', 'M1ECN', 'M2EBM', '346', '117J', 'M1GRISSE', 'M1ATAL', '165', 'M2TP', '320', '112Z', 'L3ABT', '658', 'M1ALMA', '639EEP', 'M1MIAGE -ALT', 'M2NANO', '426', '620', '374', '322', 'M1MACS', '370IS', '580OPTIM', '575', 'GEO. M2 - CER', '340', '559EEP', 'L2BGE', 'PALP-PH', '147', '524', 'M2CGE', '167PEIP', 'L3BCM', 'M2M-PSE', '601', '576', '561ICM', '103', 'M1ECN-APN', 'M1STU', 'L2SPI', 'M1MFA', 'M2M-IS', '470IS', 'PALP-INFO', '116', '512BCVA', '476', '510SVA', '585', '117', '610BCM', 'L3SVA', '173', '545', '300', '356', '547', '680OPTIM', '385', '659EEP', '522', '558', 'M1STPE', 'M1MFS', '341', 'JOURNEE ORIENTATION', '260CMI', 'PALP-CH', '169S', '612BCVA', '550SPI-EEA', '556', 'L3BE', '647', 'M1MIAGE-CL', '474', 'PALP-STU', '600', '170', '420', '676', '375', '519EEP', '164', '570IS', '515', '360PM', 'M1BGE', '113', 'PALP-SPI', '685', '540', '655', '675', '660INA', '606', '486', '604', 'M2ACES', '109T', '520', 'M1BE', '422', '190-AC', '350SPI', 'L2ABT', 'AC-1', '114', '656', 'TR-3', 'M1CHIMIE', '172', '110V', '645', '574', 'AC-2', '524I', '670IS', '581INFO-M', 'M1ECN-S2D', '312Y', '539EEP', 'M2A3M', '487O', '484', '635', '362', '166', 'TR-1', '109', 'M1VICO', '118', '549EEP', 'M2GGBS']\n---------------------\n"
        }
       ]
      }
     },
     "9c9f045c2af5446681104d8fa4a6f1b0": {
      "model_module": "@jupyter-widgets/controls",
      "model_module_version": "1.4.0",
      "model_name": "DescriptionStyleModel",
      "state": {
       "description_width": ""
      }
     },
     "9da39a54d67e4ecdbf9d0e7991f97fc6": {
      "model_module": "@jupyter-widgets/controls",
      "model_module_version": "1.4.0",
      "model_name": "DropdownModel",
      "state": {
       "_options_labels": [
        "Amphi 111-Vidéo (Bât 26- RdC)",
        "Amphi 112-vidéo (Bât 26- RdC)",
        "Amphi 121-vidéo (Bât 26- RdC)",
        "Amphi A (Bât 1-Admin)",
        "Amphi B (Bât 1-Admin)",
        "Amphi C (Bât 1-Admin)",
        "Amphi D (Bât 1-Admin)",
        "Amphi E (Bât 1-Admin)",
        "Amphi F (Bât 28)",
        "Amphi G (Bât 28)",
        "Amphi H (Bât 28)",
        "Amphi PASTEUR (Bât 2)",
        "Salle Multimédia 1 et 2 (Bât 2)",
        "[Exterieur] 01 (LV)",
        "[Exterieur] 015 (LV)",
        "[Exterieur] 02 (LV)",
        "[Exterieur] 040 (LV) - Studio de danse",
        "[Exterieur] 05 (LV)",
        "[Exterieur] 056 (LV)",
        "[Exterieur] 06 (LV)",
        "[Exterieur] 065 (LV)",
        "[Exterieur] 08 (LV)",
        "[Exterieur] 09 (LV)",
        "[Exterieur] 103 (LV)",
        "[Exterieur] 106 (LV)",
        "[Exterieur] 109 (LV)",
        "[Exterieur] 110 (LV)",
        "[Exterieur] 111 (LV)",
        "[Exterieur] 112 (LV)",
        "[Exterieur] 114 (LV)",
        "[Exterieur] 116 (LV)",
        "[Exterieur] 118 (LV)",
        "[Exterieur] 203 (LV)",
        "[Exterieur] 204 (LV)",
        "[Exterieur] 206 (LV)",
        "[Exterieur] 208 (LV)",
        "[Exterieur] 211 (LV)",
        "[Exterieur] 212 (LV)",
        "[Exterieur] 213 (LV)",
        "[Exterieur] 216 (LV)",
        "[Exterieur] 218 (LV)",
        "[Exterieur] 224 (LV)",
        "[Exterieur] 227 (LV)",
        "[Exterieur] 230 (LV)",
        "[Exterieur] 231 (LV)",
        "[Exterieur] 318  info  (Gavy) 14PC",
        "[Exterieur] 326  (Gavy) 27pl",
        "[Exterieur] 328  (Gavy) 90pl",
        "[Exterieur] 330  info  (Gavy) 14PC",
        "[Exterieur] 336 info  (Gavy) 14PC",
        "[Exterieur] 341 Amphi (Gavy) 90pl",
        "[Exterieur] 440 (FLCE)",
        "[Exterieur] 441 (FLCE)",
        "[Exterieur] A101 (IHT) 30pl + Vp (Arronax)",
        "[Exterieur] A102 (IHT) 50pl + Vp (Nemo)",
        "[Exterieur] Amphi - 057 (LV)",
        "[Exterieur] Amphi 1 (Ireste) 350pl + Vp",
        "[Exterieur] Amphi 1 (Isitem) 200pl +Vp (E102)",
        "[Exterieur] Amphi 2 (Ireste) 160pl +Vp",
        "[Exterieur] Amphi 2 (Isitem) 100pl +Vp (E101)",
        "[Exterieur] Amphi B (Gavy)  210pl",
        "[Exterieur] Amphi BONAMY",
        "[Exterieur] Amphi DOBREE",
        "[Exterieur] Amphi GRASLIN",
        "[Exterieur] Amphi PELLOUTIER",
        "[Exterieur] Amphi SAY",
        "[Exterieur] B015 (IHT) 13 PC (info-Village aerien)",
        "[Exterieur] B016 (IHT) 20pl (Volcan d or)",
        "[Exterieur] B017 (Ireste) 13 PC (info)",
        "[Exterieur] B023 (IHT) 20pl + Vp (Archipel en feu)",
        "[Exterieur] B024 (IHT) 20pl + Vp (Etoile du Sud)",
        "[Exterieur] Bias Salle 051",
        "[Exterieur] Bias Salle 052",
        "[Exterieur] Bias Salle 121",
        "[Exterieur] Bias Salle 135 - Réunion",
        "[Exterieur] Bias Salle 161-122",
        "[Exterieur] Bias Salle 162",
        "[Exterieur] Bias Salle 163-164",
        "[Exterieur] Bias Salle 165",
        "[Exterieur] Bias Salle 166",
        "[Exterieur] Bias Salle 167",
        "[Exterieur] Bias Salle 205",
        "[Exterieur] Bias Salle 206",
        "[Exterieur] Bias Salle 207",
        "[Exterieur] Bias Salle 208",
        "[Exterieur] Bias Salle Info 450",
        "[Exterieur] Bias Salle Info 452",
        "[Exterieur] Bias Salle Info 456",
        "[Exterieur] Bias Salle Info 458",
        "[Exterieur] C002 (Censive)",
        "[Exterieur] C002 (IRESTE) 13PC + Vp (info)",
        "[Exterieur] C003 (Ireste) 13PC (info)",
        "[Exterieur] C004 (Censive)",
        "[Exterieur] C008 (Censive)",
        "[Exterieur] C008 (IRESTE) 50pl + VP",
        "[Exterieur] C024 (Censive)",
        "[Exterieur] C027 (Censive)",
        "[Exterieur] C901 (Censive)",
        "[Exterieur] C905 (Censive)",
        "[Exterieur] C906 (Censive)",
        "[Exterieur] D-Amphi Louis Lorvellec (Bât A)",
        "[Exterieur] D004 (Ireste) 65pl + Vp (Cours)",
        "[Exterieur] D010 (Ireste) 48pl + Vp (Cours)",
        "[Exterieur] D013 (Ireste) 110pl + Vp (Cours-Examens)",
        "[Exterieur] E-Amphi (Bât A)",
        "[Exterieur] E202 (Ireste) 36pl + Vp (TD)",
        "[Exterieur] Erdre Salle 112",
        "[Exterieur] Erdre Salle 113",
        "[Exterieur] Erdre Salle 114",
        "[Exterieur] Erdre Salle 123",
        "[Exterieur] Erdre Salle 124",
        "[Exterieur] Erdre Salle 125",
        "[Exterieur] Erdre Salle 126",
        "[Exterieur] Erdre Salle 128",
        "[Exterieur] Erdre Salle 131",
        "[Exterieur] Erdre Salle 237",
        "[Exterieur] Erdre Salle 238",
        "[Exterieur] Erdre Salle 239",
        "[Exterieur] Erdre Salle 241",
        "[Exterieur] Erdre Salle 243",
        "[Exterieur] Erdre Salle 244",
        "[Exterieur] Erdre Salle 246",
        "[Exterieur] Erdre Salle 340",
        "[Exterieur] Fourier (Isitem) 15PC (info E029)",
        "[Exterieur] Laplace (Isitem) 15PC + Vp (Info E023)",
        "[Exterieur] Med 201A",
        "[Exterieur] Med 243",
        "[Exterieur] Med 244",
        "[Exterieur] Med 302",
        "[Exterieur] Med 303",
        "[Exterieur] Med 338",
        "[Exterieur] Med 339",
        "[Exterieur] Med 340",
        "[Exterieur] Med 504",
        "[Exterieur] Med Amphi 2",
        "[Exterieur] Med Amphi 3",
        "[Exterieur] Med Amphi 4",
        "[Exterieur] Med Amphi 5",
        "[Exterieur] Med Amphi 6",
        "[Exterieur] Med Amphi 7",
        "[Exterieur] Med Amphi 8",
        "[Exterieur] Med Salle 241-242 MANIMAL",
        "[Exterieur] Med Salle V.GOURNAY",
        "[Exterieur] Pas de salle",
        "[Exterieur] Salle Manquante",
        "[Exterieur] Salle extérieure",
        "[Exterieur] Salle à définir IAE",
        "[Exterieur] T020 (Isitem) 24pl + Vp (TP Matériaux)",
        "[Exterieur] T034 (Isitem) 12pl (TP/Labo)",
        "[Exterieur] T101 (Tertre)",
        "[Exterieur] T103 (Tertre)",
        "[Exterieur] T114 (Tertre)",
        "[Exterieur] T120 (Tertre)",
        "[Exterieur] T121 (Tertre)",
        "[Exterieur] T123 (Tertre)",
        "[Exterieur] T203 (Tertre)",
        "[Exterieur] T215 (Tertre)",
        "[Exterieur] T216 (Tertre)",
        "[Exterieur] T221 (Tertre)",
        "[Exterieur] Td5 (Isitem) 48pl + Vp (E122)",
        "[Exterieur] Td6 (Isitem) 48pl + Vp (E123)",
        "[Exterieur] Td7 (Isitem) 48pl + Vp (E124)",
        "[Exterieur] Td8 (Isitem) 100pl + Vp (Examen E125)",
        "[Exterieur] salle 925 IMAR",
        "[Exterieur] salle 929 IMAR",
        "sa TD 006 PECB-sans vidéo (Bât 5)",
        "sa TD 01 (Bât 1-Admin)",
        "sa TD 02 (Bât 1-Admin)",
        "sa TD 03 (Bât 1-Admin)",
        "sa TD 04 (Bât 1-Admin)",
        "sa TD 05 (Bât 1-Admin)",
        "sa TD 06 (Bât 1-Admin)",
        "sa TD 07 (Bât 1-Admin)",
        "sa TD 08 (Bât 1-Admin)",
        "sa TD 09 (Bât 1-Admin)",
        "sa TD 10 (Bât 1-Admin)",
        "sa TD 100 (Bât 26- RdC)",
        "sa TD 110- sans vidéo (Bât 26- RdC)",
        "sa TD 117 (Bât 26- RdC)",
        "sa TD 119-Manuf.Projets (Bât 26- RdC)",
        "sa TD 12 (Bât 1-Admin)",
        "sa TD 13 (Bât 1-Admin)",
        "sa TD 14 (Bât 1-Admin)",
        "sa TD 15 (Bât 1-Admin)",
        "sa TD 18-sans vidéo (Bât 13)",
        "sa TD 20 (Bât 18-B U)",
        "sa TD 200-îlot (Bât 26- 1er ét.)",
        "sa TD 201-anglais/badge (Bât 26- 1er ét.)",
        "sa TD 206-anglais/Badge (Bât 26- 1er ét.)",
        "sa TD 207-Studio Crs/Badge (Bât 26- 1er ét.)",
        "sa TD 208-îlot (Bât 26- 1er ét.)",
        "sa TD 209-îlot (Bât 26- 1er ét.)",
        "sa TD 21 (Bât 18-B U)",
        "sa TD 210-îlot (Bât 26- 1er ét.)",
        "sa TD 211 (Bât 26- 1er ét.)",
        "sa TD 212 (Bât 26- 1er ét.)",
        "sa TD 213 (Bât 26- 1er ét.)",
        "sa TD 214 (Bât 26- 1er ét.)",
        "sa TD 215 (Bât 26- 1er ét.)",
        "sa TD 22 (Bât 18-B U)",
        "sa TD 23 (Bât 18-B U)",
        "sa TD 24 (Bât 18-B U)",
        "sa TD 25 (Bât 18-B U)",
        "sa TD 26 (Bât 18-B U)",
        "sa TD 27 (Bât 18-B U)",
        "sa TD 28 (Bât 18-B U)",
        "sa TD 29 (Bât 18-B U)",
        "sa TD 30-sans vidéo (Bât 5)",
        "sa TD 41 (Bât 14)",
        "sa TD 43 (Bât 14)",
        "sa TD 45 (Bât 14)",
        "sa TD 48 (Bât 14)",
        "sa TD B (Bât 1-Admin)",
        "sa TD D (Bât 1-Admin)",
        "sa TD E (Bât 1-Admin)",
        "sa TD U1-Studio Crs/Badge (Bât 2)",
        "sa TD U5 (Bât 2)",
        "sa TD U6 (Bât 2)",
        "sa TD U7-ilôt/Badge (Bât 2)",
        "sa TD U8-ilôt/Badge (Bât 2)",
        "sa TP 33Géol (Bât 14)",
        "sa TP 34Geol-vidéo (Bât 14)",
        "sa TP 35Geol-vidéo (Bât 14)",
        "sa TP 36Geol-vidéo (Bât 14)",
        "sa TP 38Geol-vidéo (Bât 14)",
        "sa TP 65Geol-vidéo (Bât 13)",
        "sa TP Automatique 59 (Bât 14)",
        "sa TP B1 Bio animale L2-vidéo (Bât 6)",
        "sa TP B2 Bio animale L1-vidéo (Bât 6)",
        "sa TP B3 Taxo-Ecologie (Bât 6)",
        "sa TP B5 Biocell-Immuno (Bât 13)",
        "sa TP Bio animale 32-vidéo (Bât 5)",
        "sa TP Bio végétale-vidéo (Bât 5)",
        "sa TP Biocell  110-vidéo (Bât 5)",
        "sa TP Bioch A (Bât 13)",
        "sa TP Bioch B (Bât 13)",
        "sa TP Bioch-biomol (Bât 2)",
        "sa TP Biotech-biomol (Bât 2)",
        "sa TP Ch Générale A (Bât 12)",
        "sa TP Ch Générale B (Bât 12)",
        "sa TP Ch Orga 1 (Bât 2)",
        "sa TP Ch Orga 2 (Bât 2)",
        "sa TP Ch Organique E (Bât 12)",
        "sa TP Ch Organique F (Bât 12)",
        "sa TP Ch inorganique C (Bât 12)",
        "sa TP Ch inorganique D (Bât 12)",
        "sa TP Ch organique G (Bât 12)",
        "sa TP Ch- Phys 1 (Bât 2)",
        "sa TP Ch- Phys 2 (Bât 2)",
        "sa TP Ecologie-vidéo (Bât 5)",
        "sa TP Electro 61 (Bât 14)",
        "sa TP Info indus 57 (Bât 14)",
        "sa TP Microbio (Bât 2)",
        "sa TP Méca 37bis (Bât 14)",
        "sa TP Optoélectr 55 (Bât 14)",
        "sa TP Phys 50 (Bât 14)",
        "sa TP Phys BGC (Bât 13)",
        "sa TP Phys CAPES  60 (Bât 14)",
        "sa TP Phys MIPC A (Bât 13)",
        "sa TP Phys MIPC B (Bât 13)",
        "sa TP Phys nucléaire (Bât 12)",
        "sa TP Phys solide 54 (Bât 14)",
        "sa TP Physio animale113 (Bât 26- RdC)",
        "sa TP Physio animale115 (Bât 26- RdC)",
        "sa TP Physio patho Végétale (Bât 2)",
        "sa TP Physio végétale (Bât 5)",
        "sa TP Thermo 35bis (Bât 14)",
        "sa TP Thermo 38bis (Bât 14)",
        "salle TP Projets L1-L2 (Bât 13)",
        "salle info 1-vidéo/badge (Bât 2)",
        "salle info 2-vidéo/Badge (Bât 2)",
        "salle info I01-vidéo (Bât 15-C I E)",
        "salle info I011-vidéo/badge (Bât 15-C I E)",
        "salle info I012-vidéo (Bât 15-C I E)",
        "salle info I019-vidéo/badge (Bât 15-C I E)",
        "salle info I03-vidéo (Bât 15-C I E)",
        "salle info I04-vidéo (Bât 15-C I E)",
        "salle info I040-vidéo (Bât 14)",
        "salle info I042-vidéo (Bât 14)",
        "salle info I047-vidéo/badge (Bât 14)",
        "salle info I05-vidéo (Bât 15-C I E)",
        "salle info I121-vidéo (Bât 15-C I E)",
        "salle info I123-vidéo (Bât 15-C I E)",
        "salle info I124-vidéo/badge (Bât 15-C I E)",
        "salle info I125-vidéo (Bât 15-C I E)",
        "salle info S046-Vidéo/badge (Bât 14)",
        "salle info S049-vidéo (Bât 14)",
        "salle info SPE 46-vidéo/badge (Bât 13)",
        "salle visio 204/Badge (Bât 26- 1er ét.)",
        "salle visio 205/Badge (Bât 26- 1er ét.)",
        "salle visio U2/Badge (Bât 2)",
        "salle visio U3/Badge (Bât 2)",
        "salle visio U4/Badge (Bât 2)"
       ],
       "description": "salle visio : ",
       "index": 3,
       "layout": "IPY_MODEL_5525fcbc0e9b4b12bfe8194b3199e4de",
       "style": "IPY_MODEL_31eaf66fc52d4599ad5ebfe8fc569650"
      }
     },
     "9df83cf774fe44238a2766a6d52fafb8": {
      "model_module": "@jupyter-widgets/controls",
      "model_module_version": "1.4.0",
      "model_name": "VBoxModel",
      "state": {
       "_dom_classes": [
        "widget-interact"
       ],
       "children": [
        "IPY_MODEL_507f413c8334438ead2860a3b5330766",
        "IPY_MODEL_b904c25bfb384ebcb3f23634600751bf"
       ],
       "layout": "IPY_MODEL_34be15b8a64041bd8379bdb3c5f8aab8"
      }
     },
     "9e1abe71797d4be08a5375168d8f8ede": {
      "model_module": "@jupyter-widgets/base",
      "model_module_version": "1.1.0",
      "model_name": "LayoutModel",
      "state": {}
     },
     "9f8f1f7aa8fd4e1889e37ec6f934c7af": {
      "model_module": "@jupyter-widgets/base",
      "model_module_version": "1.1.0",
      "model_name": "LayoutModel",
      "state": {}
     },
     "a02466b0a0a542d399924d8202125bdc": {
      "model_module": "@jupyter-widgets/output",
      "model_module_version": "1.0.0",
      "model_name": "OutputModel",
      "state": {
       "layout": "IPY_MODEL_95f7c3b8500345aea2c2d22b9a50045a",
       "outputs": [
        {
         "data": {
          "image/png": "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\n",
          "text/plain": "<Figure size 432x288 with 1 Axes>"
         },
         "metadata": {
          "needs_background": "light"
         },
         "output_type": "display_data"
        }
       ]
      }
     },
     "a04c0a0da077412fb474c2d22b2ca25b": {
      "model_module": "@jupyter-widgets/base",
      "model_module_version": "1.1.0",
      "model_name": "LayoutModel",
      "state": {}
     },
     "a06a091ae77148e2af8a720cc6f9b3c5": {
      "model_module": "@jupyter-widgets/controls",
      "model_module_version": "1.4.0",
      "model_name": "DropdownModel",
      "state": {
       "_options_labels": [
        "salle info 1-vidéo/badge (Bât 2)",
        "salle info 2-vidéo/Badge (Bât 2)",
        "salle info I01-vidéo (Bât 15-C I E)",
        "salle info I011-vidéo/badge (Bât 15-C I E)",
        "salle info I012-vidéo (Bât 15-C I E)",
        "salle info I019-vidéo/badge (Bât 15-C I E)",
        "salle info I03-vidéo (Bât 15-C I E)",
        "salle info I04-vidéo (Bât 15-C I E)",
        "salle info I040-vidéo (Bât 14)",
        "salle info I042-vidéo (Bât 14)",
        "salle info I047-vidéo/badge (Bât 14)",
        "salle info I05-vidéo (Bât 15-C I E)",
        "salle info I121-vidéo (Bât 15-C I E)",
        "salle info I123-vidéo (Bât 15-C I E)",
        "salle info I124-vidéo/badge (Bât 15-C I E)",
        "salle info I125-vidéo (Bât 15-C I E)",
        "salle info S046-Vidéo/badge (Bât 14)",
        "salle info S049-vidéo (Bât 14)",
        "salle info SPE 46-vidéo/badge (Bât 13)"
       ],
       "description": "salle info : ",
       "index": 0,
       "layout": "IPY_MODEL_bb95711807b7415dbfb3ca15171dc895",
       "style": "IPY_MODEL_94f5583645064f1aa324ef3e7dfc4830"
      }
     },
     "a7e24c5089444e079a1eae0c9a7cb274": {
      "model_module": "@jupyter-widgets/controls",
      "model_module_version": "1.4.0",
      "model_name": "VBoxModel",
      "state": {
       "_dom_classes": [
        "widget-interact"
       ],
       "children": [
        "IPY_MODEL_478f46df3ab3457aa11f90a1cf4d370d",
        "IPY_MODEL_394f4f7eedcc4b1c9ab9ab84bf60240f"
       ],
       "layout": "IPY_MODEL_2108ba7aa1c041a6867489b33db01119"
      }
     },
     "a843621e98194e469809f60d945966b9": {
      "model_module": "@jupyter-widgets/base",
      "model_module_version": "1.1.0",
      "model_name": "LayoutModel",
      "state": {}
     },
     "a87cd4e6991a4ca9be4414ca85fb1f83": {
      "model_module": "@jupyter-widgets/base",
      "model_module_version": "1.1.0",
      "model_name": "LayoutModel",
      "state": {}
     },
     "a88768a49e2d4f10bd80d098a086c619": {
      "model_module": "@jupyter-widgets/controls",
      "model_module_version": "1.4.0",
      "model_name": "VBoxModel",
      "state": {
       "_dom_classes": [
        "widget-interact"
       ],
       "children": [
        "IPY_MODEL_cdc42788c1684c579611776e8b24da73",
        "IPY_MODEL_c670be4964b644adb909da953b070af9"
       ],
       "layout": "IPY_MODEL_0d9ac0eee0014fd79ddbd7869243df96"
      }
     },
     "a8cb1557d6ce4e34b9c50542c19d4c4f": {
      "model_module": "@jupyter-widgets/base",
      "model_module_version": "1.1.0",
      "model_name": "LayoutModel",
      "state": {}
     },
     "a93759b4deb044c38c261c6f21aef459": {
      "model_module": "@jupyter-widgets/controls",
      "model_module_version": "1.4.0",
      "model_name": "DescriptionStyleModel",
      "state": {
       "description_width": ""
      }
     },
     "a9861f75d1934c33b2ad83bd7409c974": {
      "model_module": "@jupyter-widgets/base",
      "model_module_version": "1.1.0",
      "model_name": "LayoutModel",
      "state": {}
     },
     "aa560cd818ea486cbb37afb2f646c43b": {
      "model_module": "@jupyter-widgets/controls",
      "model_module_version": "1.4.0",
      "model_name": "DescriptionStyleModel",
      "state": {
       "description_width": ""
      }
     },
     "ac25d5e05253424dad70aa3ab4cf783f": {
      "model_module": "@jupyter-widgets/controls",
      "model_module_version": "1.4.0",
      "model_name": "VBoxModel",
      "state": {
       "_dom_classes": [
        "widget-interact"
       ],
       "children": [
        "IPY_MODEL_af8bcc8d7a354d04934f3db40ced4375",
        "IPY_MODEL_5247b693937c46a2bf1924ac8b3daced"
       ],
       "layout": "IPY_MODEL_7a5d78df8bd448108ad43229b11a1f8a"
      }
     },
     "ad2cc4ebfd8742caa30d23b4699c7e6e": {
      "model_module": "@jupyter-widgets/controls",
      "model_module_version": "1.4.0",
      "model_name": "DescriptionStyleModel",
      "state": {
       "description_width": ""
      }
     },
     "aee41f1aab014a0c81cbd161714fe571": {
      "model_module": "@jupyter-widgets/base",
      "model_module_version": "1.1.0",
      "model_name": "LayoutModel",
      "state": {}
     },
     "af58c906fbfe45ccbbe0ad81b166a1fb": {
      "model_module": "@jupyter-widgets/controls",
      "model_module_version": "1.4.0",
      "model_name": "VBoxModel",
      "state": {
       "_dom_classes": [
        "widget-interact"
       ],
       "children": [
        "IPY_MODEL_b727d895e7a048c6912cd10ce3c60e98",
        "IPY_MODEL_2ff3ddd5eebc44e9a4f2daa574877502"
       ],
       "layout": "IPY_MODEL_3a8c872cd001476d9e1431db5b9e9b4b"
      }
     },
     "af8bcc8d7a354d04934f3db40ced4375": {
      "model_module": "@jupyter-widgets/controls",
      "model_module_version": "1.4.0",
      "model_name": "DropdownModel",
      "state": {
       "_options_labels": [
        "sa TP 33Géol (Bât 14)",
        "sa TP 34Geol-vidéo (Bât 14)",
        "sa TP 35Geol-vidéo (Bât 14)",
        "sa TP 36Geol-vidéo (Bât 14)",
        "sa TP 38Geol-vidéo (Bât 14)",
        "sa TP 65Geol-vidéo (Bât 13)",
        "sa TP Automatique 59 (Bât 14)",
        "sa TP B1 Bio animale L2-vidéo (Bât 6)",
        "sa TP B2 Bio animale L1-vidéo (Bât 6)",
        "sa TP B3 Taxo-Ecologie (Bât 6)",
        "sa TP B5 Biocell-Immuno (Bât 13)",
        "sa TP Bio animale 32-vidéo (Bât 5)",
        "sa TP Bio végétale-vidéo (Bât 5)",
        "sa TP Biocell  110-vidéo (Bât 5)",
        "sa TP Bioch A (Bât 13)",
        "sa TP Bioch B (Bât 13)",
        "sa TP Bioch-biomol (Bât 2)",
        "sa TP Biotech-biomol (Bât 2)",
        "sa TP Ch Générale A (Bât 12)",
        "sa TP Ch Générale B (Bât 12)",
        "sa TP Ch Orga 1 (Bât 2)",
        "sa TP Ch Orga 2 (Bât 2)",
        "sa TP Ch Organique E (Bât 12)",
        "sa TP Ch Organique F (Bât 12)",
        "sa TP Ch inorganique C (Bât 12)",
        "sa TP Ch inorganique D (Bât 12)",
        "sa TP Ch organique G (Bât 12)",
        "sa TP Ch- Phys 1 (Bât 2)",
        "sa TP Ch- Phys 2 (Bât 2)",
        "sa TP Ecologie-vidéo (Bât 5)",
        "sa TP Electro 61 (Bât 14)",
        "sa TP Info indus 57 (Bât 14)",
        "sa TP Microbio (Bât 2)",
        "sa TP Méca 37bis (Bât 14)",
        "sa TP Optoélectr 55 (Bât 14)",
        "sa TP Phys 50 (Bât 14)",
        "sa TP Phys BGC (Bât 13)",
        "sa TP Phys CAPES  60 (Bât 14)",
        "sa TP Phys MIPC A (Bât 13)",
        "sa TP Phys MIPC B (Bât 13)",
        "sa TP Phys nucléaire (Bât 12)",
        "sa TP Phys solide 54 (Bât 14)",
        "sa TP Physio animale113 (Bât 26- RdC)",
        "sa TP Physio animale115 (Bât 26- RdC)",
        "sa TP Physio patho Végétale (Bât 2)",
        "sa TP Physio végétale (Bât 5)",
        "sa TP Thermo 35bis (Bât 14)",
        "sa TP Thermo 38bis (Bât 14)"
       ],
       "description": "TP : ",
       "index": 0,
       "layout": "IPY_MODEL_5f2cf991d64747fe974d935e83c02118",
       "style": "IPY_MODEL_6362fca81e0249e6b1836369821a6f91"
      }
     },
     "b0f0a00a4e184aeeb70bce21f677d5eb": {
      "model_module": "@jupyter-widgets/controls",
      "model_module_version": "1.4.0",
      "model_name": "VBoxModel",
      "state": {
       "_dom_classes": [
        "widget-interact"
       ],
       "children": [
        "IPY_MODEL_691c8365deff46e495e8c4d52de9b6d4",
        "IPY_MODEL_2bcb6e43b7334c61b95e24b71e46853a"
       ],
       "layout": "IPY_MODEL_47df9ad958504b7196108318a7ce9903"
      }
     },
     "b30a3f50344c48bcb86698258dff3714": {
      "model_module": "@jupyter-widgets/base",
      "model_module_version": "1.1.0",
      "model_name": "LayoutModel",
      "state": {}
     },
     "b4d216bb5d8e45e3890f718903371d21": {
      "model_module": "@jupyter-widgets/base",
      "model_module_version": "1.1.0",
      "model_name": "LayoutModel",
      "state": {}
     },
     "b5663fd55f60484bbcbe462cb8ac53d6": {
      "model_module": "@jupyter-widgets/output",
      "model_module_version": "1.0.0",
      "model_name": "OutputModel",
      "state": {
       "layout": "IPY_MODEL_38f95cf61a6e47f89ff109df42695573",
       "outputs": [
        {
         "data": {
          "image/png": "iVBORw0KGgoAAAANSUhEUgAAAXoAAAEICAYAAABRSj9aAAAABHNCSVQICAgIfAhkiAAAAAlwSFlzAAALEgAACxIB0t1+/AAAADl0RVh0U29mdHdhcmUAbWF0cGxvdGxpYiB2ZXJzaW9uIDMuMC4zLCBodHRwOi8vbWF0cGxvdGxpYi5vcmcvnQurowAAIABJREFUeJztnXmcXGWV97+n1l6TdHc6IXsIhH0nLAKCA6igaBA3FJVxUMAXHXEZxVFft1HcZnRmUBRRwQUVBRRUXkFkcwEN+xIgkARIyN5Jeq39vH8893ZXd7rT1V3V91ZVzvfz6c+tuttzbnXV7557nvOcR1QVwzAMo36JhG2AYRiGMbWY0BuGYdQ5JvSGYRh1jgm9YRhGnWNCbxiGUeeY0BuGYdQ5JvR7ACKiIrKv9/oaEfmPSZ6nV0SWlLjviSKyyjvm7Mm0VwlE5N9F5OrdbF8rIqePsv5jIvIjEZnUb2Ss807yXJ8VkZ9U4lyjnDspIk+KyF4TPO56Ebl7Cuz5LxG5uNLn3dMxoTdKRlVbVHV1ibt/HrjCO+bXE2lHRP5JRO4UkZ0isnbChhahql9S1fdMsP0zgaOAd6tqYQLHzRWRdRO1MWQuBO5R1Y0w6AhkvBt0j4g8ICKnFB8gIi8H8sB9InLuiG27vcGJyPEicruIdInIFhH5pYjMKdrla8AnRSRRsSs0TOiNKWMR8MQkj+0DfgD8W+XMKR1VvVVVz1XV/AQPfQ3w/6bCpinkIuDHI9Z9VVVbgOnAlcCNIhIt2r4X8EHgs0DjBNtrA64CFuO+Iz3AD/2NqroBeAp4/QTPa+wGE/oaQkQ+LiLrPU/raRE5zVt/rIj8TUR2iMgGEbmiVI9IRM4SkYe9Y/8qIoftZt+RIaBvicjvPHvuF5F9vG3PAUuAWzzPMOl5uzd7ntyzIvLesdpR1b+r6o+BcZ8ePA9xY7EQicgbRORR7/WwsIeIvFNEnheRbSLyyRHniojIZSLynLf9ehFpL9r+ehF5wvus7hKRA0eY8xrg90Xvj/HCIttF5Ici0uCdp01Efut5tNu91/OL2tlbRO72PtfbgZkj7HxX0TV8utiLHu8aRpxnIbAPcP9o272nmeuAdmC2d8w+wPuAlcCLwOkiMsPb9mNgIUP/94+Ncs5bVfWXqtqtqv3AFcCJI3a7C3jtaDYZk8OEvkYQkf2B9wPHqGor8Gpgrbc5D3wIJwgvA04D/k8J5zwK5zlfBHQA3wVuFpFkiWa9Dfgczkt7FvgigKruA7wAvM4L3aSBnwHrgLnAm4Av+TeqclDV+3BPAKcWrX47TqCGISIH4TzUd3p2dADzi3b5V+Bs4BRv+3bgW96x+3nXcCnQiRP0W/wbqojEgZOB24vOdx7u/7QPsB/wKW99BOfFLsIJ4wBO8HyuAx7A/T+/AJw/4hq+7Z17Ds7rnlfKNYzCocBqVc2NttG7eb4LWANs8lcDl3vnPhBYgPPsUdV3Mvz//tUx2i3mZHZ98lsJHF7CsUapqKr91cAfsC+wGTgdiI+z76XATUXvFdjXe30N8B/e6yuBL4w49mnglDHOO/I8Vxdtew3wVNH7tcDp3usFuJtRa9H2y4FrxrmO04G1JXw2/wH8wHvdihP+Rd77zwI/8V7/X+DnRcc1A5kiO1cCpxVtnwNkgRjwaeD6om0RYD3wCu/9acAdI67/4hGfz3Nj2H8EsN17vRDIAc1F268bcQ0/K9rWVOo1jNLuecB9I9ZdA6SAHd4yBZy3m8/+bOCh0f7vJfzfDgO6gJePWP9K3A0o9N9dvfyZR18jqOqzOAH/LLBZRH4uInPBeZve4/9GEekGvsSIx/0xWAR8xAtF7BCRHThRnluiWRuLXvcDLWPsNxfoUtWeonXPM9wTLQlxWTS93t93vNXXAed4TyLnAA+q6vNj2PGi/0ZV+4BtRdsXATcVfRYrcTeo2d6xzxcdW/DO5V/DyLANxW15x/r/ryYR+a4XfukG7gFmeB70XJzo9404dqxr6J/ANYxkO+7GOJKvq+oMXPx9GfA1cR3UiMgs77u33rP9J5T2XRuGFwK8Ffigqt47YnMr7kZjVAgT+hpCVa9T1ZNwP2YFvuJtuhLXgbVUVacB/457xB6PF4EvquqMor8mVf1ZhU1/CWgXkWJRWYjziCeEuiyaFu/vYm/dkzgxPJMxwjYeG3A3MsAJLi584/MicOaIz6NBVdd717Co6FjxzuVfw2uA341ob0HR64XeOQA+AuwPHOf9v072T+vZ2CYizSOOLb6G4nh+4wSuYSSPAktEJDbKNtTxOPAXhmLml+O+e4d5tr+D4d+1ccvhisgi4I+4p8mRHcHgQkKPjHceo3RM6GsEEdlfRE71vNYULq7rZ4W0At1Ar4gcgOssK4XvAReLyHHiaBaR144Q5LJR1ReBvwKXi0iDuA7fC4Cfjra/16HYAMTdW2mQ8TuXr8PFp08GfjnGPr8CzhKRk7zzfZ7hv4HvAF/0hAgR6RSR5d6264HXishpXjz+I0Aa+KuI7A0kVfWpEe1dIiLzvc7Qfwd+4a1vxf3/dnjbPuMf4D2JrAA+JyIJETkJeN2Ia3idiJzgXcPnGC60u7uGYajqOmAVcOwYnxfe9+kkhuLorUCvZ/s8ds2M2oTriB/rfPOAPwHfUtXvjLHbKThv36gQJvS1QxL4MrAVFzKZhRMPgI/iPNkenHj/YrQTjERVVwDvxXUEbsd1qP5zJY0u4m24lLqXgJuAz6jq7WPsezJOCH/PUGflbeOc/2fAK4A/qerW0XZQ1SeAS3A3hQ24ay7Oe/9v4GbgNhHpAe4DjvOOfRrnvf4v7n/wOlynYwbn7Y4M2+C1cxsue2g1ri8B4Ju4sMhWr42RKZlv99rtwt0EfjTiGj4A/Ny7hh5c3016vGsYg+/iOqeL+ZgXGuvz7P+htx+4G8tRwE7cE8yNI469HPiUFzr66CjtvQd3I/hMUQiu198oLqf+IGBCYy+M3SOqNvGIYZSDiPweNzhsNLGf6rZbcPHspaq6ZhLHJ4GHcB24Gypt3yTs+U9cp/W3w7alnjChN4wy8fLF/1dVBwJq73XAHbiQzX/iPPaj1H7MxhiMG7oRkR+IyGYRebxoXbu4YcyrvGWbt15E5H/EDYh51MvTNoy6RlW/GpTIeyzHhcBeApYC55rIG7ujlBj9NcAZI9ZdhssZXorzLC7z1p+J++ItxdXQuLIyZhqG4aOq7/Gyaaar6mle/4FhjMm4Qq+q9+A6hYpZDlzrvb4WN2jCX/8jLy3rPlxu8BwMwzCM0Bg1f7YEZvsdN6q6QURmeevnMXyQyDpv3S6dPCJyIc7rp7m5+egDDjhgkqYYhmHsmTzwwANbVbVzvP0mK/RjMdognVFjh6p6Fa6KHcuWLdMVK1ZU2BTDMIz6RkRGGwG+C5PNo9/kh2S85WZv/TqGjwacz9BoQMMwDCMEJiv0NzNUUe984DdF69/lZd8cD+yshtxcwzCMPZlxQzci4o84nClu9pzP4EZoXi8iF+DKkr7Z2/33uJofz+KKXL17Cmw2DMMwJsC4Qq+qbxtj0y61xL1c3kvKNcowDMOoHFbrxjAMo84xoTcMw6hzTOgNwzDqHBN6wzCMOseE3jAMo84xoTcMw6hzTOgNwzDqHBN6wzCMOseE3jAMo84xoTcMw6hzTOgNwzDqHBN6wzCMOseE3jAMo84xoTcMw6hzTOgNwzDqHBN6wzCMOseE3jAMo84xoTcMw6hzTOgNwzDqHBN6wzCMOseE3jAMo84xoTcMw6hzTOgNwzDqHBN6wzCMOseE3jAMo84xoTcMw6hzTOgNwzDqHBN6wzCMOseE3jAMo84xoTcMw6hzTOgNwzDqHBN6wzCMOseE3jAMo84xoTcMw6hzTOgNwzDqnLKEXkQ+JCJPiMjjIvIzEWkQkb1F5H4RWSUivxCRRKWMNQzDMCbOpIVeROYB/wosU9VDgChwLvAV4BuquhTYDlxQCUMNwzCMyVFu6CYGNIpIDGgCNgCnAr/ytl8LnF1mG4ZhGEYZTFroVXU98HXgBZzA7wQeAHaoas7bbR0wb7TjReRCEVkhIiu2bNkyWTMMwzCMcSgndNMGLAf2BuYCzcCZo+yqox2vqlep6jJVXdbZ2TlZMwzDMIxxKCd0czqwRlW3qGoWuBE4AZjhhXIA5gMvlWmjYRiGUQblCP0LwPEi0iQiApwGPAncCbzJ2+d84DflmWgYhmGUQzkx+vtxna4PAo9557oK+DjwYRF5FugAvl8BOw3DMIxJEht/l7FR1c8AnxmxejVwbDnnNQzDMCqHjYw1DMOoc0zoDcMw6hwTesMwjDrHhN4wDKPOMaE3DMOoc0zoDcMw6hwTesMwjDrHhN4wDKPOMaE3DMOoc0zoDcMw6hwTesMwjDrHhN4wDKPOMaE3DMOoc0zoDcMw6hwTesMwjDrHhN4wDKPOMaE3DMOoc0zoDcMw6hwTesMwjDrHhN4wDKPOMaE3DMOoc0zoDcMw6hwTesMwjDrHhN4wDKPOMaE3DMOoc0zoDcMw6hwTesMwjDrHhN4wDKPOMaE3DMOoc0zoDcMw6hwTesMwjDrHhN4wDKPOMaE3DMOoc0zoDcMw6pyyhF5EZojIr0TkKRFZKSIvE5F2EbldRFZ5y7ZKGWsYhmFMnHI9+v8G/p+qHgAcDqwELgPuUNWlwB3ee8MwDCMkJi30IjINOBn4PoCqZlR1B7AcuNbb7Vrg7HKNNAzDMCZPOR79EmAL8EMReUhErhaRZmC2qm4A8JazRjtYRC4UkRUismLLli1lmGEYhmHsjnKEPgYcBVypqkcCfUwgTKOqV6nqMlVd1tnZWYYZhmEYxu4oR+jXAetU9X7v/a9wwr9JROYAeMvN5ZloGIZhlMOkhV5VNwIvisj+3qrTgCeBm4HzvXXnA78py0LDMAyjLGJlHv8B4KcikgBWA+/G3TyuF5ELgBeAN5fZhmEYhlEGZQm9qj4MLBtl02nlnNcwDMOoHDYy1jAMo84xoTcMw6hzTOgNwzDqnHI7Yw3DGIkqrLkbejZBIQsISATEX3r+VfE6irbFkrD45RBLhHkVRh1hQm8YleZvV8BtnyrvHActh7f8qDL2GHs8JvSGUWkeuAYWHAdnXwmRGKDOy9eC264F789fp8PfP/Rj+MfVsONFmLEgxAsx6gUTesOoJJl+2PYcHPIm6Nhncuco5J3Qv/SgCb1REawz1jAqybZnAYVZB07+HLMPdrH6jY9XzCxjz8aE3jAqSf9Wt2wZtWhracQboGU2dL9UGZuMPR4TesOoJP1dbtnUUd55ps2F7vXl22MYmNAbRmUZ2O6Wje3lnad1DvRsKN8ew8CE3jAqi+/RN5Y5VXLrXtCzsXx7DAMTesOoLANdkJwG0TIT2po6ILUT8rnK2GXs0ZjQG0YlyQ5AvKn88zR1AAqpHeWfy9jjMaE3jEqSS7sSBuXid+b2byv/XMYejwm9YVSSfKWE3uvM9WP+hlEGJvSGUUlyaYhWQOj9rB3z6I0KYEJvGJXEQjdGFWJCbxiVJJ8xoTeqDhN6w6gkuVRlhD7RBLFGl65pGGVi1SsNo5Lk0tA0szLnamovvzM2l4a//LerqFnIeivFTXgy1rJhOiy7AGbuW17bRtVgQm8YlSSXrtzMUE3t5Ydu/vo/cOcXYfoCiPp2efXxhy2L1vdvhYevg4vuhrbF5bVvVAUm9IZRSfJpiDVU5lxNHeUL/TO3wfxj4T23l35M12r47ilw0/vgn38LkWh5NhihY0JfY/Slczz0wg76M0ND40Vk6PXgOoq2+9uKVw7fv/g8/rqmRJQjF7YRjRTvZeyWXLrIcy6Tpg43y9RkKeRh46Ow7F8mdlz7Ejjzq/Dri+F3H4Fl74a9Dhv+pTJqChP6GiJfUM759l95elNPYG2+4/iF/MfZhwbWXs2Tq6BH31hm6Ka/y3UOt+098WMPPxfW/R1W/AAe+CEc8kY452qIWP5GLWJCX0Pct3obT2/q4WNn7M/JSzt32a7qLdFR1hXvp6OsG3w1uO4Hf1nLz//+Ip967UE0xO3xvSQqlV4JXmGzHa6w2WSKpPVtccuWXb8r4yICZ30DXv5RJ/b3fh3mHwPHv2/i5zJCx4S+hnjG8+TffPQCOlsrJCa7YXN3mt89uoFnNvVw2PwZU95eXZBLVTZ0A67G/WTE2hf65kkc6zN9Hpz6Kdj0ONz+GVh0Isw5bPLnM0LBnsNqiLVb+2hJxpjZUiEhGYf99moF4NnNvYG0V/MU8lDIVbAz1iuDMNlc+koIPTjv/vX/Cw3T4Lsnw0/eCD2byjunESgm9DXE+h0p5rc1Dut8nUpmtrinhq6+TCDt1Ty5tFtWMr0SJh+nr9RsV+DmwL3oHjj532Dtn+HWfyv/nEZgWOimhuhOZZneGA+svWkNMeJRYZsJfWnkfaGvYHolTF7oswNuGW+sjD3T5sKpn3QDr/78TTcDVutelTm3MaWY0NcQ3QNZ5rdVYFKLEhER2poSdPWa0JeE79FXOkZfLPSr74Knfg+5AdACRGIw72g48p27pj/mKnzj8Tn8bfDnb8ATv4bjL67suY0pwYS+huhJ5ZjWGOy/rL05wba+dKBt1iyVFtammYBA90vu/cpb4BfvgHgzJFtBIpDpgweucWULDlo+wp4BdyMod1rDkXTuD7MPhcd/ZUJfI5jQ1xA9qSzTGoIL3QBMb4zTPWDzlpZE3nvyqVR6ZbzBieqGR1zn5y0fhDmHw7/c5raB6wD++lJ4+tZRhL6COf0jOfSN8MfPwva1ViahBrDO2BqhUFB60zmmNQR7b25KROnPmtCXRC7llpUK3QAsOA5W3w0/e6vz3s/53pDIgytPsOA4WP/ArsdmB6ZO6A8+xy3v+MLQE4dRtZjQ1wj92TwFhdaAPfqmRIz+TD7QNmuWnO/RV1BcT/iAE/bNK2H5t5yHP5IZC13H6C72TKFH37YIjr/EhW++cQj87VtT045REcp2D0UkCqwA1qvqWSKyN/BzoB14EHinqlpvXpmksk5sG+LB3pubElEGTOhLw/foK5VeCTBzKXz4KdA8JJpH36d1L0h3O4+/eJ/cQOXCSKNxxpfgmAvgtk/BHz4Jc4+ERSdMXXvGpKmEanwQWFn0/ivAN1R1KbAduKACbezxZPMFAOLR4IXePPoSqXR6pU+8YWyRB2jxUhxHevW5dOVSK8eiYx845yrn4d90EaS6p7Y9Y1KUpRoiMh94LXC1916AU4FfebtcC5xdThuGI5tzNWiCFvrGRGxYpUxjN1Q6vbJUWma5Ze/m4euzU+zR+yRb4Q3fhZ3r4MoToWvN1LdpTIhyVeObwMeAgve+A9ihqr4yrAPmjXagiFwoIitEZMWWLVvKNKP+yfgefSx4jz6b18EnCmM3DKZXBiCuxSSnuWVmRKmKXNpNRxgEC4+H83/ryjXc9eVg2jRKZtKqISJnAZtVtbi7f7Sx+TrKOlT1KlVdpqrLOjvLrMWxB+ALbSIabE3wpoSrWmnhmxLIT0FnbCkkXU0i0iPCJlMdox/J4hNh6atgzd3BtWmURDnu4YnA60VkLa7z9VSchz9DRPxO3vmA5V5VgPBi9O5faR2yJTAV6ZWlMCj0I+YpCCJGP5K5R0DPBovVVxmTVg1V/YSqzlfVxcC5wJ9U9TzgTuBN3m7nA78p20qDbD6sGL1rz8/6MXbDVJUcGI+xhD6oGH0xrXPdsmdDsO0au2UqVOPjwIdF5FlczP77U9DGHkdYHn0y5kI36ZzF6Mel0tUrSyXR4pajefRBxeh9pnlCb4OoqoqKDLNU1buAu7zXq4FjK3FeY4jBGH0s2Bh90uv8TefMox8XP70yGrAXHYk4sU+P7IyduEe/cWeKjd0pcvkCIhCLROhoSYxaTE9VeXZzLz3pHIWCEo0IC6MddIB59FWG1bqpEcL26FNZ8+jHJVfhWjcTIdk6SmfsxGL0X/zdk3zv3tFTI995/CI+v/zgwbkQBjJ53n71fTz0wo5h+82M9bMiBqR2Tsh8Y2oxoa8RMiHl0Sfj5tGXjD+NYEATwwwj3jRUf95nAjH625/cxPfuXcMbj5rPWYfNIRpx15AvKH96ajM/vu95Dpk3jbcesxCAy29dyUMv7ODTZx3Eks5mYhEhlS3w8esfdCe0ztiqwoS+RgjPo/eE3jz68clngu+I9Rkp9PmcK5tQQox+w84BLrvhUQ6cM43LzzmUxIixGqfs18mzm3v5/C1PctzeHTy7uZcf/e153nPS3lxw0t7D9r1+SScDqxtoHPl0YYSKCX2NMJRHb52xVUslJwafKPEGyPYX2eJEvzcf5X3fv581W/vI5ZWCKgV18fWCKgr0pXMkohG++dYjdhF5gEhE+PpbDueMb97DK75+FwAHz53GR1+9a4G1A/dqpfu5BpKpbquYWEWY0NcIvtDHAh4wZZ2xEyCXCSc+Dy4WX+zRexlAdz7Xw9/WbOOsw+aQiEWIRgQRISIguGVjIsabjp7HvrNaxzz9vBmN3PC+E/jtIy/RmIjx9uMW0hCP7rJfZ2uSHm1iet8OQnq2MUbBhL5GyISURz8UozePflxyqRCFvgkGijpGPdFf1ZXlxH1n8s1zjyy7if1mt/LhV41SJrmI9uYkvTSS69+x2/2MYDGhrxGyuZBDNzZganzy6SlPrXxs3U7ueGoTA9k8qhCLCEctbOP0MTz6F7vzHHrE9Cm1qZj25gTd2kQh1TP+zkZgmNDXCIOdsQHn0TeYR186Uxy6uXfVFt71g7+j6m74IkP/l78fFGHWMKF3r/s1wdwZwQ2a6mhJsIYkZKwztpowoa8Rwsq68Z8gTOhLYApDNzv6M3z0l4+wT2cLN7zvBKY3upnGUtk8R33hdtZ0K7OGdcY6jz5NnI6W4DqIZzTGGSAxeKMxqgMT+hrBj9HHIsF69LFohFhErDO2FPJDHv2m7hTbejPkCu4GqTpUxlXVvRp6P/TO2zRsW0GV79z9HNt6M3z//GMGRR6gIR7lsPnTeWm7DA/deK/TJJgZoNA3JqIMaJKYCX1VYUJfI2TzBe9xPfjBOMlYxPLoSyGXgkQLNzywjo/88pGKnjoi8Pnlh3DIvF3j7Ys7mtm6MQKFAXdnEBny6DVOR3NwHcRNiRgDJInmTeirCRP6GiGbKxAPOLXSJxmPWuimFLwY/bfvepYD9mrl0tOXEotEBgfKipfS6N4MWyAiRa/9bTL4flFH06j1ZgBmtiTZnom6X3Mu5VItvZLJKRLDngCmmmhEyESSxPOpoZuOETom9DVCNl8IfHYpn2QsYmWKSyGXIitxntvSx0deuR9nHDInkGZntiRYq154JjswTOjTxEfNd59KctFGIpqHfDb4Sp7GqJjQ1wiZvAbeEeuTjEV28ehVlSv+9Cy/e2xDxW4Cg16tOE/Xfy/iOqH/+YTFvHnZgoq0NSXkM/TknKgeMGdaYM3ObE2yEi88k+0H2oc8ek0MDnoLikK0EXJAts+Evkowoa8Rcl6MPgySsegunbEPvrCD/7z9GQ5fMIP99xp7RGWp+J2V6g3LR0FRt15h1eYePnHjY7xi/1l0toY0KGk8cmn6C+4nNStAG9uaEgwUe/RFy0I0SSTgDvx8zBf6AWhsC7RtY3RM6GuEbD7MGP2uHv0fV24iHhV++p7jaElO/dfogee7eOOVf+OB57dzxiF7TXl7kyKXpj/vPPogUxqbkzFS+ELfP2gLgIZQZE39Qmojq2kaoWF1h2qEbNihmxFZN89t7mVxR3MgIg9w8NzpRASe3FDFA3Hyafp8oQ8w06U5EWVgMHTjiauf3hiG0Me9TuNMX+BtG6NjQl8jZPKFEIV+19DN6q197D2zOTAbGuJR2puTbOlJBdbmhFCFXIqeXJSmRJTGRHAdoM3JWFHoZsijLxAhGkaMPG4efbVhQl8jhBq6GaUzdnN3ijnTg/UWZ7Yk2NKTDrTNkslnARgoxAJ7yvFp9nLXAch6N8LsAFlJkAzwhuNTiHkOQNY8+mrBhL5GyIbp0Y+I0asqvekc0wLMzwZXAndLbybQNktmMMslPljxMyiaktFRY/QZSdAQC17oSZhHX22Y0NcI2Vx4MfqGEaGbvkyeghK45zqzJcnWqvXo3Q0opdHAxTUejZCPek9XRTH6rCQCv+k4gzyhz/Tvfj8jMEzoa4RMmAOm4sM7Y3tSLkzR2hCsRz+tITbYdtXhZbmkCrFQxDUyMi6eS5MmJI8+7oduTOirBRP6GsHVugkrRj+8BEJPKgdAa0PAsehkjP5MfrAoWFXhhW76C8F79ACSGCGu2QHSBB9GAogmm4bbYoSOCX2NEGqMPhYZFroJU+hzBa3OujueJ91bSIYULhkZukm78gfVcNMxQseEvkYIO48+lS0MetJhhW6avAyS/kwV1t0ZFPpwxDUZj5ORRFFnbMqVPwjhphOLN1BQoZC2rJtqwYS+Rsjkwsy6ccKV8SY/8T36aSF49AB96Vyg7ZaEJ7C9+XDEtSEeIS3JIo8+RUpDuukkovSTJJ82j75aMKGvEbL5AomApxH08Yti+SETX+hbghb6hGuvOj16J2o78+GIa0M8SoZEUa2bFP0hpHqC69MZIEHePPqqwYS+Rgg7Rg8MZt6EFbppTjoB7a1ij74nH464NsSjpEgOlT7IpUgVgi9RDO77MqBJCpZeWTWY0NcI4cbonVj4HbI9qRwRcTVWgqS6QzdOYHfmYoOfV5A0xCNudKxnh+YG6NN44CWKwaXjDpBErdZN1WBCXyOEWusmPjx005vO0ZKMBT6tYaPnnQ5U4yQonve6MxeSR++FS4pHxqY1LI/eFVlTy7qpGkzoa4Rw8+iHh266U9nAwzbgvFagStMrnajtyMVD8eiT8Qj9WhyjHyBF8JOOwFDohoyVQKgWTOhrgHzBTcBRTaGboHPoi+2oymkNPYFNkRi8IQVJMhalvzA8vdINmArLo08g5tFXDSb0NUDWS2uMVUnopieVDUXo/TBEuhqFPtOLxhpRIiHF6KP0+R59LoMUcvRpQ2gx+n6SSM48+mrBZpiqAfz89fDKFPse/VB65expwU9o4XvKqWwVhm4GtlNoaINeQvHoG+IR+gsJNDuAeOWBB0iGFrpJkSSSG+HRb14Jd3+S2TQ0AAAZUUlEQVQFdq4bWldczkIEEs1w8BvgqPPde6MiTPpbICILROROEVkpIk+IyAe99e0icruIrPKWNmlkmWQ9gU2EVdRsMEYfbujG9+irMnTTv418g/uqh+XRp0i4TmEv26WPhtA6Y/s1SaTYo1eFX7wDVv3RiXmy1f01TIOG6e4v0QK9m+GWD8I/rg7c7nqmnF9rDviIqj4oIq3AAyJyO/DPwB2q+mURuQy4DPh4+abuuWTzzusJrUzxKFk3YQh9LCJEBFK5ahT6LnLJGUBIHn0s4rJucqlBoe/XcDx6l+qZIFos9C89BNueheXfhiPPG/vgQgGuewvc9inY+xTo3G/qDd4DmPSvVVU3ABu81z0ishKYBywHXuHtdi1wFyb0ZZEdDN1EYOPj8MLfBmc0Kothj8YyYp1ALAkHvo6kN+9oKusqR/aElHUjIs5zrcrQTReZaQcA4Xn0O/24eLoXCNejHyBJtJB2wh2JwJan3MaFx+/+4EgEll8B334Z/OI8OPxciCZAou67KRFAvNcj3kdisOQVMH3+1F5gDVIRt0xEFgNHAvcDs72bAKq6QURmjXHMhcCFAAsXLqyEGXWLH6Pv6HkKrnorFAIcMHT/d0iedwfgPPp0rkA2r6F49OCFKKotdKMKvVvIdDoRCydGHx2aN7Z/GxBujH5A/akN+yHZAl2rnShPXzD+CVr3gjdeDbdcCnd8fmKNN82ES+6H5pkTN7yOKfvXKiItwA3AparaXeogGlW9CrgKYNmyZVVYYLx68D36xetudj+WS/4BLaPePydA0Uc+sr67//7xX8GtH6NpyyOAE/puv/xBwLNL+TR4lTSrip4NkN5JT8s+QFgefWRo3ti+LW6hIXn0XtYN4LKAki3QtcaJfKmTle97Glz6qAtF5bOg+aHvpRbcay0AOvR+y1Pwk3PgiZvg2PdOybXVKmX9WkUkjhP5n6rqjd7qTSIyx/Pm5wCbyzVyTyebc1/wGTseh3lHBxe3PGg53PoxkpsfARaQzuWLatEHH7oBz6MPI0ZfKDhPuZBjSFy8v1W3A7CjdT/PxvAKiQHQvxVwoZswPPpENFI0h20f0Ok8+va9J3YiETctoT971nhMmwszFsGae0zoRzBpoRfnun8fWKmq/1W06WbgfODL3vI3ZVloDIZumvpehPmvCq7hltkQbya2cy2wgHS2QG9Ik474JOPRYdMaBsK6FfDTN8NA19j7dCxl0/TDgMdCGxmb8sMl3RsA6NGmUDz6WDRCWkZMhLJ9jUubnEpEYPYhsOXpqW2nBinn13oi8E7gMRF52Fv37ziBv15ELgBeAN5cnolGNl+ggTTJgc3Qvji4hkWgbTGyfQ2J6Cmkc4Uq8OiHz3YVCHd/1S3P+IoLPUhk6A+vE3Df00g9nRq0MWga4lG68TzfbasA6KI1FI8eIBfxhD7TDwPb3V/bBD36ydC5H6z6gwv3RMP5jlYj5WTd/JnBVI1dOG2y5zV2JZsvMAOXSUFzZ7CNt+4FvZsHpxMcKlEcVow+4M7YQgHW3gtHvgOOv3i3u6ayLwAhxehjUTarN2Rl4+OkYtPJEQvFowfIxxqhgOuM7VrjVrYvmfqG2/Z24bWeDTDDkjx8rARCDZDNF2gR7xE42Rps403tMNBFMh4Z4dGHlXUTcGdsz0tOrDoPGHdX/0kjrJGxm3yh791If9wfvBWSRx/1ni6yAy4+DxOP0U+G6fPcsnj0rWFCXwtkckorntAnAhb6xnbo304y5mLjQ1k34TwWJ4P26Lc965Yd+467q38DCiuPvotWCuJuwL3xdmIRCa0+UiHmh256XXweoG3x1Dfsp2/uXD/1bdUQJvQ1QDZfoFlc/DcUjz69k8aYks7l2TmQRST4aQR9GuKRYLNu+lwGCy2zx93V9+jDGY0aRYnQ3eTCFRsa9g3NmwcYiLW7F31bXeimdY4rfTDVTPM9+henvq0awoS+BsjmC7QQUuim0YUAOqP9DGTydPVlaGtKEI2EU3Aq8JGx6W6v4Wnj7prKFkhEI0RC+Gz8cNHa9hMBWNV8VGjxeYCBRBs5oi701bUmmI5YcDn7DTMsdDMCE/oaIJsv0CpeJcBkS7CNe0I/vyFNV3+Grr4M7c0lDnqZAgIfGZvyhD45vtCnc/nQvGg/XHTvgovhXx/m4aYTQvXok/E426Md0P0SbH4i2Jo10xdAt4VuijGhrwGyeaUZP3QzvuBUlIS7scxqyNLVl2FbyEKfjEeCzaNP97g6KyWEHVLZQigTfQBEI0I8KvTlY9C+N+lcIVSPPhmPsCXSCavvgtROmHN4cI1Pn28e/QisHn0NMCx0kwjYo/dCRbMSGbb1ZohHI+zbWWRDNgX59NS0LVGXCx2Ju2JXuDTCTL5AoaDBhEjS3e4zKKG0R5gePQxPPU1l86GVtQbXT/FE9EAO6v2VW7H45OAanz4PXvhrcO3VACb0NYCfXqnRJFJqrZBK4Ql9RzxDbzrH6i29nLy00w2Eue4tLsc8CCQCi0+ief6XAVd3pzERgMea6i75KSqdLYSSWumTjEcHO4TTufCeLsCFkm6NvoI3N9wO+74SZo6ftVQxps93TxHpnuD7tKoUE/oaIJtXpjMQzpd20KN3aZUFhSWdzfDIdU7kj79kKHe5kqi6Qlb57NAAmAeu4eCG3wMHkcrmgxH6dHdJHbHge/ThiWvxGINUNk9DyB79I4V58NFVrsxwkBSnWM4af/zDnoAJfQ2QyXkDpkIU+kUtQx2g+81uhX/cC9MXwhlfCsYOVVj1R+bveAA4KLgUywl49KmQPfrijup0rsD0xvBKAPgD7Iglg298WtGgKRN6wIR+XHb0Z/jmH1exbvsAuYLzlgQ3CcbQa39vcXMh+O8ExHvnz5Pg7QXD9pPB1/FohLcft4CjF7UP2pDNF5gmKSTojBsYFPrORJaD504jmy9w9KI2uOVRmHtEcHaIwNwjaH/xcSDAeWPT3a4qYim7VoVH7wl9Nk9Dawgi6+EG2IU0b4A/8Ui3dcj6mNCPw+dveZIbH1rPgXOmkYgKSlFZbHToteJtG6rtPup+3j6De+lQZXhVZXNPmj89tYl7P34qLV7NdxejT0EyhOl3Yw0QiRHJ9HDL+08iky+4HPrul+CA1wZrS8c+ND3zB0CDS7FMd0OyNK8wnSvQ0hzeT6ohFh2c7jH8GH1k0JbAaZ3j+nQs82YQE/rdkMsX+MMTG3nbsQu5/JxDA2nzL89u5byr7+fva7Zx6gFuNGY2r7TKACRDKNIk4jJ90j1EIkJDJOo6YnMpaOoI1pZp84gWsrTTE5zQp0qP0aeyYXv0UfozuUFbwo7Rp3MFVJVSJyOqGNGYq0u/8fFg261iLI9+N6za3EtfJs9xe7ePv3OFOGphG7GI8ODzOwbXZfz0yrAyCJLTXM0SH2+qusCFvnUOAHOkK5jQjepQemUJuNz1MGP0Q52xzqMPNwMIhuZSCJx9T4fVdw4VVNvDMaHfDeu3u9z1xTMDqNHh0ZiIsqC9iTXb+gbXZXMFmhkIPofeJ9nqUtV8whJ6L1Y+S7YH0xmbHXAZPyV3xobr0SdjQ7NvOY8+3NANEF745oQPuI7gn77ZjfXYwzGh3w3b+txAoJktwaaHzZ3RMHiTAecVNYfq0beMLvSNwT3pAIM3lnZ6ghkdO4E6NxC+R++PGlZ1fRihevS+0Ic1v2/bIjj7Sld9dPWd4dhQRZjQ74atvRkAOpqDzV6YN6OR9TuGhD6byZAkE3z5A5+RHv3AdrcM2qP32muTnmBmmfKvOTm9pN2duIYbo09l86RzBQoKTYnwuuD8J5vAZwMrZt9XQrzJlWHYwzGh3w3bejM0J6LBDMwpYq/pjWztTZPz4puRjC84e3joJtmKRmK0SUCdsanSPXpVdXHxKiiB0J9xn01zwN/bYvynidBCN+Cmfew8ALY8FZ4NVYIJ/W7Y2pumoyX4XOSZLQlUYXu/G40ayXodoaGFblpH6YwVaJwRrB0iaGM7bfQE0xmb3umWJTxJZfIFVAm1kJir1V+gL+0yb5qSVeDRhxW68encH7Y8E64NVYAJ/W7Y1pcOPD4PQ6Eiv48glvU6ZsMS+sQoHn1jG0SCFzVt6qBdeoP16Ev43H3PNVSPPh4lX9DBWcCawwzdDHr0IYZuwNXB73kJclNUeK9GMKHfDdt6M6F59H77UOTRh5l1k+l1E2UD9He5madCQJo6vNBNdXXG+jeecGP07ue8vc8JfVOYoRvvhhfoJDGjMThKds+uT29Cvxu29mbC8ei9m8vWXueFxHO+Rx9iZywMhW/6twUfn/eINHfQIT3BpFdOZNKRbHV49ABd/c5BCFfoq6AzFoaEfg+fQ9aEfgzyBaWrL83MED16P+snkQ87Ru89Sfjhm/6u0ISexnbaCCh0M5h1M/7n7tvTGKZH74lrl+cgNIcao6+CzlgoEvo9uxyCCf0Y7OjPUFDoCGE2pWkNcWIRYZv3g03kQ5pG0McXukGh3xZa6IamDqZLD2lvqP+Uku52/RMl9EX0+ZkuyfAzXbr6nIMQdLZYMf7TRaDTPo6GX5DOhN4YjW3ejyWMGH0kInS0JAZj9Il8yJ2xfugi0+vKAvRvC36wlE9TBzEKiB8/n0omUOem3890CbED1C+C96I32K6tKbwpH9uaXIlk/6YTGvFGaJq5x1eyNKEfAz8+3hFCjB5c5o2fddNQ8IQ+rM5Yv910N2T73dSBYYVuvHbj6e1T31Z6Z8k316Hc9fCE3g8zPrWxh4jAjBDr0c9oSiBSBUIPNocsJvRj4nvTnSF49OBuMFt6M6gqDYUBMpHGUNIZgeGhm7AGS/l4IaNEEEI/gUlH+rxQUpjhkpmtvtB3096cDGZO3TGIRoS2psTgk3GomNBbmeKxGPLowxH6mS1J1mztczXOGSAbaya0B/FBoe+tHqHPDgn9xp0pPvCzB3l03U5yBR3ryDEpnijGvXcvfhVdxw5aeM+nbt1ln/amBJ9ffginH+RKSfdXQYze709SDb4+02i0Nyfo8hymrr4MH7/hUf723DYyuQIFVaIRIRGL8Ir9Z3H5OYcOhp4qzvT5rgyCakmTvNcjJvRjsK03E+rj70wvRt+dyjJN+sjGQ0qthCrz6F27Ddmdg6u+fOtKHlu/k3ccv2jCWS/+FDDFE8P4zHs4S6ypk3cvXbzLxjuf3sxHfvkIf/vEqTQlYoNCH2aMviEeZUZTnB39WWZNawjNDp+9pjWwfscAqsplNzzK3U9v4S3HzKclGScikFeleyDL9SvWoapc8fajpsaQ6fNd/1JqZ/CjuasEE/ox2NaXDvXxt6MlyUA2z+buNO30km8I8Qs6TOj9gmbhdcYCNGZdvf5CQbn7mS287rC5fPqsgyrb1iO9dOyzmIPOPHCXTafs38nbv3c/dz+9hTMPnVPUGRueRw+w/+xW7l/TxeHzSyvENpUcPHcaP/zLWq77+wvc9uQmPvmaA3nvyUt22W9+WxNf+8PTvPKg9Sw/Ygommi+eQ9aE3igmrMFSPv5j+OqtfSyVHgoNc0KzhWjcTSmYqQKPPtFCjhhNeSf0q7f2sr0/yzGLK3zjKeRdlc4xrvPYxe20JGP89bltnHnoHHozORLRCPFouN1ebz9uIVt60rz64L1CtQPguCXtfPee1Xzypsc5fkk7F5y096j7XXTyEu5YuYnLbniM3z26gUQsQiwiRLwJmCPenMoREZqTMd56zAL232sCGWjTF7hl93rY65DyL6wGMaEfA1fQLDyh9zMo1mzp41jpDU9YffwKlrIJIjEI6wlDhP7Y9MHQzYq17gnj6MUVnk93YDugLjVvFGLRCEcunME/1nYB0NWboT2EMRcjWX7EvKnxiifBP+0/i4++aj+29mb40On7jfl0HItG+NZ5R/GVW5/iyQ3d5PJKrqAoOlh1o6BKQZWdA1l+8Y8XuOmSE9lvdoliPzho6sUKXFVtYkI/Bht2pDhx39F/5EHgC/3arb200UtfWKESH2/eWDL9bkq/SHieazrRRlPPTvIFZcXz22lvTrCk0rOA9W11y+axb7DLFrXzzTueoTuVZVtfhpmt4Qt9NSEivP/UpSXtO2d6I98898hx99u4M8Vr/+deLv35w/z6khNJlFJyomWWq0u/eWVJttQjJvSjkMkV2NSTYl5bY2g2+E8Tm7dsJilZUtNmhWYL4KpV9m9zU+u1hhhGAnINbbT1dtPVl+GB57dz9KK2yk9A3bfFLXfzJLVscRuq8NALO9jWmw58gpo9kb2mN/DlNx7Ge3+0go/f8CivOmg2sWiEiB/iEXeDiYjLnpozo4F9OltgySvgyd/AsRdB535hX0bgmNCPwqbuFKowf0Z4Qu+HAXo2PAMJaJpdmmc0ZbQthpceculpex0Wri2NHczkRZ7e2MOarX2ce8yCyrfhTyrdtnjMXY5YMINoRFixtoutvRn2mRXSgLY9jFceNJuLTlnC9+5ZzU0PjV+s7OJT9uGykz8K17wOvn0cvPILcML7A7C0epgSoReRM4D/BqLA1ar65aloZ6p4coMbXr/PrOAmBR9JQzzKnOkNLOjZDEB85q7ZCoHSvgSeuNG9PvxtoZois/Zn0bo/cMX9TwOwrNIdsQDbVkE0OdSRNwrNyRgHzmnl3lVb2didCtUx2NP4xJkH8p6TlngzselgDF9xs32pusKENz64nu/c/RxHLjyaV3/wEfjtpXD7p2He0bDoZWFfRmBUXOhFJAp8C3glsA74h4jcrKpPVrqtcvC/DP4XA/zXcM8zW4hHhYPnhpuidtTCNk5Y+QRpSZLs2CdUW5hT5MXPHT+WOpV0LD2O6EPK9ifvpKP5OI5YUOGO4UIB1twDsw4cdzTyskXtXPPXtQAcNn/PTN0Li87WJJ2tuw+XHbmwjSc27OQTNz7GoR84iblv+A5ceSLcdBFceFd4acIBI77IVeyEIi8DPquqr/befwJAVS8f65hly5bpihUrJtzWfdd9gUOf/t/d21PiuYThn0M0IiR2SZUr8bMq6TMdf5+CQqSQYcuSN9D5rmtKa3uqyA7Ad17uhO+ie918nKHZkmLHVw5mRm4r2UgD8WiFc9dzA6AFOOMrcPzFu9316Y09vP6KPzOjKc4fP3wKrQ3h1ZcxRmfVph5ed8WfSWULJKIRjok+zbXyOSIoWWLkiaAlK0XleeKwT3DsGy+d1LEi8oCqLht3vykQ+jcBZ6jqe7z37wSOU9X3j9jvQuBC7+3+wNMVNaRyzAS2hm3EJDHbg6dW7QazPSzKsX2RqnaOt9NUxOhHuzXucjdR1auAq6ag/YoiIitKuWNWI2Z78NSq3WC2h0UQtk9FMvQ6oLgHaz7w0hS0YxiGYZTAVAj9P4ClIrK3iCSAc4Gbp6AdwzAMowQqHrpR1ZyIvB/4Ay698geq+kSl2wmQqg8v7QazPXhq1W4w28Niym2veGesYRiGUV3YDFOGYRh1jgm9YRhGnWNCPwYi8iEReUJEHheRn4lI+FP2jIGI/EBENovI40Xr2kXkdhFZ5S0rXMe3Moxh+9dE5CkReVREbhKRqhxyOprtRds+KiIqIuGVQN0NY9kuIh8Qkae97/5Xw7Jvd4zxnTlCRO4TkYdFZIWIHBumjaMhIgtE5E4RWel9vh/01k/5b9WEfhREZB7wr8AyVT0E16l8brhW7ZZrgDNGrLsMuENVlwJ3eO+rkWvY1fbbgUNU9TDgGeATQRtVItewq+2IyAJcCZAXgjZoAlzDCNtF5J+A5cBhqnow8PUQ7CqFa9j1c/8q8DlVPQL4v977aiMHfERVDwSOBy4RkYMI4LdqQj82MaBRRGJAE1U8FkBV7wG6RqxeDlzrvb4WODtQo0pkNNtV9TZVzXlv78ONxag6xvjcAb4BfIySa2YEzxi2vw/4sqqmvX02B25YCYxhuwL+xMrTqcLfq6puUNUHvdc9wEpgHgH8Vk3oR0FV1+O8mReADcBOVb0tXKsmzGxV3QDuCwaEXNB+0vwLcGvYRpSKiLweWK+qj4RtyyTYD3i5iNwvIneLyDFhGzQBLgW+JiIv4n671foUCICILAaOBO4ngN+qCf0oeDGy5cDewFygWUTeEa5Vex4i8knc4+5Pw7alFESkCfgkLnRQi8SANlxY4d+A66XiM7pMGe8DPqSqC4APAd8P2Z4xEZEW4AbgUlXtDqJNE/rROR1Yo6pbVDUL3AicELJNE2WTiMwB8JZV+Rg+FiJyPnAWcJ7WzmCPfXDOwSMishYXcnpQRMKfqbs01gE3quPvQAFXcKsWOB/3OwX4JVB1nbEAIhLHifxPVdW3d8p/qyb0o/MCcLyINHkezWm4eFotcTPuy4+3/E2ItkwIb+KajwOvV9X+sO0pFVV9TFVnqepiVV2ME86jVHVjyKaVyq+BUwFEZD8gQe1UhHwJOMV7fSqwKkRbRsXTku8DK1X1v4o2Tf1v1U3AYX8j/4DPAU8BjwM/BpJh27QbW3+G60vI4sTlAqAD14O/ylu2h23nBGx/FngReNj7+07YdpZq+4jta4GZYds5gc89AfzE+84/CJwatp0TsP0k4AHgEVzc++iw7RzF7pNwncaPFn23XxPEb9VKIBiGYdQ5FroxDMOoc0zoDcMw6hwTesMwjDrHhN4wDKPOMaE3DMOoc0zoDcMw6hwTesMwjDrn/wO/8fVCf4J/NQAAAABJRU5ErkJggg==\n",
          "text/plain": "<Figure size 432x288 with 1 Axes>"
         },
         "metadata": {
          "needs_background": "light"
         },
         "output_type": "display_data"
        }
       ]
      }
     },
     "b5e95f6a4e3543cdbd6f1ac1c81b1aad": {
      "model_module": "@jupyter-widgets/controls",
      "model_module_version": "1.4.0",
      "model_name": "VBoxModel",
      "state": {
       "_dom_classes": [
        "widget-interact"
       ],
       "children": [
        "IPY_MODEL_f27fdfc285324b7f9cbe68908e95e9cb",
        "IPY_MODEL_0e4b63b4288d477186ae7d4ae3c15d07"
       ],
       "layout": "IPY_MODEL_37b9752cc47d4f978b9f75e729416949"
      }
     },
     "b5eb0c60ccd34a778124cd3fd74a1b9b": {
      "model_module": "@jupyter-widgets/base",
      "model_module_version": "1.1.0",
      "model_name": "LayoutModel",
      "state": {}
     },
     "b6e67d62439e4ba0a37a4b5035887dc3": {
      "model_module": "@jupyter-widgets/controls",
      "model_module_version": "1.4.0",
      "model_name": "DropdownModel",
      "state": {
       "_options_labels": [
        "salle info 1-vidéo/badge (Bât 2)",
        "salle info 2-vidéo/Badge (Bât 2)",
        "salle info I01-vidéo (Bât 15-C I E)",
        "salle info I011-vidéo/badge (Bât 15-C I E)",
        "salle info I012-vidéo (Bât 15-C I E)",
        "salle info I019-vidéo/badge (Bât 15-C I E)",
        "salle info I03-vidéo (Bât 15-C I E)",
        "salle info I04-vidéo (Bât 15-C I E)",
        "salle info I040-vidéo (Bât 14)",
        "salle info I042-vidéo (Bât 14)",
        "salle info I047-vidéo/badge (Bât 14)",
        "salle info I05-vidéo (Bât 15-C I E)",
        "salle info I121-vidéo (Bât 15-C I E)",
        "salle info I123-vidéo (Bât 15-C I E)",
        "salle info I124-vidéo/badge (Bât 15-C I E)",
        "salle info I125-vidéo (Bât 15-C I E)",
        "salle info S046-Vidéo/badge (Bât 14)",
        "salle info S049-vidéo (Bât 14)",
        "salle info SPE 46-vidéo/badge (Bât 13)"
       ],
       "description": "salle info : ",
       "index": 0,
       "layout": "IPY_MODEL_76d7ede5cdb5417bb45aadfdffec5351",
       "style": "IPY_MODEL_f2af9461c71a44c38472c5c708f1ab5d"
      }
     },
     "b727d895e7a048c6912cd10ce3c60e98": {
      "model_module": "@jupyter-widgets/controls",
      "model_module_version": "1.4.0",
      "model_name": "DropdownModel",
      "state": {
       "_options_labels": [
        "sa TD 006 PECB-sans vidéo (Bât 5)",
        "sa TD 01 (Bât 1-Admin)",
        "sa TD 02 (Bât 1-Admin)",
        "sa TD 03 (Bât 1-Admin)",
        "sa TD 04 (Bât 1-Admin)",
        "sa TD 05 (Bât 1-Admin)",
        "sa TD 06 (Bât 1-Admin)",
        "sa TD 07 (Bât 1-Admin)",
        "sa TD 08 (Bât 1-Admin)",
        "sa TD 09 (Bât 1-Admin)",
        "sa TD 10 (Bât 1-Admin)",
        "sa TD 100 (Bât 26- RdC)",
        "sa TD 110- sans vidéo (Bât 26- RdC)",
        "sa TD 117 (Bât 26- RdC)",
        "sa TD 119-Manuf.Projets (Bât 26- RdC)",
        "sa TD 12 (Bât 1-Admin)",
        "sa TD 13 (Bât 1-Admin)",
        "sa TD 14 (Bât 1-Admin)",
        "sa TD 15 (Bât 1-Admin)",
        "sa TD 18-sans vidéo (Bât 13)",
        "sa TD 20 (Bât 18-B U)",
        "sa TD 200-îlot (Bât 26- 1er ét.)",
        "sa TD 201-anglais/badge (Bât 26- 1er ét.)",
        "sa TD 206-anglais/Badge (Bât 26- 1er ét.)",
        "sa TD 207-Studio Crs/Badge (Bât 26- 1er ét.)",
        "sa TD 208-îlot (Bât 26- 1er ét.)",
        "sa TD 209-îlot (Bât 26- 1er ét.)",
        "sa TD 21 (Bât 18-B U)",
        "sa TD 210-îlot (Bât 26- 1er ét.)",
        "sa TD 211 (Bât 26- 1er ét.)",
        "sa TD 212 (Bât 26- 1er ét.)",
        "sa TD 213 (Bât 26- 1er ét.)",
        "sa TD 214 (Bât 26- 1er ét.)",
        "sa TD 215 (Bât 26- 1er ét.)",
        "sa TD 22 (Bât 18-B U)",
        "sa TD 23 (Bât 18-B U)",
        "sa TD 24 (Bât 18-B U)",
        "sa TD 25 (Bât 18-B U)",
        "sa TD 26 (Bât 18-B U)",
        "sa TD 27 (Bât 18-B U)",
        "sa TD 28 (Bât 18-B U)",
        "sa TD 29 (Bât 18-B U)",
        "sa TD 30-sans vidéo (Bât 5)",
        "sa TD 41 (Bât 14)",
        "sa TD 43 (Bât 14)",
        "sa TD 45 (Bât 14)",
        "sa TD 48 (Bât 14)",
        "sa TD B (Bât 1-Admin)",
        "sa TD D (Bât 1-Admin)",
        "sa TD E (Bât 1-Admin)",
        "sa TD U1-Studio Crs/Badge (Bât 2)",
        "sa TD U5 (Bât 2)",
        "sa TD U6 (Bât 2)",
        "sa TD U7-ilôt/Badge (Bât 2)",
        "sa TD U8-ilôt/Badge (Bât 2)"
       ],
       "description": "TD : ",
       "index": 43,
       "layout": "IPY_MODEL_64bc8f8dd37244ca867a1b972853ecdc",
       "style": "IPY_MODEL_c9d535315ed44d3ea1f15ec33f54c49d"
      }
     },
     "b7aa3cc5becf4ea299432acfd59282a4": {
      "model_module": "@jupyter-widgets/base",
      "model_module_version": "1.1.0",
      "model_name": "LayoutModel",
      "state": {}
     },
     "b9013286e73d4cd0b64287c09195fabf": {
      "model_module": "@jupyter-widgets/output",
      "model_module_version": "1.0.0",
      "model_name": "OutputModel",
      "state": {
       "layout": "IPY_MODEL_d914a5ef568a436d9967a280cfedd1c5",
       "outputs": [
        {
         "data": {
          "image/png": "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\n",
          "text/plain": "<Figure size 432x288 with 1 Axes>"
         },
         "metadata": {
          "needs_background": "light"
         },
         "output_type": "display_data"
        }
       ]
      }
     },
     "b904c25bfb384ebcb3f23634600751bf": {
      "model_module": "@jupyter-widgets/output",
      "model_module_version": "1.0.0",
      "model_name": "OutputModel",
      "state": {
       "layout": "IPY_MODEL_73bc20983b40415aae7b373d4546ef23",
       "outputs": [
        {
         "name": "stdout",
         "output_type": "stream",
         "text": "salle visio U4/Badge (Bât 2)\n91 matières et  143 groupes\n----- Matières ------\n['Thermodynamique 1 - Intro à la thermodynamique (X12P020)', 'Chimie : atome, liaison, molécule (X11C010)', 'Initiation informatique pour BGC (X11I020)', 'Méthodo Travail Univ et Outils Numériques (X11T010)', 'Informatique (X11I010)', 'Electricité (X11P011)', 'Mécanique du point matériel 1 (X11P012)', 'Biochimie structurale et interactions moléculaires (X12B010)', 'Mathématiques 1 (X11M010)', 'Calcul différentiel et intégral (X12M050)', 'Compléments Mathématiques et Informatiques (X11X020)', 'Mathématiques BGC (X11X011)', 'Comprendre, communiquer et évoluer en entreprise (X22LP10)', 'Biologie Moléculaire pour les Biotechnologies (X22B031)', 'Biologie Cel. & Molécul. du Développement (X22B060)', 'Pharmacologie et médicaments (X22B020)', 'Algorithmique et Structures de données 1 (X21I020)', 'Biologie Moléculaire 1 (X21B010)', 'Métiers Info - collectif (X21T071)', 'Mécanique générale 2: dynamique solides & systèmes (X21P040)', 'Biologie Cellulaire  2 et Immunologie 1 (X22B010)', 'Biochimie analytique pour les Biotechnologies (X22B032)', 'Suites et séries de fonctions (X22M030)', 'Oxydoréduction inorganique (X22C010)', 'Photosynthèse et développement des plantes (X21B040)', 'Programmation Orientée Objets (X21I030)', 'Anglais Scientifique Projet (X22A010)', 'Biochimie2 Enzymologie-Métabolisme (X21B030)', 'Métiers SVT PPE - tutorat (X21T022)', 'Minéralogie et pétrologie endogène (X21G010)', 'Initiation aux Bonnes Pratiques de Laboratoire (X21B060)', 'Anglais Scientifique pour la Biologie (X21A020)', 'Signalisation Cellulaire (X22B040)', 'Topologie et calcul différentiel (X31M040)', 'Biomolécules et leurs fonctions (X31B040)', 'Sciences des Aliments (X32B130)', 'Interactions Plante - Environnement (X32B110)', 'Anglais pour la communication scientifique (X31A030)', 'Ouverture professionnelle - Informatique (X31T060)', 'outils mathématiques 3a (X31P011)', \"Conception et analyse d'algorithmes (X32I090)\", 'Electromagnétisme 3 (X31P030)', 'Physiologie Animale intégrée et expérimentale (X32B080)', 'Écologie des communautés (X31B200)', 'Physique Subatomique 1 (X31P051)', 'Ouverture professionnelle- SV (X31T010)', 'Etude des algorithmes (X31I010)', 'Biochimie des systèmes cellulaires (X31B050)', 'Développement Web (X32I080)', 'EC1-Tectonophysique (X32G041)', 'Informatique Fondamentale 2 (X32I010)', 'Climatologie actuelle et passée (X31G020)', 'Stratégies adaptatives des organismes (X32B220)', 'Anglais pour la communication scientifique (SV) (X31A010)', 'Ouverture Professionnelle - Chimie (X31T030)', 'Biogéochimie - Présentiel (X1TUA11)', 'Biotechnologies pharmaceutiques (X1CB211)', 'Analyse, conception et mise en oeuvre de logiciels (X1I1010)', 'Test logiciel (X1I1020)', 'Nutrition-Santé (X2NN010)', 'Nutrigénomique-Nutrigénétique et physiopathologie (X2NN020)', 'Analyse des systèmes mécaniques (X1PM040)', 'Algorithmique et Programmation niveau 1 (X1BI010)', 'Communication connaissance entreprise (X1II050)', 'Analyse hilbertienne (X1MC020)', 'Communication,  Entreprise, Management (X1BC020)', 'Nutrition et situations physiologiques spécifiques (X2NN040)', 'Histoire des maths : équations algébriques (X2MF040)', 'Géomorphologie - CM et TP (X1TU052)', 'Physique des Solides (X1SM010)', 'Synthèse chimio-enzymatique (X1CB224)', 'Web des données, web sémantique (X1I1030)', 'Web & Cloud and Datastores (X1I1040)', 'Données sur le Web (X1IP020)', 'Complexité et algorithmes (X1II030)', 'Technologies Omics (X2BC111)', 'Condensation inorganique en solution aqueuse (X1CA042)', 'Imagerie électronique - microtextures (X3CA112)', 'Introduction à la GRiSSE (X3RE010)', 'Entrepreneuriat (X3TU070)', 'Résonance Magnétique Nucléaire avancée (X3CA210)', 'Mise en situation intégrée (X3CA070)', 'Réactions péricycliques (X3CM014)', 'Technical Communication (X3PR060)', 'Risk based inspection and value of information (X3PR030)', 'Models, methods and algorithms for bioinformatics (X3BI030)', 'Marqueurs biogéochimiques en zones côtières (X3TU090)', 'Anisotropie et composites (X3PM040)', 'Chimie radicalaire (X3CM016)', 'RMN 2D (X3CM051)', 'Mathématiques pour PCGSi-MIP (XTRM020)']\n----- Groupes  ------\n['689MIAGE-G', '507', '547O', 'M1A3M', '162', '146', 'M1ORO', '402', '589MIAGE-G', '325', '607', '110', '224', 'M2A3M-ACBPI', '691', '538MEEF', '560INA', 'M1SB', '401', '384', '555', 'PALP-BE', 'M2BB', '502', '535F', '610BCPA', '327', 'M1MEEF-M', 'M2MAREENE', 'M1-MATHS', '684', '380OPTIM', 'M1DS', '303', '301', '610SVA', 'M1LUMOMAT', '321', '312PECB', 'M1ECN', 'M1NANO', 'M2EBM', '171', '615', 'M1ATAL', '165', 'M2TP', '320', '520A', 'M1ALMA', '639EEP', '500', 'M1MIAGE -ALT', '426', '620', 'M1PH', 'M1ENR', '370IS', '575', '580OPTIM', '650SPI-EEA', 'GEO. M2 - CER', '559EEP', '251', '400', 'PALP-PH', '163', 'M2CGE', 'PALP-SV', '167PEIP', '405K', 'M1STU', '386', '200', 'M1MFA', '619EEP', 'M1INFO', 'PALP-INFO', '410ABT', '116', '406', '585', 'M2CMT', '173', '160CMI', '688MIAGE-I', '161PSR', '310ABT', '300', '356', '406N', '547', '385', '558', '406M', 'M1MFS', 'M2A3M-3R', 'PALP-CH', '612BCVA', '404', '381INFO-M', '556', '474', 'PALP-STU', '504', '501', 'M2ORO', '307', '570IS', 'M1NSA', 'M1BB', '588MIAGE-I', '345', 'M2MFS', '360PM', 'M1BGE', '113', '540', 'PALP-SPI', 'M1CB', 'TR-2', 'M1BE', '506', 'M1BB-TDA', '445', '114', '115', '576M', 'TR-4', '267PEIP', '403', 'M2GRISSE', '405', '524I', '690', '520B', '581INFO-M', 'M2A3M', '635', '362', '166', '109', 'M1VICO']\n---------------------\n"
        }
       ]
      }
     },
     "ba03e5c4e0dd45a9a7c263d56ed8ae68": {
      "model_module": "@jupyter-widgets/controls",
      "model_module_version": "1.4.0",
      "model_name": "DropdownModel",
      "state": {
       "_options_labels": [
        "salle info 1-vidéo/badge (Bât 2)",
        "salle info 2-vidéo/Badge (Bât 2)",
        "salle info I01-vidéo (Bât 15-C I E)",
        "salle info I011-vidéo/badge (Bât 15-C I E)",
        "salle info I012-vidéo (Bât 15-C I E)",
        "salle info I019-vidéo/badge (Bât 15-C I E)",
        "salle info I03-vidéo (Bât 15-C I E)",
        "salle info I04-vidéo (Bât 15-C I E)",
        "salle info I040-vidéo (Bât 14)",
        "salle info I042-vidéo (Bât 14)",
        "salle info I047-vidéo/badge (Bât 14)",
        "salle info I05-vidéo (Bât 15-C I E)",
        "salle info I121-vidéo (Bât 15-C I E)",
        "salle info I123-vidéo (Bât 15-C I E)",
        "salle info I124-vidéo/badge (Bât 15-C I E)",
        "salle info I125-vidéo (Bât 15-C I E)",
        "salle info S046-Vidéo/badge (Bât 14)",
        "salle info S049-vidéo (Bât 14)",
        "salle info SPE 46-vidéo/badge (Bât 13)"
       ],
       "description": "salle info : ",
       "index": 0,
       "layout": "IPY_MODEL_e48cbb3f3b7443ac80bb3d7f84dbbd67",
       "style": "IPY_MODEL_ad2cc4ebfd8742caa30d23b4699c7e6e"
      }
     },
     "bb95711807b7415dbfb3ca15171dc895": {
      "model_module": "@jupyter-widgets/base",
      "model_module_version": "1.1.0",
      "model_name": "LayoutModel",
      "state": {}
     },
     "bd96e7c854964af193f8548ed3a7a07f": {
      "model_module": "@jupyter-widgets/controls",
      "model_module_version": "1.4.0",
      "model_name": "DescriptionStyleModel",
      "state": {
       "description_width": ""
      }
     },
     "bdf8c6b2a2c141a094eb5fb14b52bf03": {
      "model_module": "@jupyter-widgets/output",
      "model_module_version": "1.0.0",
      "model_name": "OutputModel",
      "state": {
       "layout": "IPY_MODEL_3d3e3041361340dcbe5b2d99d3513659",
       "outputs": [
        {
         "data": {
          "image/png": "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\n",
          "text/plain": "<Figure size 432x288 with 1 Axes>"
         },
         "metadata": {
          "needs_background": "light"
         },
         "output_type": "display_data"
        }
       ]
      }
     },
     "bf20e8ee94634699bb8e7ecc92adad98": {
      "model_module": "@jupyter-widgets/controls",
      "model_module_version": "1.4.0",
      "model_name": "DropdownModel",
      "state": {
       "_options_labels": [
        "Amphi 111-Vidéo (Bât 26- RdC)",
        "Amphi 112-vidéo (Bât 26- RdC)",
        "Amphi 121-vidéo (Bât 26- RdC)",
        "Amphi A (Bât 1-Admin)",
        "Amphi B (Bât 1-Admin)",
        "Amphi C (Bât 1-Admin)",
        "Amphi D (Bât 1-Admin)",
        "Amphi E (Bât 1-Admin)",
        "Amphi F (Bât 28)",
        "Amphi G (Bât 28)",
        "Amphi H (Bât 28)",
        "Amphi PASTEUR (Bât 2)",
        "Salle Multimédia 1 et 2 (Bât 2)",
        "[Exterieur] 01 (LV)",
        "[Exterieur] 015 (LV)",
        "[Exterieur] 02 (LV)",
        "[Exterieur] 040 (LV) - Studio de danse",
        "[Exterieur] 05 (LV)",
        "[Exterieur] 056 (LV)",
        "[Exterieur] 06 (LV)",
        "[Exterieur] 065 (LV)",
        "[Exterieur] 08 (LV)",
        "[Exterieur] 09 (LV)",
        "[Exterieur] 103 (LV)",
        "[Exterieur] 106 (LV)",
        "[Exterieur] 109 (LV)",
        "[Exterieur] 110 (LV)",
        "[Exterieur] 111 (LV)",
        "[Exterieur] 112 (LV)",
        "[Exterieur] 114 (LV)",
        "[Exterieur] 116 (LV)",
        "[Exterieur] 118 (LV)",
        "[Exterieur] 203 (LV)",
        "[Exterieur] 204 (LV)",
        "[Exterieur] 206 (LV)",
        "[Exterieur] 208 (LV)",
        "[Exterieur] 211 (LV)",
        "[Exterieur] 212 (LV)",
        "[Exterieur] 213 (LV)",
        "[Exterieur] 216 (LV)",
        "[Exterieur] 218 (LV)",
        "[Exterieur] 224 (LV)",
        "[Exterieur] 227 (LV)",
        "[Exterieur] 230 (LV)",
        "[Exterieur] 231 (LV)",
        "[Exterieur] 318  info  (Gavy) 14PC",
        "[Exterieur] 326  (Gavy) 27pl",
        "[Exterieur] 328  (Gavy) 90pl",
        "[Exterieur] 330  info  (Gavy) 14PC",
        "[Exterieur] 336 info  (Gavy) 14PC",
        "[Exterieur] 341 Amphi (Gavy) 90pl",
        "[Exterieur] 440 (FLCE)",
        "[Exterieur] 441 (FLCE)",
        "[Exterieur] A101 (IHT) 30pl + Vp (Arronax)",
        "[Exterieur] A102 (IHT) 50pl + Vp (Nemo)",
        "[Exterieur] Amphi - 057 (LV)",
        "[Exterieur] Amphi 1 (Ireste) 350pl + Vp",
        "[Exterieur] Amphi 1 (Isitem) 200pl +Vp (E102)",
        "[Exterieur] Amphi 2 (Ireste) 160pl +Vp",
        "[Exterieur] Amphi 2 (Isitem) 100pl +Vp (E101)",
        "[Exterieur] Amphi B (Gavy)  210pl",
        "[Exterieur] Amphi BONAMY",
        "[Exterieur] Amphi DOBREE",
        "[Exterieur] Amphi GRASLIN",
        "[Exterieur] Amphi PELLOUTIER",
        "[Exterieur] Amphi SAY",
        "[Exterieur] B015 (IHT) 13 PC (info-Village aerien)",
        "[Exterieur] B016 (IHT) 20pl (Volcan d or)",
        "[Exterieur] B017 (Ireste) 13 PC (info)",
        "[Exterieur] B023 (IHT) 20pl + Vp (Archipel en feu)",
        "[Exterieur] B024 (IHT) 20pl + Vp (Etoile du Sud)",
        "[Exterieur] Bias Salle 051",
        "[Exterieur] Bias Salle 052",
        "[Exterieur] Bias Salle 121",
        "[Exterieur] Bias Salle 135 - Réunion",
        "[Exterieur] Bias Salle 161-122",
        "[Exterieur] Bias Salle 162",
        "[Exterieur] Bias Salle 163-164",
        "[Exterieur] Bias Salle 165",
        "[Exterieur] Bias Salle 166",
        "[Exterieur] Bias Salle 167",
        "[Exterieur] Bias Salle 205",
        "[Exterieur] Bias Salle 206",
        "[Exterieur] Bias Salle 207",
        "[Exterieur] Bias Salle 208",
        "[Exterieur] Bias Salle Info 450",
        "[Exterieur] Bias Salle Info 452",
        "[Exterieur] Bias Salle Info 456",
        "[Exterieur] Bias Salle Info 458",
        "[Exterieur] C002 (Censive)",
        "[Exterieur] C002 (IRESTE) 13PC + Vp (info)",
        "[Exterieur] C003 (Ireste) 13PC (info)",
        "[Exterieur] C004 (Censive)",
        "[Exterieur] C008 (Censive)",
        "[Exterieur] C008 (IRESTE) 50pl + VP",
        "[Exterieur] C024 (Censive)",
        "[Exterieur] C027 (Censive)",
        "[Exterieur] C901 (Censive)",
        "[Exterieur] C905 (Censive)",
        "[Exterieur] C906 (Censive)",
        "[Exterieur] D-Amphi Louis Lorvellec (Bât A)",
        "[Exterieur] D004 (Ireste) 65pl + Vp (Cours)",
        "[Exterieur] D010 (Ireste) 48pl + Vp (Cours)",
        "[Exterieur] D013 (Ireste) 110pl + Vp (Cours-Examens)",
        "[Exterieur] E-Amphi (Bât A)",
        "[Exterieur] E202 (Ireste) 36pl + Vp (TD)",
        "[Exterieur] Erdre Salle 112",
        "[Exterieur] Erdre Salle 113",
        "[Exterieur] Erdre Salle 114",
        "[Exterieur] Erdre Salle 123",
        "[Exterieur] Erdre Salle 124",
        "[Exterieur] Erdre Salle 125",
        "[Exterieur] Erdre Salle 126",
        "[Exterieur] Erdre Salle 128",
        "[Exterieur] Erdre Salle 131",
        "[Exterieur] Erdre Salle 237",
        "[Exterieur] Erdre Salle 238",
        "[Exterieur] Erdre Salle 239",
        "[Exterieur] Erdre Salle 241",
        "[Exterieur] Erdre Salle 243",
        "[Exterieur] Erdre Salle 244",
        "[Exterieur] Erdre Salle 246",
        "[Exterieur] Erdre Salle 340",
        "[Exterieur] Fourier (Isitem) 15PC (info E029)",
        "[Exterieur] Laplace (Isitem) 15PC + Vp (Info E023)",
        "[Exterieur] Med 201A",
        "[Exterieur] Med 243",
        "[Exterieur] Med 244",
        "[Exterieur] Med 302",
        "[Exterieur] Med 303",
        "[Exterieur] Med 338",
        "[Exterieur] Med 339",
        "[Exterieur] Med 340",
        "[Exterieur] Med 504",
        "[Exterieur] Med Amphi 2",
        "[Exterieur] Med Amphi 3",
        "[Exterieur] Med Amphi 4",
        "[Exterieur] Med Amphi 5",
        "[Exterieur] Med Amphi 6",
        "[Exterieur] Med Amphi 7",
        "[Exterieur] Med Amphi 8",
        "[Exterieur] Med Salle 241-242 MANIMAL",
        "[Exterieur] Med Salle V.GOURNAY",
        "[Exterieur] Pas de salle",
        "[Exterieur] Salle Manquante",
        "[Exterieur] Salle extérieure",
        "[Exterieur] Salle à définir IAE",
        "[Exterieur] T020 (Isitem) 24pl + Vp (TP Matériaux)",
        "[Exterieur] T034 (Isitem) 12pl (TP/Labo)",
        "[Exterieur] T101 (Tertre)",
        "[Exterieur] T103 (Tertre)",
        "[Exterieur] T114 (Tertre)",
        "[Exterieur] T120 (Tertre)",
        "[Exterieur] T121 (Tertre)",
        "[Exterieur] T123 (Tertre)",
        "[Exterieur] T203 (Tertre)",
        "[Exterieur] T215 (Tertre)",
        "[Exterieur] T216 (Tertre)",
        "[Exterieur] T221 (Tertre)",
        "[Exterieur] Td5 (Isitem) 48pl + Vp (E122)",
        "[Exterieur] Td6 (Isitem) 48pl + Vp (E123)",
        "[Exterieur] Td7 (Isitem) 48pl + Vp (E124)",
        "[Exterieur] Td8 (Isitem) 100pl + Vp (Examen E125)",
        "[Exterieur] salle 925 IMAR",
        "[Exterieur] salle 929 IMAR",
        "sa TD 006 PECB-sans vidéo (Bât 5)",
        "sa TD 01 (Bât 1-Admin)",
        "sa TD 02 (Bât 1-Admin)",
        "sa TD 03 (Bât 1-Admin)",
        "sa TD 04 (Bât 1-Admin)",
        "sa TD 05 (Bât 1-Admin)",
        "sa TD 06 (Bât 1-Admin)",
        "sa TD 07 (Bât 1-Admin)",
        "sa TD 08 (Bât 1-Admin)",
        "sa TD 09 (Bât 1-Admin)",
        "sa TD 10 (Bât 1-Admin)",
        "sa TD 100 (Bât 26- RdC)",
        "sa TD 110- sans vidéo (Bât 26- RdC)",
        "sa TD 117 (Bât 26- RdC)",
        "sa TD 119-Manuf.Projets (Bât 26- RdC)",
        "sa TD 12 (Bât 1-Admin)",
        "sa TD 13 (Bât 1-Admin)",
        "sa TD 14 (Bât 1-Admin)",
        "sa TD 15 (Bât 1-Admin)",
        "sa TD 18-sans vidéo (Bât 13)",
        "sa TD 20 (Bât 18-B U)",
        "sa TD 200-îlot (Bât 26- 1er ét.)",
        "sa TD 201-anglais/badge (Bât 26- 1er ét.)",
        "sa TD 206-anglais/Badge (Bât 26- 1er ét.)",
        "sa TD 207-Studio Crs/Badge (Bât 26- 1er ét.)",
        "sa TD 208-îlot (Bât 26- 1er ét.)",
        "sa TD 209-îlot (Bât 26- 1er ét.)",
        "sa TD 21 (Bât 18-B U)",
        "sa TD 210-îlot (Bât 26- 1er ét.)",
        "sa TD 211 (Bât 26- 1er ét.)",
        "sa TD 212 (Bât 26- 1er ét.)",
        "sa TD 213 (Bât 26- 1er ét.)",
        "sa TD 214 (Bât 26- 1er ét.)",
        "sa TD 215 (Bât 26- 1er ét.)",
        "sa TD 22 (Bât 18-B U)",
        "sa TD 23 (Bât 18-B U)",
        "sa TD 24 (Bât 18-B U)",
        "sa TD 25 (Bât 18-B U)",
        "sa TD 26 (Bât 18-B U)",
        "sa TD 27 (Bât 18-B U)",
        "sa TD 28 (Bât 18-B U)",
        "sa TD 29 (Bât 18-B U)",
        "sa TD 30-sans vidéo (Bât 5)",
        "sa TD 41 (Bât 14)",
        "sa TD 43 (Bât 14)",
        "sa TD 45 (Bât 14)",
        "sa TD 48 (Bât 14)",
        "sa TD B (Bât 1-Admin)",
        "sa TD D (Bât 1-Admin)",
        "sa TD E (Bât 1-Admin)",
        "sa TD U1-Studio Crs/Badge (Bât 2)",
        "sa TD U5 (Bât 2)",
        "sa TD U6 (Bât 2)",
        "sa TD U7-ilôt/Badge (Bât 2)",
        "sa TD U8-ilôt/Badge (Bât 2)",
        "sa TP 33Géol (Bât 14)",
        "sa TP 34Geol-vidéo (Bât 14)",
        "sa TP 35Geol-vidéo (Bât 14)",
        "sa TP 36Geol-vidéo (Bât 14)",
        "sa TP 38Geol-vidéo (Bât 14)",
        "sa TP 65Geol-vidéo (Bât 13)",
        "sa TP Automatique 59 (Bât 14)",
        "sa TP B1 Bio animale L2-vidéo (Bât 6)",
        "sa TP B2 Bio animale L1-vidéo (Bât 6)",
        "sa TP B3 Taxo-Ecologie (Bât 6)",
        "sa TP B5 Biocell-Immuno (Bât 13)",
        "sa TP Bio animale 32-vidéo (Bât 5)",
        "sa TP Bio végétale-vidéo (Bât 5)",
        "sa TP Biocell  110-vidéo (Bât 5)",
        "sa TP Bioch A (Bât 13)",
        "sa TP Bioch B (Bât 13)",
        "sa TP Bioch-biomol (Bât 2)",
        "sa TP Biotech-biomol (Bât 2)",
        "sa TP Ch Générale A (Bât 12)",
        "sa TP Ch Générale B (Bât 12)",
        "sa TP Ch Orga 1 (Bât 2)",
        "sa TP Ch Orga 2 (Bât 2)",
        "sa TP Ch Organique E (Bât 12)",
        "sa TP Ch Organique F (Bât 12)",
        "sa TP Ch inorganique C (Bât 12)",
        "sa TP Ch inorganique D (Bât 12)",
        "sa TP Ch organique G (Bât 12)",
        "sa TP Ch- Phys 1 (Bât 2)",
        "sa TP Ch- Phys 2 (Bât 2)",
        "sa TP Ecologie-vidéo (Bât 5)",
        "sa TP Electro 61 (Bât 14)",
        "sa TP Info indus 57 (Bât 14)",
        "sa TP Microbio (Bât 2)",
        "sa TP Méca 37bis (Bât 14)",
        "sa TP Optoélectr 55 (Bât 14)",
        "sa TP Phys 50 (Bât 14)",
        "sa TP Phys BGC (Bât 13)",
        "sa TP Phys CAPES  60 (Bât 14)",
        "sa TP Phys MIPC A (Bât 13)",
        "sa TP Phys MIPC B (Bât 13)",
        "sa TP Phys nucléaire (Bât 12)",
        "sa TP Phys solide 54 (Bât 14)",
        "sa TP Physio animale113 (Bât 26- RdC)",
        "sa TP Physio animale115 (Bât 26- RdC)",
        "sa TP Physio patho Végétale (Bât 2)",
        "sa TP Physio végétale (Bât 5)",
        "sa TP Thermo 35bis (Bât 14)",
        "sa TP Thermo 38bis (Bât 14)",
        "salle TP Projets L1-L2 (Bât 13)",
        "salle info 1-vidéo/badge (Bât 2)",
        "salle info 2-vidéo/Badge (Bât 2)",
        "salle info I01-vidéo (Bât 15-C I E)",
        "salle info I011-vidéo/badge (Bât 15-C I E)",
        "salle info I012-vidéo (Bât 15-C I E)",
        "salle info I019-vidéo/badge (Bât 15-C I E)",
        "salle info I03-vidéo (Bât 15-C I E)",
        "salle info I04-vidéo (Bât 15-C I E)",
        "salle info I040-vidéo (Bât 14)",
        "salle info I042-vidéo (Bât 14)",
        "salle info I047-vidéo/badge (Bât 14)",
        "salle info I05-vidéo (Bât 15-C I E)",
        "salle info I121-vidéo (Bât 15-C I E)",
        "salle info I123-vidéo (Bât 15-C I E)",
        "salle info I124-vidéo/badge (Bât 15-C I E)",
        "salle info I125-vidéo (Bât 15-C I E)",
        "salle info S046-Vidéo/badge (Bât 14)",
        "salle info S049-vidéo (Bât 14)",
        "salle info SPE 46-vidéo/badge (Bât 13)",
        "salle visio 204/Badge (Bât 26- 1er ét.)",
        "salle visio 205/Badge (Bât 26- 1er ét.)",
        "salle visio U2/Badge (Bât 2)",
        "salle visio U3/Badge (Bât 2)",
        "salle visio U4/Badge (Bât 2)"
       ],
       "description": "salle visio : ",
       "index": 0,
       "layout": "IPY_MODEL_3ed9c847113d4bbea27450c17f3d0bd3",
       "style": "IPY_MODEL_297c6ae79bc64e459cfa04025f9f51e4"
      }
     },
     "bf3a2d131550494bba8dafe4208cd775": {
      "model_module": "@jupyter-widgets/output",
      "model_module_version": "1.0.0",
      "model_name": "OutputModel",
      "state": {
       "layout": "IPY_MODEL_9b8f5ddbb6174e3593cc9d58aca5fe60",
       "outputs": [
        {
         "name": "stdout",
         "output_type": "stream",
         "text": "[Exterieur] 318  info  (Gavy) 14PC\n2 matières et  3 groupes\n----- Matières ------\n['YI90201_Conversion électromécanique (YI91311)', 'YI90102_Electronique de Puissance Appronfondie (YI91212)']\n----- Groupes  ------\n['Master EE_Groupe Francophones', 'M2ENR-GE', 'Master EE_Groupe Anglophones']\n---------------------\n"
        }
       ]
      }
     },
     "c0161a03c3dc4dedb3bb8e9f31b5c6ac": {
      "model_module": "@jupyter-widgets/base",
      "model_module_version": "1.1.0",
      "model_name": "LayoutModel",
      "state": {}
     },
     "c04b1787b4ae4dba8469ef540e8d6180": {
      "model_module": "@jupyter-widgets/controls",
      "model_module_version": "1.4.0",
      "model_name": "VBoxModel",
      "state": {
       "_dom_classes": [
        "widget-interact"
       ],
       "children": [
        "IPY_MODEL_41235361b7db4cc7a3fb79de5e840adb",
        "IPY_MODEL_9be60beaed2b404e9030c6e21c70af12"
       ],
       "layout": "IPY_MODEL_a04c0a0da077412fb474c2d22b2ca25b"
      }
     },
     "c34b9c2cec5743d0822b0be397d4a630": {
      "model_module": "@jupyter-widgets/base",
      "model_module_version": "1.1.0",
      "model_name": "LayoutModel",
      "state": {}
     },
     "c55df19f455a425cbad10d6f1782cbe8": {
      "model_module": "@jupyter-widgets/base",
      "model_module_version": "1.1.0",
      "model_name": "LayoutModel",
      "state": {}
     },
     "c56153a47c324e3b89276ddb3a757ddd": {
      "model_module": "@jupyter-widgets/base",
      "model_module_version": "1.1.0",
      "model_name": "LayoutModel",
      "state": {}
     },
     "c581f97fe8f146189ee94fda4ae299c4": {
      "model_module": "@jupyter-widgets/controls",
      "model_module_version": "1.4.0",
      "model_name": "DescriptionStyleModel",
      "state": {
       "description_width": ""
      }
     },
     "c5c2e21f71a54eab99a91781a3a9a331": {
      "model_module": "@jupyter-widgets/base",
      "model_module_version": "1.1.0",
      "model_name": "LayoutModel",
      "state": {}
     },
     "c670be4964b644adb909da953b070af9": {
      "model_module": "@jupyter-widgets/output",
      "model_module_version": "1.0.0",
      "model_name": "OutputModel",
      "state": {
       "layout": "IPY_MODEL_731012e875f54e1e95ba8736d370050a",
       "outputs": [
        {
         "data": {
          "image/png": "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\n",
          "text/plain": "<Figure size 432x288 with 1 Axes>"
         },
         "metadata": {
          "needs_background": "light"
         },
         "output_type": "display_data"
        }
       ]
      }
     },
     "c85eeef9a0d54ea890eed022aad904a1": {
      "model_module": "@jupyter-widgets/base",
      "model_module_version": "1.1.0",
      "model_name": "LayoutModel",
      "state": {}
     },
     "c98c32a163ce4993badc9f73fcf13d9a": {
      "model_module": "@jupyter-widgets/base",
      "model_module_version": "1.1.0",
      "model_name": "LayoutModel",
      "state": {}
     },
     "c9b34ce780c040f9ab39c568927530be": {
      "model_module": "@jupyter-widgets/controls",
      "model_module_version": "1.4.0",
      "model_name": "DescriptionStyleModel",
      "state": {
       "description_width": ""
      }
     },
     "c9d535315ed44d3ea1f15ec33f54c49d": {
      "model_module": "@jupyter-widgets/controls",
      "model_module_version": "1.4.0",
      "model_name": "DescriptionStyleModel",
      "state": {
       "description_width": ""
      }
     },
     "cb98bc137ed14d1a97a281024ec9fd33": {
      "model_module": "@jupyter-widgets/base",
      "model_module_version": "1.1.0",
      "model_name": "LayoutModel",
      "state": {}
     },
     "cca65fce6aa1412287c11343415f1449": {
      "model_module": "@jupyter-widgets/output",
      "model_module_version": "1.0.0",
      "model_name": "OutputModel",
      "state": {
       "layout": "IPY_MODEL_0459949ca7c84da49efd59653fbeb596",
       "outputs": [
        {
         "name": "stdout",
         "output_type": "stream",
         "text": "salle info 1-vidéo/badge (Bât 2)\n42 matières et  51 groupes\n----- Matières ------\n['Outils de calcul pour les géosciences (X12G030)', 'Initiation informatique pour BGC (X11I020)', 'Fonctionnement des ordinateurs (X12I020)', 'Modélisation pour la Physique 1 (X12P050)', 'Modélisation pour la physique 2 (X22P050)', 'Anglais Scientifique Projet (X22A010)', 'Calcul Scientifique / Matlab (X22SI30)', \"Systèmes d'exploitation (X22I030)\", 'Informatique pour les sciences de la vie (X22B050)', 'Algorithmique et Structures de données 3 (X31I020)', \"Conception et analyse d'algorithmes (X32I090)\", 'Architecture des ordinateurs (X31I050)', 'Programmation fonctionnelle (X32I020)', 'Développement Web (X32I080)', 'Phylogénie (X31B230)', 'Optimisation pour la gestion (X31I080)', 'Théorie et Traitement du Signal (X32EE50)', 'Ouverture Professionnelle - Chimie (X31T030)', 'Biochimie des systèmes cellulaires (X31B050)', 'Analyse numérique 2 (X32M020)', 'Test logiciel (X1I1020)', 'Régression linéaire  et logistique (X2MS020)', 'Programmation multi-coeurs (X2I3010)', 'Physique intérieur Terre et planètes (X2TU060)', 'Web des données et des connaissances (X2IM030)', 'Graphes II et Réseaux (X1I2020)', 'Preuves et constructions formelles (X1I1080)', 'Méthode des éléments finis (X2MC040)', 'Statistique en grande dimension (X3MS020)', \"Efficacité énergétique de l'habitat (X3SE070)\", 'Calcul scientifique numérique (X3MA030)', 'Base de données, SAS (X3MS030)', 'Méthodes numériques pour les fluides compressibles (X3MA020)', 'Ingénierie des données (X3IP020)', 'Calcul parallèle (X4MA030)', 'Processus de développement (X4IP100)', 'Modélisation pour la biologie-santé 2 (X4MA020)', 'Etude de cas (X4MS010)', 'Modélisation pour les énergies (X3MA040)', 'Anglais 2 (Mathématiques et Applications) (X3MC010)', 'Advanced algorithmics and programming for biolog. (X3BI010)', 'Informatique pour BGC (XTRI010)']\n----- Groupes  ------\n['584I', '675K', '481INFO-M', '461X', 'M1ORO', 'M1STU', '584J', '235E', '545', 'M2ENR', '502', '114C', '689MIAGE-G', 'M2M-IS', '522F', 'M2MACS', '688R', '284', '650B', '450A', 'M1ATAL', '116G', '445K', '522E', 'M1VICO', '412PECB', '118K', '115E', '102F', '462', '235F', '501D', '685K', '510BCM', 'M2IB', '103H', 'M1MACS', 'M1MIAGE-CL', 'M1ALMA', 'M1DS', 'M2MIAGE-ISI', '588Q', '250A', 'M1M-IS', '107O', 'PALP-SPI', 'TR-1', '547O', '689T', '108Q', '262Z']\n---------------------\n"
        }
       ]
      }
     },
     "ccefedba0bd74ae3a7949c392e6e381b": {
      "model_module": "@jupyter-widgets/base",
      "model_module_version": "1.1.0",
      "model_name": "LayoutModel",
      "state": {}
     },
     "cdc42788c1684c579611776e8b24da73": {
      "model_module": "@jupyter-widgets/controls",
      "model_module_version": "1.4.0",
      "model_name": "DropdownModel",
      "state": {
       "_options_labels": [
        "sa TD 006 PECB-sans vidéo (Bât 5)",
        "sa TD 01 (Bât 1-Admin)",
        "sa TD 02 (Bât 1-Admin)",
        "sa TD 03 (Bât 1-Admin)",
        "sa TD 04 (Bât 1-Admin)",
        "sa TD 05 (Bât 1-Admin)",
        "sa TD 06 (Bât 1-Admin)",
        "sa TD 07 (Bât 1-Admin)",
        "sa TD 08 (Bât 1-Admin)",
        "sa TD 09 (Bât 1-Admin)",
        "sa TD 10 (Bât 1-Admin)",
        "sa TD 100 (Bât 26- RdC)",
        "sa TD 110- sans vidéo (Bât 26- RdC)",
        "sa TD 117 (Bât 26- RdC)",
        "sa TD 119-Manuf.Projets (Bât 26- RdC)",
        "sa TD 12 (Bât 1-Admin)",
        "sa TD 13 (Bât 1-Admin)",
        "sa TD 14 (Bât 1-Admin)",
        "sa TD 15 (Bât 1-Admin)",
        "sa TD 18-sans vidéo (Bât 13)",
        "sa TD 20 (Bât 18-B U)",
        "sa TD 200-îlot (Bât 26- 1er ét.)",
        "sa TD 201-anglais/badge (Bât 26- 1er ét.)",
        "sa TD 206-anglais/Badge (Bât 26- 1er ét.)",
        "sa TD 207-Studio Crs/Badge (Bât 26- 1er ét.)",
        "sa TD 208-îlot (Bât 26- 1er ét.)",
        "sa TD 209-îlot (Bât 26- 1er ét.)",
        "sa TD 21 (Bât 18-B U)",
        "sa TD 210-îlot (Bât 26- 1er ét.)",
        "sa TD 211 (Bât 26- 1er ét.)",
        "sa TD 212 (Bât 26- 1er ét.)",
        "sa TD 213 (Bât 26- 1er ét.)",
        "sa TD 214 (Bât 26- 1er ét.)",
        "sa TD 215 (Bât 26- 1er ét.)",
        "sa TD 22 (Bât 18-B U)",
        "sa TD 23 (Bât 18-B U)",
        "sa TD 24 (Bât 18-B U)",
        "sa TD 25 (Bât 18-B U)",
        "sa TD 26 (Bât 18-B U)",
        "sa TD 27 (Bât 18-B U)",
        "sa TD 28 (Bât 18-B U)",
        "sa TD 29 (Bât 18-B U)",
        "sa TD 30-sans vidéo (Bât 5)",
        "sa TD 41 (Bât 14)",
        "sa TD 43 (Bât 14)",
        "sa TD 45 (Bât 14)",
        "sa TD 48 (Bât 14)",
        "sa TD B (Bât 1-Admin)",
        "sa TD D (Bât 1-Admin)",
        "sa TD E (Bât 1-Admin)",
        "sa TD U1-Studio Crs/Badge (Bât 2)",
        "sa TD U5 (Bât 2)",
        "sa TD U6 (Bât 2)",
        "sa TD U7-ilôt/Badge (Bât 2)",
        "sa TD U8-ilôt/Badge (Bât 2)"
       ],
       "description": "TD : ",
       "index": 0,
       "layout": "IPY_MODEL_568a442c19ae4b62a3af4460fa4e0eff",
       "style": "IPY_MODEL_6c59e04be91f42499ead632c5be3a12f"
      }
     },
     "d112f85654b94e73b4010021745a0acc": {
      "model_module": "@jupyter-widgets/base",
      "model_module_version": "1.1.0",
      "model_name": "LayoutModel",
      "state": {}
     },
     "d24ca71efb594d9f8ac6e23ccebfaae5": {
      "model_module": "@jupyter-widgets/base",
      "model_module_version": "1.1.0",
      "model_name": "LayoutModel",
      "state": {}
     },
     "d30777dfcc394d629afcfb8316736117": {
      "model_module": "@jupyter-widgets/base",
      "model_module_version": "1.1.0",
      "model_name": "LayoutModel",
      "state": {}
     },
     "d30cb8fbcecf40dc9798942c97e94e0b": {
      "model_module": "@jupyter-widgets/controls",
      "model_module_version": "1.4.0",
      "model_name": "DescriptionStyleModel",
      "state": {
       "description_width": ""
      }
     },
     "d318c89ef049433db542fd68203b08c5": {
      "model_module": "@jupyter-widgets/base",
      "model_module_version": "1.1.0",
      "model_name": "LayoutModel",
      "state": {}
     },
     "d462c070d7c248798cdfc38dbe2fe5d0": {
      "model_module": "@jupyter-widgets/base",
      "model_module_version": "1.1.0",
      "model_name": "LayoutModel",
      "state": {}
     },
     "d7351159851d41d69f5f9d730a645196": {
      "model_module": "@jupyter-widgets/base",
      "model_module_version": "1.1.0",
      "model_name": "LayoutModel",
      "state": {}
     },
     "d8648f1378c9422a91a7fa3b18b30312": {
      "model_module": "@jupyter-widgets/base",
      "model_module_version": "1.1.0",
      "model_name": "LayoutModel",
      "state": {}
     },
     "d914a5ef568a436d9967a280cfedd1c5": {
      "model_module": "@jupyter-widgets/base",
      "model_module_version": "1.1.0",
      "model_name": "LayoutModel",
      "state": {}
     },
     "d9d02da8dd6a43fda072dffde742c85f": {
      "model_module": "@jupyter-widgets/controls",
      "model_module_version": "1.4.0",
      "model_name": "DropdownModel",
      "state": {
       "_options_labels": [
        "Amphi 111-Vidéo (Bât 26- RdC)",
        "Amphi 112-vidéo (Bât 26- RdC)",
        "Amphi 121-vidéo (Bât 26- RdC)",
        "Amphi A (Bât 1-Admin)",
        "Amphi B (Bât 1-Admin)",
        "Amphi C (Bât 1-Admin)",
        "Amphi D (Bât 1-Admin)",
        "Amphi E (Bât 1-Admin)",
        "Amphi F (Bât 28)",
        "Amphi G (Bât 28)",
        "Amphi H (Bât 28)",
        "Amphi PASTEUR (Bât 2)"
       ],
       "description": "Amphi : ",
       "index": 0,
       "layout": "IPY_MODEL_cb98bc137ed14d1a97a281024ec9fd33",
       "style": "IPY_MODEL_4a35715cd3db474b90caf65d639eac0d"
      }
     },
     "da5e24a844414fcd8443d2133c0cafb7": {
      "model_module": "@jupyter-widgets/output",
      "model_module_version": "1.0.0",
      "model_name": "OutputModel",
      "state": {
       "layout": "IPY_MODEL_a8cb1557d6ce4e34b9c50542c19d4c4f",
       "outputs": [
        {
         "data": {
          "image/png": "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\n",
          "text/plain": "<Figure size 432x288 with 1 Axes>"
         },
         "metadata": {
          "needs_background": "light"
         },
         "output_type": "display_data"
        }
       ]
      }
     },
     "db027bb30e3d4860a5b17d9ab40e68c8": {
      "model_module": "@jupyter-widgets/base",
      "model_module_version": "1.1.0",
      "model_name": "LayoutModel",
      "state": {}
     },
     "db9a1f3a70364899a873a4bee02b1900": {
      "model_module": "@jupyter-widgets/controls",
      "model_module_version": "1.4.0",
      "model_name": "VBoxModel",
      "state": {
       "_dom_classes": [
        "widget-interact"
       ],
       "children": [
        "IPY_MODEL_1a5b347d6a954d388659361c680398c6",
        "IPY_MODEL_4f2f265ac0664eb7b58868fde0a41411"
       ],
       "layout": "IPY_MODEL_d462c070d7c248798cdfc38dbe2fe5d0"
      }
     },
     "dd4f777a005a4934b66ac30bf4008657": {
      "model_module": "@jupyter-widgets/controls",
      "model_module_version": "1.4.0",
      "model_name": "DropdownModel",
      "state": {
       "_options_labels": [
        "[Exterieur] 01 (LV)",
        "[Exterieur] 015 (LV)",
        "[Exterieur] 02 (LV)",
        "[Exterieur] 040 (LV) - Studio de danse",
        "[Exterieur] 05 (LV)",
        "[Exterieur] 056 (LV)",
        "[Exterieur] 06 (LV)",
        "[Exterieur] 065 (LV)",
        "[Exterieur] 08 (LV)",
        "[Exterieur] 09 (LV)",
        "[Exterieur] 103 (LV)",
        "[Exterieur] 106 (LV)",
        "[Exterieur] 109 (LV)",
        "[Exterieur] 110 (LV)",
        "[Exterieur] 111 (LV)",
        "[Exterieur] 112 (LV)",
        "[Exterieur] 114 (LV)",
        "[Exterieur] 116 (LV)",
        "[Exterieur] 118 (LV)",
        "[Exterieur] 203 (LV)",
        "[Exterieur] 204 (LV)",
        "[Exterieur] 206 (LV)",
        "[Exterieur] 208 (LV)",
        "[Exterieur] 211 (LV)",
        "[Exterieur] 212 (LV)",
        "[Exterieur] 213 (LV)",
        "[Exterieur] 216 (LV)",
        "[Exterieur] 218 (LV)",
        "[Exterieur] 224 (LV)",
        "[Exterieur] 227 (LV)",
        "[Exterieur] 230 (LV)",
        "[Exterieur] 231 (LV)",
        "[Exterieur] 318  info  (Gavy) 14PC",
        "[Exterieur] 326  (Gavy) 27pl",
        "[Exterieur] 328  (Gavy) 90pl",
        "[Exterieur] 330  info  (Gavy) 14PC",
        "[Exterieur] 336 info  (Gavy) 14PC",
        "[Exterieur] 341 Amphi (Gavy) 90pl",
        "[Exterieur] 440 (FLCE)",
        "[Exterieur] 441 (FLCE)",
        "[Exterieur] A101 (IHT) 30pl + Vp (Arronax)",
        "[Exterieur] A102 (IHT) 50pl + Vp (Nemo)",
        "[Exterieur] Amphi - 057 (LV)",
        "[Exterieur] Amphi 1 (Ireste) 350pl + Vp",
        "[Exterieur] Amphi 1 (Isitem) 200pl +Vp (E102)",
        "[Exterieur] Amphi 2 (Ireste) 160pl +Vp",
        "[Exterieur] Amphi 2 (Isitem) 100pl +Vp (E101)",
        "[Exterieur] Amphi B (Gavy)  210pl",
        "[Exterieur] Amphi BONAMY",
        "[Exterieur] Amphi DOBREE",
        "[Exterieur] Amphi GRASLIN",
        "[Exterieur] Amphi PELLOUTIER",
        "[Exterieur] Amphi SAY",
        "[Exterieur] B015 (IHT) 13 PC (info-Village aerien)",
        "[Exterieur] B016 (IHT) 20pl (Volcan d or)",
        "[Exterieur] B017 (Ireste) 13 PC (info)",
        "[Exterieur] B023 (IHT) 20pl + Vp (Archipel en feu)",
        "[Exterieur] B024 (IHT) 20pl + Vp (Etoile du Sud)",
        "[Exterieur] Bias Salle 051",
        "[Exterieur] Bias Salle 052",
        "[Exterieur] Bias Salle 121",
        "[Exterieur] Bias Salle 135 - Réunion",
        "[Exterieur] Bias Salle 161-122",
        "[Exterieur] Bias Salle 162",
        "[Exterieur] Bias Salle 163-164",
        "[Exterieur] Bias Salle 165",
        "[Exterieur] Bias Salle 166",
        "[Exterieur] Bias Salle 167",
        "[Exterieur] Bias Salle 205",
        "[Exterieur] Bias Salle 206",
        "[Exterieur] Bias Salle 207",
        "[Exterieur] Bias Salle 208",
        "[Exterieur] Bias Salle Info 450",
        "[Exterieur] Bias Salle Info 452",
        "[Exterieur] Bias Salle Info 456",
        "[Exterieur] Bias Salle Info 458",
        "[Exterieur] C002 (Censive)",
        "[Exterieur] C002 (IRESTE) 13PC + Vp (info)",
        "[Exterieur] C003 (Ireste) 13PC (info)",
        "[Exterieur] C004 (Censive)",
        "[Exterieur] C008 (Censive)",
        "[Exterieur] C008 (IRESTE) 50pl + VP",
        "[Exterieur] C024 (Censive)",
        "[Exterieur] C027 (Censive)",
        "[Exterieur] C901 (Censive)",
        "[Exterieur] C905 (Censive)",
        "[Exterieur] C906 (Censive)",
        "[Exterieur] D-Amphi Louis Lorvellec (Bât A)",
        "[Exterieur] D004 (Ireste) 65pl + Vp (Cours)",
        "[Exterieur] D010 (Ireste) 48pl + Vp (Cours)",
        "[Exterieur] D013 (Ireste) 110pl + Vp (Cours-Examens)",
        "[Exterieur] E-Amphi (Bât A)",
        "[Exterieur] E202 (Ireste) 36pl + Vp (TD)",
        "[Exterieur] Erdre Salle 112",
        "[Exterieur] Erdre Salle 113",
        "[Exterieur] Erdre Salle 114",
        "[Exterieur] Erdre Salle 123",
        "[Exterieur] Erdre Salle 124",
        "[Exterieur] Erdre Salle 125",
        "[Exterieur] Erdre Salle 126",
        "[Exterieur] Erdre Salle 128",
        "[Exterieur] Erdre Salle 131",
        "[Exterieur] Erdre Salle 237",
        "[Exterieur] Erdre Salle 238",
        "[Exterieur] Erdre Salle 239",
        "[Exterieur] Erdre Salle 241",
        "[Exterieur] Erdre Salle 243",
        "[Exterieur] Erdre Salle 244",
        "[Exterieur] Erdre Salle 246",
        "[Exterieur] Erdre Salle 340",
        "[Exterieur] Fourier (Isitem) 15PC (info E029)",
        "[Exterieur] Laplace (Isitem) 15PC + Vp (Info E023)",
        "[Exterieur] Med 201A",
        "[Exterieur] Med 243",
        "[Exterieur] Med 244",
        "[Exterieur] Med 302",
        "[Exterieur] Med 303",
        "[Exterieur] Med 338",
        "[Exterieur] Med 339",
        "[Exterieur] Med 340",
        "[Exterieur] Med 504",
        "[Exterieur] Med Amphi 2",
        "[Exterieur] Med Amphi 3",
        "[Exterieur] Med Amphi 4",
        "[Exterieur] Med Amphi 5",
        "[Exterieur] Med Amphi 6",
        "[Exterieur] Med Amphi 7",
        "[Exterieur] Med Amphi 8",
        "[Exterieur] Med Salle 241-242 MANIMAL",
        "[Exterieur] Med Salle V.GOURNAY",
        "[Exterieur] Pas de salle",
        "[Exterieur] Salle Manquante",
        "[Exterieur] Salle extérieure",
        "[Exterieur] T020 (Isitem) 24pl + Vp (TP Matériaux)",
        "[Exterieur] T034 (Isitem) 12pl (TP/Labo)",
        "[Exterieur] T101 (Tertre)",
        "[Exterieur] T103 (Tertre)",
        "[Exterieur] T114 (Tertre)",
        "[Exterieur] T120 (Tertre)",
        "[Exterieur] T121 (Tertre)",
        "[Exterieur] T123 (Tertre)",
        "[Exterieur] T203 (Tertre)",
        "[Exterieur] T215 (Tertre)",
        "[Exterieur] T216 (Tertre)",
        "[Exterieur] T221 (Tertre)",
        "[Exterieur] Td5 (Isitem) 48pl + Vp (E122)",
        "[Exterieur] Td6 (Isitem) 48pl + Vp (E123)",
        "[Exterieur] Td7 (Isitem) 48pl + Vp (E124)",
        "[Exterieur] Td8 (Isitem) 100pl + Vp (Examen E125)",
        "[Exterieur] salle 925 IMAR",
        "[Exterieur] salle 929 IMAR"
       ],
       "description": "Exterieur : ",
       "index": 0,
       "layout": "IPY_MODEL_aee41f1aab014a0c81cbd161714fe571",
       "style": "IPY_MODEL_a93759b4deb044c38c261c6f21aef459"
      }
     },
     "ddb902c596e24ebbb6c15672e6fafe1b": {
      "model_module": "@jupyter-widgets/base",
      "model_module_version": "1.1.0",
      "model_name": "LayoutModel",
      "state": {}
     },
     "dfb1b64ac41f40df97fadc99a55196c5": {
      "model_module": "@jupyter-widgets/base",
      "model_module_version": "1.1.0",
      "model_name": "LayoutModel",
      "state": {}
     },
     "e1077b45755348998676268cae19fefa": {
      "model_module": "@jupyter-widgets/controls",
      "model_module_version": "1.4.0",
      "model_name": "VBoxModel",
      "state": {
       "_dom_classes": [
        "widget-interact"
       ],
       "children": [
        "IPY_MODEL_a06a091ae77148e2af8a720cc6f9b3c5",
        "IPY_MODEL_3416156a2e12421ca5d81e2fc7fcb539"
       ],
       "layout": "IPY_MODEL_530eb064cf9847e39a70ad546470aa19"
      }
     },
     "e35a9a98e5a4483bb5e9bf63da7b4e66": {
      "model_module": "@jupyter-widgets/output",
      "model_module_version": "1.0.0",
      "model_name": "OutputModel",
      "state": {
       "layout": "IPY_MODEL_688bec0357f044f8b3dffa12854b7a92",
       "outputs": [
        {
         "name": "stdout",
         "output_type": "stream",
         "text": "sa TD 006 PECB-sans vidéo (Bât 5)\n57 matières et  78 groupes\n----- Matières ------\n['Chimie : atome, liaison, molécule (X11C010)', 'Mathématiques 1 (X11M010)', 'Logique, dénombrement et suites numériques (X12M040)', 'Initiation informatique pour BGC (X11I020)', 'Chimie : atome, liaison, molécule (XA1C010)', 'Informatique (X11I010)', 'Anglais Général (X11A010)', 'Algèbre vectorielle et géométrie (X12M020)', 'Algèbre des polynômes et algèbre matricielle (X12M030)', 'Electricité (X11P011)', 'Informatique (XA1I010)', 'Physique appliquée 1 (X11X012)', \"Fonctions d'une variable réelle (X12M010)\", 'Mécanique du point matériel 1 (X11P012)', 'Algèbre linéaire pour Info (X12M060)', 'Mathématiques BGC (X11X011)', 'Compléments Mathématiques et Informatiques (X11X020)', 'Méthodo Travail Univ et Outils Numériques (X11T010)', 'Mécanique générale 2: dynamique solides & systèmes (X21P040)', 'Groupes et symétries (X21M050)', \"Mathématiques pour l'informatique 2 (X22M080)\", 'Probabilités pour les sciences exactes (X22M090)', \"Cristallochimie, diagrammes de changements d'état (X21C010)\", 'Optique géométrique et ondulatoire (X21P020)', 'Probabilités appliquées et Statistique (X22M010)', 'Algèbre bilinéaire 1 (X22M020)', 'Anglais scientifique général (X21A010)', 'Calcul intégral (X22M060)', 'Algèbre linéaire pour PC (X21M100)', 'Intégration 1 (X21M040)', 'Fonctions de plusieurs variables (X21M020)', 'Séries numériques et probabilités discrètes (X21M030)', 'Fonctions analytiques et séries de Fourier (X32M050)', 'Biomolécules et leurs fonctions (X31B040)', 'Hydrogéologie (X31G060)', 'Physique Moderne 2 (X31P040)', 'Anglais pour la communication scientifique (SV) (X31A010)', 'Intégration 2 (X31M050)', 'Biologie Cellulaire 3 Immunologie 2 (X31B020)', 'Probabilités continues et convergence (X31M010)', 'Topologie et calcul différentiel (X31M040)', 'Théorie des probabilités (X1MF010)', 'Analyse des Equations aux Dérivées Partielles (X1MC040)', 'Théorie des probabilités avancée (X1MF020)', 'Méthodes numériques déterministes (X1MC060)', 'Anglais  scientifique (X1II040)', 'Représentations linéaires des groupes finis (X2MF010)', \"Droit de l'Environnement (X1TB030)\", 'Earth and Planetary Interiors (X3TU020)', \"Performance éco des SI & pilotage de l'entreprise (X4IP040)\", 'Algorithmics in Genomics (X3IO060)', 'Risk based inspection and value of information (X3PR030)', 'Fouille de textes (X3ITM10)', 'Large Scale Optimization (X3IO050)', 'Informatique pour BGC (XTRI010)', 'Mathématiques pour BGC (XTRM010)', 'Mathématiques pour PCGSi-MIP (XTRM020)']\n----- Groupes  ------\n['375', '172', '146', '113', '274', '505', '480OPTIM', '486', '105', '574', 'PALP-INFO', '371M-ECO', 'M1ALMA', 'M1BE', 'M1DS', '267PEIP', '168PEIP', '112', '285', '114', 'M2MAREENE', '502', '167PEIP', '284', 'M1ATAL', '160CMI', '275', 'M1VICO', '109', 'M1ECN-S2D', 'M2ATAL', '484', '374', '171', 'TR-2', '355K', '164', 'TR-1', '117', 'AC-1', '307', 'M1BGE', '165', 'M1MFA', 'M2TP', '504', '676', '281INFO-M', '501', '108', '520B', '485', 'L3BCVA', '346', '507', '271M-ECO', '555', '512BCVA', 'M2ORO', '106', '481INFO-M', 'M1ORO', 'M2MIAGE-PSI', 'LICENCE 2 MATHS-ECO', '312PECB', '535F', '575L', '355', 'LICENCE 1 EG MATHS-ECO', '341', '170', 'M1M-IS', '461PSR', '576M', '476M', 'L2PECB', '162', '107']\n---------------------\n"
        }
       ]
      }
     },
     "e368f89603a24bfdaac6eb91ff962d12": {
      "model_module": "@jupyter-widgets/controls",
      "model_module_version": "1.4.0",
      "model_name": "DescriptionStyleModel",
      "state": {
       "description_width": ""
      }
     },
     "e3c3f2fbbcbd441895de4ae52f36edda": {
      "model_module": "@jupyter-widgets/controls",
      "model_module_version": "1.4.0",
      "model_name": "VBoxModel",
      "state": {
       "_dom_classes": [
        "widget-interact"
       ],
       "children": [
        "IPY_MODEL_ba03e5c4e0dd45a9a7c263d56ed8ae68",
        "IPY_MODEL_1299d3fd1e7d436eaf9d942ffcd6add5"
       ],
       "layout": "IPY_MODEL_d318c89ef049433db542fd68203b08c5"
      }
     },
     "e48cbb3f3b7443ac80bb3d7f84dbbd67": {
      "model_module": "@jupyter-widgets/base",
      "model_module_version": "1.1.0",
      "model_name": "LayoutModel",
      "state": {}
     },
     "e4a36c2ce74b49eaa486b15c842be89c": {
      "model_module": "@jupyter-widgets/controls",
      "model_module_version": "1.4.0",
      "model_name": "VBoxModel",
      "state": {
       "_dom_classes": [
        "widget-interact"
       ],
       "children": [
        "IPY_MODEL_851001d16fbf405a881d73e9475d8dc0",
        "IPY_MODEL_b5663fd55f60484bbcbe462cb8ac53d6"
       ],
       "layout": "IPY_MODEL_51ae78411d5b40bfa47346950f0a4da5"
      }
     },
     "e5a96cdaa03f4a89b5c6fede3c07d1e3": {
      "model_module": "@jupyter-widgets/controls",
      "model_module_version": "1.4.0",
      "model_name": "DropdownModel",
      "state": {
       "_options_labels": [
        "salle visio 204/Badge (Bât 26- 1er ét.)",
        "salle visio 205/Badge (Bât 26- 1er ét.)",
        "salle visio U2/Badge (Bât 2)",
        "salle visio U3/Badge (Bât 2)",
        "salle visio U4/Badge (Bât 2)"
       ],
       "description": "salle visio : ",
       "index": 0,
       "layout": "IPY_MODEL_d7351159851d41d69f5f9d730a645196",
       "style": "IPY_MODEL_22a05cd978fc49cfac8bc0d9733eabbc"
      }
     },
     "e7e2875756a048d48e2eb08c7a84390d": {
      "model_module": "@jupyter-widgets/controls",
      "model_module_version": "1.4.0",
      "model_name": "VBoxModel",
      "state": {
       "_dom_classes": [
        "widget-interact"
       ],
       "children": [
        "IPY_MODEL_bf20e8ee94634699bb8e7ecc92adad98",
        "IPY_MODEL_2458c729564343a181d89729e388c047"
       ],
       "layout": "IPY_MODEL_3ff50df795c9491d8ce42c9ac1974df0"
      }
     },
     "e8bb106968324f52b79342d45e9f8071": {
      "model_module": "@jupyter-widgets/base",
      "model_module_version": "1.1.0",
      "model_name": "LayoutModel",
      "state": {}
     },
     "ed66fd25c1964b0baa402ce93c3cdc0c": {
      "model_module": "@jupyter-widgets/controls",
      "model_module_version": "1.4.0",
      "model_name": "VBoxModel",
      "state": {
       "_dom_classes": [
        "widget-interact"
       ],
       "children": [
        "IPY_MODEL_fda3f14ce5c2459ab5e2f37707dfc2b1",
        "IPY_MODEL_bf3a2d131550494bba8dafe4208cd775"
       ],
       "layout": "IPY_MODEL_a9861f75d1934c33b2ad83bd7409c974"
      }
     },
     "ef8c29320e514b6cb88b96c4064bafa5": {
      "model_module": "@jupyter-widgets/output",
      "model_module_version": "1.0.0",
      "model_name": "OutputModel",
      "state": {
       "layout": "IPY_MODEL_e8bb106968324f52b79342d45e9f8071",
       "outputs": [
        {
         "name": "stdout",
         "output_type": "stream",
         "text": "salle visio 204/Badge (Bât 26- 1er ét.)\n81 matières et  118 groupes\n----- Matières ------\n['Thermodynamique 1 - Intro à la thermodynamique (X12P020)', 'Chimie : atome, liaison, molécule (X11C010)', 'Base de logique numérique (X11P020)', 'Thermochimie et équilibres en solution aqueuse (X12C010)', 'Solutions aqueuses (X12C070)', 'Mathématiques 1 (X11M010)', 'Physique appliquée 1 (X11X012)', 'Anglais Général Projet (X12A020)', 'Mécanique du point matériel 1 (X11P012)', 'Informatique (X11I010)', 'Méthodo Travail Univ et Outils Numériques (X11T010)', 'Initiation informatique pour BGC (X11I020)', 'Introduction au développement logiciel (X12I040)', 'Logique, dénombrement et suites numériques (X12M040)', 'Anglais Général (X11A010)', 'Electricité (X11P011)', 'Bases de données 1 (X12I030)', 'Informatique (XA1I010)', 'Electricité (XA1P011)', 'Outils Mathématiques 1 (X12P030)', 'Algorithmique et Programmation (X12I010)', 'Biochimie structurale et interactions moléculaires (X12B010)', \"Fonctions d'une variable réelle (X12M010)\", 'Compléments Mathématiques et Informatiques (X11X020)', 'Outils de calcul pour les sciences (X11T020)', 'Outils de calcul pour les sciences (XA1T020)', 'Pharmacologie et médicaments (X22B020)', 'Mécanique générale 1 : statique solides & systèmes (X21P030)', 'Séries numériques et probabilités discrètes (X21M030)', 'Signalisation Cellulaire (X22B040)', 'Informatique pour les sciences de la vie (X22B050)', 'Biologie Cel. & Molécul. du Développement (X22B060)', 'Thermodynamique Chimique (X21C030)', 'General Microbiology (X21B080)', \"Logique pour l'informatique (X22I010)\", 'Biologie Moléculaire 1 (X21B010)', 'Biochimie analytique pour les Biotechnologies (X22B032)', 'Introduction à la chimie pour le vivant (X22C050)', 'Anglais Scientifique Projet (X22A010)', 'Biologie Cellulaire  2 et Immunologie 1 (X22B010)', 'Thermodynamique 2 : Syst ouverts et chang. phases (X21P050)', 'Minéralogie et pétrologie endogène (X21G010)', 'Géophysique fondamentale 2 (X22G010)', 'Démarche et communication scientifique (X21B180)', 'Electronique  analogique avancée (X32EE60)', 'Contrôle de Gestion (X32I070)', 'Topologie et calcul différentiel (X31M040)', 'Biomolécules et leurs fonctions (X31B040)', 'L3 EEEA applications capteurs (X31EE42)', \"L3 Capteurs et chaînes d'acquisition / Labview (X31EE41)\", 'Ouverture professionnelle- SV (X31T010)', 'Interactions cellulaires à physiologie intégrée (X31B060)', 'Nutrition Plante & Santé (X31B070)', 'Probabilités numériques (X31M070)', 'Mécanique Générale 3 (X31P120)', 'L3 EEEA Outils Mathématiques : Analyse Fourier (X31EE30)', 'Anglais pour la communication scientifique (SV) (X31A010)', 'Biodiversité (X31B212)', 'Biologie Moléculaire 2 : Régulat° expression gènes (X31B030)', 'Architecture des ordinateurs (X31I050)', 'Stratégies adaptatives des organismes (X32B220)', \"L3 Capteurs et chaînes d'acquisition / Labview (X31EE41), L3 EEEA applications capteurs (X31EE42)\", 'Biologie Cellulaire 3 Immunologie 2 (X31B020)', 'Introduction à la recherche clinique (X2BS090)', 'Pathologies génétiques (X2BS111)', 'Pathologies cardiovasculaires et respiratoires (X2BS100)', 'Polymères (X1LU032)', 'Génie-Génétique (X1BS020)', 'Analyse, conception et mise en oeuvre de logiciels (X1I1010)', 'Algorithmique et Programmation niveau 2 (X2BI040)', 'Nano-ordinateur (X1EE024)', 'Machine Learning (X2II010)', 'Refinement and develop of marine natural products (X3TB060)', 'Fouille de textes (X3ITM10)', 'Référentiels Professionnelles et Qualité (X3IP050)', 'Windloads on structures (X3PR090)', 'Stockage électrochim 1 : Principes et Applications (X3SE040)', 'Physique des capteurs, complément (X3EE023)', 'Problem Based Learning and Project Management (X3PR070)', 'Mathématiques pour PCGSi-MIP (XTRM020)', 'Compétences du XXIe siècle (XA1T050)']\n----- Groupes  ------\n['550SPI-EEA', '172', '146', '173', '326N', '274', '113', '689MIAGE-G', '505', '581INFO-M', '102', '486', '371M-ECO', '310ABT', 'M1ALMA', '561ICM', '207', '263', 'M1EEEA', '288', '523G', '251', '267PEIP', 'M1SB-TD2', '623', '168PEIP', '506', 'TR-3', '223', '580OPTIM', 'AC-2', '585', 'TR-4', '112', '111', '285', 'PALP-SV', '114', '403', 'M2MAREENE', '274J', '502', '480A', '167PEIP', 'M1BB', '571M-ECO', 'M1ATAL', '350SPI', '160CMI', '275', 'M2ATAL', '208', '510ABT', '171', 'LICENCE 3 MATHS- ECO', '570IS', '164', 'M2EBM', '400', '148', '117', 'AC-1', '110', '222', '650SPI-EEA', '404', '165', '118', '519EEP', '326M', 'M2ENR', '262', '320', '512Y', '504', '281INFO-M', '501', 'M2MIAGE', '288Q', '575K', '260V', '147', '346', '276M', '166', 'M1LUMOMAT', '507', 'M1SB', '515', '163', '362', '510SVA', 'M2ACES', '287', '512BCVA', '375L', '562', 'M1ORO', '402', 'LICENCE 2 MATHS-ECO', '401', '312PECB', '345', '269PEIP', '115', '145', '261PSR', '268PEIP', '224', '116', '688MIAGE-I', '361PSR', '435', '170', '510BCPA', '360PM', 'M2CISE', '445']\n---------------------\n"
        }
       ]
      }
     },
     "f1db8f88c1a4458f9d52718a11172c07": {
      "model_module": "@jupyter-widgets/output",
      "model_module_version": "1.0.0",
      "model_name": "OutputModel",
      "state": {
       "layout": "IPY_MODEL_98516c62823d4e8790e22f237e8ee6ad",
       "outputs": [
        {
         "name": "stdout",
         "output_type": "stream",
         "text": "Sauvegarde de tmp/Amphi_A_(Bât_1-Admin).ics\n"
        }
       ]
      }
     },
     "f27fdfc285324b7f9cbe68908e95e9cb": {
      "model_module": "@jupyter-widgets/controls",
      "model_module_version": "1.4.0",
      "model_name": "DropdownModel",
      "state": {
       "_options_labels": [
        "Amphi 111-Vidéo (Bât 26- RdC)",
        "Amphi 112-vidéo (Bât 26- RdC)",
        "Amphi 121-vidéo (Bât 26- RdC)",
        "Amphi A (Bât 1-Admin)",
        "Amphi B (Bât 1-Admin)",
        "Amphi C (Bât 1-Admin)",
        "Amphi D (Bât 1-Admin)",
        "Amphi E (Bât 1-Admin)",
        "Amphi F (Bât 28)",
        "Amphi G (Bât 28)",
        "Amphi H (Bât 28)",
        "Amphi PASTEUR (Bât 2)",
        "Salle Multimédia 1 et 2 (Bât 2)",
        "[Exterieur] 01 (LV)",
        "[Exterieur] 015 (LV)",
        "[Exterieur] 02 (LV)",
        "[Exterieur] 040 (LV) - Studio de danse",
        "[Exterieur] 05 (LV)",
        "[Exterieur] 056 (LV)",
        "[Exterieur] 06 (LV)",
        "[Exterieur] 065 (LV)",
        "[Exterieur] 08 (LV)",
        "[Exterieur] 09 (LV)",
        "[Exterieur] 103 (LV)",
        "[Exterieur] 106 (LV)",
        "[Exterieur] 109 (LV)",
        "[Exterieur] 110 (LV)",
        "[Exterieur] 111 (LV)",
        "[Exterieur] 112 (LV)",
        "[Exterieur] 114 (LV)",
        "[Exterieur] 116 (LV)",
        "[Exterieur] 118 (LV)",
        "[Exterieur] 203 (LV)",
        "[Exterieur] 204 (LV)",
        "[Exterieur] 206 (LV)",
        "[Exterieur] 208 (LV)",
        "[Exterieur] 211 (LV)",
        "[Exterieur] 212 (LV)",
        "[Exterieur] 213 (LV)",
        "[Exterieur] 216 (LV)",
        "[Exterieur] 218 (LV)",
        "[Exterieur] 224 (LV)",
        "[Exterieur] 227 (LV)",
        "[Exterieur] 230 (LV)",
        "[Exterieur] 231 (LV)",
        "[Exterieur] 318  info  (Gavy) 14PC",
        "[Exterieur] 326  (Gavy) 27pl",
        "[Exterieur] 328  (Gavy) 90pl",
        "[Exterieur] 330  info  (Gavy) 14PC",
        "[Exterieur] 336 info  (Gavy) 14PC",
        "[Exterieur] 341 Amphi (Gavy) 90pl",
        "[Exterieur] 440 (FLCE)",
        "[Exterieur] 441 (FLCE)",
        "[Exterieur] A101 (IHT) 30pl + Vp (Arronax)",
        "[Exterieur] A102 (IHT) 50pl + Vp (Nemo)",
        "[Exterieur] Amphi - 057 (LV)",
        "[Exterieur] Amphi 1 (Ireste) 350pl + Vp",
        "[Exterieur] Amphi 1 (Isitem) 200pl +Vp (E102)",
        "[Exterieur] Amphi 2 (Ireste) 160pl +Vp",
        "[Exterieur] Amphi 2 (Isitem) 100pl +Vp (E101)",
        "[Exterieur] Amphi B (Gavy)  210pl",
        "[Exterieur] Amphi BONAMY",
        "[Exterieur] Amphi DOBREE",
        "[Exterieur] Amphi GRASLIN",
        "[Exterieur] Amphi PELLOUTIER",
        "[Exterieur] Amphi SAY",
        "[Exterieur] B015 (IHT) 13 PC (info-Village aerien)",
        "[Exterieur] B016 (IHT) 20pl (Volcan d or)",
        "[Exterieur] B017 (Ireste) 13 PC (info)",
        "[Exterieur] B023 (IHT) 20pl + Vp (Archipel en feu)",
        "[Exterieur] B024 (IHT) 20pl + Vp (Etoile du Sud)",
        "[Exterieur] Bias Salle 051",
        "[Exterieur] Bias Salle 052",
        "[Exterieur] Bias Salle 121",
        "[Exterieur] Bias Salle 135 - Réunion",
        "[Exterieur] Bias Salle 161-122",
        "[Exterieur] Bias Salle 162",
        "[Exterieur] Bias Salle 163-164",
        "[Exterieur] Bias Salle 165",
        "[Exterieur] Bias Salle 166",
        "[Exterieur] Bias Salle 167",
        "[Exterieur] Bias Salle 205",
        "[Exterieur] Bias Salle 206",
        "[Exterieur] Bias Salle 207",
        "[Exterieur] Bias Salle 208",
        "[Exterieur] Bias Salle Info 450",
        "[Exterieur] Bias Salle Info 452",
        "[Exterieur] Bias Salle Info 456",
        "[Exterieur] Bias Salle Info 458",
        "[Exterieur] C002 (Censive)",
        "[Exterieur] C002 (IRESTE) 13PC + Vp (info)",
        "[Exterieur] C003 (Ireste) 13PC (info)",
        "[Exterieur] C004 (Censive)",
        "[Exterieur] C008 (Censive)",
        "[Exterieur] C008 (IRESTE) 50pl + VP",
        "[Exterieur] C024 (Censive)",
        "[Exterieur] C027 (Censive)",
        "[Exterieur] C901 (Censive)",
        "[Exterieur] C905 (Censive)",
        "[Exterieur] C906 (Censive)",
        "[Exterieur] D-Amphi Louis Lorvellec (Bât A)",
        "[Exterieur] D004 (Ireste) 65pl + Vp (Cours)",
        "[Exterieur] D010 (Ireste) 48pl + Vp (Cours)",
        "[Exterieur] D013 (Ireste) 110pl + Vp (Cours-Examens)",
        "[Exterieur] E-Amphi (Bât A)",
        "[Exterieur] E202 (Ireste) 36pl + Vp (TD)",
        "[Exterieur] Erdre Salle 112",
        "[Exterieur] Erdre Salle 113",
        "[Exterieur] Erdre Salle 114",
        "[Exterieur] Erdre Salle 123",
        "[Exterieur] Erdre Salle 124",
        "[Exterieur] Erdre Salle 125",
        "[Exterieur] Erdre Salle 126",
        "[Exterieur] Erdre Salle 128",
        "[Exterieur] Erdre Salle 131",
        "[Exterieur] Erdre Salle 237",
        "[Exterieur] Erdre Salle 238",
        "[Exterieur] Erdre Salle 239",
        "[Exterieur] Erdre Salle 241",
        "[Exterieur] Erdre Salle 243",
        "[Exterieur] Erdre Salle 244",
        "[Exterieur] Erdre Salle 246",
        "[Exterieur] Erdre Salle 340",
        "[Exterieur] Fourier (Isitem) 15PC (info E029)",
        "[Exterieur] Laplace (Isitem) 15PC + Vp (Info E023)",
        "[Exterieur] Med 201A",
        "[Exterieur] Med 243",
        "[Exterieur] Med 244",
        "[Exterieur] Med 302",
        "[Exterieur] Med 303",
        "[Exterieur] Med 338",
        "[Exterieur] Med 339",
        "[Exterieur] Med 340",
        "[Exterieur] Med 504",
        "[Exterieur] Med Amphi 2",
        "[Exterieur] Med Amphi 3",
        "[Exterieur] Med Amphi 4",
        "[Exterieur] Med Amphi 5",
        "[Exterieur] Med Amphi 6",
        "[Exterieur] Med Amphi 7",
        "[Exterieur] Med Amphi 8",
        "[Exterieur] Med Salle 241-242 MANIMAL",
        "[Exterieur] Med Salle V.GOURNAY",
        "[Exterieur] Pas de salle",
        "[Exterieur] Salle Manquante",
        "[Exterieur] Salle extérieure",
        "[Exterieur] T020 (Isitem) 24pl + Vp (TP Matériaux)",
        "[Exterieur] T034 (Isitem) 12pl (TP/Labo)",
        "[Exterieur] T101 (Tertre)",
        "[Exterieur] T103 (Tertre)",
        "[Exterieur] T114 (Tertre)",
        "[Exterieur] T120 (Tertre)",
        "[Exterieur] T121 (Tertre)",
        "[Exterieur] T123 (Tertre)",
        "[Exterieur] T203 (Tertre)",
        "[Exterieur] T215 (Tertre)",
        "[Exterieur] T216 (Tertre)",
        "[Exterieur] T221 (Tertre)",
        "[Exterieur] Td5 (Isitem) 48pl + Vp (E122)",
        "[Exterieur] Td6 (Isitem) 48pl + Vp (E123)",
        "[Exterieur] Td7 (Isitem) 48pl + Vp (E124)",
        "[Exterieur] Td8 (Isitem) 100pl + Vp (Examen E125)",
        "[Exterieur] salle 925 IMAR",
        "[Exterieur] salle 929 IMAR",
        "sa TD 006 PECB-sans vidéo (Bât 5)",
        "sa TD 01 (Bât 1-Admin)",
        "sa TD 02 (Bât 1-Admin)",
        "sa TD 03 (Bât 1-Admin)",
        "sa TD 04 (Bât 1-Admin)",
        "sa TD 05 (Bât 1-Admin)",
        "sa TD 06 (Bât 1-Admin)",
        "sa TD 07 (Bât 1-Admin)",
        "sa TD 08 (Bât 1-Admin)",
        "sa TD 09 (Bât 1-Admin)",
        "sa TD 10 (Bât 1-Admin)",
        "sa TD 100 (Bât 26- RdC)",
        "sa TD 110- sans vidéo (Bât 26- RdC)",
        "sa TD 117 (Bât 26- RdC)",
        "sa TD 119-Manuf.Projets (Bât 26- RdC)",
        "sa TD 12 (Bât 1-Admin)",
        "sa TD 13 (Bât 1-Admin)",
        "sa TD 14 (Bât 1-Admin)",
        "sa TD 15 (Bât 1-Admin)",
        "sa TD 18-sans vidéo (Bât 13)",
        "sa TD 20 (Bât 18-B U)",
        "sa TD 200-îlot (Bât 26- 1er ét.)",
        "sa TD 201-anglais/badge (Bât 26- 1er ét.)",
        "sa TD 206-anglais/Badge (Bât 26- 1er ét.)",
        "sa TD 207-Studio Crs/Badge (Bât 26- 1er ét.)",
        "sa TD 208-îlot (Bât 26- 1er ét.)",
        "sa TD 209-îlot (Bât 26- 1er ét.)",
        "sa TD 21 (Bât 18-B U)",
        "sa TD 210-îlot (Bât 26- 1er ét.)",
        "sa TD 211 (Bât 26- 1er ét.)",
        "sa TD 212 (Bât 26- 1er ét.)",
        "sa TD 213 (Bât 26- 1er ét.)",
        "sa TD 214 (Bât 26- 1er ét.)",
        "sa TD 215 (Bât 26- 1er ét.)",
        "sa TD 22 (Bât 18-B U)",
        "sa TD 23 (Bât 18-B U)",
        "sa TD 24 (Bât 18-B U)",
        "sa TD 25 (Bât 18-B U)",
        "sa TD 26 (Bât 18-B U)",
        "sa TD 27 (Bât 18-B U)",
        "sa TD 28 (Bât 18-B U)",
        "sa TD 29 (Bât 18-B U)",
        "sa TD 30-sans vidéo (Bât 5)",
        "sa TD 41 (Bât 14)",
        "sa TD 43 (Bât 14)",
        "sa TD 45 (Bât 14)",
        "sa TD 48 (Bât 14)",
        "sa TD B (Bât 1-Admin)",
        "sa TD D (Bât 1-Admin)",
        "sa TD E (Bât 1-Admin)",
        "sa TD U1-Studio Crs/Badge (Bât 2)",
        "sa TD U5 (Bât 2)",
        "sa TD U6 (Bât 2)",
        "sa TD U7-ilôt/Badge (Bât 2)",
        "sa TD U8-ilôt/Badge (Bât 2)",
        "sa TP 33Géol (Bât 14)",
        "sa TP 34Geol-vidéo (Bât 14)",
        "sa TP 35Geol-vidéo (Bât 14)",
        "sa TP 36Geol-vidéo (Bât 14)",
        "sa TP 38Geol-vidéo (Bât 14)",
        "sa TP 65Geol-vidéo (Bât 13)",
        "sa TP Automatique 59 (Bât 14)",
        "sa TP B1 Bio animale L2-vidéo (Bât 6)",
        "sa TP B2 Bio animale L1-vidéo (Bât 6)",
        "sa TP B3 Taxo-Ecologie (Bât 6)",
        "sa TP B5 Biocell-Immuno (Bât 13)",
        "sa TP Bio animale 32-vidéo (Bât 5)",
        "sa TP Bio végétale-vidéo (Bât 5)",
        "sa TP Biocell  110-vidéo (Bât 5)",
        "sa TP Bioch A (Bât 13)",
        "sa TP Bioch B (Bât 13)",
        "sa TP Bioch-biomol (Bât 2)",
        "sa TP Biotech-biomol (Bât 2)",
        "sa TP Ch Générale A (Bât 12)",
        "sa TP Ch Générale B (Bât 12)",
        "sa TP Ch Orga 1 (Bât 2)",
        "sa TP Ch Orga 2 (Bât 2)",
        "sa TP Ch Organique E (Bât 12)",
        "sa TP Ch Organique F (Bât 12)",
        "sa TP Ch inorganique C (Bât 12)",
        "sa TP Ch inorganique D (Bât 12)",
        "sa TP Ch organique G (Bât 12)",
        "sa TP Ch- Phys 1 (Bât 2)",
        "sa TP Ch- Phys 2 (Bât 2)",
        "sa TP Ecologie-vidéo (Bât 5)",
        "sa TP Electro 61 (Bât 14)",
        "sa TP Info indus 57 (Bât 14)",
        "sa TP Microbio (Bât 2)",
        "sa TP Méca 37bis (Bât 14)",
        "sa TP Optoélectr 55 (Bât 14)",
        "sa TP Phys 50 (Bât 14)",
        "sa TP Phys BGC (Bât 13)",
        "sa TP Phys CAPES  60 (Bât 14)",
        "sa TP Phys MIPC A (Bât 13)",
        "sa TP Phys MIPC B (Bât 13)",
        "sa TP Phys nucléaire (Bât 12)",
        "sa TP Phys solide 54 (Bât 14)",
        "sa TP Physio animale113 (Bât 26- RdC)",
        "sa TP Physio animale115 (Bât 26- RdC)",
        "sa TP Physio patho Végétale (Bât 2)",
        "sa TP Physio végétale (Bât 5)",
        "sa TP Thermo 35bis (Bât 14)",
        "sa TP Thermo 38bis (Bât 14)",
        "salle TP Projets L1-L2 (Bât 13)",
        "salle info 1-vidéo/badge (Bât 2)",
        "salle info 2-vidéo/Badge (Bât 2)",
        "salle info I01-vidéo (Bât 15-C I E)",
        "salle info I011-vidéo/badge (Bât 15-C I E)",
        "salle info I012-vidéo (Bât 15-C I E)",
        "salle info I019-vidéo/badge (Bât 15-C I E)",
        "salle info I03-vidéo (Bât 15-C I E)",
        "salle info I04-vidéo (Bât 15-C I E)",
        "salle info I040-vidéo (Bât 14)",
        "salle info I042-vidéo (Bât 14)",
        "salle info I047-vidéo/badge (Bât 14)",
        "salle info I05-vidéo (Bât 15-C I E)",
        "salle info I121-vidéo (Bât 15-C I E)",
        "salle info I123-vidéo (Bât 15-C I E)",
        "salle info I124-vidéo/badge (Bât 15-C I E)",
        "salle info I125-vidéo (Bât 15-C I E)",
        "salle info S046-Vidéo/badge (Bât 14)",
        "salle info S049-vidéo (Bât 14)",
        "salle info SPE 46-vidéo/badge (Bât 13)",
        "salle visio 204/Badge (Bât 26- 1er ét.)",
        "salle visio 205/Badge (Bât 26- 1er ét.)",
        "salle visio U2/Badge (Bât 2)",
        "salle visio U3/Badge (Bât 2)",
        "salle visio U4/Badge (Bât 2)"
       ],
       "description": "salle visio : ",
       "index": 0,
       "layout": "IPY_MODEL_c0161a03c3dc4dedb3bb8e9f31b5c6ac",
       "style": "IPY_MODEL_fb0fe9c348904a8797cbfe14dad204a0"
      }
     },
     "f2af9461c71a44c38472c5c708f1ab5d": {
      "model_module": "@jupyter-widgets/controls",
      "model_module_version": "1.4.0",
      "model_name": "DescriptionStyleModel",
      "state": {
       "description_width": ""
      }
     },
     "f2ee50c9520a4119961b6a7f82b19341": {
      "model_module": "@jupyter-widgets/controls",
      "model_module_version": "1.4.0",
      "model_name": "DescriptionStyleModel",
      "state": {
       "description_width": ""
      }
     },
     "f394d63a002c483c8816481e64b31e03": {
      "model_module": "@jupyter-widgets/controls",
      "model_module_version": "1.4.0",
      "model_name": "DropdownModel",
      "state": {
       "_options_labels": [
        "sa TP 33Géol (Bât 14)",
        "sa TP 34Geol-vidéo (Bât 14)",
        "sa TP 35Geol-vidéo (Bât 14)",
        "sa TP 36Geol-vidéo (Bât 14)",
        "sa TP 38Geol-vidéo (Bât 14)",
        "sa TP 65Geol-vidéo (Bât 13)",
        "sa TP Automatique 59 (Bât 14)",
        "sa TP B1 Bio animale L2-vidéo (Bât 6)",
        "sa TP B2 Bio animale L1-vidéo (Bât 6)",
        "sa TP B3 Taxo-Ecologie (Bât 6)",
        "sa TP B5 Biocell-Immuno (Bât 13)",
        "sa TP Bio animale 32-vidéo (Bât 5)",
        "sa TP Bio végétale-vidéo (Bât 5)",
        "sa TP Biocell  110-vidéo (Bât 5)",
        "sa TP Bioch A (Bât 13)",
        "sa TP Bioch B (Bât 13)",
        "sa TP Bioch-biomol (Bât 2)",
        "sa TP Biotech-biomol (Bât 2)",
        "sa TP Ch Générale A (Bât 12)",
        "sa TP Ch Générale B (Bât 12)",
        "sa TP Ch Orga 1 (Bât 2)",
        "sa TP Ch Orga 2 (Bât 2)",
        "sa TP Ch Organique E (Bât 12)",
        "sa TP Ch Organique F (Bât 12)",
        "sa TP Ch inorganique C (Bât 12)",
        "sa TP Ch inorganique D (Bât 12)",
        "sa TP Ch organique G (Bât 12)",
        "sa TP Ch- Phys 1 (Bât 2)",
        "sa TP Ch- Phys 2 (Bât 2)",
        "sa TP Ecologie-vidéo (Bât 5)",
        "sa TP Electro 61 (Bât 14)",
        "sa TP Info indus 57 (Bât 14)",
        "sa TP Microbio (Bât 2)",
        "sa TP Méca 37bis (Bât 14)",
        "sa TP Optoélectr 55 (Bât 14)",
        "sa TP Phys 50 (Bât 14)",
        "sa TP Phys BGC (Bât 13)",
        "sa TP Phys CAPES  60 (Bât 14)",
        "sa TP Phys MIPC A (Bât 13)",
        "sa TP Phys MIPC B (Bât 13)",
        "sa TP Phys nucléaire (Bât 12)",
        "sa TP Phys solide 54 (Bât 14)",
        "sa TP Physio animale113 (Bât 26- RdC)",
        "sa TP Physio animale115 (Bât 26- RdC)",
        "sa TP Physio patho Végétale (Bât 2)",
        "sa TP Physio végétale (Bât 5)",
        "sa TP Thermo 35bis (Bât 14)",
        "sa TP Thermo 38bis (Bât 14)",
        "salle TP Projets L1-L2 (Bât 13)"
       ],
       "description": "TP : ",
       "index": 0,
       "layout": "IPY_MODEL_3692da9de79646ac8283b5a3336311e9",
       "style": "IPY_MODEL_aa560cd818ea486cbb37afb2f646c43b"
      }
     },
     "f44e1e38900f423fad1a34a1cf1e7817": {
      "model_module": "@jupyter-widgets/base",
      "model_module_version": "1.1.0",
      "model_name": "LayoutModel",
      "state": {}
     },
     "f47a4ac0dcb349ed80deca0e4c3eb311": {
      "model_module": "@jupyter-widgets/controls",
      "model_module_version": "1.4.0",
      "model_name": "DropdownModel",
      "state": {
       "_options_labels": [
        "[Exterieur] 01 (LV)",
        "[Exterieur] 015 (LV)",
        "[Exterieur] 02 (LV)",
        "[Exterieur] 040 (LV) - Studio de danse",
        "[Exterieur] 05 (LV)",
        "[Exterieur] 056 (LV)",
        "[Exterieur] 06 (LV)",
        "[Exterieur] 065 (LV)",
        "[Exterieur] 08 (LV)",
        "[Exterieur] 09 (LV)",
        "[Exterieur] 103 (LV)",
        "[Exterieur] 106 (LV)",
        "[Exterieur] 109 (LV)",
        "[Exterieur] 110 (LV)",
        "[Exterieur] 111 (LV)",
        "[Exterieur] 112 (LV)",
        "[Exterieur] 114 (LV)",
        "[Exterieur] 116 (LV)",
        "[Exterieur] 118 (LV)",
        "[Exterieur] 203 (LV)",
        "[Exterieur] 204 (LV)",
        "[Exterieur] 206 (LV)",
        "[Exterieur] 208 (LV)",
        "[Exterieur] 211 (LV)",
        "[Exterieur] 212 (LV)",
        "[Exterieur] 213 (LV)",
        "[Exterieur] 216 (LV)",
        "[Exterieur] 218 (LV)",
        "[Exterieur] 224 (LV)",
        "[Exterieur] 227 (LV)",
        "[Exterieur] 230 (LV)",
        "[Exterieur] 231 (LV)",
        "[Exterieur] 318  info  (Gavy) 14PC",
        "[Exterieur] 326  (Gavy) 27pl",
        "[Exterieur] 328  (Gavy) 90pl",
        "[Exterieur] 330  info  (Gavy) 14PC",
        "[Exterieur] 336 info  (Gavy) 14PC",
        "[Exterieur] 341 Amphi (Gavy) 90pl",
        "[Exterieur] 440 (FLCE)",
        "[Exterieur] 441 (FLCE)",
        "[Exterieur] A101 (IHT) 30pl + Vp (Arronax)",
        "[Exterieur] A102 (IHT) 50pl + Vp (Nemo)",
        "[Exterieur] Amphi - 057 (LV)",
        "[Exterieur] Amphi 1 (Ireste) 350pl + Vp",
        "[Exterieur] Amphi 1 (Isitem) 200pl +Vp (E102)",
        "[Exterieur] Amphi 2 (Ireste) 160pl +Vp",
        "[Exterieur] Amphi 2 (Isitem) 100pl +Vp (E101)",
        "[Exterieur] Amphi B (Gavy)  210pl",
        "[Exterieur] Amphi BONAMY",
        "[Exterieur] Amphi DOBREE",
        "[Exterieur] Amphi GRASLIN",
        "[Exterieur] Amphi PELLOUTIER",
        "[Exterieur] Amphi SAY",
        "[Exterieur] B015 (IHT) 13 PC (info-Village aerien)",
        "[Exterieur] B016 (IHT) 20pl (Volcan d or)",
        "[Exterieur] B017 (Ireste) 13 PC (info)",
        "[Exterieur] B023 (IHT) 20pl + Vp (Archipel en feu)",
        "[Exterieur] B024 (IHT) 20pl + Vp (Etoile du Sud)",
        "[Exterieur] Bias Salle 051",
        "[Exterieur] Bias Salle 052",
        "[Exterieur] Bias Salle 121",
        "[Exterieur] Bias Salle 135 - Réunion",
        "[Exterieur] Bias Salle 161-122",
        "[Exterieur] Bias Salle 162",
        "[Exterieur] Bias Salle 163-164",
        "[Exterieur] Bias Salle 165",
        "[Exterieur] Bias Salle 166",
        "[Exterieur] Bias Salle 167",
        "[Exterieur] Bias Salle 205",
        "[Exterieur] Bias Salle 206",
        "[Exterieur] Bias Salle 207",
        "[Exterieur] Bias Salle 208",
        "[Exterieur] Bias Salle Info 450",
        "[Exterieur] Bias Salle Info 452",
        "[Exterieur] Bias Salle Info 456",
        "[Exterieur] Bias Salle Info 458",
        "[Exterieur] C002 (Censive)",
        "[Exterieur] C002 (IRESTE) 13PC + Vp (info)",
        "[Exterieur] C003 (Ireste) 13PC (info)",
        "[Exterieur] C004 (Censive)",
        "[Exterieur] C008 (Censive)",
        "[Exterieur] C008 (IRESTE) 50pl + VP",
        "[Exterieur] C024 (Censive)",
        "[Exterieur] C027 (Censive)",
        "[Exterieur] C901 (Censive)",
        "[Exterieur] C905 (Censive)",
        "[Exterieur] C906 (Censive)",
        "[Exterieur] D-Amphi Louis Lorvellec (Bât A)",
        "[Exterieur] D004 (Ireste) 65pl + Vp (Cours)",
        "[Exterieur] D010 (Ireste) 48pl + Vp (Cours)",
        "[Exterieur] D013 (Ireste) 110pl + Vp (Cours-Examens)",
        "[Exterieur] E-Amphi (Bât A)",
        "[Exterieur] E202 (Ireste) 36pl + Vp (TD)",
        "[Exterieur] Erdre Salle 112",
        "[Exterieur] Erdre Salle 113",
        "[Exterieur] Erdre Salle 114",
        "[Exterieur] Erdre Salle 123",
        "[Exterieur] Erdre Salle 124",
        "[Exterieur] Erdre Salle 125",
        "[Exterieur] Erdre Salle 126",
        "[Exterieur] Erdre Salle 128",
        "[Exterieur] Erdre Salle 131",
        "[Exterieur] Erdre Salle 237",
        "[Exterieur] Erdre Salle 238",
        "[Exterieur] Erdre Salle 239",
        "[Exterieur] Erdre Salle 241",
        "[Exterieur] Erdre Salle 243",
        "[Exterieur] Erdre Salle 244",
        "[Exterieur] Erdre Salle 246",
        "[Exterieur] Erdre Salle 340",
        "[Exterieur] Fourier (Isitem) 15PC (info E029)",
        "[Exterieur] Laplace (Isitem) 15PC + Vp (Info E023)",
        "[Exterieur] Med 201A",
        "[Exterieur] Med 243",
        "[Exterieur] Med 244",
        "[Exterieur] Med 302",
        "[Exterieur] Med 303",
        "[Exterieur] Med 338",
        "[Exterieur] Med 339",
        "[Exterieur] Med 340",
        "[Exterieur] Med 504",
        "[Exterieur] Med Amphi 2",
        "[Exterieur] Med Amphi 3",
        "[Exterieur] Med Amphi 4",
        "[Exterieur] Med Amphi 5",
        "[Exterieur] Med Amphi 6",
        "[Exterieur] Med Amphi 7",
        "[Exterieur] Med Amphi 8",
        "[Exterieur] Med Salle 241-242 MANIMAL",
        "[Exterieur] Med Salle V.GOURNAY",
        "[Exterieur] Pas de salle",
        "[Exterieur] Salle Manquante",
        "[Exterieur] Salle extérieure",
        "[Exterieur] T020 (Isitem) 24pl + Vp (TP Matériaux)",
        "[Exterieur] T034 (Isitem) 12pl (TP/Labo)",
        "[Exterieur] T101 (Tertre)",
        "[Exterieur] T103 (Tertre)",
        "[Exterieur] T114 (Tertre)",
        "[Exterieur] T120 (Tertre)",
        "[Exterieur] T121 (Tertre)",
        "[Exterieur] T123 (Tertre)",
        "[Exterieur] T203 (Tertre)",
        "[Exterieur] T215 (Tertre)",
        "[Exterieur] T216 (Tertre)",
        "[Exterieur] T221 (Tertre)",
        "[Exterieur] Td5 (Isitem) 48pl + Vp (E122)",
        "[Exterieur] Td6 (Isitem) 48pl + Vp (E123)",
        "[Exterieur] Td7 (Isitem) 48pl + Vp (E124)",
        "[Exterieur] Td8 (Isitem) 100pl + Vp (Examen E125)",
        "[Exterieur] salle 925 IMAR",
        "[Exterieur] salle 929 IMAR"
       ],
       "description": "Exterieur : ",
       "index": 0,
       "layout": "IPY_MODEL_085bcd26aa7f495a8e09baba70e082b3",
       "style": "IPY_MODEL_8bfdf50ac14c45299a15d88dec186ef0"
      }
     },
     "f4dbd2c080954a81b46ad97e70d26746": {
      "model_module": "@jupyter-widgets/controls",
      "model_module_version": "1.4.0",
      "model_name": "DescriptionStyleModel",
      "state": {
       "description_width": ""
      }
     },
     "f5a80ebbd4784b84a6ad060231932989": {
      "model_module": "@jupyter-widgets/base",
      "model_module_version": "1.1.0",
      "model_name": "LayoutModel",
      "state": {}
     },
     "f6feccc060af4ec3b3854ff19fb8ba19": {
      "model_module": "@jupyter-widgets/output",
      "model_module_version": "1.0.0",
      "model_name": "OutputModel",
      "state": {
       "layout": "IPY_MODEL_db027bb30e3d4860a5b17d9ab40e68c8",
       "outputs": [
        {
         "data": {
          "image/png": "iVBORw0KGgoAAAANSUhEUgAAAXoAAAEICAYAAABRSj9aAAAABHNCSVQICAgIfAhkiAAAAAlwSFlzAAALEgAACxIB0t1+/AAAADl0RVh0U29mdHdhcmUAbWF0cGxvdGxpYiB2ZXJzaW9uIDMuMC4zLCBodHRwOi8vbWF0cGxvdGxpYi5vcmcvnQurowAAIABJREFUeJztnXeYJFd1t99T1WHCzgZtUI4oSwTBCosoW8ImBxvsDxuwTDS2CRJ8GPhwjoBtMBhsLJOECZYQ2AhskgVYxgZJKyEJiRVIQlkr7Uqr3Z3Y3VV1vj/urZ6eme6Z2Z2eujWj8z7PTHdXVdc93V31q3PPPfeUqCqGYRjG6iUKbYBhGIaxvJjQG4ZhrHJM6A3DMFY5JvSGYRirHBN6wzCMVY4JvWEYxirHhN4wVhAi8hER+f151quIHN9l+d+LyJ8tse3/EZEz9vM97xWRW0SkvpS2u+z3fSLy+n7uczVjQr8KEJGniciY/xv3J/tYx99RIvIdEZkSkVER2Sci14jIO+Y7AcXxHhF5yP+9V0SkY/3j/H4m/OPjZr3/8SJyhbfhARF5c492jpll8x0i8o6O9eo/V+dn+t2O9SeKyOdF5EER2SsiN4jIW0Qk7rLvB7zoVZf2rYdBVV+vqn+6P+8RkdcBDVX9vQNtV0SeD4yq6g/86z8SkVbH97pdRF486z2PAs4E/ha4YNa674jIaxZoc/bv/tGO1X8FvEtEagf6mR5RqKr9raI/4BhAgcqs5d8BXuOfDwM/C1wHXA5Ij339JvBj4AjgcOBHwOv9uhpwJ+4ErgNv8q9rfv0mYCfwMr9+BDhlMTYDTwImgGf51woc3+O9jwIeBt4HHOqXnQR8FljfZd9bgB8A54f+rZbp9+/5XS1xv/8OvKzj9R8Bn+54/UxgEji4Y9nPAycCkh833Y7HA/0swDeBl4T+zlfCn3n0JUBE3i4i93pv+8cicq5f/kQR+Z6I7BGRHSLyoX54MKo6rqrfAV6AE9Xn9tj0POBvVPUeVb0X+BvgN/y6nwUqwN+qakNVP4g7oc/x698CfF1VP+PXj6rq9kXa9z3gJuD0RWz+x8D/qupbVHWHf/+PVfXXVHVPl33vxAnEqb126L/3bb7n84CIvK9j3edF5H7fc7hCRE7rWPdJEfmwiPy7/y2v9F5t3jt6v4js7Oh1zPl8IvJSEdk2a9kFInJZRxt/1rHubf7YuE9EXjXrfXUR+WsRuct/jo+IyGDH+teKyK0isltELhORw3p8HzXc7/pfvb4zVf06MIq78CIiG4A3A/8D7AaeJyJH+HV/DjwN+JD31D/Ua78L8B16H7tGByb0gRGRk4A3AGeq6gjOM7rDr05xHvMmnCCfC/x2v9pW1buAbbiTrhunAdd3vL7eL8vX3aDetfLc0LH+LGC3iPyvF7cvi8hRC9nkBfEpfj8/WMTHeAZw6SK2y/d/GO47/v48m30A+ICqrsUJ1yUd674KnIDrGVwLfGbWe38Vd/HZANwK/Llf/gvA03Ee7nrg/wAPdWn7MuAkETmhY9mv4Xoosz/Ls4D/i/OcT8B9F528x7f3OOB4XK/sD/x7zwH+EvgV4FBcb+xfutiD33emqvd0W+l/s+fienk/8osj4BPA0cBROG//QwCq+i7gv4E3qOoaVX1Dj3YBrvAX1i+KyDGz1m0HHjvPew2PCX14Ulxo41QRqarqHap6G4CqXqOq31fVRFXvAP4ROLvP7d8HHNRj3Rpgb8frvcAaEZEu6/L1I/75EbgewZtxJ/rtwOcWsOVBnPf3UeAdqnp5x7prfc8m/3umX74R2LHAfgEeFJE9wL3AOPNfHFrA8SKySVXHVLV9UVDVj/veSQMXvnisiKzreO8XVfUqVU1wF4HHdexzBDgZFyrbnvdAOlHVCeBLuAsGXvBPxl0AZvMrwCdU9UZVHff24N8nwGuBC1R1t6qOAn8BvNRv8jLg46p6rf8s7wSe1EVMwV2YRru177/TcW/fX+S9KFV9SFW/oKoTvu0/Z/+P3bNxobeTccfpV0Sk0rF+1NtmLIAJfWBU9VbgfNxJulNE/iXvQosbZPyK92j24U7UTX024XCcuHZjDFjb8XotMOa9+Nnr8vW5IEwC/6qqV6vqFM7LffIsUZzNJlXdoKqn+FBQJ49X1fUdf1/3yx/CeaQLsUlV1wNDuHDC1wBE5GUdg31f9du+GucJ3ywiV4vI8/y2sYi8W0Ru87/HHfm+O9q5v+P5BO6CiKp+C+fRfhh4QEQuFJHZ31/OZ/FCj/Pm/81fAGZzGHB3x+s7O55v9p/1mvzi6D/z5o73trdX1THcd3l4l3YeZvoC3skl/rcYwvV8fl1EfhNARIZE5B9F5E7/XV0BrBeRuMdnnoOqXqGqTX/xeDNwLHBKxyYjwJzwnDEXE/oSoKqfVdWn4rq5iutyA/wDcDNwgg8j/D9cHLwviMiRwBNw3ehu3MTMrvFj/bJ83WO855jzmI71N+A+S07+vG/2e/4TePGCW+VGqE4Cn8R5r5v8GMIa//dsv80tqvqruPDMe4BLRWQYJ7ovxIVI1uG8TVjkZ1LVD6rqE3BhqROBt/XY9BvAJnFZTL9Kl7CNZwdwZMfrztDYg7iL7WkdF8d1qrrGr78Pd7y5D+A+30Zcj2c2t7hNpNtFIP9sd+DCWs/3i96KGxT/GX/sPj1vKn9Lr33NgzLzuz6FmaFFowcm9IERkZNE5BxxaY5TuJMz9atHgH3AmIicDPxWn9ocEpGzcSGCq4D/6LHpp4C3iMjhvpfxVpxIghsIS4E3+UG/PM76Lf/4CeAXxaVgVoHfB77bbYB0ifwhrqfwVyJyCICIHC8inxaROd16/z2/Aud5d4uRIyIvF5HNqpox7TGmuN+j4d83hOthLQoROVNEfsZ/F+O43zrttq0P+1yKSyE8CDd43I1LgN8QkVNFZAj3XeT7yIB/At4vIlu8DYd3hLw+C7zS/z51/1mu9II9254W7oLaM/TiB1qfxfSFfgR3LO8RkYM6bfM8ABw3z/5O87bFIrIGlwhwLy4un3M27uJiLESRKT72N/cP5wVfhQt57Aa+Ahzm1z0d59GP4bzuP8GJ5Xz7O4be6ZVTvp1R3EDnu4CBefYlwHu9Xbv9c+lYfwZwDe6EvhY4Y9b7fwt3cj4MfBk4cn9s7livOHEc6/j72471JwGfxwnwXpyXdz4Qd+w7f98eXPbImfN87k/jUkPHcML1Ir98De7iOIoLe/w6HSmAuIvgn3Xs52eBe/zzc3G9nDGct/0ZYM08NjzN7/vDs5bPbuMduIvWfcCrZtkzgBPwn+Ichu3Amzre+3rgto7j7oh57Hku8NWO13+EG3fIv9cdwEeAIb/+MH/MjQE/waXqzk6h/Yk/Nj7Ypb1zcKm94/63+DdczzZffyhwDz6d1/7m/xP/pRmGYcyLiHwXeKP6SVOBbfkb4DZV/fvQtqwETOgNwzBWOQvG6EXk4z4P+saOZQeJyDfF1bD4pp8ckefTflDcJIwbROTxy2m8YRiGsTCLGYz9JG6QpZN3AJer6gm4KfR5XZJn4yZXnAC8Dpc1YhiGYQRkQaFX1SuYm2f9QuAi//wi4EUdyz+lju/j8mYXk+NsGIZhLBOVhTfpysE6XVdkR56+hZts0TmB4x6/bM4MQHEV9V4HMDw8/ISTTz75AE0xDMN4ZHLNNdc8qKqbF9ruQIW+F90mjnQd7VXVC4ELAbZu3arbtm3rtplhGIbRAxG5c+GtDnzC1AN5SMY/7vTL72HmTL0jcPm9hmEYRiAOVOgvwxWswj9+qWP5r/vsm7OAvdqlcJNhGIZRHAuGbkTkc7gZfptE5B7cVOZ3A5eIyKuBu4Bf9pv/B/AcXHnWCeCVy2CzYRiGsR8sKPTqijt149wu2yrwO0s1yjAMw+gfVtTMMAxjlWNCbxiGscoxoTcMw1jlmNAbhmGsckzoDcMwVjkm9IZhGKscE3rDMIxVjgm9YRjGKseE3jAMY5VjQm8YhrHKMaE3DMNY5ZjQG4ZhrHJM6A3DMFY5JvSGYRirHBN6wzCMVY4JvWEYxirHhN4wDGOVY0JvGIaxyjGhNwzDWOWY0BuGYaxyTOgNwzBWOSb0hmEYqxwTesMwjFWOCb1hGMYqx4TeMAxjlWNCbxiGscoxoTcMw1jlmNAbhmGsckzoDcMwVjkm9IZhGKscE3rDMIxVjgm9YRjGKseE3jAMY5VjQm8YhrHKMaE3DMNY5SxJ6EXkAhG5SURuFJHPiciAiBwrIleKyC0icrGI1PplrGEYhrH/HLDQi8jhwJuArap6OhADLwXeA7xfVU8AHgZe3Q9DDcMwjANjqaGbCjAoIhVgCNgBnANc6tdfBLxoiW0YhmEYS+CAhV5V7wX+GrgLJ/B7gWuAPaqa+M3uAQ7v9n4ReZ2IbBORbbt27TpQMwzDMIwFWEroZgPwQuBY4DBgGHh2l0212/tV9UJV3aqqWzdv3nygZhiGYRgLsJTQzTOA21V1l6q2gC8CTwbW+1AOwBHAfUu00TAMw1gCSxH6u4CzRGRIRAQ4F/gR8G3gJX6b84AvLc1EwzAMYyksJUZ/JW7Q9Vrgh35fFwJvB94iIrcCG4GP9cFOwzAM4wCpLLxJb1T1D4E/nLX4p8ATl7JfwzAMo3/YzFjDMIxVjgm9YRjGKseE3jAMY5VjQm8YhrHKMaE3DMNY5ZjQG4ZhrHJM6A3DMFY5JvSGYRirHBN6wzCMVY4JvWEYxirHhN4wDGOVY0JvGIaxyjGhNwzDWOUsqXqlYRhdmNwD//5W2Pkj0AwQt1zEPc8fyR9mL+vcbtb6bstOfQGc9VsFfDBjpWJCbxj95up/ghsvhROfBXHNL1RQf1fN/LG9TLsva287z7I9d8HX3uHaOujY5f9sxorEhN4w+s1t34bDzoBfu3j523rwVvjQE+Cn3zahN3piMXrD6Dd77oLNJxfT1kHHQVSBPXcX056xIjGhN4x+ogpjD8CaLcW0F0UwvAXGdhbTnrEiMaE3jH4ytQfSJqw5uLg212xxFxfD6IEJvWH0k9yzHi7Iowd3URm7v7j2jBWHCb1h9JPGqHscXF9cmwPrpts1jC6Y0BtGP2lNuMfqYHFtVgehNVlce8aKw4TeMPpJLriFCv2QCb0xL5ZHbxj9pO3RDy3L7r99804+9b07eHiihQKxwB8MNnhc3q5hdME8esPoJ8vo0d+9e4LXfmobP75/lLWDVdYNVhmdSvjPW0chSyBt9b1NY3VgHr1h9JNl9Oi/dN29JJlyyeufxBEb3P4f2DfFhe+5eLrteF3f2zVWPib0BgBJmvFfP9nF3bsnSDKlEgkb19R51umHUI2t47doltGj//L1O9h69Ia2yANsGamTxYPTbQ+Y0BtzMaE3UFXe8Nkf8LWb5uZi/+bTj+OdzzklgFUrlFzoK/0V+h/fP8qPHxjlT1542ozlIsLA0BqYYro3YRizMKE3+Py2e/jaTfdzwTNO5BVPOppKLKSpcsEl1/GFa+81od8fmuOuYmXc31PrsuvvJY6E5zz60DnrBodzobfMG6M7JvQrkNGpFuONFEVRbRevRX2p23bF2/ZyUGauyze59+FJ/vjLN/Gk4zbyxnOOJ4qk/b4nHbeR7/x4F/umWqwdqC7jJ1pFtCahMkiSZuyZbNFMMhT323RWKe787VTVPwIzlkOmykQz5XNX3c3ZJ25m05r6nCbrg2um2zaMLpjQrzDe+cUb+NxV/a1UeOi6Af7mVx47Q+QBDt/gwg/37Zlk7SEm9Isia5FEVZ74F5eze7zZt90OVmPe8vMndl0XVwfck6TRt/aM1YUJ/Qri3j2TfO6qu3nGKQfzcydvJvZ3G5L2zYpk5o2LcDHcma9nbl+vRDzlhE1dPfbD1zuhv/fhSU4+ZO1yfKTVR5Yw3oKxRsIfPO9Uhmqx+879byO438Q90l7X/k061kUdz08/fN2MQdhOajV/c5PM0iuN7pjQryCuu2sPAOc/4wROP3z5syvyMMHDEyYgiyZLmUqFp5+wiVc9tZgbgVTrzqPPkpZNjDG6YsfFCmLHXheDPbKHZ9dvhmoxAOONpJD2VgVZQlOjdm+oCHKPvtWcKqxNY2WxJKEXkfUicqmI3Cwi20XkSSJykIh8U0Ru8Y8b+mXsI50de6cYqsWsHSymIzZcd+2MmdAvmiRp0cqEg9cNFNZmreZ6XlMNi9Eb3VmqR/8B4GuqejLwWGA78A7gclU9Abjcvzb6wP37pjhk7UA77r7c1CsRlUjMo98PphoNUmIOWVuc0Ndrrq1m04Te6M4BC72IrAWeDnwMQFWbqroHeCFwkd/sIuBFSzXScIxOJawdLC77RUQYrldM6PeDpNUiIWLDUK2wNusDzqNvmkdv9GApHv1xwC7gEyLyAxH5qIgMAwer6g4A/9j1Vjsi8joR2SYi23bt2rUEMx45TDQShutxoW0O12LGGmmhba5ksjQlJWawVtzvVPeDsa2WCb3RnaUIfQV4PPAPqnoGMM5+hGlU9UJV3aqqWzdv3rwEMx45jDdTBqvFJkoN1ytMNM2jXyxZ6jz64Vpxv1Ol6jz6tNW/vH1jdbEUob8HuEdVr/SvL8UJ/wMiciiAf7Tb0/eJiWYAj75escHY/SBLk8I9+krVhfPUyhQbPThgoVfV+4G7ReQkv+hc4EfAZcB5ftl5wJeWZKHRZryRMlSgpwhuQLaRZIW2uZLRLCEhbqemFkG1mufRm0dvdGepqvFG4DMiUgN+CrwSd/G4REReDdwF/PIS2zA8E82E4QIFBKBWiRidMo9+sWiakGrBoZua9+hN6I0eLOloVNXrgK1dVp27lP0ac8kyV9xqqF68R/+QefSLRrOElKjg0I2L0WcWujF6YDNjVwiTLZf5EsKjb6Ym9IsmTcgkplYp7tSqVaukKhajN3piQr9CmPJCXy9QQABqcUTTPPpFo1mKRsVfjBMqFroxemJCv0JIM1fMvFLwbf2qJvT7hWiCSrHhtWoc0SK2m4MbPTGhXyG0vNBX42LKH+RY6Gb/iDQlo3iPvkXFhN7oiQn9CiFNvUcfFRy6qUS0zKNfNKIpmRQr9NVYSIitHr3RExP6FUIrc2JbCeDRN8yjXzSRpmjRQh+50I0Nxhq9MKFfIbRj9AV79HUfo9fZN6I1uhJC6KNISKlAZvMdjO6Y0K8QWt6rjqPiPXrXvgn9Yog0KTx0A5ARmdAbPTGhXyEkabjBWMAGZBeJkBXu0QOkEkNmVUaN7pjQrxASH7op3KP36ZyWYrk4Ik3RqPhbMWeY0Bu9MaFfISTeo64WnUdfMaHfH0LE6AEXLrLQjdEDE/oVQhrYo29Z6GZRxKSFT5gCF7oRNY/e6I4J/Qoh1ISpqgn9fuFCNyEGY2MiNY/e6I4J/QohzfPoC06vzPP28zECY35iAgm9efTGPJjQrxDy9MaiQzf5hcU8+kWgSkwGAWL0KpEJvdETE/oVQtoO3RRd1Mx79JZHvzA+6yVI1o1Y6MbojQn9CiHUhKm8WmaSmUe/ILlHHWAwVqWCqP1GRndM6FcIoSZMVf2FxWbGLgKf3mgxeqNsmNCvEEKlV+btWehmEXihlwChG5WYyITe6IEJ/Qohr15ZdIw+D920LHSzMEFj9BUTeqMnxR+RxgExXb2y6Dx6117azaPfuR2uuhCm9gH5em+fyOJfz1nH3G3jGpz5Wthy8hI+zTKTz0wNELrp5dEnacZHv3s7P7l/lFamROK+1Ujck0iE4VrML289ktMPX1e43UYxmNCvEFqBbjyStzdnMDbL4OKXw8N3wPqjQCJolzL2jwu+3o9txx6A26+A374SCv4OFk07dBNA6KOYmLlCf/G2u3n3V2/m4LV1hmoVVJVMQVHyn/ThiSYXb7ubS1//ZBP7VYoJ/QohDXTjkdyjnzMY++BP4KFb4fkfhCect/yGbPsEfOV82H0bbDph+ds7ENpCXy2+7R4e/eXbd3Lc5mEuf8vZiHQ/dnaNNnjuB/+bCy6+ji+/8akMVIu/UBnLiwn9CiHYhKle6ZW7f+oeDz6tGEPydnb/tMRC74U2iEdfIeri0d+6c4zHHLGup8gDbB6p81e//FjO+/hVvPXz1/Ps0w+hEkVUIqESC5vW1DntsLXz7sMoNyb0K4RQE6YqvdIrH77dPR50XDGG5O3svr2Y9g6EXOjjAKeVxESz8uhbacbdD0/wojMOX/DtZ5+4mTedczwf/s5t/PsNO+asf/5jD+MD/+dxRAU7GkZ/MKFfIeRlios+z/ILy5z0ytEdUBmAwQ3FGDK00Q3Ijs4VodIQMr2yS4x+z0QLVdi0praofbzlF07ilU85ll1jDVppRpopSaZ8a/tOPvTtWznjyPW86qnHLof5xjJjQr9CaGVKNZbCu8/TRc1mhW6m9kF9bUfGzDIj4tpr7CumvQNAs5bLEwrg0atU5gj93kl3s/B1g4sfM9gwXGPD8MwLwxlHrmf7jn28+2s388RjD7IB2xWICf0KIc208Pg8QLVd1GyWR9/YBwNrizVmYK1P5SwnaZJQAaIAHj1Rf4S+GyLCu1/8GJ79gSt43t99l0jc2E0sQhwJ4tM0I4ETtozwj694wpyLhREWE/oVQivN2qJbJG2Pfnb1ytyjL5KSe/Rp0nInVIgYfVQhnpV1s69PQg9uwPbf3/Q0LrvuPvZOtmhlGVnmUjUzVVRhoplwybZ7uOh7d3D+M05ccptG/zChXyGkmRaeWgnz1KMP4dHXR8rt0acuRh8FyLohil2J5A72TDaB/gg9wMFrB3jt0+cffL/x3n384K49fWnP6B8lnXlizKaVKnEAj77aqx59CI9+YF2pPfoscR60xMXn0UsUU5WZHv3olLvwjAwUZ8/xW9Zw266xwtozFocJ/QohzbLCK1cCRJGLvc7JummMBvDoSx6jzz36QKEbAM2mxT6/oXu9WtxpfszGIe7dMzk31GcExYR+hZCkYQZjwQ28zSlqlkxCZbBYQ2pDrt2Sknmhl4BCn9sA0PBCXytw7sX6oRqq070JoxyY0K8QXHplmJ+rGslcjz5tubz2IqkMQNIots39IPWhmyhECQQv9K1Ws70oD7cVKfT5eMC+qVZhbRoLY0K/QkizLKhHP6crnrag6Fh0pQ7JVLFt7gdZmsfoi/fo8zaTZFpgm0lGJZJCZ7Ou9UKfp3Ya5WDJQi8isYj8QES+4l8fKyJXisgtInKxiFhCbR9opVp4ieKcSiS0OrNuVCFtBhD6ATf7NC1nWCAPm0SVgKGb1vR300qzwnuBawecHfsmy/kbPVLpx1HwZmB7x+v3AO9X1ROAh4FX96GNRzyh0ivBpVjO8OizFNAAoZu6e0zLGb5pC32ACVNR7FI6W8l06KaZZNQqxQr9uiHz6MvIko4CETkCeC7wUf9agHOAS/0mFwEvWkobhqOVZoXXos+pRNHMPPrMn8QhPHoobZy+HaMPEbrpMhjbTIsX+jyVc9Ri9KViqUfB3wK/C+2ZGhuBPaqaH233AF1L54nI60Rkm4hs27Vr1xLNWP2kvtZNCKrxrMHY1HuNoTz6ksbptZ1eGSKPvluMXgsdiAUY9LXsp1p2W8MyccBHgYg8D9ipqtd0Lu6yade7Sqvqhaq6VVW3bt68+UDNeMQQOr1yRlEzP+hI0dklbY++nEKf+eqVcYAYfT4YmyVhPfoBn7M/lVgefZlYyhH5FOAFIvIcYABYi/Pw14tIxXv1RwD3Ld1MI8kyhqthKlZUIplZ1Kzt0QfIuoHShm40yQdjA3j0XbJuWknxk+zqFfPoy8gBX+5V9Z2qeoSqHgO8FPiWqr4M+DbwEr/ZecCXlmylQRKoeiW4mvQzBmNzjz5EHj2U3qMPEbrJ20zTjtBNAI8+joRqLEy1zKMvE8txFLwdeIuI3IqL2X9sGdp4xOHSKwMNxsYyczA2mNCX3KP330slYOgm7QzdJFnhMXqAgUpsHn3J6MsRqarfAb7jn/8UeGI/9mtMk2ZZsDz6ahTNLGrWDt0ULGgl9+g1YK2bqB2jn+nRh5hNXa/G7fILRjmwmbErhCQNnUdfgqybuOwevfNi4xBZN7nQpzNnxhYdugE3INswj75UmNCvEJIs4MzYOJo5M9bHoosXei+gaTlztDXPugkwaB7noZt05szYIKGbasxUYkJfJkzoVwhJmlEJWtSsS+im6Bmg+YUlbc6/XSDaQh9wMDZLZ5YpDuXR22BsubA7TPWRW3eO8pf/cTO37ByjlWaod4JFpicYdN7cW2T63tqCu/fmhqEa73nxYzjpkJEZ+04CTpjqFbr55k8e5gv/ew1vOOf4Ym4YXXaPPi1DHn1HemWasUH3wT//Ejx0y8waQTNu6i7zLGOR2/nHjcezMXoNU60AFTyNnpjQ94nJZsrrPnUNuyeanH3iZmpxRCSCom3BV+h4ru2pZG65osC3bt7JH3/5Jj772rNm7D9keuWcevReaP/+irv4gdb5/u0P8fXzn87BaweW15C20JfToydLSFWoBhD6uJJ79DNj9M/c8y+w+9tw2i9BdQAnzJ0F6uY8mT5I93dZ2oQfXcaLR9bzSfmNpXwco8+Y0PeJv/zqdn764Difec3P8JTjNx3wfv7kyz/is1fdOSdUkwSsdTOnHr0XkyYVPnbeVn7ns9fytktv4KJXnjmjx9J38tBNVl6PPiEOckFuZ93MqnVz3MQP4einwEsKynL+2DM5ZedNtGpdJ8QbgTChXwTfuvkBrrnzYVqpkmbavut97oXvHm/ylRt28KqnHLskkQd4zBHr+Pj/ZNz+4DgnHDwdvgk9GNstRl+r1Tnn5C286zmn8PtfuonXXLSNIw8aohIJcSwMVmOe95jDOH7Lmv4Y0o7Rl1PoyRJS4iC/UzePPkkSDklvg0POKc6QQx7Nkfd8mqZl3ZQKE/oFuOr23bzqk9sAN8hUiSKEPL7u7qdajSPOe9LRvPM5Jy+5vUPWufDHztHGTKFPNdhg7Jx69F5M1q0ZQkR4+VlHc/++Kb547b1cfcduksxdEBtJxse+ezuXv+VstvQjrJMP/pY2dJOSEgX5nXKPXjs8+oF0H9W4CRuOLs6Q9UcxoJNU0/Hi2jQWxIR+Ab524/3UKxE/+IOfZ6i2/F/XpjXOa31wbGaueBKKrqx8AAAdL0lEQVRwwtTcevRO6DeMDAPugve2Z57M254580J3685RnvG+K/iXq+/mTeeesHRDSu7Ra9YiJQoSuqm0s26mhX4k3QcxMLSxOEN8W0PJnuLaNBbE0isX4Mb79nLqYWsLEXmAjcNuUtBDY9Nea5YpmRJuwtTsevTeo14/Mn9I5vgtI5xx1Hq+dfPO/hhS8qwbsowkVOjG5+5r5kImaaas031u5dBBxRnSFvq9xbVpLIgJ/QLcvXuC4zb1Kca8CNYNVokj4aHxaY8+F9lgNwefk17phHZosL7ge886biM33ruXyWYfYrZRDBKVN3SjiQ/dBBD6WR59M8k4SEbdygAe/UhmQl8mTOjnQVV5aLzZDqcUQRQJ6warPDzRMajmUxvLU48+H4xdOO6+9egNJJly/T196srHtfIKvc+6CZEdlQ/G5rnyzTRjg4y5ZYUKves9mNCXCxP6eRhvps4zGi52qv9QLZ7hAecefbiiZq4evfq86dTfl7ReX1jon3D0BgCuufPh/hgT16ZLMJQM0YRUI0L8THkN/MyPnzSTjCF88bfacHGG1NcCMJBNFNemsSAm9POw28fJixb64VqFiea0mOVhk5DpleDivgCtpgsrVWsLh27WD9U4Ycsarr5jd3+Miavl9eizlFTi5Z1L0INKXl/He/StNKOO7xVWlnkiWye1IfeQTbUdAyM8JvTzsHsijNAP1WMmZnj0LmwSLL3Sx5zznkXihX6wvrDQA2w9ZgPX3vkwWdaHEz8qr9CLpmSBTqk8Rp8PxjaTDqGPF/c79YXKIACD0pw5gG8ExYR+HiYazjtaUy82C3W4VmG8UR6PvupjznlN+qTVoKEVBuvxot7/hKMPYt9Uwk92ji7dmLhW4qwbN2EqBFUfuslvftJKM+rSIo2qUOSYQRTRigYYpEHTatKXBsujn4f85gkbd10Jd/1w/2PD7S787GJQvV4DgwcxUjmFB8c6PPpc6EN79N6OtNWkRYXBRZbjffKjNlKJhHd84Yc85fiNSJd7yHeLdoi4LSMRKrHwrNMP4VFxtbRCL5qSSRihb9/sxHv0jSSjRguNCi4lDaTxIENMzbxZjREUE/p5aCQpT45u5Piv/oVfsj8e9YF3W1++/vm8s/nq9ut26CZwjD4vbJYmDSf0tcWJ2mHrB/nTF53O+7/5Ez7yXz+ds75bLLdbr/9j372dqzdUiUsaunEzY8MIfT5ruB268TH6rMiwjSeJBxmUpnn0JcKEfh4aScZzoyvJqsNEb90OA0soxdsuWzmr4t/s1//6es7Y/g0m+PX2W9tZN4EmTFWjuR69EDNYXbyo/eoTj+JXn3jUfretvq7Qd299kF//+FWMjwhrS+rRR5rQCuTRt8tD+Kyblo/RawChTyuDLnRjHn1pMKGfh0Yr43HRrTQPPZOBpYg8dBSeX0CsjzuboRsvZVN6b3vRdIw+giyDvXdB6wDum9o1dNTDLhGoDsHIIW2PPrcjS5o0qTC0SI9+KYi4Ov1PetRGanHEWEtYW1KPXrKULLBHT6dHLy20UrzQZ5VBhmjQSm0wtiyY0M9DI0k5TB5CDyqw+t+GYwE4KN2FqiIi7dBNPZ2Af3w6PPDD4ux56gVUN70WmA7dZEmTVCsM7IdHv1SqccQh6waYzOLSlikOGaMnisiQ9jhSK/Ux+gAefVYZZFBGLXRTIkzo56HVnGKDjNEYObi4RkcOAWAzrixyrSLt0M0hO/7TifzPvhM2nbifO54dKmLhMNKNX4T/+SD1578cmPboNWmSEBfi0Xdy6LoBJh6KSzwYm5BKuFMqJW4LfTu9MpBHP8iDNhhbIkzo5yGeeNA9rj20uEbXbAFgs+ylkaTUKlFbYDc8uM2NEzz9d4tJmRveBLd8nY17bgDq7RNX0zzrJoDQPyClzaOPNAUpXlhzMqIZWTcjtKBS4KzYnEqdGgkTJvSlwfLo56EysQuAeGRLcY3W15JEA2yRPe0bLOclggdH74TNpxSXF73lNABGxu9yduSpMGmL5n5k3fSLDcM1JtLyFjWLQoZugJQI0Tx0o9SlhQQI3VAZoEbLQjclwoR+HqTpJvjIUgdi96tRoVUdYS3jNBLnneUCW5vc2Q7tFMLwZkAYbLgLXrsmfdqiRYV6pdjDZ+1AlcksnnFzjTIRNEaPC910zoyt0YJqCKGvU5eWhW5KhAn9PGhr0j2pDhbablodZo1MTXv0fhDUCX2BYaS4Amu2MDDl6sm3syjSJplUCq/pMjJQISEmSxoLbxyASFM0pNBL7MJHTNe6kSLr3HikMkAdE/oyYTH6+Qgo9MNMTnv0qTLIFHFrDIocGAYYOYT6pPPo86JmkrXIouIPnbUDVVpU0KScoRshJQs4GJt1GYyNFlFKut9IpU7VQjelwjz6eZDE56oX7BVl1TUMz/DolTX4i06RYSSAwQ1UWq62eJ5eKVlCJtVi7QDWDlZoaqVdz6VsxCXw6GVWHn0UIOsmqjqPvml59KXBhH4eJMk9+qFC29XaGtYwNSNGPyjNILZQH6HScjewyLN/nEdfvNCPeI++rOmVoUM3GXF7MDaP0UcF90bBC70ktFrlHEt5JGJCPw9R7tFXC+7+1ta40E1H1s0gPi5d9IlbGyFujbftAIiy1vT9Wwskj9FLVs7QTURYoVeJEJ1Z60aKPnah3WZ6ILO3jWXBhH4eJM1DNwWLa32EYZnl0dMMZkvkPfqWj9HH2kIDePRDtZgmFaTMHn1UksHYgBOm8nEBE/ryYEI/D3E6RUpUuPca1dcwTEeMPlUG2qGbAELfHAV02qPXJEj528FahRaVdniibERk0zVnAqDESF4CIWlRlbTYm454Yp/SmTVN6MuCCf08xOkUTakvXIisz0R1V+a14WOcSZYx0A7dFB2jX4NoxgDN6eJq2kIqxQv9UDWmpRXntWbpwm8omDhwHn0mMaJ+9nKeghrAo6/UnDOSmUdfGkzo56GSNWgFmNIe+5s5txpuMNilV4bz6AFGmGxn3cSaBInRD9Zikrw6ZAnDNzFpUI8+k+neTltkA+TRx17otVXO+Q6PRA5Y6EXkSBH5tohsF5GbROTNfvlBIvJNEbnFP27on7nFUsmmaEUBPKK689rT5gTgPPpwg7FrABiWybZHXyVB4uI9+nolopXnqZewDEJMBkEHY6dj9NoW+jDplQCamEdfFpbi0SfAW1X1FOAs4HdE5FTgHcDlqnoCcLl/vSKpZA2SADHOSt2JedrIhT5geqW/sAx0zHSMNQkSuhGR6QvM/t7WsQBiUjSkRx/FRPiQVhJO6PNxARP68nDAQq+qO1T1Wv98FNgOHA68ELjIb3YR8KKlGhmKatYgjYrPQ85DN22PPtWOGH3B9vgLyyANkkzJ0oyapEQBhB5wNweH8nn0qlQCh25UKtMefcAYfd6mhW7KQ19i9CJyDHAGcCVwsKruAHcxALqWfhSR14nINhHZtmvXrn6Y0Xdq2iANUf3Pd33zrIUZ6ZWFC7336KVJkmZMeZviSvEx+hntlk7o/azhgOmVKlFb6CUvExEgRt9u0zz60rBkoReRNcAXgPNVdd9i36eqF6rqVlXdunnz5qWasSzUtUEaBzhRvBetHROVhqMmRNXiB0HboZsmrVSZmHQDxHGIqoi4OipA+QZjfRZQyDx6lcrc0E2QMsW+zZIWn3sksiShF5EqTuQ/o6pf9IsfEJFD/fpDgZ1LMzEMSZpRp0kWQuhzj8gPqKV5jD7AdPb8ojMkDZIsY2rKnbyhQjdxNQ/dlE3o/ZhByNBNFBPlPYs0fOimbYMRnKVk3QjwMWC7qr6vY9VlwHn++XnAlw7cvHA0Epc7riG6vtU8Pc0JfStVhqQVSOhdm2uiFkmqNBrOpko1kNCXNXTjhV6Cxuins24kDRm6MaEvG0s5Kp8CvAL4oYhc55f9P+DdwCUi8mrgLuCXl2ZiGBpJxoA0mQwo9NKaTq8ckkYYofclF4bFhW4aU7nQhwndtENGJfPoNUsQCOrRE1VcLj+hPfo8Rl+yi/EjmAM+KlX1u0CvKaPnHuh+y0IjSRmgyUTRtWVg+kRJpwdjh6RZfGoltC8uw1GLfVnGVMMJbKUWWujLJSJp0qJCaI9+WujjLKDQ+3GBKDOPvizYzNgeNFqZy3QJGC6JW/nM2PC2DEUNWpnS8lk3oYS+3ZPIyuXRJ4m3Jw7p0U+HbqISxOgjC92UBhP6HjRazqMPKa559zvJfB59CI8+rkJUZYgWSZrRaDibaoGEvlYrZx59muQx+nBZN0hMhYw0U+IsfHplbEJfGkzoe9BoTBKJIgHj4nE6PRgbLOsGoDrksm7SaY++FuAWdQDVWj7rsmxC7zz6kKEb4gqxpCRZRtQW+hChmwop0bQNRnBM6HvQmnIDoVEtgBddqZMh00Kf+Fo3wYTeVdNsZUqz6by0aj1Q6MZfYJrNcolIW+hDhm4kJiYjSZVK7k2HyKMHEqlZjL5EmND3IGm4yUpRLYC4ipBInUrmhL7pc/oLv+lITnWwPTM28UJfr4fx6Gv1XOjLNesyzXsYAYq9tYkrbaGPNaBHD7SkRsU8+tJgQt+DxJcIjkN49EArqlPxHlErF/qQoRuaNJKMRrMcMfpmo1xCn3mhlwDlm9tEFSqkTLQSarRIpQKBxgySyIS+TJjQ9yD1Hn1cDyOuSTxANffok4y6BhqMBagOMiRNxhsJrUZe6yaM0Oc9iVazXGGBrJWHbsIKfUzG2FRCnRZpgBLbOanUiLVcmVGPZEzoe5BXjozrw2Haj+pUvUfUTFLqOhU8Rj/eTNpZNyFuPAJQHyin0Kc+CyhE+eY23qMfbTihzwLc7jEnjWpULUZfGkzoe5A2XeimWg/jRafxAHVcXFzTprupRUihp8F4I50W2ECx6LofM0lKVgI39faEquoJLuMnJmU8F/pAA7HghL6ChW7KQsAUgXKj3qOvBBT6ARpMJRlRXokwYOimToOxRkJSzasihhG0oUEnXknZsm586CZYnX5cDn/Fh25q0kJDCn1cp1qySW2PZMyj74H6WanVwTChG60MMCBNGq2UKHG2hByMrWvDxehbeXZJGKEf8KGbpGQlcFNvT6jyzeBSOyNRRqea1GmhATOAsqhGFRP6smBC34O8cmQ1UNZNVhlkkGZpPPqaNphoptMhk0AiMjjgb7PYKplH77NuooChmzxsNDoxRZ1WsNRKgCyuU/OhRyM8JvQ9CB26oTLAAM6jj7Nc6MN59HkG0L4x972EEvqhWoWmxu2YeFnI0ytDVfUEqHihf3hskhqtMOUPPFlcp06Llr+hvBEWE/peJGHFtR26SbL2DNmQg7FupqVSIewNNgZrMQmVtrCWhcz3MOKAMfpq1Qn93rFJ6hLWo9e4Ro2Epnn0pcCEvgcSOC4utSEGaDLVSqmmoWP0gwgZNRJqudCHyrqpRLSIyyf0ae7RhxR61/be8UnqtKZvuxiCuE5dWjQTE/oyYELfg3ZcPFD3VyqDLnSTZNP5yAFDNwADNKiJH2ALJCIiQkIVTco10Jf56pWVWjihr9WcR797zAl9kPIdHo3r1GnSMo++FJjQ90CSKaaogfS6t8oyt+89+slm0q55E3IwFmCQPJujHux7AUgkRktWplh91k3IGH3Nh2527Z2gRotqoFndAFTzGL0JfRkwoe9BnE7SlHAnbVQbpCIZ45OT7qYjENyj//R5j+b5p21EAg7yAaRSLV09+szf2rASMkbvexP7xicZkBZxNdzvpPEAdRIL3ZQEmzDVgzhtBBX62He7x0ZHGZQ8dBMuAwjghA0xrJGgg3yQC325Qjf5/VFD3XkLoOLnNsSSMSBJ0Bi9VPIYfRrMBmMa8+h7EGdTYT16n9Y5Ojbm7nQFwT16WpOQNIKm7QFkUaV0Qq+pi9HXAoZu8kyomNSXtQ73O4nvTSQlKyf9SMWEvgeVdIokYPW/PH9/fGzftNAHrEcPQGvCpZ0G9ugzqSAlK4Gr3p5qLWT1SleSuELq8+gDlmOomNCXCRP6HlSyBq0yCP3EOIPSIIuq4W483Rb6qZJ49FWkbHVUkhYtjalWAt4z1nv0AzSpkEI1TPkOmK7imZrQlwIT+h5UsgZpHE7QqgPuJG1MjDFIkyygLdOhm3J49MQ18KGSsiCpy9KqROGykfLfZb2MudeBynfA9J3ZEl8zygiLCX0PatoIeuOGij9JJyfGGaCBhorPQ4dHX44YfaVaR9Ny1VGJvNBLwLTT/Hf6+aN9zy/U4D0Q+Rh9Xu7bCIsJfQ8GsgnSkF1fL/Rj46MMSQMNFZ+H0nn0lVqNKgm7xspT7yZqTdIIOHgPtH+n33jsmhmvQxD7m7hnFropBSb0XVBVhpgkra4JZ4T3mrPGBGuYhPracLaUzKOv1QaokXD37vJ4i5JOlUDo/e808aB7DBi6qfsqo42p8vxGj2RM6LvQTDOGmUJDCr0/aes0WSNTxINlEfrwHv3a4SEqpHzvtoeC2tFJnEzRkrAXwLYHP/HQzNcBGBpyveGpyfFgNhjTmNB3YbLRYo1MobVwoZtcXAekybpoinggoNBHMcR1F7ppjgcVEID64DDrqy0uvOI2vv/Tcoh9nE4GzdICpi/I496jD/g7DQy4thtTE8FsMKYxoe/C5Pioe1IfCWdEZbq+zNpoEuoBexcA1QHn0TdGIeRFB6C+lo2VBoesG+CCi68rxTT7SjZFKwo4jgIdoRt/8QsYusknTDWmLEZfBkzouzA1vgeAaCCg0PsTZYAmwzoZ9qIDzjtsjkNzNOx4AcDAWqLmKL/3nFPYsXeKy7c/ENYeoJo1SAOPXbQ9+LZHH7BH6u9X2zKPvhRYrZsuTI7tBaASUui9R3/mEYOse3CqBEI/COM73fPgHv0IaMbTjh5g05oal11/H89+9KFBTaplU2HnOoCbXyAx7LvPvR5cH86WgXUAaGPf9LK7r4Ifft71CjUD7bj7lAggsx7xz5m5bsHtO5ZtPhkefx5Ej2yf1oS+C+N7dwMwOLIhnBFRBNVhnnFUDA80SiD0w7Bvh3se2qP37VdaYzzn0Ydy8dV3MzrVYmQgXPmBupZA6EV8z2sUEBgIKPRDBwGQjvnexc6b4RPPcTeVH97ETOFWL/oKCv5fx7LOR7os67F9lkJzDKb2wlPPX/7PXGJM6LvQ2OM8oqGNh4c1ZM0WuP8G//zgwLZshjv/1z0P7dHn7Tf28YLHHsanvncn3/zRA/zS448IY0+WMcIYrXpAYc0Z3OCEfnB9uJIZANVBmtEg8eRDtNKM6nWfARTe9AMYOaQYG1Ths78C//MBOOu3g9b+CY0JfReyfS7mu3ZTaKE/GHZc556PhA1NMHLo9H10Q3v0PizA1F4ef9TJHL5+kAuv+CkD1ZhKJIgIkUAkgvjHSITDNwxy7Kb+x62nRh9kgDT8xRiciO69C4Y2hbaEZGAD61r7+Mfv3MJrrvs8Ywc/hevvEUTc+SXtMMz0e9oBGB+KmX7NzPf4ZWsHqpx++NruM5JF4MzXwC3fgNu+BSc9q4+fbmVhQt8FGXuATIXBDQV5Hr0YORju9uJalBfUi04RWxfIc84ZOcw97r2H6KizeNdzT+GCi6/jtz9z7YJvfdM5x/OWXzipr+bsfuBuDgOq6wJfjMEdMwBDG8PaAQys28JRjXE+959f4Q31Hbxjzy/ybxdt63s75568hY+84glU4y5x+ON+zvVybrzUhL7fiMizgA8AMfBRVX33crSzXFT23snuaAOb4oAlZwHWHTn9fG3g3kWnuK8/OpwdABuOcY+7bwfgOY8+lLNP3MwdD42jPkSbqaK4xyxT0ky5+Oq7+eC3buWMozbwcydv6Zs5e3c6oR/aeFjf9nnA5BfkjY8KawcQHXQcWyeu5qOn3Em2vc5rXvM7vNJPQmxH2zsGZKeXzVySv567HrbduZv3fu3HfPjbt3L+M06ca0SlBqe+EG74PDQngqachqTvQi8iMfBh4OeBe4CrReQyVf1Rv9taDlpJwtHj13PfyGkE7/we+TPwvQ+5UIkf3ArGsU+ffh461lkbche+PKwFDNcrnHbYunnf9rij1vOjHfv43S/cwFfe+FQOXjvP4KnOGvzzy1QztwpF1f2N3/JdADYdfdpSPlV/OOGZcPVH4ZinhrYEDnk0ctMXWb/3Ijj9xZx+XP97gk889iBufWCMv/vWrTzl+E2ceUyX8+T0l8A1n4QfXgJP+I2+27ASkM4ral92KPIk4I9U9Zn+9TsBVPUve71n69atum3b/nfpvv/ZP+UxP/47lI5YHtOfZ+bzucvosr4q7tZn15/5Xh773N/cb5v6SnMcvvp2OP5cOO0Xw9qiCj/4ZzjiibDl5LC2AHzj9+B//87la0cV5mRetJ9DZ8aGoqS+6mV+LAgQydLOgx9VTuXU3/vekvbRNx66DTYcGz6l8MFb4R+e7J6/7ttw8PJcCPdNtXj23/439+6ZpBoLlSiis1p0RMal8nZOkrtoaJUMQf0Zr3SJ7RfMTY95J0988YFlBYnINaq6dcHtlkHoXwI8S1Vf41+/AvgZVX3DrO1eB7zOvzwJ+HFfDekfm4AHQxtxgJjtxbNS7QazPRRLsf1oVd280EbLEaPvdomcczVR1QuBC5eh/b4iItsWc8UsI2Z78axUu8FsD0URti9H3+4eoGMUkSOA+5ahHcMwDGMRLIfQXw2cICLHikgNeClw2TK0YxiGYSyCvoduVDURkTcAX8elV35cVW/qdzsFUvrw0jyY7cWzUu0Gsz0Uy2573wdjDcMwjHLxyC7pZhiG8QjAhN4wDGOVY0LfAxG5QERuEpEbReRzIqFvCNobEfm4iOwUkRs7lh0kIt8UkVv8Y8Cay73pYftficjNInKDiPyriJSgLORcutnese7/ioiKSPAJ1t3oZbuIvFFEfuyP/feGsm8+ehwzjxOR74vIdSKyTUSeGNLGbojIkSLybRHZ7r/fN/vly36umtB3QUQOB94EbFXV03GDyi8Na9W8fBKYXbHpHcDlqnoCcLl/XUY+yVzbvwmcrqqPAX4CvLNooxbJJ5lrOyJyJK4EyF1FG7QffJJZtovIzwEvBB6jqqcBfx3ArsXwSeZ+7+8F/lhVHwf8gX9dNhLgrap6CnAW8DsicioFnKsm9L2pAIMiUgGGKPFcAFW9Atg9a/ELgYv884uAFxVq1CLpZruqfkNVE//y+7i5GKWjx/cO8H7gd+kyUbAs9LD9t4B3q2rDb7OzcMMWQQ/bFcjrZ6+jhOerqu5Q1Wv981FgO3A4BZyrJvRdUNV7cd7MXcAOYK+qfiOsVfvNwaq6A9wBBvSvXGOxvAr4amgjFouIvAC4V1WvD23LAXAi8DQRuVJE/ktEzgxt0H5wPvBXInI37twtay8QABE5BjgDuJICzlUT+i74GNkLgWOBw4BhEXl5WKseeYjIu3Dd3c+EtmUxiMgQ8C5c6GAlUgE24MIKbwMuka539CglvwVcoKpHAhcAHwtsT09EZA3wBeB8Vd230Pb9wIS+O88AblfVXaraAr4IPDmwTfvLAyJyKIB/LGU3vBcich7wPOBlunImezwK5xxcLyJ34EJO14pI4LvGLJp7gC+q4yogg/DVuhfJebjzFODzQOkGYwFEpIoT+c+oam7vsp+rJvTduQs4S0SGvEdzLi6etpK4DHfw4x+/FNCW/cLfuObtwAtUdSK0PYtFVX+oqltU9RhVPQYnnI9X1fsDm7ZY/g04B0BETgRqrJyKkPcBZ/vn5wC3BLSlK15LPgZsV9X3daxa/nM1v3mC/c38A/4YuBm4EfhnoB7apnls/RxuLKGFE5dXAxtxI/i3+MeDQtu5H7bfCtwNXOf/PhLazsXaPmv9HcCm0Hbux/deAz7tj/lrgXNC27kftj8VuAa4Hhf3fkJoO7vY/VTcoPENHcf2c4o4V60EgmEYxirHQjeGYRirHBN6wzCMVY4JvWEYxirHhN4wDGOVY0JvGIaxyjGhNwzDWOWY0BuGYaxy/j/2pwgn3eSvGAAAAABJRU5ErkJggg==\n",
          "text/plain": "<Figure size 432x288 with 1 Axes>"
         },
         "metadata": {
          "needs_background": "light"
         },
         "output_type": "display_data"
        }
       ]
      }
     },
     "f7edbe6a4d6b4dceacd3f7c4f4e32225": {
      "model_module": "@jupyter-widgets/base",
      "model_module_version": "1.1.0",
      "model_name": "LayoutModel",
      "state": {}
     },
     "f86b2947ea5c4b7e9d3170298a673040": {
      "model_module": "@jupyter-widgets/controls",
      "model_module_version": "1.4.0",
      "model_name": "DropdownModel",
      "state": {
       "_options_labels": [
        "Amphi 111-Vidéo (Bât 26- RdC)",
        "Amphi 112-vidéo (Bât 26- RdC)",
        "Amphi 121-vidéo (Bât 26- RdC)",
        "Amphi A (Bât 1-Admin)",
        "Amphi B (Bât 1-Admin)",
        "Amphi C (Bât 1-Admin)",
        "Amphi D (Bât 1-Admin)",
        "Amphi E (Bât 1-Admin)",
        "Amphi F (Bât 28)",
        "Amphi G (Bât 28)",
        "Amphi H (Bât 28)",
        "Amphi PASTEUR (Bât 2)"
       ],
       "description": "Amphi : ",
       "index": 7,
       "layout": "IPY_MODEL_4dc0c6f3cdc64086aee7be4ca95c6ad7",
       "style": "IPY_MODEL_94d7214c804b4e28ae7b0b2d11ef5d67"
      }
     },
     "fb0fe9c348904a8797cbfe14dad204a0": {
      "model_module": "@jupyter-widgets/controls",
      "model_module_version": "1.4.0",
      "model_name": "DescriptionStyleModel",
      "state": {
       "description_width": ""
      }
     },
     "fc8979e9c8e14d33bc29a63d219c4c85": {
      "model_module": "@jupyter-widgets/base",
      "model_module_version": "1.1.0",
      "model_name": "LayoutModel",
      "state": {}
     },
     "fcd7618bc5b841a2afdd72f08e543b56": {
      "model_module": "@jupyter-widgets/controls",
      "model_module_version": "1.4.0",
      "model_name": "VBoxModel",
      "state": {
       "_dom_classes": [
        "widget-interact"
       ],
       "children": [
        "IPY_MODEL_4be8a529035f40f3a9fdc12863a85b2b",
        "IPY_MODEL_bdf8c6b2a2c141a094eb5fb14b52bf03"
       ],
       "layout": "IPY_MODEL_131e7cff7cc74e2c8d004c3f4d71fd5a"
      }
     },
     "fd50f69941a94992a0298f5b41291962": {
      "model_module": "@jupyter-widgets/base",
      "model_module_version": "1.1.0",
      "model_name": "LayoutModel",
      "state": {}
     },
     "fda3f14ce5c2459ab5e2f37707dfc2b1": {
      "model_module": "@jupyter-widgets/controls",
      "model_module_version": "1.4.0",
      "model_name": "DropdownModel",
      "state": {
       "_options_labels": [
        "[Exterieur] 01 (LV)",
        "[Exterieur] 015 (LV)",
        "[Exterieur] 02 (LV)",
        "[Exterieur] 040 (LV) - Studio de danse",
        "[Exterieur] 05 (LV)",
        "[Exterieur] 056 (LV)",
        "[Exterieur] 06 (LV)",
        "[Exterieur] 065 (LV)",
        "[Exterieur] 08 (LV)",
        "[Exterieur] 09 (LV)",
        "[Exterieur] 103 (LV)",
        "[Exterieur] 106 (LV)",
        "[Exterieur] 109 (LV)",
        "[Exterieur] 110 (LV)",
        "[Exterieur] 111 (LV)",
        "[Exterieur] 112 (LV)",
        "[Exterieur] 114 (LV)",
        "[Exterieur] 116 (LV)",
        "[Exterieur] 118 (LV)",
        "[Exterieur] 203 (LV)",
        "[Exterieur] 204 (LV)",
        "[Exterieur] 206 (LV)",
        "[Exterieur] 208 (LV)",
        "[Exterieur] 211 (LV)",
        "[Exterieur] 212 (LV)",
        "[Exterieur] 213 (LV)",
        "[Exterieur] 216 (LV)",
        "[Exterieur] 218 (LV)",
        "[Exterieur] 224 (LV)",
        "[Exterieur] 227 (LV)",
        "[Exterieur] 230 (LV)",
        "[Exterieur] 231 (LV)",
        "[Exterieur] 318  info  (Gavy) 14PC",
        "[Exterieur] 326  (Gavy) 27pl",
        "[Exterieur] 328  (Gavy) 90pl",
        "[Exterieur] 330  info  (Gavy) 14PC",
        "[Exterieur] 336 info  (Gavy) 14PC",
        "[Exterieur] 341 Amphi (Gavy) 90pl",
        "[Exterieur] 440 (FLCE)",
        "[Exterieur] 441 (FLCE)",
        "[Exterieur] A101 (IHT) 30pl + Vp (Arronax)",
        "[Exterieur] A102 (IHT) 50pl + Vp (Nemo)",
        "[Exterieur] Amphi - 057 (LV)",
        "[Exterieur] Amphi 1 (Ireste) 350pl + Vp",
        "[Exterieur] Amphi 1 (Isitem) 200pl +Vp (E102)",
        "[Exterieur] Amphi 2 (Ireste) 160pl +Vp",
        "[Exterieur] Amphi 2 (Isitem) 100pl +Vp (E101)",
        "[Exterieur] Amphi B (Gavy)  210pl",
        "[Exterieur] Amphi BONAMY",
        "[Exterieur] Amphi DOBREE",
        "[Exterieur] Amphi GRASLIN",
        "[Exterieur] Amphi PELLOUTIER",
        "[Exterieur] Amphi SAY",
        "[Exterieur] B015 (IHT) 13 PC (info-Village aerien)",
        "[Exterieur] B016 (IHT) 20pl (Volcan d or)",
        "[Exterieur] B017 (Ireste) 13 PC (info)",
        "[Exterieur] B023 (IHT) 20pl + Vp (Archipel en feu)",
        "[Exterieur] B024 (IHT) 20pl + Vp (Etoile du Sud)",
        "[Exterieur] Bias Salle 051",
        "[Exterieur] Bias Salle 052",
        "[Exterieur] Bias Salle 121",
        "[Exterieur] Bias Salle 135 - Réunion",
        "[Exterieur] Bias Salle 161-122",
        "[Exterieur] Bias Salle 162",
        "[Exterieur] Bias Salle 163-164",
        "[Exterieur] Bias Salle 165",
        "[Exterieur] Bias Salle 166",
        "[Exterieur] Bias Salle 167",
        "[Exterieur] Bias Salle 205",
        "[Exterieur] Bias Salle 206",
        "[Exterieur] Bias Salle 207",
        "[Exterieur] Bias Salle 208",
        "[Exterieur] Bias Salle Info 450",
        "[Exterieur] Bias Salle Info 452",
        "[Exterieur] Bias Salle Info 456",
        "[Exterieur] Bias Salle Info 458",
        "[Exterieur] C002 (Censive)",
        "[Exterieur] C002 (IRESTE) 13PC + Vp (info)",
        "[Exterieur] C003 (Ireste) 13PC (info)",
        "[Exterieur] C004 (Censive)",
        "[Exterieur] C008 (Censive)",
        "[Exterieur] C008 (IRESTE) 50pl + VP",
        "[Exterieur] C024 (Censive)",
        "[Exterieur] C027 (Censive)",
        "[Exterieur] C901 (Censive)",
        "[Exterieur] C905 (Censive)",
        "[Exterieur] C906 (Censive)",
        "[Exterieur] D-Amphi Louis Lorvellec (Bât A)",
        "[Exterieur] D004 (Ireste) 65pl + Vp (Cours)",
        "[Exterieur] D010 (Ireste) 48pl + Vp (Cours)",
        "[Exterieur] D013 (Ireste) 110pl + Vp (Cours-Examens)",
        "[Exterieur] E-Amphi (Bât A)",
        "[Exterieur] E202 (Ireste) 36pl + Vp (TD)",
        "[Exterieur] Erdre Salle 112",
        "[Exterieur] Erdre Salle 113",
        "[Exterieur] Erdre Salle 114",
        "[Exterieur] Erdre Salle 123",
        "[Exterieur] Erdre Salle 124",
        "[Exterieur] Erdre Salle 125",
        "[Exterieur] Erdre Salle 126",
        "[Exterieur] Erdre Salle 128",
        "[Exterieur] Erdre Salle 131",
        "[Exterieur] Erdre Salle 237",
        "[Exterieur] Erdre Salle 238",
        "[Exterieur] Erdre Salle 239",
        "[Exterieur] Erdre Salle 241",
        "[Exterieur] Erdre Salle 243",
        "[Exterieur] Erdre Salle 244",
        "[Exterieur] Erdre Salle 246",
        "[Exterieur] Erdre Salle 340",
        "[Exterieur] Fourier (Isitem) 15PC (info E029)",
        "[Exterieur] Laplace (Isitem) 15PC + Vp (Info E023)",
        "[Exterieur] Med 201A",
        "[Exterieur] Med 243",
        "[Exterieur] Med 244",
        "[Exterieur] Med 302",
        "[Exterieur] Med 303",
        "[Exterieur] Med 338",
        "[Exterieur] Med 339",
        "[Exterieur] Med 340",
        "[Exterieur] Med 504",
        "[Exterieur] Med Amphi 2",
        "[Exterieur] Med Amphi 3",
        "[Exterieur] Med Amphi 4",
        "[Exterieur] Med Amphi 5",
        "[Exterieur] Med Amphi 6",
        "[Exterieur] Med Amphi 7",
        "[Exterieur] Med Amphi 8",
        "[Exterieur] Med Salle 241-242 MANIMAL",
        "[Exterieur] Med Salle V.GOURNAY",
        "[Exterieur] Pas de salle",
        "[Exterieur] Salle Manquante",
        "[Exterieur] Salle extérieure",
        "[Exterieur] Salle à définir IAE",
        "[Exterieur] T020 (Isitem) 24pl + Vp (TP Matériaux)",
        "[Exterieur] T034 (Isitem) 12pl (TP/Labo)",
        "[Exterieur] T101 (Tertre)",
        "[Exterieur] T103 (Tertre)",
        "[Exterieur] T114 (Tertre)",
        "[Exterieur] T120 (Tertre)",
        "[Exterieur] T121 (Tertre)",
        "[Exterieur] T123 (Tertre)",
        "[Exterieur] T203 (Tertre)",
        "[Exterieur] T215 (Tertre)",
        "[Exterieur] T216 (Tertre)",
        "[Exterieur] T221 (Tertre)",
        "[Exterieur] Td5 (Isitem) 48pl + Vp (E122)",
        "[Exterieur] Td6 (Isitem) 48pl + Vp (E123)",
        "[Exterieur] Td7 (Isitem) 48pl + Vp (E124)",
        "[Exterieur] Td8 (Isitem) 100pl + Vp (Examen E125)",
        "[Exterieur] salle 925 IMAR",
        "[Exterieur] salle 929 IMAR"
       ],
       "description": "Exterieur : ",
       "index": 32,
       "layout": "IPY_MODEL_1883cfbb581b497486db2a0f4c6bc235",
       "style": "IPY_MODEL_4beeb7fd8dbd4befa4929cd479dae500"
      }
     },
     "ffc288f5367440cd924c04f59db534c7": {
      "model_module": "@jupyter-widgets/output",
      "model_module_version": "1.0.0",
      "model_name": "OutputModel",
      "state": {
       "layout": "IPY_MODEL_d8648f1378c9422a91a7fa3b18b30312",
       "outputs": [
        {
         "data": {
          "image/png": "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\n",
          "text/plain": "<Figure size 432x288 with 1 Axes>"
         },
         "metadata": {
          "needs_background": "light"
         },
         "output_type": "display_data"
        }
       ]
      }
     }
    },
    "version_major": 2,
    "version_minor": 0
   }
  }
 },
 "nbformat": 4,
 "nbformat_minor": 2
}
