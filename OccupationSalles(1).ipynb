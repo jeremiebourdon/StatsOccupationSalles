{
 "cells": [
  {
   "cell_type": "markdown",
   "metadata": {
    "slideshow": {
     "slide_type": "slide"
    }
   },
   "source": [
    "# Taux d'occupation des salles, campus Lombarderie FST"
   ]
  },
  {
   "cell_type": "markdown",
   "metadata": {
    "slideshow": {
     "slide_type": "skip"
    }
   },
   "source": [
    "## Définitions"
   ]
  },
  {
   "cell_type": "code",
   "execution_count": 43,
   "metadata": {
    "slideshow": {
     "slide_type": "skip"
    }
   },
   "outputs": [],
   "source": [
    "# Bibliothèques\n",
    "import ics\n",
    "import math\n",
    "from datetime import date\n",
    "import datetime\n",
    "\n",
    "from scipy.ndimage.filters import gaussian_filter1d\n",
    "import matplotlib.pyplot as plt\n",
    "%matplotlib inline\n",
    "\n",
    "from ipywidgets import widgets\n",
    "from ipywidgets import interact\n",
    "\n",
    "import pandas as pd\n",
    "\n",
    "# Configuration\n",
    "\n",
    "annee = 2019\n",
    "\n",
    "if annee == 2019:\n",
    "    #2019\n",
    "    reftimestamp = datetime.datetime(2019,8,26,0,0,0).timestamp() # = 26/8/2019 à 0h00m00\n",
    "    passageheurehiverTS = datetime.datetime(2019,10,27,0,0,0).timestamp() # = 27/10/2019 à 0h00m00\n",
    "    passageheureeteTS = datetime.datetime(2020,3,29,0,0,0).timestamp() \n",
    "else:\n",
    "    #2018\n",
    "    reftimestamp = datetime.datetime(2018,8,27,0,0,0).timestamp()\n",
    "    passageheurehiverTS = datetime.datetime(2018,10,28,0,0,0).timestamp()\n",
    "    passageheureeteTS = datetime.datetime(2019,31,29,0,0,0).timestamp() \n",
    "\n",
    "NbSemainesS1 = 13\n",
    "NbSemainesS2 = 13\n",
    "NbJoursparSemaine = 5\n",
    "NbHeuresparJour = 8\n",
    "\n",
    "    \n",
    "# Quelques fonctions utiles\n",
    "\n",
    "# Lecture d'un calendrier en mémoire\n",
    "def readcal(filename):\n",
    "    fd=open(filename,\"r\")\n",
    "    content=\"\"\n",
    "    for l in fd:\n",
    "        content=content+\"\\n\"+l\n",
    "    fd.close()\n",
    "    cal=ics.Calendar(content)\n",
    "    return cal\n",
    "\n",
    "# récupération des fichiers sur CELCAT\n",
    "def recuperationFichiers(annee):\n",
    "    if annee == 2019:\n",
    "        # Pour 2019 sur sciences-bis\n",
    "        !curl https://edt.univ-nantes.fr/sciences/g355056.ics -o 2019_L1.ics\n",
    "        !curl https://edt.univ-nantes.fr/sciences/g355055.ics -o 2019_L2.ics\n",
    "        !curl https://edt.univ-nantes.fr/sciences/g355687.ics -o 2019_L3.ics\n",
    "        !curl https://edt.univ-nantes.fr/sciences/g355732.ics -o 2019_M1.ics\n",
    "        !curl https://edt.univ-nantes.fr/sciences/g355740.ics -o 2019_M2.ics\n",
    "        !curl https://edt.univ-nantes.fr/sciences/g351309.ics -o 2019_TREMPLIN.ics\n",
    "        !curl https://edt.univ-nantes.fr/sciences/g913556.ics -o 2019_ACCOMPLI.ics\n",
    "        !curl https://edt.univ-nantes.fr/sciences/g918815.ics -o 2019_DUEIL.ics\n",
    "        !curl https://edt.univ-nantes.fr/sciences/g351082.ics -o 2019_DUG.ics\n",
    "        !curl https://edt.univ-nantes.fr/sciences/g351317.ics -o 2019_UED.ics\n",
    "        !curl https://edt.univ-nantes.fr/sciences/g351316.ics -o 2019_TUTO.ics\n",
    "        !curl https://edt.univ-nantes.fr/sciences/g355731.ics -o 2019_M1MEEF.ics\n",
    "        !curl https://edt.univ-nantes.fr/sciences/g355738.ics -o 2019_M2MEEF.ics\n",
    "    else:\n",
    "        # Pour 2018 sur sciences (Plus d'acualité.... car 2019 est maintenant sur sciences)\n",
    "        !curl https://edt.univ-nantes.fr/sciences/g355056.ics -o 2018_L1.ics\n",
    "        !curl https://edt.univ-nantes.fr/sciences/g355055.ics -o 2018_L2.ics\n",
    "        !curl https://edt.univ-nantes.fr/sciences/g355687.ics -o 2018_L3.ics\n",
    "        !curl https://edt.univ-nantes.fr/sciences/g355732.ics -o 2018_M1.ics\n",
    "        !curl https://edt.univ-nantes.fr/sciences/g355740.ics -o 2018_M2.ics\n",
    "        !curl https://edt.univ-nantes.fr/sciences/g351309.ics -o 2018_TREMPLIN.ics\n",
    "        !curl https://edt.univ-nantes.fr/sciences/g522202.ics -o 2018_ACCOMPLI.ics\n",
    "        !curl https://edt.univ-nantes.fr/sciences/g918815.ics -o 2018_DUEIL.ics\n",
    "        !curl https://edt.univ-nantes.fr/sciences/g351082.ics -o 2018_DUG.ics\n",
    "        !curl https://edt.univ-nantes.fr/sciences/g351317.ics -o 2018_UED.ics\n",
    "        !curl https://edt.univ-nantes.fr/sciences/g351316.ics -o 2018_TUTO.ics\n",
    "        !curl https://edt.univ-nantes.fr/sciences/g355731.ics -o 2018_M1MEEF.ics\n",
    "        !curl https://edt.univ-nantes.fr/sciences/g355738.ics -o 2018_M2MEEF.ics\n",
    "\n",
    "# Récupération des infos stockées dans la description de l'évènement CELCAT\n",
    "def getInfo(e):\n",
    "    T_info=dict()\n",
    "    for x in e.description.split(\"\\n\"):\n",
    "        if len(x)>0:\n",
    "            a=x[0:x.find(\" : \")]\n",
    "            b=x[x.find(\" : \")+3:]\n",
    "            T_info[a]=b\n",
    "    if T_info.get(\"Groupe\"):\n",
    "        T_info[\"Groupe\"]=T_info.get(\"Groupe\").split(\", \")\n",
    "    if T_info.get(\"Salle\"):\n",
    "        T_info[\"Salle\"]=T_info.get(\"Salle\").split(\", \")\n",
    "    return T_info\n",
    "                        \n",
    "# Etant donné \n",
    "# 1) le type de salle entre (Amphi, TD, TP, salle info)\n",
    "# 2) le tableau T qui stocke, minute par minute sur tout une année, pour toutes les salles, le nombre de créneaux trouvés dans les différents calendriers\n",
    "# calcule la somme, semestre par semestre d'heures d'occupation des salles\n",
    "def NbHeuresParSemestre(typesalle,T):\n",
    "    NbHeuresS1 = dict()\n",
    "    NbHeuresS2 = dict()\n",
    "    #typesalle = \"TD\"\n",
    "\n",
    "    for s in T:\n",
    "        if (\"Bât\" in s and \"Bât A\" not in s):\n",
    "            if (typesalle in s):\n",
    "                NbHeuresS1[s]=100*sum([1 for x in T.get(s)[0:18*7*24*60] if x>0])/60/(NbSemainesS1*NbJoursparSemaine*NbHeuresparJour)        \n",
    "    for s in T:\n",
    "        if (\"Bât\" in s and \"Bât A\" not in s):\n",
    "            if (typesalle in s):\n",
    "                NbHeuresS2[s]=100*sum([1 for x in T.get(s)[18*7*24*60+1:] if x>0])/60/(NbSemainesS2*NbJoursparSemaine*NbHeuresparJour)\n",
    "    return [NbHeuresS1,NbHeuresS2]\n",
    "\n",
    "# Renvoie les salles dont les exploitations sont comprises entre deux bornes (soit au S1, soit au S1 soit sur les deux semestres), pour un type de salle donné et connaissant NbHeuresS1 et NbHeuresS1\n",
    "# Exemple 1 : Salles de TP sous exploitées sur l'année\n",
    "# Exploitation('TP',ub=10,sem=\"all\")\n",
    "# Exemple 2 : Salles de TD sur-exploitées au S2\n",
    "# Exploitation('TP',lb=70,sem=\"S2\")\n",
    "\n",
    "\"\"\"\n",
    "def Exploitation(typesalle,lb=0,ub=200,sem=\"all\"):\n",
    "    for s in NbHeuresS2[typesalle]:\n",
    "        if sem == \"all\":\n",
    "            test = (NbHeuresS1[typesalle].get(s)>=lb and NbHeuresS1[typesalle].get(s)<=ub and NbHeuresS2[typesalle].get(s)>=lb and NbHeuresS2[typesalle].get(s)<=ub )\n",
    "        else:\n",
    "            if sem == \"S1\":\n",
    "                test = (NbHeuresS1[typesalle].get(s)>=lb and NbHeuresS1[typesalle].get(s)<=ub)\n",
    "            else:\n",
    "                test = (NbHeuresS2[typesalle].get(s)>=lb and NbHeuresS2[typesalle].get(s)<=ub)                \n",
    "        if test:\n",
    "            print(s,\"\\tOccupation S1 =\",int(NbHeuresS1[typesalle].get(s)*100)/100,\"\\tOccupation S2 =\",int(NbHeuresS2[typesalle].get(s)*100)/100)\n",
    "\"\"\"\n",
    "\n",
    "def Exploitation(typesalle,lb=0,ub=200,sem=\"all\"):\n",
    "    listS1=list()\n",
    "    listS2=list()\n",
    "    listSalles=list()\n",
    "    for s in NbHeuresS2[typesalle]:\n",
    "        if sem == \"all\":\n",
    "            test = (NbHeuresS1[typesalle].get(s)>=lb and NbHeuresS1[typesalle].get(s)<=ub and NbHeuresS2[typesalle].get(s)>=lb and NbHeuresS2[typesalle].get(s)<=ub )\n",
    "        else:\n",
    "            if sem == \"S1\":\n",
    "                test = (NbHeuresS1[typesalle].get(s)>=lb and NbHeuresS1[typesalle].get(s)<=ub)\n",
    "            else:\n",
    "                test = (NbHeuresS2[typesalle].get(s)>=lb and NbHeuresS2[typesalle].get(s)<=ub)                \n",
    "        if test:\n",
    "            # print(s,\"\\tOccupation S1 =\",int(NbHeuresS1[typesalle].get(s)*100)/100,\"\\tOccupation S2 =\",int(NbHeuresS2[typesalle].get(s)*100)/100)\n",
    "            listS1.append(int(NbHeuresS1[typesalle].get(s)*100)/100)\n",
    "            listS2.append(int(NbHeuresS2[typesalle].get(s)*100)/100)\n",
    "            listSalles.append(s)\n",
    "    table = pd.DataFrame({'Occupation S1':listS1, 'Occupation S2':listS2 }, index=listSalles)\n",
    "    return table\n",
    "\n",
    "\n",
    "def CourbeJourneeMoy(salle,debut=0,fin=24):\n",
    "    NormalisationS1 = 100/(NbSemainesS1*NbJoursparSemaine)\n",
    "    NormalisationS2 = 100/(NbSemainesS2*NbJoursparSemaine)\n",
    "    \n",
    "    scale=[debut + i/60 for i in range(60*(fin-debut))]\n",
    "\n",
    "    TDraw=[0 for i in range(24*60)]\n",
    "    for i in range(0,18*7*24*60):\n",
    "        if T.get(salle)[i]>0:\n",
    "            TDraw[i % (24*60)] += NormalisationS1\n",
    "    TDrawS = gaussian_filter1d(TDraw, sigma=2)\n",
    "    plt.plot(scale,TDrawS[(debut+1)*60:(fin+1)*60])\n",
    "    TDraw=[0 for i in range(24*60)]\n",
    "    for i in range(18*7*24*60,len(T.get(salle))):\n",
    "        if T.get(salle)[i]>0:\n",
    "            TDraw[i % (24*60)] += NormalisationS2\n",
    "    TDrawS = gaussian_filter1d(TDraw, sigma=2)\n",
    "    plt.plot(scale,TDrawS[(debut+1)*60:(fin+1)*60])\n",
    "    plt.show()\n",
    "    \n",
    "    \n",
    "    \n",
    "    \n",
    "def CourbeResume(typesalle):\n",
    "    plt.title(typesalle)\n",
    "    plt.bar(range(len(NbHeuresS1[typesalle])), list(NbHeuresS1[typesalle].values()), align='center')\n",
    "    plt.bar(range(len(NbHeuresS2[typesalle])), list(NbHeuresS2[typesalle].values()), align='center')\n",
    "    plt.legend([\"S1\",\"S2\"])\n",
    "    plt.show()\n",
    "    \n",
    "\"\"\"\n",
    "def CourbeJournee(typesalle):\n",
    "    for s in NbHeuresS2[typesalle]:\n",
    "        plt.title(s)\n",
    "        CourbeJourneeMoy(s,7,20)\n",
    "\"\"\"\n",
    "\n",
    "def AfficheSalle(s):\n",
    "    plt.title(s)\n",
    "    CourbeJourneeMoy(s,7,20)\n",
    "\n",
    "def CourbeJournee(typesalle):\n",
    "    listesalles = [s for s in NbHeuresS2[typesalle]]\n",
    "    t=widgets.Dropdown(\n",
    "    options=listesalles,\n",
    "    value=listesalles[0],\n",
    "    description=typesalle+\" : \",\n",
    "    disabled=False\n",
    "    )\n",
    "    interact(AfficheSalle,s=t)\n",
    "        "
   ]
  },
  {
   "cell_type": "markdown",
   "metadata": {
    "slideshow": {
     "slide_type": "skip"
    }
   },
   "source": [
    "## Lecture des fichiers sur Celcat"
   ]
  },
  {
   "cell_type": "code",
   "execution_count": 2,
   "metadata": {
    "slideshow": {
     "slide_type": "skip"
    }
   },
   "outputs": [
    {
     "name": "stdout",
     "output_type": "stream",
     "text": [
      "  % Total    % Received % Xferd  Average Speed   Time    Time     Time  Current\n",
      "                                 Dload  Upload   Total   Spent    Left  Speed\n",
      "100 5297k  100 5297k    0     0  13.4M      0 --:--:-- --:--:-- --:--:-- 13.4M\n",
      "  % Total    % Received % Xferd  Average Speed   Time    Time     Time  Current\n",
      "                                 Dload  Upload   Total   Spent    Left  Speed\n",
      "100 4458k  100 4458k    0     0  12.5M      0 --:--:-- --:--:-- --:--:-- 12.5M\n",
      "  % Total    % Received % Xferd  Average Speed   Time    Time     Time  Current\n",
      "                                 Dload  Upload   Total   Spent    Left  Speed\n",
      "100 3836k  100 3836k    0     0  12.2M      0 --:--:-- --:--:-- --:--:-- 12.2M\n",
      "  % Total    % Received % Xferd  Average Speed   Time    Time     Time  Current\n",
      "                                 Dload  Upload   Total   Spent    Left  Speed\n",
      "100 3295k  100 3295k    0     0  12.0M      0 --:--:-- --:--:-- --:--:-- 12.0M\n",
      "  % Total    % Received % Xferd  Average Speed   Time    Time     Time  Current\n",
      "                                 Dload  Upload   Total   Spent    Left  Speed\n",
      "100 2166k  100 2166k    0     0   9.9M      0 --:--:-- --:--:-- --:--:--  9.9M\n",
      "  % Total    % Received % Xferd  Average Speed   Time    Time     Time  Current\n",
      "                                 Dload  Upload   Total   Spent    Left  Speed\n",
      "100  538k  100  538k    0     0  5611k      0 --:--:-- --:--:-- --:--:-- 5611k\n",
      "  % Total    % Received % Xferd  Average Speed   Time    Time     Time  Current\n",
      "                                 Dload  Upload   Total   Spent    Left  Speed\n",
      "100  282k  100  282k    0     0  4212k      0 --:--:-- --:--:-- --:--:-- 4212k\n",
      "  % Total    % Received % Xferd  Average Speed   Time    Time     Time  Current\n",
      "                                 Dload  Upload   Total   Spent    Left  Speed\n",
      "100   549  100   549    0     0  19607      0 --:--:-- --:--:-- --:--:-- 19607\n",
      "  % Total    % Received % Xferd  Average Speed   Time    Time     Time  Current\n",
      "                                 Dload  Upload   Total   Spent    Left  Speed\n",
      "100   783  100   783    0     0  29000      0 --:--:-- --:--:-- --:--:-- 29000\n",
      "  % Total    % Received % Xferd  Average Speed   Time    Time     Time  Current\n",
      "                                 Dload  Upload   Total   Spent    Left  Speed\n",
      "100   808  100   808    0     0  25250      0 --:--:-- --:--:-- --:--:-- 25250\n",
      "  % Total    % Received % Xferd  Average Speed   Time    Time     Time  Current\n",
      "                                 Dload  Upload   Total   Spent    Left  Speed\n",
      "100 35878  100 35878    0     0   973k      0 --:--:-- --:--:-- --:--:--  973k\n",
      "  % Total    % Received % Xferd  Average Speed   Time    Time     Time  Current\n",
      "                                 Dload  Upload   Total   Spent    Left  Speed\n",
      "100  427k  100  427k    0     0  5088k      0 --:--:-- --:--:-- --:--:-- 5150k\n",
      "  % Total    % Received % Xferd  Average Speed   Time    Time     Time  Current\n",
      "                                 Dload  Upload   Total   Spent    Left  Speed\n",
      "100  140k  100  140k    0     0  2979k      0 --:--:-- --:--:-- --:--:-- 2979k\n"
     ]
    }
   ],
   "source": [
    "# récupérations des fichiers sur le serveur CELCAT\n",
    "\n",
    "recuperationFichiers(annee)\n",
    "\n",
    "# Pour des raisons d'efficacité et parce que readcal prend du temps, on stocke les calendriers lus en mémoires\n",
    "# reset du dictionnaire qui stocke les calendriers (à chaque fois qu'on récurère les fichiers sur Celcat)\n",
    "MemoryCal=dict()\n"
   ]
  },
  {
   "cell_type": "markdown",
   "metadata": {
    "scrolled": true,
    "slideshow": {
     "slide_type": "skip"
    }
   },
   "source": [
    "## Chargement en mémoire et interprétation des calendriers"
   ]
  },
  {
   "cell_type": "code",
   "execution_count": 3,
   "metadata": {
    "slideshow": {
     "slide_type": "skip"
    }
   },
   "outputs": [
    {
     "name": "stdout",
     "output_type": "stream",
     "text": [
      "Traitement de  L1.ics\n",
      "Traitement de  L2.ics\n",
      "Traitement de  L3.ics\n",
      "Traitement de  M1.ics\n",
      "Traitement de  M2.ics\n",
      "Traitement de  ACCOMPLI.ics\n",
      "Traitement de  TREMPLIN.ics\n",
      "Traitement de  DUEIL.ics\n",
      "Traitement de  DUG.ics\n",
      "Traitement de  TUTO.ics\n",
      "Traitement de  M1MEEF.ics\n",
      "Traitement de  M2MEEF.ics\n"
     ]
    }
   ],
   "source": [
    "# Lecture des calendriers.\n",
    "# en sortie, on obtient les listes suivantes :\n",
    "#     T qui stocke, pour chaque salle et minute par minute le nombre d'évènements qui ont lieu dans cette salle (Rq: si ce nombre est >0, alors la salle est occupée)\n",
    "#     Matieres qui stocke, pour chaque salle, les modules qui ont au moins un créneau dans la salle\n",
    "#     Groupes qui stocke, pour chaque salle, les groupes qui ont au moins un créneau dans la salle\n",
    "#     SubCal, non utilisé actuellement, mais qui permet de reconstruire, au format ICS un calendrier spécifique pour chaque salle\n",
    "\n",
    "T=dict()\n",
    "Matieres=dict()\n",
    "Groupes=dict()\n",
    "SubCal=dict()\n",
    "\n",
    "listeavecCMamphi = [\"L1.ics\",\"L2.ics\"]\n",
    "listeavecCMsallesTD = [\"L3.ics\",\"M1.ics\",\"M2.ics\",\"ACCOMPLI.ics\",\"TREMPLIN.ics\",\"DUEIL.ics\",\"DUG.ics\",\"TUTO.ics\",\"M1MEEF.ics\",\"M2MEEF.ics\"]\n",
    "\n",
    "\n",
    "for c in listeavecCMamphi+listeavecCMsallesTD:\n",
    "    print(\"Traitement de \",c)\n",
    "    if not MemoryCal.get(c):\n",
    "        MemoryCal[c] = readcal(str(annee)+\"_\"+c)\n",
    "    cal = MemoryCal.get(c)\n",
    "    for e in cal.events:\n",
    "        typecreneau = e.name.split(\" \")[0]\n",
    "        if typecreneau == \"TD\" or typecreneau == \"CTDI\":\n",
    "            typecreneau = \"TD/CTDI\"\n",
    "        if True: #(typecreneau == \"TD/CTDI\" or typecreneau == \"CM\" or typecreneau == \"TP\" or typecreneau == \"CC\"):\n",
    "            if e.begin.timestamp<passageheurehiverTS or e.begin.timestamp>passageheureeteTS:\n",
    "                decalageheurehiver = 60\n",
    "            else:\n",
    "                decalageheurehiver = 0\n",
    "            deb=math.ceil((e.begin.timestamp-reftimestamp )/60+decalageheurehiver)\n",
    "            fin=math.ceil((e.end.timestamp-reftimestamp )/60+decalageheurehiver)\n",
    "            t=deb\n",
    "            Infos=getInfo(e)\n",
    "            if Infos.get(\"Salle\"):\n",
    "                for s in Infos.get(\"Salle\"):\n",
    "                    if not T.get(s):\n",
    "                        T[s]=[0 for i in range(365*24*60)]\n",
    "            \n",
    "                while(t < fin):\n",
    "                    i=int(t)\n",
    "                    for s in Infos.get(\"Salle\"):\n",
    "                        T[s][i]=T[s][i]+1\n",
    "                    t=t+1\n",
    "                if not Matieres.get(s):\n",
    "                    Matieres[s]=list()\n",
    "                \n",
    "                if Infos.get(\"Matière\") and Infos.get(\"Matière\") not in Matieres.get(s):\n",
    "                    Matieres[s].append(Infos.get(\"Matière\"))\n",
    "\n",
    "                if not Groupes.get(s):\n",
    "                    Groupes[s]=list()\n",
    "                \n",
    "                if Infos.get(\"Groupe\"):\n",
    "                    Groupes[s]=list(set(Groupes[s]+Infos.get(\"Groupe\")))\n",
    "                    \n",
    "                if not SubCal.get(s):\n",
    "                    SubCal[s]=list()\n",
    "                \n",
    "                SubCal[s].append(e)"
   ]
  },
  {
   "cell_type": "markdown",
   "metadata": {
    "slideshow": {
     "slide_type": "slide"
    }
   },
   "source": [
    "## Vision globale par semestre de l'occupation des salles (par type)"
   ]
  },
  {
   "cell_type": "code",
   "execution_count": 4,
   "metadata": {
    "scrolled": true,
    "slideshow": {
     "slide_type": "skip"
    }
   },
   "outputs": [],
   "source": [
    "# premier affichage : vision globale par semestre de l'occupation des salles\n",
    "\n",
    "NbHeuresS1=dict()\n",
    "NbHeuresS2=dict()\n",
    "\n",
    "for typesalle in ['Amphi','TD','TP','salle info']:\n",
    "    [NbHeuresS1[typesalle],NbHeuresS2[typesalle]]=NbHeuresParSemestre(typesalle,T)\n",
    "\n"
   ]
  },
  {
   "cell_type": "code",
   "execution_count": 5,
   "metadata": {
    "slideshow": {
     "slide_type": "subslide"
    }
   },
   "outputs": [
    {
     "data": {
      "image/png": "[encoded data removed]",
      "text/plain": [
       "<Figure size 432x288 with 1 Axes>"
      ]
     },
     "metadata": {
      "needs_background": "light"
     },
     "output_type": "display_data"
    }
   ],
   "source": [
    "CourbeResume('Amphi')"
   ]
  },
  {
   "cell_type": "code",
   "execution_count": 6,
   "metadata": {
    "slideshow": {
     "slide_type": "subslide"
    }
   },
   "outputs": [
    {
     "data": {
      "image/png": "[encoded data removed]",
      "text/plain": [
       "<Figure size 432x288 with 1 Axes>"
      ]
     },
     "metadata": {
      "needs_background": "light"
     },
     "output_type": "display_data"
    }
   ],
   "source": [
    "CourbeResume('TD')"
   ]
  },
  {
   "cell_type": "code",
   "execution_count": 7,
   "metadata": {
    "slideshow": {
     "slide_type": "subslide"
    }
   },
   "outputs": [
    {
     "data": {
      "image/png": "[encoded data removed]",
      "text/plain": [
       "<Figure size 432x288 with 1 Axes>"
      ]
     },
     "metadata": {
      "needs_background": "light"
     },
     "output_type": "display_data"
    }
   ],
   "source": [
    "CourbeResume('TP')"
   ]
  },
  {
   "cell_type": "code",
   "execution_count": 8,
   "metadata": {
    "slideshow": {
     "slide_type": "subslide"
    }
   },
   "outputs": [
    {
     "data": {
      "image/png": "[encoded data removed]",
      "text/plain": [
       "<Figure size 432x288 with 1 Axes>"
      ]
     },
     "metadata": {
      "needs_background": "light"
     },
     "output_type": "display_data"
    }
   ],
   "source": [
    "CourbeResume('salle info')"
   ]
  },
  {
   "cell_type": "markdown",
   "metadata": {
    "slideshow": {
     "slide_type": "slide"
    }
   },
   "source": [
    "## Vision précise par salle et par créneau de la journée"
   ]
  },
  {
   "cell_type": "code",
   "execution_count": 30,
   "metadata": {
    "scrolled": true,
    "slideshow": {
     "slide_type": "subslide"
    }
   },
   "outputs": [
    {
     "data": {
      "application/vnd.jupyter.widget-view+json": {
       "model_id": "0b4aab50f2604cd09465df12e6862a8a",
       "version_major": 2,
       "version_minor": 0
      },
      "text/plain": [
       "interactive(children=(Dropdown(description='Amphi : ', options=('Amphi A (Bât 1-Admin)', 'Amphi B (Bât 1-Admin…"
      ]
     },
     "metadata": {},
     "output_type": "display_data"
    }
   ],
   "source": [
    "CourbeJournee('Amphi')"
   ]
  },
  {
   "cell_type": "code",
   "execution_count": 31,
   "metadata": {
    "slideshow": {
     "slide_type": "subslide"
    }
   },
   "outputs": [
    {
     "data": {
      "application/vnd.jupyter.widget-view+json": {
       "model_id": "53ac1146c4ec482d84d87cb4e86c1150",
       "version_major": 2,
       "version_minor": 0
      },
      "text/plain": [
       "interactive(children=(Dropdown(description='TD : ', options=('sa TD 12 (Bât 1-Admin)', 'sa TD 210-îlot (Bât 26…"
      ]
     },
     "metadata": {},
     "output_type": "display_data"
    }
   ],
   "source": [
    "CourbeJournee('TD')"
   ]
  },
  {
   "cell_type": "code",
   "execution_count": 32,
   "metadata": {
    "scrolled": true,
    "slideshow": {
     "slide_type": "subslide"
    }
   },
   "outputs": [
    {
     "data": {
      "application/vnd.jupyter.widget-view+json": {
       "model_id": "3d916329fefa4fc5b1dd9526045b35ae",
       "version_major": 2,
       "version_minor": 0
      },
      "text/plain": [
       "interactive(children=(Dropdown(description='TP : ', options=('sa TP 38Geol-vidéo (Bât 14)', 'sa TP B2 Bio anim…"
      ]
     },
     "metadata": {},
     "output_type": "display_data"
    }
   ],
   "source": [
    "CourbeJournee('TP')"
   ]
  },
  {
   "cell_type": "code",
   "execution_count": 33,
   "metadata": {
    "scrolled": true,
    "slideshow": {
     "slide_type": "subslide"
    }
   },
   "outputs": [
    {
     "data": {
      "application/vnd.jupyter.widget-view+json": {
       "model_id": "b1acb6f63c54447da2ce0dae9491fca0",
       "version_major": 2,
       "version_minor": 0
      },
      "text/plain": [
       "interactive(children=(Dropdown(description='salle info : ', options=('salle info I042-vidéo (Bât 14)', 'salle …"
      ]
     },
     "metadata": {},
     "output_type": "display_data"
    }
   ],
   "source": [
    "CourbeJournee('salle info')"
   ]
  },
  {
   "cell_type": "code",
   "execution_count": 13,
   "metadata": {
    "scrolled": false,
    "slideshow": {
     "slide_type": "skip"
    }
   },
   "outputs": [
    {
     "name": "stdout",
     "output_type": "stream",
     "text": [
      "sa TP 38Geol-vidéo (Bât 14)\n",
      "----- Matières ------\n",
      "['Roches et Minéraux (X12G050)', 'Minéralogie et pétrologie endogène (X21G010)', 'Pétrologie magmatique et métamorphique 1 (X22G052)', 'Synthèse géologique régionale (X32G051)', 'Tectonique globale et géologie de la France (X31G030)', 'Géomorphologie - CM et TP (X1TU052)', 'Expé et analyses en labo et sur terrain (X3TU030)', 'Sciences de la Vie et de la Terre (XTRG010)']\n",
      "----- Groupes  ------\n",
      "['M1STU', '222E', 'TR-3E', '222F', '224J', '335E', '235E', '235F', 'M1BGE', '223G', '220B', '321C', '236G', '224I', '221D', '223H', '321D', '322E', 'TR-3F', '635F', '220A', 'TR-1A', '320A', '535E', 'TR-1B', '221C', '435F', 'M2TP', '320B', 'PALP-STU']\n",
      "---------------------\n",
      "sa TP B2 Bio animale L1-vidéo (Bât 6)\n",
      "----- Matières ------\n",
      "['Biologie des organismes - Biologie Animale 2 (X12B032)', 'Biologie des organismes - Biologie animale 1 (X11B021)', 'Systématique animale (X22B192)', \"Diversité biologique animale à travers l'évolution (X21B150)\", 'Shellfish life cycle - practical (X3TA010)', 'Ateliers de terrain en Écologie Marine (X3TB010)']\n",
      "----- Groupes  ------\n",
      "['103G', '224J', '111W', '116H', '327O', '105L', '220B', '117I', '426', '106N', '220A', '328Q', '207P', '209S', '113B', '102E', '327P', '107O', '326M', '204I', '322', '100A', 'M2CGE', '222F', '205K', '104I', '101D', '211W', '105K', '203H', '210U', '221D', '223H', '110U', '106M', '209T', '205L', '206N', '221C', '102F', '111X', '114D', '113A', '112Y', '116G', '104J', '223G', '321C', '224I', '114C', '208Q', '206M', '326N', '118K', '202F', '211X', '115F', '208R', '207O', '203G', '210V', '108R', '112Z', '202E', '108Q', '201C', '421', '117J', '110V', '222E', '200A', '325L', '204J', 'PALP-BE', '118L', 'M2EBM', '201D', '427', '321D', '101C', '107P', '100B', '320A', 'M2ACES', '200B', '109T', '425', '325K', '320B', '115E', '109S', '103H']\n",
      "---------------------\n",
      "sa TP Bio végétale-vidéo (Bât 5)\n",
      "----- Matières ------\n",
      "['Biologie des organismes - Biologie végétale 2 (X12B031)', 'Biologie des organismes - Biologie Végétale 1 (X11B022)', 'Diversité biologique végétale à travers évolution (X22B170)', 'Systématique végétale (X22B191)', 'Écologie des communautés (X31B200)', 'Stratégies adaptatives des organismes (X32B220)']\n",
      "----- Groupes  ------\n",
      "['103G', '425L', '638MEEF', '224J', '111W', '426M', '116H', '105L', '522', '220B', '117I', '639EEP', '106N', '220A', 'M1-SVT', '207P', '520', '422E', '209S', '113B', '102E', '420B', '107O', '428Q', '204I', '100A', '222F', '426N', '205K', '104I', '101D', '211W', '105K', '203H', '524I', '210U', '221D', '223H', '110U', '622', '106M', '421D', '209T', '205L', '206N', '428', '221C', '102F', '111X', '114D', '113A', '112Y', '623', '116G', '104J', '425K', '223G', '224I', '114C', '208Q', '206M', '118K', '202F', '211X', 'M1MEEF-SVT', '115F', '208R', '207O', '203G', '210V', '108R', '112Z', '202E', '108Q', '201C', '620A', '117J', '110V', '222E', '200A', '427O', '204J', 'PALP-BE', '118L', '201D', '101C', '538MEEF', '107P', '523', '100B', '422', '427P', '539EEP', '200B', '109T', '421C', '420A', '115E', '109S', '103H']\n",
      "---------------------\n",
      "sa TP 35Geol-vidéo (Bât 14)\n",
      "----- Matières ------\n",
      "['Sciences de la Terre (X11G010)', 'Paléontologie et Paléoenvironnement (X12G060)', 'S2 EC1 Cartographie (X12G021)', 'Géophysique Fondamentale 1 (X21G030)', 'Histoire de la Terre (X21G050)', 'Cartographie géologique (lecture et analyse) (X21G021)', 'Tectonique globale et géologie de la France (X31G030)']\n",
      "----- Groupes  ------\n",
      "['117J', '222E', '110V', '222F', '103G', '112Y', '224J', '111W', '104I', '335E', '235E', '116H', '116G', '104J', '235F', '105L', '224', '101D', '223G', '118L', '117I', '105K', '220B', '236G', '236', '224I', '114C', '221D', '223H', '321D', '110U', '112Z', '101C', '106M', 'DUG', '106N', '222', '107P', '100B', '220A', '118K', '220', '113B', '223', '102E', '109T', '115F', '535E', '221C', '221', '102F', '111X', '114D', '107O', '113A', 'DIVERS', '108R', 'PALP-STU', '115E', '109S', '335', '108Q', '103H', '100A']\n",
      "---------------------\n",
      "sa TP Biocell  110-vidéo (Bât 5)\n",
      "----- Matières ------\n",
      "['Biologie Cellulaire (X11B010)', 'Systématique végétale (X22B191)', 'Diversité biologique végétale à travers évolution (X22B170)', 'Taxonomie (X32B231)', 'Sciences de la Vie et de la Terre (XTRG010)']\n",
      "----- Groupes  ------\n",
      "['117J', '110V', 'TR-3E', '103G', '425L', '426N', '112Y', '104I', '111W', '624I', '427O', '426M', '116H', '116G', '104J', '105L', '425K', '101D', 'PALP-BE', '118L', '105K', '117I', '623H', '114C', '110U', '112Z', '106M', '101C', '620B', '106N', '421D', '620A', '107P', 'TR-3F', '100B', 'TR-1A', '622E', '118K', '422', '422E', '113B', '427P', '102E', '420B', '109T', '115F', 'TR-1B', '622F', '428', '421C', '102F', '111X', '114D', '107O', '113A', '623G', '108R', '428Q', '420A', '115E', '109S', '108Q', '103H', '100A']\n",
      "---------------------\n",
      "sa TP Phys MIPC A (Bât 13)\n",
      "----- Matières ------\n",
      "['Physique Expérimentale 1 (X12P040)', 'Electronique 1 (X21SI20)', 'Comportement mécanique des matériaux (X32P130)', 'Electronique 2 (X31EE50)', \"Transmission et Traitement de l'Information (X1EE032)\", 'Physique pour PCGSi-MIP (XTRP020)']\n",
      "----- Groupes  ------\n",
      "['250A', '550B', 'M1EEEA-TPA', '550A', '269N', 'TR-4G', '269M', '251C', 'TR-2C', '261W', '262Z', 'M1EEEA-TPB', '662', '248R', '267I', '268K', '247P', '263A', '268L', '267J', '262Y', '261X', '251D', '260U', '248Q', '247O', '350B', '250B', 'PALP-SPI', '661ICM', '350A']\n",
      "---------------------\n",
      "sa TP Info indus 57 (Bât 14)\n",
      "----- Matières ------\n",
      "['Base de logique numérique (X11P020)', 'Base de logique numérique (XA1P020)', 'Informatique industrielle (X31EE60)', 'Electronique  analogique avancée (X32EE60)', 'Informatique (X32EE40)', 'Electronique 2 (X31EE50)', 'Modélisation et méthodes numériques (X2SM040)', 'Physique des semi-conducteurs (X2SM050)', 'CAO Electronique (X2EE032)', 'Défaillances (X3EE072)', 'Traitement avancé du signal (X3EE041)', 'Technologies VLSI et MEMS (X3EE083)']\n",
      "----- Groupes  ------\n",
      "['AC2D', '650B', '550B', '167O', '165K', 'M1EEEA', '164J', '550A', 'M1ENR', '650A', '160A', '166M', '169S', '161C', '170U', 'AC2C', 'M1NANO', '172Y', '162E', 'M2CISE', '163G', '173A', '171W', '168Q']\n",
      "---------------------\n",
      "sa TP Electro 61 (Bât 14)\n",
      "----- Matières ------\n",
      "['Base de logique numérique (X11P020)', 'Electronique (X22P030)', 'Electronique Numérique (X22SI10)', 'Logique programmable (X31EE70)', 'Electronique 2 (X31EE50)', 'Composants Electroniques et PLL (X1EE041)', 'Microprocesseur embarqué (X1EE023)', 'Capteurs communicants sans-fil (X3EE045)', 'Traitement avancé du signal (X3EE041)', \"Chaîne d'acquisition de données (X3EE042)\"]\n",
      "----- Groupes  ------\n",
      "['M1MEEF-PC', '163H', 'M1-PHYSIQUE-CHIMIE', '171X', '450B', '550B', 'M1EEEA-TPA', '450A', '550A', '169T', '165L', '172Z', 'M2MEEF-PC', 'M2-PHYSIQUE-CHIMIE', '455L', '173B', 'M1EEEA-TPB', '166N', '162F', 'M2CISE', '455K', '164I', '167P', '456', '161D', '170V', 'PALP-SPI', '160B', '168R']\n",
      "---------------------\n",
      "sa TP Ch Générale A (Bât 12)\n",
      "----- Matières ------\n",
      "[\"Chimie de l'eau STU (X12C060)\", 'Chimie : atome, liaison, molécule (XA1C010)', 'Travaux Pratiques de Chimie (X12C030)', 'Initiation aux Bonnes Pratiques de Laboratoire (X21B060)', 'Initiation to Good Laboratory Practices (X21B070)', 'Chimie environnementale (X21C150)']\n",
      "----- Groupes  ------\n",
      "['302E', '305K', '235E', '325L', '327O', '235F', 'PALP-BE', '310V', 'AC-1', 'PALP-SV', '326N', '240A', '328Q', '248R', '247P', '241D', '248Q', '247O', '327P', '325K', '241C', '326M']\n",
      "---------------------\n",
      "sa TP 34Geol-vidéo (Bât 14)\n",
      "----- Matières ------\n",
      "['Paléontologie et Paléoenvironnement (X12G060)', 'Domaine océanique ouvert, environnement carbonaté (X21G042)', 'Cartographie géologique (lecture et analyse) (X21G021)', 'Tectonique (X22G020)', 'Processus sédim. et envir. continentaux & côtiers (X21G041)', 'Histoire de la Terre (X21G050)', 'EC1-Tectonophysique (X32G041)', 'Tectonique globale et géologie de la France (X31G030)', 'Synthèse géologique régionale (X32G051)', 'Pétrologie struct domaine métamorp - CM et TP (X2TU071)', 'Hydrologie et Dynamique Sédimentaire (X1TU040)', 'Géomorphologie - CM et TP (X1TU052)']\n",
      "----- Groupes  ------\n",
      "['M1STU', '222E', '222F', '224J', '335E', 'M1BGE', '220B', '321C', '224I', '221D', '635E', '321D', '322E', '635F', '220A', 'M1-SVT', '422', '320A', '420B', 'M1MEEF-SVT', '535E', '535F', '221C', '435F', '320B', 'PALP-STU', '420A', '335', '322']\n",
      "---------------------\n",
      "sa TP Ch Générale B (Bât 12)\n",
      "----- Matières ------\n",
      "['Travaux Pratiques de Chimie (X12C030)', \"Chimie de l'eau STU (X12C060)\", 'TP de Chimie  générale (solutions + thermo) (X21C100)', 'Chimie environnementale (X21C150)']\n",
      "----- Groupes  ------\n",
      "['236G', '248Q', '247O', '341D', '248R', '347O', '327P', '340A', '340B', '247P', 'PALP-CH', '241C', '325L', '240B', '326N', '341C', '241D']\n",
      "---------------------\n",
      "sa TP Ch Organique F (Bât 12)\n",
      "----- Matières ------\n",
      "['Travaux Pratiques de Chimie (X12C030)', 'Chimie Organique (X21C040)', 'Pharmacologie et médicaments (X22B020)', 'Chimie environnementale (X21C150)', 'Chimie (XTRC010)']\n",
      "----- Groupes  ------\n",
      "['TR-3E', '410U', '340B', '402F', 'TR-2D', '325L', '441D', '445L', '401D', 'TR-4G', '405L', '440B', 'TR-2C', 'TR-3F', '326N', 'TR-1A', '403H', '345L', '247P', '404J', 'TR-4H', 'TR-1B', '341C', '358Q', '248Q', '347O', '327P', '241C', '240B', '406N', '412PECB', '446', '400B']\n",
      "---------------------\n",
      "sa TP Ch Organique E (Bât 12)\n",
      "----- Matières ------\n",
      "['Travaux Pratiques de Chimie (X12C030)', 'Pharmacologie et médicaments (X22B020)', 'Chimie environnementale (X21C150)', 'Chimie Organique (X21C040)', 'Chimie (XTRC010)']\n",
      "----- Groupes  ------\n",
      "['400A', 'TR-3E', 'TR-2D', '327O', '404I', 'PALP-BE', '346', 'TR-4G', '445K', 'PALP-SV', 'TR-2C', '406M', '345K', 'TR-3F', '405K', '240A', '328Q', 'TR-1A', '403G', '248R', '441C', '340A', '402E', '247P', '410V', '401C', 'TR-4H', 'TR-1B', '241D', '247O', '341D', 'PALP-CH', '325K', '326M', '440A']\n",
      "---------------------\n",
      "sa TP Physio patho Végétale (Bât 2)\n",
      "----- Matières ------\n",
      "['Photosynthèse et développement des plantes (X21B040)', 'Physiologie végétale pour BGE (X31B260)', 'Analyses en Phytopathologie, Physiologie végétale (X32B121)']\n",
      "----- Groupes  ------\n",
      "['302E', '520B', '305K', '312Y', '325L', '327O', '306M', '303G', 'PALP-BE', '310V', '305L', '301D', '300A', '304I', 'PALP-SV', '538L', '610SVA', '326N', '328Q', '310U', '306N', '302F', '538K', '300B', '303H', '520A', '307O', '301C', '615E', '327P', '325K', '326M', '304J', '615F']\n",
      "---------------------\n",
      "sa TP B1 Bio animale L2-vidéo (Bât 6)\n",
      "----- Matières ------\n",
      "[\"Diversité biologique animale à travers l'évolution (X21B150)\", 'Reproduction et développement des animaux (X22B160)', 'Systématique animale (X22B192)', 'Biologie Cel. & Molécul. du Développement (X22B060)', 'Écophysiologie Animale et Éthologie (X1TB020)']\n",
      "----- Groupes  ------\n",
      "['400A', '426N', '425L', '402F', '427O', '426M', '325L', '327O', '425K', 'PALP-BE', '321C', '401D', '321D', '427', '410ABT', 'PALP-SV', '322E', '426', '406M', '405K', '326N', '328Q', '403H', '403G', '320A', '422', '402E', '427P', '401C', 'M1BE', '420B', '428', '327P', '325K', '425', '326M', '420', '320B', '420A', '406N', '322', '400B', '421']\n",
      "---------------------\n",
      "sa TP Bioch-biomol (Bât 2)\n",
      "----- Matières ------\n",
      "['Biologie Moléculaire 1 (X21B010)', 'Initiation aux Bonnes Pratiques de Laboratoire (X21B060)', 'Biologie Moléculaire pour les Biotechnologies (X22B031)', 'Initiation to Good Laboratory Practices (X21B070)', 'Plateaux tech 2 : Purific., modification biomoléc. (X32B010)', 'Plateaux techniques 1 : Méth cellulaire et molécul (X31B010)', 'Génétique du développement (X32B050)', 'Génie-Génétique (X1BS020)']\n",
      "----- Groupes  ------\n",
      "['400A', '500B', '402F', '600B', '606M', '327O', '306M', '500A', '501C', '404I', '507O', '310V', '346', '401D', '445L', '602E', '305L', 'M1SB-TPC', '445K', '405L', '304I', 'PALP-SV', '406M', '405K', '403H', '403G', '605L', '310U', '402E', '410V', '302F', '401C', '404J', '300B', '501D', '301C', '307O', '327P', '600A', 'M1SB-TPA', '604I', '406N', '601D', '446', '400B']\n",
      "---------------------\n",
      "sa TP Physio végétale (Bât 5)\n",
      "----- Matières ------\n",
      "['Initiation aux Bonnes Pratiques de Laboratoire (X21B060)', \"Préparation à l'entretien de motivation PECB (X22B120)\", 'Oraux blancs Sciences et Société du Concours B (X32B162)', 'Oraux Blancs pour Oral de Motivation  Concours B (X32B161)']\n",
      "----- Groupes  ------\n",
      "['612BCVA', '304I', 'PALP-SV', '304J', '303H', '412PECB']\n",
      "---------------------\n",
      "sa TP Physio animale115 (Bât 26- RdC)\n",
      "----- Matières ------\n",
      "['Initiation aux Bonnes Pratiques de Laboratoire (X21B060)', 'Pharmacologie et médicaments (X22B020)', 'Neurophysiologie : comment neurones font sens ? (X22B070)', 'Les systèmes physiologiques animaux (X22B150)', 'Applicat° procéd. expérim. & soins aux animaux 1 (X31BB10)', 'Physiologie Animale - Plateau technique (X32B090)', 'Système nerveux et comportements (X31B240)', 'Plateaux techniques 1 : Méth cellulaire et molécul (X31B010)', 'Methods in Cell and Molecular Biology (X31B080)', 'Interactions cellulaires à physiologie intégrée (X31B060)', 'Applicat° procéd. expérim. & soins aux animaux 2 (X32BB10)']\n",
      "----- Groupes  ------\n",
      "['400A', '607O', '410U', '307', '426N', '402F', '506N', '601', '500', '515', '510SVA', '501C', '404I', '303G', '510U', '505K', '502', '441D', '515E', '306', '401D', '445L', '504J', '615', '504I', '301D', '445K', '405L', '523G', '300A', 'PALP-SV', '440B', '522F', '538L', '507', '406M', '501', '405K', '403H', '403G', '606N', '404', '441C', '402E', '410V', '604J', '401C', '404J', '512Y', '605K', '510BCPA', '538K', '610BCPA', '610BCM', '510BCM', '523H', '600', '440A', '406N', '412PECB', '446', '400B']\n",
      "---------------------\n",
      "sa TP Physio animale113 (Bât 26- RdC)\n",
      "----- Matières ------\n",
      "['Initiation aux Bonnes Pratiques de Laboratoire (X21B060)', 'Les systèmes physiologiques animaux (X22B150)', \"Biochimie pour l'écologie (X21B170)\", 'Applicat° procéd. expérim. & soins aux animaux 1 (X31BB10)', 'Physiologie Animale - Plateau technique (X32B090)', 'Interactions cellulaires à physiologie intégrée (X31B060)']\n",
      "----- Groupes  ------\n",
      "['426N', '500', '515', '506N', '425L', '427O', '426M', '312Y', '327O', '325L', '425K', '506M', '606M', '510SVA', 'PALP-BE', '502', '504I', '505L', '507', '421D', '501', '326N', '328Q', '612BCVA', '605L', '422E', '427P', '420B', '510BCPA', '300B', '421C', '301C', '510BCM', '327P', '325K', '326M', '428Q', '604I', '420A']\n",
      "---------------------\n",
      "sa TP Bioch B (Bât 13)\n",
      "----- Matières ------\n",
      "['Biochimie2 Enzymologie-Métabolisme (X21B030)', 'Biologie Cellulaire  2 et Immunologie 1 (X22B010)', 'Biologie Cel. & Molécul. du Développement (X22B060)', 'Plateau technique Biochimie (X32CB10)', 'Plateaux tech 2 : Purific., modification biomoléc. (X32B010)', 'Immunopathologies (X32B020)', 'Plateaux techniques 1 : Méth cellulaire et molécul (X31B010)']\n",
      "----- Groupes  ------\n",
      "['400A', '500B', '515F', '600B', '305K', '312Y', '306M', '506M', '507O', '310V', '504J', '602E', '305L', '301D', '505L', '405L', 'PALP-SV', '406M', '345K', '502E', '405K', '403H', '306N', '645K', '302F', '512Y', '303H', '300B', '501D', '406N', '301C', '307O', '610BCM', '600A', '601C', '304J', '645L', '601D', '400B']\n",
      "---------------------\n",
      "sa TP 36Geol-vidéo (Bât 14)\n",
      "----- Matières ------\n",
      "['Histoire de la Terre (X21G050)', 'Stratigraphie et bassins sédimentaires (X22G031)', 'Cartographie géologique (lecture et analyse) (X21G021)', 'Processus sédim. et envir. continentaux & côtiers (X21G041)', 'Tectonique globale et géologie de la France (X31G030)', 'Energie et Ressources (X32G020)', 'Synthèse géologique régionale (X32G051)', 'Géomorphologie - CM et TP (X1TU052)']\n",
      "----- Groupes  ------\n",
      "['M1STU', '335E', 'M1BGE', '321C', '635E', '321D', '620B', '639EEP', '322E', '421D', '635F', '422', '320A', '535E', '535F', '421C', '435F', '638L', '320B', 'PALP-STU', '638K', '335', '620A']\n",
      "---------------------\n",
      "sa TP Bioch A (Bât 13)\n",
      "----- Matières ------\n",
      "['Biochimie2 Enzymologie-Métabolisme (X21B030)', 'Biochimie analytique pour les Biotechnologies (X22B032)', 'Biotechnologie Enzymatique (X32B070)', 'Plateaux techniques 1 : Méth cellulaire et molécul (X31B010)', 'Methods in Cell and Molecular Biology (X31B080)', 'Analyse chromatographique et sécurité alimentaire (X32B122)']\n",
      "----- Groupes  ------\n",
      "['400A', '302E', '500B', '410U', '402F', '506N', '305K', '312Y', '606M', '500A', '501C', '404I', '303G', '510U', '310V', '505K', '515E', '346', '445L', '401D', '615', '504I', '445K', '301D', '405L', '300A', '304I', 'PALP-SV', '406M', '405K', '403H', '403G', '345L', '310U', '402E', '306N', '410V', '645K', '604J', '401C', '404J', '605K', '406N', '301C', '615E', '645L', '601D', '446', '400B', '615F']\n",
      "---------------------\n",
      "sa TP Microbio (Bât 2)\n",
      "----- Matières ------\n",
      "['General Microbiology (X21B080)', 'Microbiologie Générale (X21B020)', 'Microbiologie et Biotechnologie (X32CB20)', 'Plateaux tech 2 : Purific., modification biomoléc. (X32B010)', 'Virologie, Mycologie et Parasitologie (X32B060)', \"TP - Expression et Caractérisation d'une Enzyme (X1CB214)\", 'TP - Bioproduction (X1CB215)', 'Microbiologie et santé humaine (X2BS050)']\n",
      "----- Groupes  ------\n",
      "['302E', '607O', 'M1SB', '600B', 'M1CB-TPB', '305K', '312Y', '606M', '306M', '303G', '310V', '602E', '305L', '301D', '300A', '304I', 'PALP-SV', 'M1-SVT', '606N', '605L', '310U', '306N', '645K', '302F', '604J', '605K', 'M1MEEF-SVT', '300B', '303H', 'M1CB', 'M1CB-TPA', '307O', '301C', '600A', '601C', '604I', '304J', '645L', '601D']\n",
      "---------------------\n",
      "sa TP Phys MIPC B (Bât 13)\n",
      "----- Matières ------\n",
      "['Mécanique générale 2: dynamique solides & systèmes (X21P040)', 'Physique expérimentale 2 (X22P060)', 'Projet expérimental (X32P051)', 'Électromagnétisme 2 (X32EE20)', 'Physique pour PCGSi-MIP (XTRP020)', 'Physique pour BGC (XTRP010)']\n",
      "----- Groupes  ------\n",
      "['355K', '361W', 'TR-3E', '356M', 'TR-2D', '650B', '360U', '650A', '355L', '461X', '458', 'TR-3F', 'TR-1A', '660INA', '361X', '362Y', 'TR-4H', 'TR-1B', 'PALP-PH', '456', '350B', '655', 'PALP-SPI', '656', '350A']\n",
      "---------------------\n",
      "sa TP Phys solide 54 (Bât 14)\n",
      "----- Matières ------\n",
      "['Les ondes et leurs applications (X22SI50)', 'Électromagnétisme 2 (X32EE20)', 'Physique expérimentale 1 : Physique du Solide (X1SM020)']\n",
      "----- Groupes  ------\n",
      "['M1ENR', '650A', 'M1NANO', '450B', '650B', 'PALP-SPI', '450A', 'M1PH']\n",
      "---------------------\n",
      "sa TP Ecologie-vidéo (Bât 5)\n",
      "----- Matières ------\n",
      "[\"Le sol, une interface dans l'environnement (X22G070)\", 'Facteurs écologiques (X21B160)', 'Stratégies adaptatives des organismes (X32B220)', 'Hydrobiologie (X31B250)', 'Dynamique des populations (X32B240)', 'Taxonomie (X32B231)', \"Mesures environnementales et études d'impact (X2TB020)\"]\n",
      "----- Groupes  ------\n",
      "['639M', '425L', '638MEEF', '624I', '427O', '325L', '425K', '623', '522', 'M1BGE', 'PALP-BE', '321C', '623H', '327', '524I', '620', '321D', '622', '620B', '322E', '421D', '326N', '328Q', '622E', '520', '320A', '422', '321', '427P', 'M1BE', '624', '539EEP', '325', '420B', '622F', '326', '428', '421C', '435', '623G', '325K', '326M', '320B', '420A', '620A']\n",
      "---------------------\n",
      "sa TP Ch organique G (Bât 12)\n",
      "----- Matières ------\n",
      "['Introduction à la chimie pour le vivant (X22C050)']\n",
      "----- Groupes  ------\n",
      "['445L', 'M1MEEF-PC', '441C', 'PALP-CH', '445K', 'M1-PHYSIQUE-CHIMIE', '440B', '440A', '412PECB', '446', '441D']\n",
      "---------------------\n",
      "sa TP Biotech-biomol (Bât 2)\n",
      "----- Matières ------\n",
      "['Biologie Moléculaire pour les Biotechnologies (X22B031)', 'Biologie Moléculaire 1 (X21B010)', 'Biotechnologies (X32B140)', 'Plateaux tech 2 : Purific., modification biomoléc. (X32B010)', 'Plateaux techniques 1 : Méth cellulaire et molécul (X31B010)', 'Methods in Cell and Molecular Biology (X31B080)', 'TP - Bioproduction (X1CB215)', 'Génie-Génétique (X1BS020)']\n",
      "----- Groupes  ------\n",
      "['500B', '302E', '515F', '410U', '506N', '600B', '305K', '312Y', '325L', '506M', '303G', '510U', 'PALP-BE', '505K', '515E', '321C', '346', '623H', '504J', '504I', '305L', '301D', '321D', '505L', '300A', 'PALP-SV', '322E', '345K', '502E', 'M1SB-TPB', '326N', '328Q', '622E', 'M1SB-TPD', '345L', '320A', '306N', '302F', '512Y', '624', '303H', 'M1CB', '622F', '610BCM', '615E', '638L', '600A', '623G', '325K', '326M', '601C', '320B', '304J', '638K', '601D', '615F']\n",
      "---------------------\n",
      "sa TP 33Géol (Bât 14)\n",
      "----- Matières ------\n",
      "['Géophysique fondamentale 2 (X22G010)', 'Les bases de la chimie organique descriptive (X21C160)']\n",
      "----- Groupes  ------\n",
      "['304', '435F', 'PALP-SV']\n",
      "---------------------\n",
      "sa TP Ch Orga 2 (Bât 2)\n",
      "----- Matières ------\n",
      "['Isomérie, Stéréochimie et techniques chromatograp. (X22C020)', 'Travaux pratiques de chimie transversale (X32C060)', 'Chimie bioorganique (X32CB40)', 'Travaux Pratiques de Chimie Organique (X31C090)', 'Synthèse (TP) (X1CM051)', 'TP - Synthèse de Substrats (X1CB225)', 'Pétrologie Magmatique - CM et TP (X1TU071)', 'TP - Bioproduction (X1CB215)', 'Synthèse supportée et combinatoire (X3CM021)']\n",
      "----- Groupes  ------\n",
      "['445L', 'M1STU', '540B', 'M2CMT', '640', 'M1CB-TPB', '545L', '440B', 'M1CMT', '446', '645', '447O', 'M1CB', 'M1CB-TPA', '441D', '645L']\n",
      "---------------------\n",
      "sa TP Ch Orga 1 (Bât 2)\n",
      "----- Matières ------\n",
      "['Isomérie, Stéréochimie et techniques chromatograp. (X22C020)', 'Travaux pratiques de chimie transversale (X32C060)', 'Chimie bioorganique (X32CB40)', 'Travaux Pratiques de Chimie Organique (X31C090)', 'Techniques de séparations (X1CM052)', 'Synthèse (TP) (X1CM051)']\n",
      "----- Groupes  ------\n",
      "['441C', '545K', '640', 'PALP-CH', '645K', '445K', '440A', '540A', 'M1CMT']\n",
      "---------------------\n",
      "sa TP B5 Biocell-Immuno (Bât 13)\n",
      "----- Matières ------\n",
      "['Biologie Cel. & Molécul. du Développement (X22B060)', 'Biologie Cellulaire  2 et Immunologie 1 (X22B010)', 'Immunologie (X22B200)', 'Immunopathologies (X32B020)', 'Plateaux techniques 1 : Méth cellulaire et molécul (X31B010)', 'Methods in Cell and Molecular Biology (X31B080)', 'Plateaux tech 2 : Purific., modification biomoléc. (X32B010)', 'Recherche en Immunologie (X1BS040)']\n",
      "----- Groupes  ------\n",
      "['400A', '500B', '515F', '410U', '425L', '426N', '402F', '506N', '600B', '426M', '500A', '501C', '404I', '506M', '510U', '507O', '505K', '515E', '401D', '504J', '602E', '504I', 'M1SB-TPC', '512BCVA', '505L', 'PALP-SV', '502E', '405K', 'M1SB-TPB', '403H', '403G', '422', '402E', '410V', '401C', '404J', '420B', '501D', '610BCM', '600A', 'M1SB-TPA', '601C', '420A', '601D', '412PECB', '400B', '602']\n",
      "---------------------\n",
      "sa TP Ch inorganique C (Bât 12)\n",
      "----- Matières ------\n",
      "['Oxydoréduction inorganique (X22C010)', 'Électrochimie générale (X31C030)']\n",
      "----- Groupes  ------\n",
      "['445L', '540B', '441C', '549EEP', 'PALP-CH', '445K', '458Q', '441D', '440B', '440A', '540A', '447O', '446', '547', '558']\n",
      "---------------------\n",
      "sa TP Ch- Phys 2 (Bât 2)\n",
      "----- Matières ------\n",
      "['Interaction lumière-matière : atome à molécule (X22C030)', 'TP de Chimie  générale (solutions + thermo) (X21C100)', \"Spectroscopies pour l'étude des composés du vivant (X32CB30)\", 'Travaux Pratiques de Chimie (X32C030)', 'Synthèse chimio-enzymatique (X1CB224)', 'Spectroscopies moléculaires II (X1CM011)', 'Techniques de séparations (X1CM052)', 'Matériaux stimulables (X1LU031)', 'Méthodes optiques 2 (X1CA021)', 'Matériaux moléculaires et hybrides, Nanomatériaux (X3LU241)']\n",
      "----- Groupes  ------\n",
      "['M1A3M-TPA', 'M2LUMOMAT', '340B', 'M1CB-TPB', '441D', '647', '440B', '458', 'M1CMT-TPA', '447O', '649EEP', '441C', '340A', '645K', 'M1A3M-TPB', 'M1CB-TPA', '341C', 'M1CMT-TPB', '341D', '347O', 'PALP-CH', 'M1A3M-TPC', '440A', '645L', 'M1LUM-TPA', '640B']\n",
      "---------------------\n",
      "sa TP Phys BGC (Bât 13)\n",
      "----- Matières ------\n",
      "['Physique expérimentale 2 (X22P060)', 'Physique pour BGC (XTRP010)', 'Physique pour PCGSi-MIP (XTRP020)']\n",
      "----- Groupes  ------\n",
      "['TR-1A', 'TR-4G', 'M1MEEF-PC', 'TR-3E', 'M1-PHYSIQUE-CHIMIE', '461W', 'TR-2D', 'TR-2C', '462', '455', 'TR-4H', 'TR-1B', 'TR-3F', '460PM']\n",
      "---------------------\n",
      "sa TP Méca 37bis (Bât 14)\n",
      "----- Matières ------\n",
      "['Génie Civil 2 (X22SI20)', 'Résistance des matériaux (X31P130)', 'Elasticité linéaire (X31P110)', 'Mécanismes, CAO et simulations (X32P120)', 'Comportement mécanique des matériaux (X32P130)', 'Dynamique des fluides (X1PM060)', 'Monitoring strategy and monitoring system (X3PR010)']\n",
      "----- Groupes  ------\n",
      "['662', 'M1MFS-TPA', '450B', 'M2MAREENE', '562Z', 'PALP-SPI', '562Y', '661ICM', '450A', '561ICM']\n",
      "---------------------\n",
      "sa TP 65Geol-vidéo (Bât 13)\n",
      "----- Matières ------\n",
      "['Minéralogie et pétrologie endogène (X21G010)', 'Histoire de la Terre (X21G050)', 'Géodynamique et pétrologie (X32G062)', 'EC1-Tectonophysique (X32G041)', 'EC1-Pétrologie magmatique et métamorphique 2 (X31G042)', 'Pétrologie struct domaine métamorp - CM et TP (X2TU071)']\n",
      "----- Groupes  ------\n",
      "['M1STU', '635E', '638L', '620B', '320B', '639EEP', 'PALP-STU', 'DUG', '535E', '638K', '535F', '335', '635F', '620A']\n",
      "---------------------\n",
      "sa TP B3 Taxo-Ecologie (Bât 6)\n",
      "----- Matières ------\n",
      "['Taxonomie (X32B231)', 'Écophysiologie Animale et Éthologie (X1TB020)', 'Shellfish life cycle - practical (X3TA010)', 'Marine safety products - practical (X3TA020)', 'Shellfish Life Cycle (X3TB030)']\n",
      "----- Groupes  ------\n",
      "['623H', '622E', 'M2ACES-TPB', 'M2ACES', '623G', 'M1BE', '624I', '620B', 'M2ACES-TPA', '622F', '620A']\n",
      "---------------------\n",
      "sa TP Thermo 35bis (Bât 14)\n",
      "----- Matières ------\n",
      "None\n",
      "----- Groupes  ------\n",
      "None\n",
      "---------------------\n",
      "sa TP Thermo 38bis (Bât 14)\n",
      "----- Matières ------\n",
      "['Physique Expérimentale 3 (X32P060), Travaux Pratiques de Thermodynamique (X32P052)', 'Mécanique des fluides (X31P100)', 'Travaux Pratiques de Thermodynamique (X32P052)', 'Dynamique des fluides (X1PM060)']\n",
      "----- Groupes  ------\n",
      "['658', 'M1MFS-TPA', 'M1MFS-TPB', '562Y', '562Z', '655K', '561ICM', '535', '659EEP']\n",
      "---------------------\n",
      "sa TP Phys nucléaire (Bât 12)\n",
      "----- Matières ------\n",
      "['Physique Subatomique 2 (X31P052)', 'Physique expérimentale 2 (X2PP010), Projet expérimental (X2PP100)']\n",
      "----- Groupes  ------\n",
      "['556N', '560INA', '556M', '555L', '555K', 'M1PH']\n",
      "---------------------\n",
      "sa TP Ch- Phys 1 (Bât 2)\n",
      "----- Matières ------\n",
      "['Travaux pratiques de chimie transversale (X32C060)', 'Analyse chromatographique et sécurité alimentaire (X32B122)', 'Techniques chromatographiques (X31C100)', 'Travaux Pratiques de Chimie (X32C030)', 'TP - Bioproduction (X1CB215)', 'Techniques de séparations (X1CM052)', 'Chromatographie (X1CB232)', 'Chromatographie 2 (X1CA014)', 'Méthodes optiques 2 (X1CA021)', 'Chromatographie (X3CA230)', 'Matériaux moléculaires et hybrides, Nanomatériaux (X3LU241)']\n",
      "----- Groupes  ------\n",
      "['M1A3M-TPA', 'M2LUMOMAT', '640A', '640', 'M1LUM-TPB', 'M1CMT-TPA', '645K', 'M1A3M-TPB', 'M1CB', '545', '645L', '615E', 'M2 SDM parcours CQPS', 'M2A3M-ACBPI', '540', 'M1A3M-TPC', '645', 'M1LUM-TPA', '615F']\n",
      "---------------------\n",
      "sa TP Automatique 59 (Bât 14)\n",
      "----- Matières ------\n",
      "['Automatique module 1 (X31EE20)', 'Automatique module 2 (X32EE10)', 'Hyperfréquence - transmission (X2EE031)', 'Asservissement continu et échantillonné (X1EE010)', 'Nano-ordinateur (X1EE024)', \"Système d'état (X2EE020)\", \"Transmission et Traitement de l'Information (X1EE032)\", ' CAO Hyperfréquence (X3EE052)', 'Compatibilité Electromagnétique (X3EE075)', 'Technologie des capteurs (X3EE021)', 'Hyper et radio fréquence (X3EE044)']\n",
      "----- Groupes  ------\n",
      "['M1EEEA-TPB', 'M2CISE-TPB', '650A', '650B', 'M1EEEA-TP2', '550B', 'M1EEEA-TPA', 'M1EEEA', 'M2CISE', '550A', 'M1EEEA-TP1', 'M2CISE-TPA']\n",
      "---------------------\n",
      "sa TP Phys 50 (Bât 14)\n",
      "----- Matières ------\n",
      "None\n",
      "----- Groupes  ------\n",
      "None\n",
      "---------------------\n",
      "sa TP Ch inorganique D (Bât 12)\n",
      "----- Matières ------\n",
      "['Travaux Pratiques de Chimie inorganique (X32C020)', 'Travaux pratiques de chimie inorganique (X1CA043)', 'Analyses thermiques et de surface (X1CA016)', 'Imagerie et analyses élémentaires (X1CA015)']\n",
      "----- Groupes  ------\n",
      "['649EEP', 'M1A3M-TPA', '640A', 'M1MEEF-PC', 'M1ENR-TPB', 'M1-PHYSIQUE-CHIMIE', 'M1A3M-TPB', 'M2MEEF-PC', 'M1A3M-TPC', '647', 'M2-PHYSIQUE-CHIMIE', 'M1LUM-TPB', 'M1LUM-TPA', 'M1ENR-TPA', '640B']\n",
      "---------------------\n",
      "sa TP Optoélectr 55 (Bât 14)\n",
      "----- Matières ------\n",
      "['Composants optoélectroniques actifs (X2EE042)']\n",
      "----- Groupes  ------\n",
      "['M1EEEA-TP2', 'M1EEEA-TP1']\n",
      "---------------------\n",
      "sa TP Bio animale 32-vidéo (Bât 5)\n",
      "----- Matières ------\n",
      "[]\n",
      "----- Groupes  ------\n",
      "['M2MEEF-SVT', 'M1-SVT', 'M1MEEF-SVT', 'M2-SVT']\n",
      "---------------------\n",
      "sa TP Phys CAPES  60 (Bât 14)\n",
      "----- Matières ------\n",
      "[]\n",
      "----- Groupes  ------\n",
      "['M1-PHYSIQUE-CHIMIE', 'M2-PHYSIQUE-CHIMIE', 'M1MEEF-PC', 'M2MEEF-PC']\n",
      "---------------------\n"
     ]
    }
   ],
   "source": [
    "# Un affichage textuel des matières et des groupes qui utilisent les salles de TP (non exploité et non exécuté)\n",
    "\n",
    "for s in NbHeuresS2['TP']:\n",
    "    print(s)\n",
    "    print(\"----- Matières ------\")\n",
    "    print(Matieres.get(s))\n",
    "    print(\"----- Groupes  ------\")\n",
    "    print(Groupes.get(s))\n",
    "    print(\"---------------------\")"
   ]
  },
  {
   "cell_type": "markdown",
   "metadata": {
    "slideshow": {
     "slide_type": "slide"
    }
   },
   "source": [
    "## Informations complémentaires"
   ]
  },
  {
   "cell_type": "markdown",
   "metadata": {
    "slideshow": {
     "slide_type": "subslide"
    }
   },
   "source": [
    "### En complément, les salles de TD et TP sous exploitées"
   ]
  },
  {
   "cell_type": "code",
   "execution_count": 44,
   "metadata": {
    "slideshow": {
     "slide_type": "subslide"
    }
   },
   "outputs": [
    {
     "data": {
      "text/html": [
       "<div>\n",
       "<style scoped>\n",
       "    .dataframe tbody tr th:only-of-type {\n",
       "        vertical-align: middle;\n",
       "    }\n",
       "\n",
       "    .dataframe tbody tr th {\n",
       "        vertical-align: top;\n",
       "    }\n",
       "\n",
       "    .dataframe thead th {\n",
       "        text-align: right;\n",
       "    }\n",
       "</style>\n",
       "<table border=\"1\" class=\"dataframe\">\n",
       "  <thead>\n",
       "    <tr style=\"text-align: right;\">\n",
       "      <th></th>\n",
       "      <th>Occupation S1</th>\n",
       "      <th>Occupation S2</th>\n",
       "    </tr>\n",
       "  </thead>\n",
       "  <tbody>\n",
       "    <tr>\n",
       "      <th>sa TD 006 PECB-sans vidéo (Bât 5)</th>\n",
       "      <td>40.70</td>\n",
       "      <td>36.15</td>\n",
       "    </tr>\n",
       "    <tr>\n",
       "      <th>sa TD B (Bât 1-Admin)</th>\n",
       "      <td>48.38</td>\n",
       "      <td>44.26</td>\n",
       "    </tr>\n",
       "    <tr>\n",
       "      <th>sa TD 119-Manuf.Projets (Bât 26- RdC)</th>\n",
       "      <td>0.25</td>\n",
       "      <td>4.58</td>\n",
       "    </tr>\n",
       "    <tr>\n",
       "      <th>sa TD 110- sans vidéo (Bât 26- RdC)</th>\n",
       "      <td>26.16</td>\n",
       "      <td>25.52</td>\n",
       "    </tr>\n",
       "    <tr>\n",
       "      <th>sa TD U1-Studio Crs/Badge (Bât 2)</th>\n",
       "      <td>31.05</td>\n",
       "      <td>20.64</td>\n",
       "    </tr>\n",
       "    <tr>\n",
       "      <th>sa TD 30-sans vidéo (Bât 5)</th>\n",
       "      <td>30.76</td>\n",
       "      <td>24.02</td>\n",
       "    </tr>\n",
       "    <tr>\n",
       "      <th>sa TD 48 (Bât 14)</th>\n",
       "      <td>37.88</td>\n",
       "      <td>42.08</td>\n",
       "    </tr>\n",
       "  </tbody>\n",
       "</table>\n",
       "</div>"
      ],
      "text/plain": [
       "                                       Occupation S1  Occupation S2\n",
       "sa TD 006 PECB-sans vidéo (Bât 5)              40.70          36.15\n",
       "sa TD B (Bât 1-Admin)                          48.38          44.26\n",
       "sa TD 119-Manuf.Projets (Bât 26- RdC)           0.25           4.58\n",
       "sa TD 110- sans vidéo (Bât 26- RdC)            26.16          25.52\n",
       "sa TD U1-Studio Crs/Badge (Bât 2)              31.05          20.64\n",
       "sa TD 30-sans vidéo (Bât 5)                    30.76          24.02\n",
       "sa TD 48 (Bât 14)                              37.88          42.08"
      ]
     },
     "execution_count": 44,
     "metadata": {},
     "output_type": "execute_result"
    }
   ],
   "source": [
    "Exploitation('TD',sem=\"all\",ub=50)"
   ]
  },
  {
   "cell_type": "code",
   "execution_count": 45,
   "metadata": {
    "slideshow": {
     "slide_type": "subslide"
    }
   },
   "outputs": [
    {
     "data": {
      "text/html": [
       "<div>\n",
       "<style scoped>\n",
       "    .dataframe tbody tr th:only-of-type {\n",
       "        vertical-align: middle;\n",
       "    }\n",
       "\n",
       "    .dataframe tbody tr th {\n",
       "        vertical-align: top;\n",
       "    }\n",
       "\n",
       "    .dataframe thead th {\n",
       "        text-align: right;\n",
       "    }\n",
       "</style>\n",
       "<table border=\"1\" class=\"dataframe\">\n",
       "  <thead>\n",
       "    <tr style=\"text-align: right;\">\n",
       "      <th></th>\n",
       "      <th>Occupation S1</th>\n",
       "      <th>Occupation S2</th>\n",
       "    </tr>\n",
       "  </thead>\n",
       "  <tbody>\n",
       "    <tr>\n",
       "      <th>sa TP 33Géol (Bât 14)</th>\n",
       "      <td>0.25</td>\n",
       "      <td>3.07</td>\n",
       "    </tr>\n",
       "    <tr>\n",
       "      <th>sa TP Thermo 35bis (Bât 14)</th>\n",
       "      <td>1.53</td>\n",
       "      <td>3.81</td>\n",
       "    </tr>\n",
       "    <tr>\n",
       "      <th>sa TP Thermo 38bis (Bât 14)</th>\n",
       "      <td>6.15</td>\n",
       "      <td>3.81</td>\n",
       "    </tr>\n",
       "    <tr>\n",
       "      <th>sa TP Phys 50 (Bât 14)</th>\n",
       "      <td>0.00</td>\n",
       "      <td>0.76</td>\n",
       "    </tr>\n",
       "    <tr>\n",
       "      <th>sa TP Optoélectr 55 (Bât 14)</th>\n",
       "      <td>0.00</td>\n",
       "      <td>4.61</td>\n",
       "    </tr>\n",
       "  </tbody>\n",
       "</table>\n",
       "</div>"
      ],
      "text/plain": [
       "                              Occupation S1  Occupation S2\n",
       "sa TP 33Géol (Bât 14)                  0.25           3.07\n",
       "sa TP Thermo 35bis (Bât 14)            1.53           3.81\n",
       "sa TP Thermo 38bis (Bât 14)            6.15           3.81\n",
       "sa TP Phys 50 (Bât 14)                 0.00           0.76\n",
       "sa TP Optoélectr 55 (Bât 14)           0.00           4.61"
      ]
     },
     "execution_count": 45,
     "metadata": {},
     "output_type": "execute_result"
    }
   ],
   "source": [
    "Exploitation('TP',sem=\"all\",ub=10)"
   ]
  },
  {
   "cell_type": "code",
   "execution_count": null,
   "metadata": {
    "slideshow": {
     "slide_type": "skip"
    }
   },
   "outputs": [],
   "source": []
  },
  {
   "cell_type": "code",
   "execution_count": null,
   "metadata": {
    "slideshow": {
     "slide_type": "skip"
    }
   },
   "outputs": [],
   "source": []
  },
  {
   "cell_type": "code",
   "execution_count": null,
   "metadata": {
    "slideshow": {
     "slide_type": "skip"
    }
   },
   "outputs": [],
   "source": []
  }
 ],
 "metadata": {
  "celltoolbar": "Diaporama",
  "kernelspec": {
   "display_name": "Python 3",
   "language": "python",
   "name": "python3"
  },
  "language_info": {
   "codemirror_mode": {
    "name": "ipython",
    "version": 3
   },
   "file_extension": ".py",
   "mimetype": "text/x-python",
   "name": "python",
   "nbconvert_exporter": "python",
   "pygments_lexer": "ipython3",
   "version": "3.7.3"
  }
 },
 "nbformat": 4,
 "nbformat_minor": 2
}
